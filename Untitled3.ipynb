{
 "cells": [
  {
   "cell_type": "code",
   "execution_count": 3,
   "metadata": {},
   "outputs": [
    {
     "name": "stdout",
     "output_type": "stream",
     "text": [
      "Requirement already satisfied: arviz==0.6.1 in c:\\users\\dimip\\.conda\\envs\\bigdatasir\\lib\\site-packages (0.6.1)"
     ]
    },
    {
     "name": "stderr",
     "output_type": "stream",
     "text": [
      "Le chemin d'accŠs sp‚cifi‚ est introuvable.\n"
     ]
    },
    {
     "name": "stdout",
     "output_type": "stream",
     "text": [
      "\n",
      "Requirement already satisfied: pandas>=0.23 in c:\\users\\dimip\\.conda\\envs\\bigdatasir\\lib\\site-packages (from arviz==0.6.1) (1.1.3)\n",
      "Requirement already satisfied: packaging in c:\\users\\dimip\\.conda\\envs\\bigdatasir\\lib\\site-packages (from arviz==0.6.1) (20.8)\n",
      "Requirement already satisfied: netcdf4 in c:\\users\\dimip\\.conda\\envs\\bigdatasir\\lib\\site-packages (from arviz==0.6.1) (1.5.3)\n",
      "Requirement already satisfied: xarray>=0.11 in c:\\users\\dimip\\.conda\\envs\\bigdatasir\\lib\\site-packages (from arviz==0.6.1) (0.16.2)\n",
      "Requirement already satisfied: scipy>=0.19 in c:\\users\\dimip\\.conda\\envs\\bigdatasir\\lib\\site-packages (from arviz==0.6.1) (1.5.2)\n",
      "Requirement already satisfied: numpy>=1.12 in c:\\users\\dimip\\.conda\\envs\\bigdatasir\\lib\\site-packages (from arviz==0.6.1) (1.19.2)\n",
      "Requirement already satisfied: matplotlib>=3.0 in c:\\users\\dimip\\.conda\\envs\\bigdatasir\\lib\\site-packages (from arviz==0.6.1) (3.3.2)\n",
      "Requirement already satisfied: kiwisolver>=1.0.1 in c:\\users\\dimip\\.conda\\envs\\bigdatasir\\lib\\site-packages (from matplotlib>=3.0->arviz==0.6.1) (1.3.0)\n",
      "Requirement already satisfied: cycler>=0.10 in c:\\users\\dimip\\.conda\\envs\\bigdatasir\\lib\\site-packages (from matplotlib>=3.0->arviz==0.6.1) (0.10.0)\n",
      "Requirement already satisfied: pillow>=6.2.0 in c:\\users\\dimip\\.conda\\envs\\bigdatasir\\lib\\site-packages (from matplotlib>=3.0->arviz==0.6.1) (8.0.1)\n",
      "Requirement already satisfied: numpy>=1.12 in c:\\users\\dimip\\.conda\\envs\\bigdatasir\\lib\\site-packages (from arviz==0.6.1) (1.19.2)\n",
      "Requirement already satisfied: certifi>=2020.06.20 in c:\\users\\dimip\\.conda\\envs\\bigdatasir\\lib\\site-packages (from matplotlib>=3.0->arviz==0.6.1) (2020.12.5)\n",
      "Requirement already satisfied: pyparsing!=2.0.4,!=2.1.2,!=2.1.6,>=2.0.3 in c:\\users\\dimip\\.conda\\envs\\bigdatasir\\lib\\site-packages (from matplotlib>=3.0->arviz==0.6.1) (2.4.7)\n",
      "Requirement already satisfied: python-dateutil>=2.1 in c:\\users\\dimip\\.conda\\envs\\bigdatasir\\lib\\site-packages (from matplotlib>=3.0->arviz==0.6.1) (2.8.1)\n",
      "Requirement already satisfied: six in c:\\users\\dimip\\.conda\\envs\\bigdatasir\\lib\\site-packages (from cycler>=0.10->matplotlib>=3.0->arviz==0.6.1) (1.15.0)\n",
      "Requirement already satisfied: cftime in c:\\users\\dimip\\.conda\\envs\\bigdatasir\\lib\\site-packages (from netcdf4->arviz==0.6.1) (1.3.0)\n",
      "Requirement already satisfied: numpy>=1.12 in c:\\users\\dimip\\.conda\\envs\\bigdatasir\\lib\\site-packages (from arviz==0.6.1) (1.19.2)\n",
      "Requirement already satisfied: numpy>=1.12 in c:\\users\\dimip\\.conda\\envs\\bigdatasir\\lib\\site-packages (from arviz==0.6.1) (1.19.2)\n",
      "Requirement already satisfied: pyparsing!=2.0.4,!=2.1.2,!=2.1.6,>=2.0.3 in c:\\users\\dimip\\.conda\\envs\\bigdatasir\\lib\\site-packages (from matplotlib>=3.0->arviz==0.6.1) (2.4.7)\n",
      "Requirement already satisfied: numpy>=1.12 in c:\\users\\dimip\\.conda\\envs\\bigdatasir\\lib\\site-packages (from arviz==0.6.1) (1.19.2)\n",
      "Requirement already satisfied: pytz>=2017.2 in c:\\users\\dimip\\.conda\\envs\\bigdatasir\\lib\\site-packages (from pandas>=0.23->arviz==0.6.1) (2020.4)\n",
      "Requirement already satisfied: python-dateutil>=2.1 in c:\\users\\dimip\\.conda\\envs\\bigdatasir\\lib\\site-packages (from matplotlib>=3.0->arviz==0.6.1) (2.8.1)\n",
      "Requirement already satisfied: six in c:\\users\\dimip\\.conda\\envs\\bigdatasir\\lib\\site-packages (from cycler>=0.10->matplotlib>=3.0->arviz==0.6.1) (1.15.0)\n",
      "Requirement already satisfied: numpy>=1.12 in c:\\users\\dimip\\.conda\\envs\\bigdatasir\\lib\\site-packages (from arviz==0.6.1) (1.19.2)\n",
      "Requirement already satisfied: numpy>=1.12 in c:\\users\\dimip\\.conda\\envs\\bigdatasir\\lib\\site-packages (from arviz==0.6.1) (1.19.2)\n",
      "Requirement already satisfied: pandas>=0.23 in c:\\users\\dimip\\.conda\\envs\\bigdatasir\\lib\\site-packages (from arviz==0.6.1) (1.1.3)\n",
      "Requirement already satisfied: setuptools>=38.4 in c:\\users\\dimip\\.conda\\envs\\bigdatasir\\lib\\site-packages (from xarray>=0.11->arviz==0.6.1) (51.0.0.post20201207)\n",
      "Requirement already satisfied: pymc3==3.8 in c:\\users\\dimip\\.conda\\envs\\bigdatasir\\lib\\site-packages (3.8)\n",
      "Requirement already satisfied: numpy>=1.13.0 in c:\\users\\dimip\\.conda\\envs\\bigdatasir\\lib\\site-packages (from pymc3==3.8) (1.19.2)\n",
      "Requirement already satisfied: arviz>=0.4.1 in c:\\users\\dimip\\.conda\\envs\\bigdatasir\\lib\\site-packages (from pymc3==3.8) (0.6.1)"
     ]
    },
    {
     "name": "stderr",
     "output_type": "stream",
     "text": [
      "Le chemin d'accŠs sp‚cifi‚ est introuvable.\n"
     ]
    },
    {
     "name": "stdout",
     "output_type": "stream",
     "text": [
      "\n",
      "Requirement already satisfied: tqdm>=4.8.4 in c:\\users\\dimip\\.conda\\envs\\bigdatasir\\lib\\site-packages (from pymc3==3.8) (4.54.1)\n",
      "Requirement already satisfied: patsy>=0.4.0 in c:\\users\\dimip\\.conda\\envs\\bigdatasir\\lib\\site-packages (from pymc3==3.8) (0.5.1)\n",
      "Requirement already satisfied: scipy>=0.18.1 in c:\\users\\dimip\\.conda\\envs\\bigdatasir\\lib\\site-packages (from pymc3==3.8) (1.5.2)\n",
      "Requirement already satisfied: h5py>=2.7.0 in c:\\users\\dimip\\.conda\\envs\\bigdatasir\\lib\\site-packages (from pymc3==3.8) (2.10.0)\n",
      "Requirement already satisfied: theano>=1.0.4 in c:\\users\\dimip\\.conda\\envs\\bigdatasir\\lib\\site-packages (from pymc3==3.8) (1.0.4)\n",
      "Requirement already satisfied: pandas>=0.18.0 in c:\\users\\dimip\\.conda\\envs\\bigdatasir\\lib\\site-packages (from pymc3==3.8) (1.1.3)\n",
      "Requirement already satisfied: numpy>=1.13.0 in c:\\users\\dimip\\.conda\\envs\\bigdatasir\\lib\\site-packages (from pymc3==3.8) (1.19.2)\n",
      "Requirement already satisfied: pandas>=0.18.0 in c:\\users\\dimip\\.conda\\envs\\bigdatasir\\lib\\site-packages (from pymc3==3.8) (1.1.3)\n",
      "Requirement already satisfied: packaging in c:\\users\\dimip\\.conda\\envs\\bigdatasir\\lib\\site-packages (from arviz>=0.4.1->pymc3==3.8) (20.8)\n",
      "Requirement already satisfied: matplotlib>=3.0 in c:\\users\\dimip\\.conda\\envs\\bigdatasir\\lib\\site-packages (from arviz>=0.4.1->pymc3==3.8) (3.3.2)\n",
      "Requirement already satisfied: xarray>=0.11 in c:\\users\\dimip\\.conda\\envs\\bigdatasir\\lib\\site-packages (from arviz>=0.4.1->pymc3==3.8) (0.16.2)\n",
      "Requirement already satisfied: netcdf4 in c:\\users\\dimip\\.conda\\envs\\bigdatasir\\lib\\site-packages (from arviz>=0.4.1->pymc3==3.8) (1.5.3)\n",
      "Requirement already satisfied: scipy>=0.18.1 in c:\\users\\dimip\\.conda\\envs\\bigdatasir\\lib\\site-packages (from pymc3==3.8) (1.5.2)\n",
      "Requirement already satisfied: numpy>=1.13.0 in c:\\users\\dimip\\.conda\\envs\\bigdatasir\\lib\\site-packages (from pymc3==3.8) (1.19.2)\n",
      "Requirement already satisfied: six in c:\\users\\dimip\\.conda\\envs\\bigdatasir\\lib\\site-packages (from h5py>=2.7.0->pymc3==3.8) (1.15.0)\n",
      "Requirement already satisfied: cycler>=0.10 in c:\\users\\dimip\\.conda\\envs\\bigdatasir\\lib\\site-packages (from matplotlib>=3.0->arviz>=0.4.1->pymc3==3.8) (0.10.0)\n",
      "Requirement already satisfied: kiwisolver>=1.0.1 in c:\\users\\dimip\\.conda\\envs\\bigdatasir\\lib\\site-packages (from matplotlib>=3.0->arviz>=0.4.1->pymc3==3.8) (1.3.0)\n",
      "Requirement already satisfied: pillow>=6.2.0 in c:\\users\\dimip\\.conda\\envs\\bigdatasir\\lib\\site-packages (from matplotlib>=3.0->arviz>=0.4.1->pymc3==3.8) (8.0.1)\n",
      "Requirement already satisfied: certifi>=2020.06.20 in c:\\users\\dimip\\.conda\\envs\\bigdatasir\\lib\\site-packages (from matplotlib>=3.0->arviz>=0.4.1->pymc3==3.8) (2020.12.5)\n",
      "Requirement already satisfied: numpy>=1.13.0 in c:\\users\\dimip\\.conda\\envs\\bigdatasir\\lib\\site-packages (from pymc3==3.8) (1.19.2)\n",
      "Requirement already satisfied: pyparsing!=2.0.4,!=2.1.2,!=2.1.6,>=2.0.3 in c:\\users\\dimip\\.conda\\envs\\bigdatasir\\lib\\site-packages (from matplotlib>=3.0->arviz>=0.4.1->pymc3==3.8) (2.4.7)\n",
      "Requirement already satisfied: python-dateutil>=2.1 in c:\\users\\dimip\\.conda\\envs\\bigdatasir\\lib\\site-packages (from matplotlib>=3.0->arviz>=0.4.1->pymc3==3.8) (2.8.1)\n",
      "Requirement already satisfied: six in c:\\users\\dimip\\.conda\\envs\\bigdatasir\\lib\\site-packages (from h5py>=2.7.0->pymc3==3.8) (1.15.0)\n",
      "Requirement already satisfied: numpy>=1.13.0 in c:\\users\\dimip\\.conda\\envs\\bigdatasir\\lib\\site-packages (from pymc3==3.8) (1.19.2)\n",
      "Requirement already satisfied: cftime in c:\\users\\dimip\\.conda\\envs\\bigdatasir\\lib\\site-packages (from netcdf4->arviz>=0.4.1->pymc3==3.8) (1.3.0)\n",
      "Requirement already satisfied: numpy>=1.13.0 in c:\\users\\dimip\\.conda\\envs\\bigdatasir\\lib\\site-packages (from pymc3==3.8) (1.19.2)\n",
      "Requirement already satisfied: pyparsing!=2.0.4,!=2.1.2,!=2.1.6,>=2.0.3 in c:\\users\\dimip\\.conda\\envs\\bigdatasir\\lib\\site-packages (from matplotlib>=3.0->arviz>=0.4.1->pymc3==3.8) (2.4.7)\n",
      "Requirement already satisfied: numpy>=1.13.0 in c:\\users\\dimip\\.conda\\envs\\bigdatasir\\lib\\site-packages (from pymc3==3.8) (1.19.2)\n",
      "Requirement already satisfied: pytz>=2017.2 in c:\\users\\dimip\\.conda\\envs\\bigdatasir\\lib\\site-packages (from pandas>=0.18.0->pymc3==3.8) (2020.4)\n",
      "Requirement already satisfied: python-dateutil>=2.1 in c:\\users\\dimip\\.conda\\envs\\bigdatasir\\lib\\site-packages (from matplotlib>=3.0->arviz>=0.4.1->pymc3==3.8) (2.8.1)\n",
      "Requirement already satisfied: six in c:\\users\\dimip\\.conda\\envs\\bigdatasir\\lib\\site-packages (from h5py>=2.7.0->pymc3==3.8) (1.15.0)\n",
      "Requirement already satisfied: numpy>=1.13.0 in c:\\users\\dimip\\.conda\\envs\\bigdatasir\\lib\\site-packages (from pymc3==3.8) (1.19.2)\n",
      "Requirement already satisfied: six in c:\\users\\dimip\\.conda\\envs\\bigdatasir\\lib\\site-packages (from h5py>=2.7.0->pymc3==3.8) (1.15.0)\n",
      "Requirement already satisfied: numpy>=1.13.0 in c:\\users\\dimip\\.conda\\envs\\bigdatasir\\lib\\site-packages (from pymc3==3.8) (1.19.2)\n",
      "Requirement already satisfied: numpy>=1.13.0 in c:\\users\\dimip\\.conda\\envs\\bigdatasir\\lib\\site-packages (from pymc3==3.8) (1.19.2)\n",
      "Requirement already satisfied: scipy>=0.18.1 in c:\\users\\dimip\\.conda\\envs\\bigdatasir\\lib\\site-packages (from pymc3==3.8) (1.5.2)\n",
      "Requirement already satisfied: six in c:\\users\\dimip\\.conda\\envs\\bigdatasir\\lib\\site-packages (from h5py>=2.7.0->pymc3==3.8) (1.15.0)\n",
      "Requirement already satisfied: pandas>=0.18.0 in c:\\users\\dimip\\.conda\\envs\\bigdatasir\\lib\\site-packages (from pymc3==3.8) (1.1.3)\n",
      "Requirement already satisfied: setuptools>=38.4 in c:\\users\\dimip\\.conda\\envs\\bigdatasir\\lib\\site-packages (from xarray>=0.11->arviz>=0.4.1->pymc3==3.8) (51.0.0.post20201207)\n",
      "Requirement already satisfied: numpy>=1.13.0 in c:\\users\\dimip\\.conda\\envs\\bigdatasir\\lib\\site-packages (from pymc3==3.8) (1.19.2)\n",
      "Requirement already satisfied: Theano==1.0.4 in c:\\users\\dimip\\.conda\\envs\\bigdatasir\\lib\\site-packages (1.0.4)\n",
      "Requirement already satisfied: numpy>=1.9.1 in c:\\users\\dimip\\.conda\\envs\\bigdatasir\\lib\\site-packages (from Theano==1.0.4) (1.19.2)\n",
      "Requirement already satisfied: scipy>=0.14 in c:\\users\\dimip\\.conda\\envs\\bigdatasir\\lib\\site-packages (from Theano==1.0.4) (1.5.2)\n",
      "Requirement already satisfied: six>=1.9.0 in c:\\users\\dimip\\.conda\\envs\\bigdatasir\\lib\\site-packages (from Theano==1.0.4) (1.15.0)\n",
      "Requirement already satisfied: numpy>=1.9.1 in c:\\users\\dimip\\.conda\\envs\\bigdatasir\\lib\\site-packages (from Theano==1.0.4) (1.19.2)\n"
     ]
    },
    {
     "name": "stderr",
     "output_type": "stream",
     "text": [
      "Le chemin d'accŠs sp‚cifi‚ est introuvable.\n"
     ]
    }
   ],
   "source": [
    "!pip install arviz==0.6.1\n",
    "!pip install pymc3==3.8\n",
    "!pip install Theano==1.0.4"
   ]
  },
  {
   "cell_type": "code",
   "execution_count": 5,
   "metadata": {},
   "outputs": [
    {
     "ename": "ModuleNotFoundError",
     "evalue": "No module named 'pymc3'",
     "output_type": "error",
     "traceback": [
      "\u001b[1;31m---------------------------------------------------------------------------\u001b[0m",
      "\u001b[1;31mModuleNotFoundError\u001b[0m                       Traceback (most recent call last)",
      "\u001b[1;32m<ipython-input-5-200e74b8195d>\u001b[0m in \u001b[0;36m<module>\u001b[1;34m\u001b[0m\n\u001b[1;32m----> 1\u001b[1;33m \u001b[1;32mimport\u001b[0m \u001b[0mpymc3\u001b[0m\u001b[1;33m\u001b[0m\u001b[1;33m\u001b[0m\u001b[0m\n\u001b[0m",
      "\u001b[1;31mModuleNotFoundError\u001b[0m: No module named 'pymc3'"
     ]
    }
   ],
   "source": [
    "import pymc3"
   ]
  },
  {
   "cell_type": "code",
   "execution_count": null,
   "metadata": {},
   "outputs": [],
   "source": []
  }
 ],
 "metadata": {
  "kernelspec": {
   "display_name": "Python 3",
   "language": "python",
   "name": "python3"
  },
  "language_info": {
   "codemirror_mode": {
    "name": "ipython",
    "version": 3
   },
   "file_extension": ".py",
   "mimetype": "text/x-python",
   "name": "python",
   "nbconvert_exporter": "python",
   "pygments_lexer": "ipython3",
   "version": "3.8.5"
  }
 },
 "nbformat": 4,
 "nbformat_minor": 4
}
