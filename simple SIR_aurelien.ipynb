{
 "cells": [
  {
   "cell_type": "code",
   "execution_count": 144,
   "metadata": {},
   "outputs": [],
   "source": [
    "import numpy as np\n",
    "import random\n",
    "import pandas as pd\n",
    "from scipy.integrate import odeint\n",
    "import matplotlib.pyplot as plt\n",
    "import seaborn as sns\n",
    "import matplotlib.dates as mdates\n",
    "from matplotlib import dates\n",
    "from sklearn.metrics import mean_squared_error, r2_score\n",
    "from datetime import datetime\n",
    "from lmfit import Minimizer,minimize, Parameters, Parameter, report_fit\n",
    "from statsmodels.tsa.arima_model import ARIMA"
   ]
  },
  {
   "cell_type": "markdown",
   "metadata": {},
   "source": [
    "# step 0: data importation #"
   ]
  },
  {
   "cell_type": "code",
   "execution_count": 145,
   "metadata": {},
   "outputs": [],
   "source": [
    "csv_url=\"https://raw.githubusercontent.com/ADelau/proj0016-epidemic-data/main/data.csv\"\n",
    "data = pd.read_csv(csv_url)"
   ]
  },
  {
   "cell_type": "code",
   "execution_count": 146,
   "metadata": {},
   "outputs": [
    {
     "data": {
      "text/html": [
       "<div>\n",
       "<style scoped>\n",
       "    .dataframe tbody tr th:only-of-type {\n",
       "        vertical-align: middle;\n",
       "    }\n",
       "\n",
       "    .dataframe tbody tr th {\n",
       "        vertical-align: top;\n",
       "    }\n",
       "\n",
       "    .dataframe thead th {\n",
       "        text-align: right;\n",
       "    }\n",
       "</style>\n",
       "<table border=\"1\" class=\"dataframe\">\n",
       "  <thead>\n",
       "    <tr style=\"text-align: right;\">\n",
       "      <th></th>\n",
       "      <th>Day</th>\n",
       "      <th>num_positive</th>\n",
       "      <th>num_tested</th>\n",
       "      <th>num_hospitalised</th>\n",
       "      <th>num_cumulative_hospitalizations</th>\n",
       "      <th>num_critical</th>\n",
       "      <th>num_fatalities</th>\n",
       "    </tr>\n",
       "  </thead>\n",
       "  <tbody>\n",
       "    <tr>\n",
       "      <th>66</th>\n",
       "      <td>67</td>\n",
       "      <td>1550</td>\n",
       "      <td>1942</td>\n",
       "      <td>555</td>\n",
       "      <td>1197</td>\n",
       "      <td>55</td>\n",
       "      <td>38</td>\n",
       "    </tr>\n",
       "    <tr>\n",
       "      <th>67</th>\n",
       "      <td>68</td>\n",
       "      <td>1699</td>\n",
       "      <td>2131</td>\n",
       "      <td>608</td>\n",
       "      <td>1297</td>\n",
       "      <td>57</td>\n",
       "      <td>39</td>\n",
       "    </tr>\n",
       "    <tr>\n",
       "      <th>68</th>\n",
       "      <td>69</td>\n",
       "      <td>1799</td>\n",
       "      <td>2249</td>\n",
       "      <td>671</td>\n",
       "      <td>1412</td>\n",
       "      <td>62</td>\n",
       "      <td>41</td>\n",
       "    </tr>\n",
       "    <tr>\n",
       "      <th>69</th>\n",
       "      <td>70</td>\n",
       "      <td>1884</td>\n",
       "      <td>2372</td>\n",
       "      <td>738</td>\n",
       "      <td>1539</td>\n",
       "      <td>67</td>\n",
       "      <td>41</td>\n",
       "    </tr>\n",
       "    <tr>\n",
       "      <th>70</th>\n",
       "      <td>71</td>\n",
       "      <td>2035</td>\n",
       "      <td>2539</td>\n",
       "      <td>774</td>\n",
       "      <td>1654</td>\n",
       "      <td>76</td>\n",
       "      <td>43</td>\n",
       "    </tr>\n",
       "  </tbody>\n",
       "</table>\n",
       "</div>"
      ],
      "text/plain": [
       "    Day  num_positive  num_tested  num_hospitalised  \\\n",
       "66   67          1550        1942               555   \n",
       "67   68          1699        2131               608   \n",
       "68   69          1799        2249               671   \n",
       "69   70          1884        2372               738   \n",
       "70   71          2035        2539               774   \n",
       "\n",
       "    num_cumulative_hospitalizations  num_critical  num_fatalities  \n",
       "66                             1197            55              38  \n",
       "67                             1297            57              39  \n",
       "68                             1412            62              41  \n",
       "69                             1539            67              41  \n",
       "70                             1654            76              43  "
      ]
     },
     "execution_count": 146,
     "metadata": {},
     "output_type": "execute_result"
    }
   ],
   "source": [
    "data.tail()"
   ]
  },
  {
   "cell_type": "code",
   "execution_count": 147,
   "metadata": {},
   "outputs": [
    {
     "data": {
      "text/plain": [
       "[<matplotlib.lines.Line2D at 0x1f49acda6a0>]"
      ]
     },
     "execution_count": 147,
     "metadata": {},
     "output_type": "execute_result"
    },
    {
     "data": {
      "image/png": "[encoded data removed]",
      "text/plain": [
       "<Figure size 432x288 with 1 Axes>"
      ]
     },
     "metadata": {
      "needs_background": "light"
     },
     "output_type": "display_data"
    }
   ],
   "source": [
    "plt.plot(data['num_hospitalised'],data['num_positive'])"
   ]
  },
  {
   "cell_type": "markdown",
   "metadata": {},
   "source": [
    "# step 1: setting up the model #"
   ]
  },
  {
   "cell_type": "markdown",
   "metadata": {},
   "source": [
    "## step 1.1: writing the ode system ##"
   ]
  },
  {
   "cell_type": "raw",
   "metadata": {},
   "source": [
    "here I write the relation between y' and y\n",
    "remember: y=[S,I,R]"
   ]
  },
  {
   "cell_type": "code",
   "execution_count": 148,
   "metadata": {},
   "outputs": [],
   "source": [
    "\n",
    "def deriv(y, t, N,ps):\n",
    "    N=sum(y)\n",
    "    S,I,R = y\n",
    "    try:\n",
    "        beta_SI = ps['beta_SI'].value\n",
    "        gamma_IR = ps['gamma_IR'].value\n",
    "        \n",
    "    except:\n",
    "        beta_SI, gamma_IR\n",
    "        \n",
    "    #beta = beta_i*(1.1-tau*t) idée de faire régresser beta\n",
    "    dSdt = -beta_SI*(S*I)/(N)\n",
    "    dIdt = +beta_SI*(S*I)/(N) - gamma_IR*I\n",
    "    dRdt= +gamma_IR*I\n",
    "    \n",
    "    return dSdt, dIdt, dRdt"
   ]
  },
  {
   "cell_type": "markdown",
   "metadata": {},
   "source": [
    "## step 1.2: writing the parameters values and guesses ##\n"
   ]
  },
  {
   "cell_type": "code",
   "execution_count": 149,
   "metadata": {},
   "outputs": [],
   "source": [
    "# the lmfit module uises an orderd dict structure\n",
    "# to store the parameters to be optimized\n",
    "# https://lmfit.github.io/lmfit-py/parameters.html\n",
    "\n",
    "params = Parameters()\n",
    "params.add('beta_SI', value=0.15, min=0.001, max=10)\n",
    "params.add('gamma_IR', value= 0.05, min=0.1, max=2)\n",
    "\n",
    "params.add('I0',value=15,min=1,max=500)\n",
    "\n",
    "params.add('OBS_Tr_SI_to_nbTest',value=0.25,min=0.05,max=1)\n",
    "params.add('OBS_nbTest_to_nbpos',value=0.75,min=0.5,max=0.9)\n",
    "# params.add('OBS_H_to_ICU',value=0.1,min=0.01,max=0.5) mistake??\n",
    "\n"
   ]
  },
  {
   "cell_type": "markdown",
   "metadata": {},
   "source": [
    "## step 1.3 writing the solver ##"
   ]
  },
  {
   "cell_type": "code",
   "execution_count": 150,
   "metadata": {},
   "outputs": [],
   "source": [
    "\n",
    "#this function solves the ode\n",
    "#input: function deriv, initial compartiments y0, t, and N,ps as arguments??\n",
    "#output: the ode solution\n",
    "def odesol(y,t,N,ps):\n",
    "    \n",
    "    ts = np.linspace(0, t, t+1)\n",
    "    result = odeint(deriv, y, ts, args=(N, ps))\n",
    "    \n",
    "    return result"
   ]
  },
  {
   "cell_type": "code",
   "execution_count": 151,
   "metadata": {},
   "outputs": [],
   "source": [
    "test=odesol(np.array([1e6-15,15,0]),3,1e6,params)"
   ]
  },
  {
   "cell_type": "code",
   "execution_count": 152,
   "metadata": {},
   "outputs": [
    {
     "data": {
      "text/plain": [
       "array([9.99985e+05, 1.50000e+01, 0.00000e+00])"
      ]
     },
     "execution_count": 152,
     "metadata": {},
     "output_type": "execute_result"
    }
   ],
   "source": [
    "test[0]"
   ]
  },
  {
   "cell_type": "code",
   "execution_count": 153,
   "metadata": {},
   "outputs": [],
   "source": [
    "# this function generate the observation dataframe\n",
    "def create_obsdf(model,ps,data):\n",
    "    \n",
    "    result=pd.DataFrame(columns=data.columns)\n",
    "    result['Day']=data['Day']\n",
    "    nb_trans_SI=ps['beta_SI']*(model['S']*(model['I']))/(model['S']+model['I']+model['R'])\n",
    "    \n",
    "\n",
    "    result['num_tested']=ps['OBS_Tr_SI_to_nbTest'].value*nb_trans_SI\n",
    "    \n",
    "    #result['num_hospitalised']=model['H']\n",
    "    #result['num_cumulative_hospitalizations']=result['num_hospitalised'].diff().fillna(0).cumsum()\n",
    "    #result['num_critical']=model['ICU']\n",
    "    #result['num_fatalities']=model['D']\n",
    "    return result\n",
    "    \n",
    "\n",
    "#test['num_tested']=params['OBS_Tr_EI_to_nbTest'].value*"
   ]
  },
  {
   "cell_type": "markdown",
   "metadata": {},
   "source": [
    "# step 2: fitting the model #"
   ]
  },
  {
   "cell_type": "markdown",
   "metadata": {},
   "source": [
    "## step 2.1: write objective function ##"
   ]
  },
  {
   "cell_type": "code",
   "execution_count": 154,
   "metadata": {},
   "outputs": [],
   "source": [
    "#this function compute residuals,\n",
    "#ie objective function to be minimized in the optimization function\n",
    "def residual(ps, ts, data, N):\n",
    "    \n",
    "    \n",
    "    I0 = ps['I0'].value\n",
    "    S0=N-I0\n",
    "    R0=0\n",
    "\n",
    "    \n",
    "    y0 = S0,I0,R0\n",
    "    \n",
    "    model = pd.DataFrame(odesol(y0,ts,N,ps), columns=['S','I','R'])\n",
    "    obs_df=create_obsdf(model,ps,data)\n",
    "    component1=(obs_df['num_tested']-data['num_tested']).ravel()\n",
    "    \n",
    "    # penalty function to think more about !!!\n",
    "    # print(ps)\n",
    "    return component1"
   ]
  },
  {
   "cell_type": "code",
   "execution_count": 155,
   "metadata": {},
   "outputs": [],
   "source": [
    "#residual function from lmfit website\n",
    "#ts is the x\n",
    "def residual2(pars, data):\n",
    "    # unpack parameters: extract .value attribute for each parameter\n",
    "    parvals = pars.valuesdict()\n",
    "    beta=parvals['beta_SI']\n",
    "    gamma=parvals['gamma_IR']\n",
    "    I0=parvals['I0']\n",
    "    OBS_Tr_SI_to_nbTest=parvals['OBS_Tr_SI_to_nbTest']\n",
    "    OBS_nbTest_to_nbpos=parvals['OBS_nbTest_to_nbpos']\n",
    "    \n",
    "    # useful scalars, arrays\n",
    "    \n",
    "    nb_days=data.shape[0]\n",
    "    array_data=data['num_tested'].to_numpy()\n",
    "    array_model=odesol(np.array([1e6-I0,I0,0]),nb_days,1e6,pars)\n",
    "    \n",
    "    #array initialisation\n",
    "    \n",
    "    ratio_model=np.empty(nb_days)\n",
    "    ratio_data=np.empty(ratio_model.shape[0])\n",
    "    \n",
    "    for i in range(ratio_model.shape[0]-1):\n",
    "        if array_data[i] == 0: # handle divide by zero\n",
    "            ratio_data[i]=(array_data[i+1]-array_data[i])/(array_data[i+1]/2)\n",
    "        else:\n",
    "            ratio_data[i]=(array_data[i+1]-array_data[i])/array_data[i]\n",
    "        ratio_model[i]=(array_model[i+1][1]-array_model[i][1])/array_model[i][1]\n",
    "    \n",
    "\n",
    "    return ratio_model-ratio_data"
   ]
  },
  {
   "cell_type": "markdown",
   "metadata": {},
   "source": [
    "## step 2.2: write optimization command ##"
   ]
  },
  {
   "cell_type": "code",
   "execution_count": 156,
   "metadata": {},
   "outputs": [
    {
     "data": {
      "text/plain": [
       "array([-1.94873145e+00, -4.48731822e-01, -2.82065548e-01,  3.01267374e-01,\n",
       "        2.17933607e-01,  1.51266484e-01, -1.39317844e+00,  5.81095575e-03,\n",
       "        1.38221494e-01, -7.10640346e-01,  1.59371939e-01,  5.12632156e-02,\n",
       "       -1.00252582e-01, -1.32948637e-01, -1.26516603e-01,  1.45600048e-01,\n",
       "       -1.36240364e-01, -3.64604946e-02, -7.77743274e-02,  1.94114156e-01,\n",
       "       -1.15410618e-01,  1.36969320e-01, -2.14371030e-01,  1.74709640e-01,\n",
       "       -2.58607483e-01,  8.23968068e-03,  7.18676885e-02,  4.07214475e-02,\n",
       "       -7.37536750e-02, -1.70977409e-01, -1.78707982e-03,  1.95126444e-01,\n",
       "       -3.68928272e-01,  1.45912505e-01,  3.16281645e-02, -1.98766033e-01,\n",
       "        3.58472075e-02, -1.91194675e-01,  7.15523997e-02,  2.63284396e-02,\n",
       "       -1.06672651e-01, -1.30598851e-01,  1.51808153e-01, -1.88918185e-01,\n",
       "       -2.04078419e-02, -7.73364393e-04, -9.46790536e-02,  7.17334642e-02,\n",
       "       -1.10229898e-01, -8.37521342e-03, -1.00431141e-01, -5.03029554e-03,\n",
       "        9.16114787e-03,  4.98288561e-02, -1.17959842e-01, -3.94693259e-03,\n",
       "       -5.76576118e-02, -3.42276227e-02, -8.53073416e-03,  1.61540738e-02,\n",
       "       -5.85156023e-02, -5.73471016e-02, -1.16423140e-03,  1.41636645e-02,\n",
       "       -5.57819371e-02, -2.66028970e-02, -4.62433690e-02, -4.30415097e-03,\n",
       "       -3.63263986e-03, -1.93575066e-02, -7.73000000e+02])"
      ]
     },
     "execution_count": 156,
     "metadata": {},
     "output_type": "execute_result"
    }
   ],
   "source": [
    "residual2(params,data)"
   ]
  },
  {
   "cell_type": "code",
   "execution_count": 157,
   "metadata": {},
   "outputs": [
    {
     "data": {
      "text/html": [
       "<h2>Fit Statistics</h2><table><tr><td>fitting method</td><td>leastsq</td><td></td></tr><tr><td># function evals</td><td>79</td><td></td></tr><tr><td># data points</td><td>71</td><td></td></tr><tr><td># variables</td><td>5</td><td></td></tr><tr><td>chi-square</td><td> 6.97454410</td><td></td></tr><tr><td>reduced chi-square</td><td> 0.10567491</td><td></td></tr><tr><td>Akaike info crit.</td><td>-154.749317</td><td></td></tr><tr><td>Bayesian info crit.</td><td>-143.435917</td><td></td></tr></table><h2>Variables</h2><table><tr><th> name </th><th> value </th><th> initial value </th><th> min </th><th> max </th><th> vary </th></tr><tr><td> beta_SI </td><td>  0.24236428 </td><td> 0.15 </td><td>  1.0000e-03 </td><td>  10.0000000 </td><td> True </td></tr><tr><td> gamma_IR </td><td>  0.10000007 </td><td> 0.1 </td><td>  0.10000000 </td><td>  2.00000000 </td><td> True </td></tr><tr><td> I0 </td><td>  59.4000876 </td><td> 15 </td><td>  1.00000000 </td><td>  500.000000 </td><td> True </td></tr><tr><td> OBS_Tr_SI_to_nbTest </td><td>  0.25000000 </td><td> 0.25 </td><td>  0.05000000 </td><td>  1.00000000 </td><td> True </td></tr><tr><td> OBS_nbTest_to_nbpos </td><td>  0.75000000 </td><td> 0.75 </td><td>  0.50000000 </td><td>  0.90000000 </td><td> True </td></tr></table>"
      ],
      "text/plain": [
       "<lmfit.minimizer.MinimizerResult at 0x1f4994f4850>"
      ]
     },
     "execution_count": 157,
     "metadata": {},
     "output_type": "execute_result"
    }
   ],
   "source": [
    "mini = Minimizer(residual2, params, [data])\n",
    "result = mini.minimize()\n",
    "result"
   ]
  },
  {
   "cell_type": "code",
   "execution_count": 158,
   "metadata": {},
   "outputs": [
    {
     "ename": "KeyError",
     "evalue": "'H'",
     "output_type": "error",
     "traceback": [
      "\u001b[1;31m---------------------------------------------------------------------------\u001b[0m",
      "\u001b[1;31mKeyError\u001b[0m                                  Traceback (most recent call last)",
      "\u001b[1;32m~\\anaconda3\\lib\\site-packages\\pandas\\core\\indexes\\base.py\u001b[0m in \u001b[0;36mget_loc\u001b[1;34m(self, key, method, tolerance)\u001b[0m\n\u001b[0;32m   2897\u001b[0m             \u001b[1;32mtry\u001b[0m\u001b[1;33m:\u001b[0m\u001b[1;33m\u001b[0m\u001b[1;33m\u001b[0m\u001b[0m\n\u001b[1;32m-> 2898\u001b[1;33m                 \u001b[1;32mreturn\u001b[0m \u001b[0mself\u001b[0m\u001b[1;33m.\u001b[0m\u001b[0m_engine\u001b[0m\u001b[1;33m.\u001b[0m\u001b[0mget_loc\u001b[0m\u001b[1;33m(\u001b[0m\u001b[0mcasted_key\u001b[0m\u001b[1;33m)\u001b[0m\u001b[1;33m\u001b[0m\u001b[1;33m\u001b[0m\u001b[0m\n\u001b[0m\u001b[0;32m   2899\u001b[0m             \u001b[1;32mexcept\u001b[0m \u001b[0mKeyError\u001b[0m \u001b[1;32mas\u001b[0m \u001b[0merr\u001b[0m\u001b[1;33m:\u001b[0m\u001b[1;33m\u001b[0m\u001b[1;33m\u001b[0m\u001b[0m\n",
      "\u001b[1;32mpandas\\_libs\\index.pyx\u001b[0m in \u001b[0;36mpandas._libs.index.IndexEngine.get_loc\u001b[1;34m()\u001b[0m\n",
      "\u001b[1;32mpandas\\_libs\\index.pyx\u001b[0m in \u001b[0;36mpandas._libs.index.IndexEngine.get_loc\u001b[1;34m()\u001b[0m\n",
      "\u001b[1;32mpandas\\_libs\\hashtable_class_helper.pxi\u001b[0m in \u001b[0;36mpandas._libs.hashtable.PyObjectHashTable.get_item\u001b[1;34m()\u001b[0m\n",
      "\u001b[1;32mpandas\\_libs\\hashtable_class_helper.pxi\u001b[0m in \u001b[0;36mpandas._libs.hashtable.PyObjectHashTable.get_item\u001b[1;34m()\u001b[0m\n",
      "\u001b[1;31mKeyError\u001b[0m: 'H'",
      "\nThe above exception was the direct cause of the following exception:\n",
      "\u001b[1;31mKeyError\u001b[0m                                  Traceback (most recent call last)",
      "\u001b[1;32m<ipython-input-158-4759790e506b>\u001b[0m in \u001b[0;36m<module>\u001b[1;34m\u001b[0m\n\u001b[0;32m      4\u001b[0m \u001b[1;33m\u001b[0m\u001b[0m\n\u001b[0;32m      5\u001b[0m \u001b[0mmodel\u001b[0m \u001b[1;33m=\u001b[0m \u001b[0mpd\u001b[0m\u001b[1;33m.\u001b[0m\u001b[0mDataFrame\u001b[0m\u001b[1;33m(\u001b[0m\u001b[0modesol\u001b[0m\u001b[1;33m(\u001b[0m\u001b[0my0\u001b[0m\u001b[1;33m,\u001b[0m\u001b[1;36m70\u001b[0m\u001b[1;33m,\u001b[0m\u001b[1;36m1e6\u001b[0m\u001b[1;33m,\u001b[0m\u001b[0mresult\u001b[0m\u001b[1;33m.\u001b[0m\u001b[0mparams\u001b[0m\u001b[1;33m)\u001b[0m\u001b[1;33m,\u001b[0m \u001b[0mcolumns\u001b[0m\u001b[1;33m=\u001b[0m\u001b[1;33m[\u001b[0m\u001b[1;34m'S'\u001b[0m\u001b[1;33m,\u001b[0m\u001b[1;34m'I'\u001b[0m\u001b[1;33m,\u001b[0m\u001b[1;34m'R'\u001b[0m\u001b[1;33m]\u001b[0m\u001b[1;33m)\u001b[0m\u001b[1;33m\u001b[0m\u001b[1;33m\u001b[0m\u001b[0m\n\u001b[1;32m----> 6\u001b[1;33m \u001b[0mobs_df\u001b[0m\u001b[1;33m=\u001b[0m\u001b[0mcreate_obsdf\u001b[0m\u001b[1;33m(\u001b[0m\u001b[0mmodel\u001b[0m\u001b[1;33m,\u001b[0m\u001b[0mresult\u001b[0m\u001b[1;33m.\u001b[0m\u001b[0mparams\u001b[0m\u001b[1;33m,\u001b[0m\u001b[0mdata\u001b[0m\u001b[1;33m)\u001b[0m\u001b[1;33m\u001b[0m\u001b[1;33m\u001b[0m\u001b[0m\n\u001b[0m\u001b[0;32m      7\u001b[0m \u001b[0mobs_df\u001b[0m\u001b[1;33m\u001b[0m\u001b[1;33m\u001b[0m\u001b[0m\n",
      "\u001b[1;32m<ipython-input-153-0075ee391c62>\u001b[0m in \u001b[0;36mcreate_obsdf\u001b[1;34m(model, ps, data)\u001b[0m\n\u001b[0;32m      9\u001b[0m     \u001b[0mresult\u001b[0m\u001b[1;33m[\u001b[0m\u001b[1;34m'num_tested'\u001b[0m\u001b[1;33m]\u001b[0m\u001b[1;33m=\u001b[0m\u001b[0mps\u001b[0m\u001b[1;33m[\u001b[0m\u001b[1;34m'OBS_Tr_SI_to_nbTest'\u001b[0m\u001b[1;33m]\u001b[0m\u001b[1;33m.\u001b[0m\u001b[0mvalue\u001b[0m\u001b[1;33m*\u001b[0m\u001b[0mnb_trans_SI\u001b[0m\u001b[1;33m\u001b[0m\u001b[1;33m\u001b[0m\u001b[0m\n\u001b[0;32m     10\u001b[0m \u001b[1;33m\u001b[0m\u001b[0m\n\u001b[1;32m---> 11\u001b[1;33m     \u001b[0mresult\u001b[0m\u001b[1;33m[\u001b[0m\u001b[1;34m'num_hospitalised'\u001b[0m\u001b[1;33m]\u001b[0m\u001b[1;33m=\u001b[0m\u001b[0mmodel\u001b[0m\u001b[1;33m[\u001b[0m\u001b[1;34m'H'\u001b[0m\u001b[1;33m]\u001b[0m\u001b[1;33m\u001b[0m\u001b[1;33m\u001b[0m\u001b[0m\n\u001b[0m\u001b[0;32m     12\u001b[0m     \u001b[1;31m#result['num_cumulative_hospitalizations']=result['num_hospitalised'].diff().fillna(0).cumsum()\u001b[0m\u001b[1;33m\u001b[0m\u001b[1;33m\u001b[0m\u001b[1;33m\u001b[0m\u001b[0m\n\u001b[0;32m     13\u001b[0m     \u001b[1;31m#result['num_critical']=model['ICU']\u001b[0m\u001b[1;33m\u001b[0m\u001b[1;33m\u001b[0m\u001b[1;33m\u001b[0m\u001b[0m\n",
      "\u001b[1;32m~\\anaconda3\\lib\\site-packages\\pandas\\core\\frame.py\u001b[0m in \u001b[0;36m__getitem__\u001b[1;34m(self, key)\u001b[0m\n\u001b[0;32m   2904\u001b[0m             \u001b[1;32mif\u001b[0m \u001b[0mself\u001b[0m\u001b[1;33m.\u001b[0m\u001b[0mcolumns\u001b[0m\u001b[1;33m.\u001b[0m\u001b[0mnlevels\u001b[0m \u001b[1;33m>\u001b[0m \u001b[1;36m1\u001b[0m\u001b[1;33m:\u001b[0m\u001b[1;33m\u001b[0m\u001b[1;33m\u001b[0m\u001b[0m\n\u001b[0;32m   2905\u001b[0m                 \u001b[1;32mreturn\u001b[0m \u001b[0mself\u001b[0m\u001b[1;33m.\u001b[0m\u001b[0m_getitem_multilevel\u001b[0m\u001b[1;33m(\u001b[0m\u001b[0mkey\u001b[0m\u001b[1;33m)\u001b[0m\u001b[1;33m\u001b[0m\u001b[1;33m\u001b[0m\u001b[0m\n\u001b[1;32m-> 2906\u001b[1;33m             \u001b[0mindexer\u001b[0m \u001b[1;33m=\u001b[0m \u001b[0mself\u001b[0m\u001b[1;33m.\u001b[0m\u001b[0mcolumns\u001b[0m\u001b[1;33m.\u001b[0m\u001b[0mget_loc\u001b[0m\u001b[1;33m(\u001b[0m\u001b[0mkey\u001b[0m\u001b[1;33m)\u001b[0m\u001b[1;33m\u001b[0m\u001b[1;33m\u001b[0m\u001b[0m\n\u001b[0m\u001b[0;32m   2907\u001b[0m             \u001b[1;32mif\u001b[0m \u001b[0mis_integer\u001b[0m\u001b[1;33m(\u001b[0m\u001b[0mindexer\u001b[0m\u001b[1;33m)\u001b[0m\u001b[1;33m:\u001b[0m\u001b[1;33m\u001b[0m\u001b[1;33m\u001b[0m\u001b[0m\n\u001b[0;32m   2908\u001b[0m                 \u001b[0mindexer\u001b[0m \u001b[1;33m=\u001b[0m \u001b[1;33m[\u001b[0m\u001b[0mindexer\u001b[0m\u001b[1;33m]\u001b[0m\u001b[1;33m\u001b[0m\u001b[1;33m\u001b[0m\u001b[0m\n",
      "\u001b[1;32m~\\anaconda3\\lib\\site-packages\\pandas\\core\\indexes\\base.py\u001b[0m in \u001b[0;36mget_loc\u001b[1;34m(self, key, method, tolerance)\u001b[0m\n\u001b[0;32m   2898\u001b[0m                 \u001b[1;32mreturn\u001b[0m \u001b[0mself\u001b[0m\u001b[1;33m.\u001b[0m\u001b[0m_engine\u001b[0m\u001b[1;33m.\u001b[0m\u001b[0mget_loc\u001b[0m\u001b[1;33m(\u001b[0m\u001b[0mcasted_key\u001b[0m\u001b[1;33m)\u001b[0m\u001b[1;33m\u001b[0m\u001b[1;33m\u001b[0m\u001b[0m\n\u001b[0;32m   2899\u001b[0m             \u001b[1;32mexcept\u001b[0m \u001b[0mKeyError\u001b[0m \u001b[1;32mas\u001b[0m \u001b[0merr\u001b[0m\u001b[1;33m:\u001b[0m\u001b[1;33m\u001b[0m\u001b[1;33m\u001b[0m\u001b[0m\n\u001b[1;32m-> 2900\u001b[1;33m                 \u001b[1;32mraise\u001b[0m \u001b[0mKeyError\u001b[0m\u001b[1;33m(\u001b[0m\u001b[0mkey\u001b[0m\u001b[1;33m)\u001b[0m \u001b[1;32mfrom\u001b[0m \u001b[0merr\u001b[0m\u001b[1;33m\u001b[0m\u001b[1;33m\u001b[0m\u001b[0m\n\u001b[0m\u001b[0;32m   2901\u001b[0m \u001b[1;33m\u001b[0m\u001b[0m\n\u001b[0;32m   2902\u001b[0m         \u001b[1;32mif\u001b[0m \u001b[0mtolerance\u001b[0m \u001b[1;32mis\u001b[0m \u001b[1;32mnot\u001b[0m \u001b[1;32mNone\u001b[0m\u001b[1;33m:\u001b[0m\u001b[1;33m\u001b[0m\u001b[1;33m\u001b[0m\u001b[0m\n",
      "\u001b[1;31mKeyError\u001b[0m: 'H'"
     ]
    }
   ],
   "source": [
    "I0 = result.params['I0'].value\n",
    "\n",
    "y0 = 1e6-I0,I0,0\n",
    "\n",
    "model = pd.DataFrame(odesol(y0,70,1e6,result.params), columns=['S','I','R'])\n",
    "obs_df=create_obsdf(model,result.params,data)\n",
    "obs_df"
   ]
  },
  {
   "cell_type": "code",
   "execution_count": 159,
   "metadata": {},
   "outputs": [
    {
     "data": {
      "text/plain": [
       "array([ 3.59890110e+00, -3.85061115e+00, -7.21595140e+00, -1.04842595e+01,\n",
       "       -5.64071369e+00, -2.66823270e+00, -5.47132531e-01, -1.22547320e+01,\n",
       "       -1.17648988e+01, -8.04752769e+00, -2.20679414e+01, -1.57862020e+01,\n",
       "       -1.31563209e+01, -1.51253527e+01, -1.86323572e+01, -2.26072108e+01,\n",
       "       -1.29692475e+01, -1.66257072e+01, -1.54699660e+01, -1.63795232e+01,\n",
       "        1.78628593e+00,  1.18888053e+00,  1.80133599e+01,  1.34717963e+01,\n",
       "        3.78069262e+01,  3.22962658e+01,  4.72566733e+01,  7.10493686e+01,\n",
       "        9.50854069e+01,  1.11831578e+02,  1.20816675e+02,  1.51638025e+02,\n",
       "        2.14968126e+02,  2.14561149e+02,  2.87258951e+02,  3.48996148e+02,\n",
       "        3.83803586e+02,  4.64809409e+02,  5.12236608e+02,  6.25395786e+02,\n",
       "        7.41671438e+02,  8.40499861e+02,  9.43336503e+02,  1.15061036e+03,\n",
       "        1.27066301e+03,  1.45767020e+03,  1.67254433e+03,  1.86881764e+03,\n",
       "        2.15950756e+03,  2.38496840e+03,  2.67473722e+03,  2.92638543e+03,\n",
       "        3.24339259e+03,  3.57806237e+03,  3.94550318e+03,  4.18469579e+03,\n",
       "        4.49066584e+03,  4.72477040e+03,  4.94309401e+03,  5.14493288e+03,\n",
       "        5.32632868e+03,  5.36359890e+03,  5.33080377e+03,  5.30609270e+03,\n",
       "        5.24088614e+03,  5.00087120e+03,  4.73981515e+03,  4.38022597e+03,\n",
       "        4.04890736e+03,  3.67746466e+03,  3.23481667e+03])"
      ]
     },
     "execution_count": 159,
     "metadata": {},
     "output_type": "execute_result"
    }
   ],
   "source": [
    "(obs_df['num_tested']-data['num_tested']).ravel()"
   ]
  },
  {
   "cell_type": "code",
   "execution_count": 137,
   "metadata": {},
   "outputs": [
    {
     "data": {
      "text/plain": [
       "array([  8,   4,   4,  -4,  -2,  -1,  13,   1,  -2,  16,  -4,   0,   5,\n",
       "         7,   8,  -5,   9,   5,   8, -10,  10,  -6,  17, -10,  22,   4,\n",
       "        -2,   1,  12,  24,   7, -20,  50, -16,   3,  39,   3,  48,  -5,\n",
       "         6,  39,  52, -34,  73,  27,  21,  62, -10,  77,  33,  89,  38,\n",
       "        30,   1, 126,  48, 100,  87,  66,  41, 133, 146,  78,  58, 174,\n",
       "       140, 189, 118, 123, 167], dtype=int64)"
      ]
     },
     "execution_count": 137,
     "metadata": {},
     "output_type": "execute_result"
    }
   ],
   "source": [
    "(data['num_tested'].values[1:] - data['num_tested'].values[:-1])"
   ]
  },
  {
   "cell_type": "code",
   "execution_count": 138,
   "metadata": {},
   "outputs": [
    {
     "name": "stderr",
     "output_type": "stream",
     "text": [
      "<ipython-input-138-52de2f40377e>:3: RuntimeWarning: divide by zero encountered in true_divide\n",
      "  plt.plot((data['num_tested'].values[1:] - data['num_tested'].values[:-1])/data['num_tested'].values[:-1],label='data')\n"
     ]
    },
    {
     "data": {
      "text/plain": [
       "<matplotlib.legend.Legend at 0x1f499344730>"
      ]
     },
     "execution_count": 138,
     "metadata": {},
     "output_type": "execute_result"
    },
    {
     "data": {
      "image/png": "[encoded data removed]",
      "text/plain": [
       "<Figure size 432x288 with 1 Axes>"
      ]
     },
     "metadata": {
      "needs_background": "light"
     },
     "output_type": "display_data"
    }
   ],
   "source": [
    "plt.plot(result.residual,label='residual')\n",
    "\n",
    "plt.plot((data['num_tested'].values[1:] - data['num_tested'].values[:-1])/data['num_tested'].values[:-1],label='data')\n",
    "\n",
    "plt.plot((obs_df['num_tested'].values[1:] - obs_df['num_tested'].values[:-1])/obs_df['num_tested'].values[:-1],label='simulated')\n",
    "\n",
    "\n",
    "plt.legend()\n"
   ]
  },
  {
   "cell_type": "code",
   "execution_count": 139,
   "metadata": {},
   "outputs": [
    {
     "name": "stderr",
     "output_type": "stream",
     "text": [
      "<ipython-input-139-2da96932929b>:1: RuntimeWarning: divide by zero encountered in true_divide\n",
      "  y = (data['num_tested'].values[1:] - data['num_tested'].values[:-1])/data['num_tested'].values[:-1]\n"
     ]
    },
    {
     "data": {
      "text/plain": [
       "0.012639516857820499"
      ]
     },
     "execution_count": 139,
     "metadata": {},
     "output_type": "execute_result"
    }
   ],
   "source": [
    "y = (data['num_tested'].values[1:] - data['num_tested'].values[:-1])/data['num_tested'].values[:-1]\n",
    "y[0] = (data['num_tested'].values[1] - data['num_tested'].values[0])/(data['num_tested'].values[1]/2)\n",
    "R2 = 1 - sum(result.residual**2) / sum((y - np.mean(y))**2)\n",
    "R2"
   ]
  },
  {
   "cell_type": "markdown",
   "metadata": {},
   "source": [
    "### simulation of test numbers ##"
   ]
  },
  {
   "cell_type": "code",
   "execution_count": 143,
   "metadata": {},
   "outputs": [
    {
     "data": {
      "text/plain": [
       "<matplotlib.legend.Legend at 0x1f49ac5fdf0>"
      ]
     },
     "execution_count": 143,
     "metadata": {},
     "output_type": "execute_result"
    },
    {
     "data": {
      "image/png": "[encoded data removed]",
      "text/plain": [
       "<Figure size 432x288 with 1 Axes>"
      ]
     },
     "metadata": {
      "needs_background": "light"
     },
     "output_type": "display_data"
    }
   ],
   "source": [
    "plt.plot(obs_df['num_hospitalised'],label='simulated')\n",
    "plt.plot(data['num_hospitalised'],label='data')\n",
    "plt.legend()"
   ]
  },
  {
   "cell_type": "markdown",
   "metadata": {},
   "source": [
    "## simulation of dI vs I ##"
   ]
  },
  {
   "cell_type": "code",
   "execution_count": 141,
   "metadata": {},
   "outputs": [
    {
     "data": {
      "text/plain": [
       "[<matplotlib.lines.Line2D at 0x1f49a95d4f0>]"
      ]
     },
     "execution_count": 141,
     "metadata": {},
     "output_type": "execute_result"
    },
    {
     "data": {
      "image/png": "[encoded data removed]",
      "text/plain": [
       "<Figure size 432x288 with 1 Axes>"
      ]
     },
     "metadata": {
      "needs_background": "light"
     },
     "output_type": "display_data"
    }
   ],
   "source": [
    "plt.loglog(np.cumsum(data['num_tested']), data['num_tested'])"
   ]
  },
  {
   "cell_type": "code",
   "execution_count": 142,
   "metadata": {},
   "outputs": [
    {
     "data": {
      "text/plain": [
       "[<matplotlib.lines.Line2D at 0x1f49aad35b0>]"
      ]
     },
     "execution_count": 142,
     "metadata": {},
     "output_type": "execute_result"
    },
    {
     "data": {
      "image/png": "[encoded data removed]",
      "text/plain": [
       "<Figure size 432x288 with 1 Axes>"
      ]
     },
     "metadata": {
      "needs_background": "light"
     },
     "output_type": "display_data"
    }
   ],
   "source": [
    "plt.loglog(np.cumsum(obs_df['num_tested']), obs_df['num_tested'])"
   ]
  },
  {
   "cell_type": "code",
   "execution_count": null,
   "metadata": {},
   "outputs": [],
   "source": []
  }
 ],
 "metadata": {
  "kernelspec": {
   "display_name": "Python 3",
   "language": "python",
   "name": "python3"
  },
  "language_info": {
   "codemirror_mode": {
    "name": "ipython",
    "version": 3
   },
   "file_extension": ".py",
   "mimetype": "text/x-python",
   "name": "python",
   "nbconvert_exporter": "python",
   "pygments_lexer": "ipython3",
   "version": "3.8.5"
  }
 },
 "nbformat": 4,
 "nbformat_minor": 4
}
