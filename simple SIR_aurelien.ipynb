{
 "cells": [
  {
   "cell_type": "code",
   "execution_count": 1,
   "metadata": {},
   "outputs": [],
   "source": [
    "import numpy as np\n",
    "import random\n",
    "import pandas as pd\n",
    "from scipy.integrate import odeint\n",
    "import matplotlib.pyplot as plt\n",
    "import seaborn as sns\n",
    "import matplotlib.dates as mdates\n",
    "from matplotlib import dates\n",
    "from sklearn.metrics import mean_squared_error, r2_score\n",
    "from datetime import datetime\n",
    "from lmfit import Minimizer,minimize, Parameters, Parameter, report_fit\n",
    "from statsmodels.tsa.arima_model import ARIMA"
   ]
  },
  {
   "cell_type": "markdown",
   "metadata": {},
   "source": [
    "# step 0: data importation #"
   ]
  },
  {
   "cell_type": "code",
   "execution_count": 2,
   "metadata": {},
   "outputs": [],
   "source": [
    "csv_url=\"https://raw.githubusercontent.com/ADelau/proj0016-epidemic-data/main/data.csv\"\n",
    "data = pd.read_csv(csv_url)"
   ]
  },
  {
   "cell_type": "code",
   "execution_count": 3,
   "metadata": {},
   "outputs": [
    {
     "data": {
      "text/html": [
       "<div>\n",
       "<style scoped>\n",
       "    .dataframe tbody tr th:only-of-type {\n",
       "        vertical-align: middle;\n",
       "    }\n",
       "\n",
       "    .dataframe tbody tr th {\n",
       "        vertical-align: top;\n",
       "    }\n",
       "\n",
       "    .dataframe thead th {\n",
       "        text-align: right;\n",
       "    }\n",
       "</style>\n",
       "<table border=\"1\" class=\"dataframe\">\n",
       "  <thead>\n",
       "    <tr style=\"text-align: right;\">\n",
       "      <th></th>\n",
       "      <th>Day</th>\n",
       "      <th>num_positive</th>\n",
       "      <th>num_tested</th>\n",
       "      <th>num_hospitalised</th>\n",
       "      <th>num_cumulative_hospitalizations</th>\n",
       "      <th>num_critical</th>\n",
       "      <th>num_fatalities</th>\n",
       "    </tr>\n",
       "  </thead>\n",
       "  <tbody>\n",
       "    <tr>\n",
       "      <th>0</th>\n",
       "      <td>1</td>\n",
       "      <td>0</td>\n",
       "      <td>0</td>\n",
       "      <td>1</td>\n",
       "      <td>1</td>\n",
       "      <td>0</td>\n",
       "      <td>0</td>\n",
       "    </tr>\n",
       "    <tr>\n",
       "      <th>1</th>\n",
       "      <td>2</td>\n",
       "      <td>5</td>\n",
       "      <td>8</td>\n",
       "      <td>1</td>\n",
       "      <td>1</td>\n",
       "      <td>0</td>\n",
       "      <td>0</td>\n",
       "    </tr>\n",
       "    <tr>\n",
       "      <th>2</th>\n",
       "      <td>3</td>\n",
       "      <td>10</td>\n",
       "      <td>12</td>\n",
       "      <td>2</td>\n",
       "      <td>2</td>\n",
       "      <td>0</td>\n",
       "      <td>0</td>\n",
       "    </tr>\n",
       "    <tr>\n",
       "      <th>3</th>\n",
       "      <td>4</td>\n",
       "      <td>11</td>\n",
       "      <td>16</td>\n",
       "      <td>2</td>\n",
       "      <td>2</td>\n",
       "      <td>0</td>\n",
       "      <td>0</td>\n",
       "    </tr>\n",
       "    <tr>\n",
       "      <th>4</th>\n",
       "      <td>5</td>\n",
       "      <td>9</td>\n",
       "      <td>12</td>\n",
       "      <td>2</td>\n",
       "      <td>2</td>\n",
       "      <td>0</td>\n",
       "      <td>0</td>\n",
       "    </tr>\n",
       "  </tbody>\n",
       "</table>\n",
       "</div>"
      ],
      "text/plain": [
       "   Day  num_positive  num_tested  num_hospitalised  \\\n",
       "0    1             0           0                 1   \n",
       "1    2             5           8                 1   \n",
       "2    3            10          12                 2   \n",
       "3    4            11          16                 2   \n",
       "4    5             9          12                 2   \n",
       "\n",
       "   num_cumulative_hospitalizations  num_critical  num_fatalities  \n",
       "0                                1             0               0  \n",
       "1                                1             0               0  \n",
       "2                                2             0               0  \n",
       "3                                2             0               0  \n",
       "4                                2             0               0  "
      ]
     },
     "execution_count": 3,
     "metadata": {},
     "output_type": "execute_result"
    }
   ],
   "source": [
    "data.head()"
   ]
  },
  {
   "cell_type": "markdown",
   "metadata": {},
   "source": [
    "# step 1: setting up the model #"
   ]
  },
  {
   "cell_type": "markdown",
   "metadata": {},
   "source": [
    "## step 1.1: writing the ode system ##"
   ]
  },
  {
   "cell_type": "raw",
   "metadata": {},
   "source": [
    "here I write the relation between y' and y\n",
    "remember: y=[S,I,R]"
   ]
  },
  {
   "cell_type": "code",
   "execution_count": 4,
   "metadata": {},
   "outputs": [],
   "source": [
    "def deriv(y, t, N,ps):\n",
    "    N=sum(y)\n",
    "    S,I,R = y\n",
    "    try:\n",
    "        beta_SI = ps['beta_SI'].value\n",
    "        gamma_IR = ps['gamma_IR'].value\n",
    "        \n",
    "    except:\n",
    "        beta_SI, gamma_IR\n",
    "        \n",
    "    #beta = beta_i*(1.1-tau*t) idée de faire régresser beta\n",
    "    dSdt = -beta_SI*(S*I)/(N)\n",
    "    dIdt = +beta_SI*(S*I)/(N) - gamma_IR*I\n",
    "    dRdt= +gamma_IR*I\n",
    "    \n",
    "    return dSdt, dIdt, dRdt"
   ]
  },
  {
   "cell_type": "markdown",
   "metadata": {},
   "source": [
    "## step 1.2: writing the parameters values and guesses ##\n"
   ]
  },
  {
   "cell_type": "code",
   "execution_count": 5,
   "metadata": {},
   "outputs": [],
   "source": [
    "# the lmfit module uises an orderd dict structure\n",
    "# to store the parameters to be optimized\n",
    "# https://lmfit.github.io/lmfit-py/parameters.html\n",
    "\n",
    "params = Parameters()\n",
    "params.add('beta_SI', value=0.15, min=0.001, max=10)\n",
    "params.add('gamma_IR', value= 0.05, min=0.1, max=2)\n",
    "\n",
    "params.add('I0',value=15,min=1,max=500)\n",
    "\n",
    "params.add('OBS_Tr_SI_to_nbTest',value=0.25,min=0.05,max=1)\n",
    "params.add('OBS_nbTest_to_nbpos',value=0.75,min=0.5,max=0.9)\n",
    "# params.add('OBS_H_to_ICU',value=0.1,min=0.01,max=0.5) mistake??\n",
    "\n"
   ]
  },
  {
   "cell_type": "markdown",
   "metadata": {},
   "source": [
    "## step 1.3 writing the solver ##"
   ]
  },
  {
   "cell_type": "code",
   "execution_count": 6,
   "metadata": {},
   "outputs": [],
   "source": [
    "#this function solves the ode\n",
    "#input: function deriv, initial compartiments y0, t, and N,ps as arguments??\n",
    "#output: the ode solution\n",
    "def odesol(y,t,N,ps):\n",
    "    \n",
    "    ts = np.linspace(0, t, t+1)\n",
    "    result = odeint(deriv, y, ts, args=(N, ps))\n",
    "    \n",
    "    return result"
   ]
  },
  {
   "cell_type": "code",
   "execution_count": 7,
   "metadata": {},
   "outputs": [],
   "source": [
    "test=odesol(np.array([1e6-15,15,0]),3,1e6,params)"
   ]
  },
  {
   "cell_type": "code",
   "execution_count": 8,
   "metadata": {},
   "outputs": [
    {
     "data": {
      "text/plain": [
       "array([[9.99985000e+05, 1.50000000e+01, 0.00000000e+00],\n",
       "       [9.99982693e+05, 1.57690283e+01, 1.53813107e+00],\n",
       "       [9.99980267e+05, 1.65774776e+01, 3.15511960e+00],\n",
       "       [9.99977718e+05, 1.74273682e+01, 4.85500786e+00]])"
      ]
     },
     "execution_count": 8,
     "metadata": {},
     "output_type": "execute_result"
    }
   ],
   "source": [
    "test"
   ]
  },
  {
   "cell_type": "code",
   "execution_count": 9,
   "metadata": {},
   "outputs": [],
   "source": [
    "# this function generate the observation dataframe\n",
    "def create_obsdf(model,ps,data):\n",
    "    \n",
    "    result=pd.DataFrame(columns=data.columns)\n",
    "    result['Day']=data['Day']\n",
    "    nb_trans_SI=ps['beta_SI']*(model['S']*(model['I']))/(model['S']+model['I']+model['R'])\n",
    "    \n",
    "\n",
    "    result['num_tested']=ps['OBS_Tr_SI_to_nbTest'].value*nb_trans_SI\n",
    "    \n",
    "    #result['num_hospitalised']=model['H']\n",
    "    #result['num_cumulative_hospitalizations']=result['num_hospitalised'].diff().fillna(0).cumsum()\n",
    "    #result['num_critical']=model['ICU']\n",
    "    #result['num_fatalities']=model['D']\n",
    "    return result\n",
    "    \n",
    "\n",
    "#test['num_tested']=params['OBS_Tr_EI_to_nbTest'].value*"
   ]
  },
  {
   "cell_type": "markdown",
   "metadata": {},
   "source": [
    "# step 2: fitting the model #"
   ]
  },
  {
   "cell_type": "markdown",
   "metadata": {},
   "source": [
    "## step 2.1: write objective function ##"
   ]
  },
  {
   "cell_type": "code",
   "execution_count": 10,
   "metadata": {},
   "outputs": [],
   "source": [
    "#this function compute residuals,\n",
    "#ie objective function to be minimized in the optimization function\n",
    "def residual(ps, ts, data, N):\n",
    "    \n",
    "    \n",
    "    I0 = ps['I0'].value\n",
    "    S0=N-I0\n",
    "    R0=0\n",
    "\n",
    "    \n",
    "    y0 = S0,I0,R0\n",
    "    \n",
    "    model = pd.DataFrame(odesol(y0,ts,N,ps), columns=['S','I','R'])\n",
    "    obs_df=create_obsdf(model,ps,data)\n",
    "    component1=(obs_df['num_tested']-data['num_tested']).ravel()\n",
    "    \n",
    "    # penalty function to think more about !!!\n",
    "    # print(ps)\n",
    "    return component1"
   ]
  },
  {
   "cell_type": "code",
   "execution_count": 11,
   "metadata": {},
   "outputs": [],
   "source": [
    "#residual function from lmfit website\n",
    "#ts is the x\n",
    "def residual2(pars, data):\n",
    "    # unpack parameters: extract .value attribute for each parameter\n",
    "    parvals = pars.valuesdict()\n",
    "    beta=parvals['beta_SI']\n",
    "    gamma=parvals['gamma_IR']\n",
    "    I0=parvals['I0']\n",
    "    OBS_Tr_SI_to_nbTest=parvals['OBS_Tr_SI_to_nbTest']\n",
    "    OBS_nbTest_to_nbpos=parvals['OBS_nbTest_to_nbpos']\n",
    "    \n",
    "    # useful scalars, arrays\n",
    "    \n",
    "    nb_days=data.shape[0]\n",
    "    array_data=data['num_tested'].to_numpy()\n",
    "    array_model=odesol(np.array([1e6-I0,I0,0]),nb_days,1e6,pars)\n",
    "    \n",
    "    #array initialisation\n",
    "    \n",
    "    ratio_model=np.empty(nb_days)\n",
    "    ratio_data=np.empty(ratio_model.shape[0])\n",
    "    \n",
    "    for i in range(ratio_model.shape[0]-1):\n",
    "        if array_data[i] == 0: # handle divide by zero\n",
    "            ratio_data[i]=(array_data[i+1]-array_data[i])/(array_data[i+1]/2)\n",
    "        else:\n",
    "            ratio_data[i]=(array_data[i+1]-array_data[i])/array_data[i]\n",
    "        ratio_model[i]=(array_model[i+1][1]-array_model[i][1])/array_model[i][1]\n",
    "    \n",
    "\n",
    "    return ratio_model-ratio_data"
   ]
  },
  {
   "cell_type": "markdown",
   "metadata": {},
   "source": [
    "## step 2.2: write optimization command ##"
   ]
  },
  {
   "cell_type": "code",
   "execution_count": 12,
   "metadata": {},
   "outputs": [
    {
     "data": {
      "text/plain": [
       "array([-1.94873145e+00, -4.48731822e-01, -2.82065548e-01,  3.01267374e-01,\n",
       "        2.17933607e-01,  1.51266484e-01, -1.39317844e+00,  5.81095575e-03,\n",
       "        1.38221494e-01, -7.10640346e-01,  1.59371939e-01,  5.12632156e-02,\n",
       "       -1.00252582e-01, -1.32948637e-01, -1.26516603e-01,  1.45600048e-01,\n",
       "       -1.36240364e-01, -3.64604946e-02, -7.77743274e-02,  1.94114156e-01,\n",
       "       -1.15410618e-01,  1.36969320e-01, -2.14371030e-01,  1.74709640e-01,\n",
       "       -2.58607483e-01,  8.23968068e-03,  7.18676885e-02,  4.07214475e-02,\n",
       "       -7.37536750e-02, -1.70977409e-01, -1.78707982e-03,  1.95126444e-01,\n",
       "       -3.68928272e-01,  1.45912505e-01,  3.16281645e-02, -1.98766033e-01,\n",
       "        3.58472075e-02, -1.91194675e-01,  7.15523997e-02,  2.63284396e-02,\n",
       "       -1.06672651e-01, -1.30598851e-01,  1.51808153e-01, -1.88918185e-01,\n",
       "       -2.04078419e-02, -7.73364393e-04, -9.46790536e-02,  7.17334642e-02,\n",
       "       -1.10229898e-01, -8.37521342e-03, -1.00431141e-01, -5.03029554e-03,\n",
       "        9.16114787e-03,  4.98288561e-02, -1.17959842e-01, -3.94693259e-03,\n",
       "       -5.76576118e-02, -3.42276227e-02, -8.53073416e-03,  1.61540738e-02,\n",
       "       -5.85156023e-02, -5.73471016e-02, -1.16423140e-03,  1.41636645e-02,\n",
       "       -5.57819371e-02, -2.66028970e-02, -4.62433690e-02, -4.30415097e-03,\n",
       "       -3.63263986e-03, -1.93575066e-02,  1.00000000e+00])"
      ]
     },
     "execution_count": 12,
     "metadata": {},
     "output_type": "execute_result"
    }
   ],
   "source": [
    "residual2(params,data)"
   ]
  },
  {
   "cell_type": "code",
   "execution_count": 13,
   "metadata": {},
   "outputs": [
    {
     "data": {
      "text/html": [
       "<h2>Fit Statistics</h2><table><tr><td>fitting method</td><td>leastsq</td><td></td></tr><tr><td># function evals</td><td>79</td><td></td></tr><tr><td># data points</td><td>71</td><td></td></tr><tr><td># variables</td><td>5</td><td></td></tr><tr><td>chi-square</td><td> 6.97454410</td><td></td></tr><tr><td>reduced chi-square</td><td> 0.10567491</td><td></td></tr><tr><td>Akaike info crit.</td><td>-154.749317</td><td></td></tr><tr><td>Bayesian info crit.</td><td>-143.435917</td><td></td></tr></table><h2>Variables</h2><table><tr><th> name </th><th> value </th><th> initial value </th><th> min </th><th> max </th><th> vary </th></tr><tr><td> beta_SI </td><td>  0.24236419 </td><td> 0.15 </td><td>  1.0000e-03 </td><td>  10.0000000 </td><td> True </td></tr><tr><td> gamma_IR </td><td>  0.10000008 </td><td> 0.1 </td><td>  0.10000000 </td><td>  2.00000000 </td><td> True </td></tr><tr><td> I0 </td><td>  59.4009292 </td><td> 15 </td><td>  1.00000000 </td><td>  500.000000 </td><td> True </td></tr><tr><td> OBS_Tr_SI_to_nbTest </td><td>  0.25000000 </td><td> 0.25 </td><td>  0.05000000 </td><td>  1.00000000 </td><td> True </td></tr><tr><td> OBS_nbTest_to_nbpos </td><td>  0.75000000 </td><td> 0.75 </td><td>  0.50000000 </td><td>  0.90000000 </td><td> True </td></tr></table>"
      ],
      "text/plain": [
       "<lmfit.minimizer.MinimizerResult at 0x7fdaa26112b0>"
      ]
     },
     "execution_count": 13,
     "metadata": {},
     "output_type": "execute_result"
    }
   ],
   "source": [
    "mini = Minimizer(residual2, params, [data])\n",
    "result = mini.minimize()\n",
    "result"
   ]
  },
  {
   "cell_type": "code",
   "execution_count": 14,
   "metadata": {},
   "outputs": [
    {
     "data": {
      "text/html": [
       "<div>\n",
       "<style scoped>\n",
       "    .dataframe tbody tr th:only-of-type {\n",
       "        vertical-align: middle;\n",
       "    }\n",
       "\n",
       "    .dataframe tbody tr th {\n",
       "        vertical-align: top;\n",
       "    }\n",
       "\n",
       "    .dataframe thead th {\n",
       "        text-align: right;\n",
       "    }\n",
       "</style>\n",
       "<table border=\"1\" class=\"dataframe\">\n",
       "  <thead>\n",
       "    <tr style=\"text-align: right;\">\n",
       "      <th></th>\n",
       "      <th>Day</th>\n",
       "      <th>num_positive</th>\n",
       "      <th>num_tested</th>\n",
       "      <th>num_hospitalised</th>\n",
       "      <th>num_cumulative_hospitalizations</th>\n",
       "      <th>num_critical</th>\n",
       "      <th>num_fatalities</th>\n",
       "    </tr>\n",
       "  </thead>\n",
       "  <tbody>\n",
       "    <tr>\n",
       "      <th>0</th>\n",
       "      <td>1</td>\n",
       "      <td>NaN</td>\n",
       "      <td>3.598951</td>\n",
       "      <td>NaN</td>\n",
       "      <td>NaN</td>\n",
       "      <td>NaN</td>\n",
       "      <td>NaN</td>\n",
       "    </tr>\n",
       "    <tr>\n",
       "      <th>1</th>\n",
       "      <td>2</td>\n",
       "      <td>NaN</td>\n",
       "      <td>4.149446</td>\n",
       "      <td>NaN</td>\n",
       "      <td>NaN</td>\n",
       "      <td>NaN</td>\n",
       "      <td>NaN</td>\n",
       "    </tr>\n",
       "    <tr>\n",
       "      <th>2</th>\n",
       "      <td>3</td>\n",
       "      <td>NaN</td>\n",
       "      <td>4.784114</td>\n",
       "      <td>NaN</td>\n",
       "      <td>NaN</td>\n",
       "      <td>NaN</td>\n",
       "      <td>NaN</td>\n",
       "    </tr>\n",
       "    <tr>\n",
       "      <th>3</th>\n",
       "      <td>4</td>\n",
       "      <td>NaN</td>\n",
       "      <td>5.515815</td>\n",
       "      <td>NaN</td>\n",
       "      <td>NaN</td>\n",
       "      <td>NaN</td>\n",
       "      <td>NaN</td>\n",
       "    </tr>\n",
       "    <tr>\n",
       "      <th>4</th>\n",
       "      <td>5</td>\n",
       "      <td>NaN</td>\n",
       "      <td>6.359372</td>\n",
       "      <td>NaN</td>\n",
       "      <td>NaN</td>\n",
       "      <td>NaN</td>\n",
       "      <td>NaN</td>\n",
       "    </tr>\n",
       "    <tr>\n",
       "      <th>...</th>\n",
       "      <td>...</td>\n",
       "      <td>...</td>\n",
       "      <td>...</td>\n",
       "      <td>...</td>\n",
       "      <td>...</td>\n",
       "      <td>...</td>\n",
       "      <td>...</td>\n",
       "    </tr>\n",
       "    <tr>\n",
       "      <th>66</th>\n",
       "      <td>67</td>\n",
       "      <td>NaN</td>\n",
       "      <td>6681.800973</td>\n",
       "      <td>NaN</td>\n",
       "      <td>NaN</td>\n",
       "      <td>NaN</td>\n",
       "      <td>NaN</td>\n",
       "    </tr>\n",
       "    <tr>\n",
       "      <th>67</th>\n",
       "      <td>68</td>\n",
       "      <td>NaN</td>\n",
       "      <td>6511.209351</td>\n",
       "      <td>NaN</td>\n",
       "      <td>NaN</td>\n",
       "      <td>NaN</td>\n",
       "      <td>NaN</td>\n",
       "    </tr>\n",
       "    <tr>\n",
       "      <th>68</th>\n",
       "      <td>69</td>\n",
       "      <td>NaN</td>\n",
       "      <td>6297.888817</td>\n",
       "      <td>NaN</td>\n",
       "      <td>NaN</td>\n",
       "      <td>NaN</td>\n",
       "      <td>NaN</td>\n",
       "    </tr>\n",
       "    <tr>\n",
       "      <th>69</th>\n",
       "      <td>70</td>\n",
       "      <td>NaN</td>\n",
       "      <td>6049.444712</td>\n",
       "      <td>NaN</td>\n",
       "      <td>NaN</td>\n",
       "      <td>NaN</td>\n",
       "      <td>NaN</td>\n",
       "    </tr>\n",
       "    <tr>\n",
       "      <th>70</th>\n",
       "      <td>71</td>\n",
       "      <td>NaN</td>\n",
       "      <td>5773.795837</td>\n",
       "      <td>NaN</td>\n",
       "      <td>NaN</td>\n",
       "      <td>NaN</td>\n",
       "      <td>NaN</td>\n",
       "    </tr>\n",
       "  </tbody>\n",
       "</table>\n",
       "<p>71 rows × 7 columns</p>\n",
       "</div>"
      ],
      "text/plain": [
       "    Day num_positive   num_tested num_hospitalised  \\\n",
       "0     1          NaN     3.598951              NaN   \n",
       "1     2          NaN     4.149446              NaN   \n",
       "2     3          NaN     4.784114              NaN   \n",
       "3     4          NaN     5.515815              NaN   \n",
       "4     5          NaN     6.359372              NaN   \n",
       "..  ...          ...          ...              ...   \n",
       "66   67          NaN  6681.800973              NaN   \n",
       "67   68          NaN  6511.209351              NaN   \n",
       "68   69          NaN  6297.888817              NaN   \n",
       "69   70          NaN  6049.444712              NaN   \n",
       "70   71          NaN  5773.795837              NaN   \n",
       "\n",
       "   num_cumulative_hospitalizations num_critical num_fatalities  \n",
       "0                              NaN          NaN            NaN  \n",
       "1                              NaN          NaN            NaN  \n",
       "2                              NaN          NaN            NaN  \n",
       "3                              NaN          NaN            NaN  \n",
       "4                              NaN          NaN            NaN  \n",
       "..                             ...          ...            ...  \n",
       "66                             NaN          NaN            NaN  \n",
       "67                             NaN          NaN            NaN  \n",
       "68                             NaN          NaN            NaN  \n",
       "69                             NaN          NaN            NaN  \n",
       "70                             NaN          NaN            NaN  \n",
       "\n",
       "[71 rows x 7 columns]"
      ]
     },
     "execution_count": 14,
     "metadata": {},
     "output_type": "execute_result"
    }
   ],
   "source": [
    "I0 = result.params['I0'].value\n",
    "\n",
    "y0 = 1e6-I0,I0,0\n",
    "\n",
    "model = pd.DataFrame(odesol(y0,70,1e6,result.params), columns=['S','I','R'])\n",
    "obs_df=create_obsdf(model,result.params,data)\n",
    "obs_df"
   ]
  },
  {
   "cell_type": "code",
   "execution_count": 15,
   "metadata": {},
   "outputs": [
    {
     "data": {
      "text/plain": [
       "array([ 3.59895073e+00, -3.85055431e+00, -7.21588633e+00, -1.04841850e+01,\n",
       "       -5.64062841e+00, -2.66813508e+00, -5.47020785e-01, -1.22546041e+01,\n",
       "       -1.17647524e+01, -8.04736019e+00, -2.20677498e+01, -1.57859828e+01,\n",
       "       -1.31560701e+01, -1.51250658e+01, -1.86320290e+01, -2.26068355e+01,\n",
       "       -1.29688184e+01, -1.66252166e+01, -1.54694054e+01, -1.63788826e+01,\n",
       "        1.78701782e+00,  1.18971646e+00,  1.80143143e+01,  1.34728858e+01,\n",
       "        3.78081693e+01,  3.22976836e+01,  4.72582896e+01,  7.10512101e+01,\n",
       "        9.50875039e+01,  1.11833965e+02,  1.20819389e+02,  1.51641107e+02,\n",
       "        2.14971624e+02,  2.14565113e+02,  2.87263440e+02,  3.49001220e+02,\n",
       "        3.83809309e+02,  4.64815854e+02,  5.12243849e+02,  6.25403901e+02,\n",
       "        7.41680504e+02,  8.40509955e+02,  9.43347699e+02,  1.15062272e+03,\n",
       "        1.27067659e+03,  1.45768503e+03,  1.67256042e+03,  1.86883496e+03,\n",
       "        2.15952603e+03,  2.38498792e+03,  2.67475760e+03,  2.92640643e+03,\n",
       "        3.24341389e+03,  3.57808360e+03,  3.94552388e+03,  4.18471547e+03,\n",
       "        4.49068397e+03,  4.72478644e+03,  4.94310745e+03,  5.14494326e+03,\n",
       "        5.32633563e+03,  5.36360216e+03,  5.33080323e+03,  5.30608838e+03,\n",
       "        5.24087820e+03,  5.00085994e+03,  4.73980097e+03,  4.38020935e+03,\n",
       "        4.04888882e+03,  3.67744471e+03,  3.23479584e+03])"
      ]
     },
     "execution_count": 15,
     "metadata": {},
     "output_type": "execute_result"
    }
   ],
   "source": [
    "(obs_df['num_tested']-data['num_tested']).ravel()"
   ]
  },
  {
   "cell_type": "code",
   "execution_count": 16,
   "metadata": {},
   "outputs": [
    {
     "name": "stderr",
     "output_type": "stream",
     "text": [
      "<ipython-input-16-1aa4e96ec4dd>:1: RuntimeWarning: divide by zero encountered in true_divide\n",
      "  plt.plot(result.residual); plt.plot((data['num_tested'].values[1:] - data['num_tested'].values[:-1])/data['num_tested'].values[:-1])\n"
     ]
    },
    {
     "data": {
      "text/plain": [
       "[<matplotlib.lines.Line2D at 0x7fdaa1e4b760>]"
      ]
     },
     "execution_count": 16,
     "metadata": {},
     "output_type": "execute_result"
    },
    {
     "data": {
      "image/png": "[encoded data removed]",
      "text/plain": [
       "<Figure size 432x288 with 1 Axes>"
      ]
     },
     "metadata": {
      "needs_background": "light"
     },
     "output_type": "display_data"
    }
   ],
   "source": [
    "plt.plot(result.residual); plt.plot((data['num_tested'].values[1:] - data['num_tested'].values[:-1])/data['num_tested'].values[:-1])\n",
    "\n",
    "plt.plot((obs_df['num_tested'].values[1:] - obs_df['num_tested'].values[:-1])/obs_df['num_tested'].values[:-1])"
   ]
  },
  {
   "cell_type": "code",
   "execution_count": 17,
   "metadata": {},
   "outputs": [
    {
     "name": "stderr",
     "output_type": "stream",
     "text": [
      "<ipython-input-17-2da96932929b>:1: RuntimeWarning: divide by zero encountered in true_divide\n",
      "  y = (data['num_tested'].values[1:] - data['num_tested'].values[:-1])/data['num_tested'].values[:-1]\n"
     ]
    },
    {
     "data": {
      "text/plain": [
       "0.01263951692242915"
      ]
     },
     "execution_count": 17,
     "metadata": {},
     "output_type": "execute_result"
    }
   ],
   "source": [
    "y = (data['num_tested'].values[1:] - data['num_tested'].values[:-1])/data['num_tested'].values[:-1]\n",
    "y[0] = (data['num_tested'].values[1] - data['num_tested'].values[0])/(data['num_tested'].values[1]/2)\n",
    "R2 = 1 - sum(result.residual**2) / sum((y - np.mean(y))**2)\n",
    "R2"
   ]
  },
  {
   "cell_type": "code",
   "execution_count": 18,
   "metadata": {},
   "outputs": [
    {
     "data": {
      "text/plain": [
       "<AxesSubplot:>"
      ]
     },
     "execution_count": 18,
     "metadata": {},
     "output_type": "execute_result"
    },
    {
     "data": {
      "image/png": "[encoded data removed]",
      "text/plain": [
       "<Figure size 432x288 with 1 Axes>"
      ]
     },
     "metadata": {
      "needs_background": "light"
     },
     "output_type": "display_data"
    }
   ],
   "source": [
    "(obs_df['num_tested']).plot()\n",
    "data['num_tested'].plot()"
   ]
  },
  {
   "cell_type": "code",
   "execution_count": null,
   "metadata": {},
   "outputs": [],
   "source": []
  }
 ],
 "metadata": {
  "kernelspec": {
   "display_name": "Python 3",
   "language": "python",
   "name": "python3"
  },
  "language_info": {
   "codemirror_mode": {
    "name": "ipython",
    "version": 3
   },
   "file_extension": ".py",
   "mimetype": "text/x-python",
   "name": "python",
   "nbconvert_exporter": "python",
   "pygments_lexer": "ipython3",
   "version": "3.8.5"
  }
 },
 "nbformat": 4,
 "nbformat_minor": 4
}
