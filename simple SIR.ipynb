{
 "cells": [
  {
   "cell_type": "code",
   "execution_count": 7,
   "metadata": {},
   "outputs": [],
   "source": [
    "import numpy as np\n",
    "import random\n",
    "import pandas as pd\n",
    "from scipy.integrate import odeint\n",
    "import matplotlib.pyplot as plt\n",
    "import seaborn as sns\n",
    "import matplotlib.dates as mdates\n",
    "from matplotlib import dates\n",
    "from sklearn.metrics import mean_squared_error, r2_score\n",
    "from datetime import datetime\n",
    "from lmfit import Minimizer,minimize, Parameters, Parameter, report_fit\n",
    "from statsmodels.tsa.arima_model import ARIMA"
   ]
  },
  {
   "cell_type": "markdown",
   "metadata": {},
   "source": [
    "# step 0: data importation #"
   ]
  },
  {
   "cell_type": "code",
   "execution_count": 8,
   "metadata": {},
   "outputs": [],
   "source": [
    "csv_url=\"https://raw.githubusercontent.com/ADelau/proj0016-epidemic-data/main/data.csv\"\n",
    "data = pd.read_csv(csv_url)"
   ]
  },
  {
   "cell_type": "code",
   "execution_count": 10,
   "metadata": {},
   "outputs": [
    {
     "data": {
      "text/html": [
       "<div>\n",
       "<style scoped>\n",
       "    .dataframe tbody tr th:only-of-type {\n",
       "        vertical-align: middle;\n",
       "    }\n",
       "\n",
       "    .dataframe tbody tr th {\n",
       "        vertical-align: top;\n",
       "    }\n",
       "\n",
       "    .dataframe thead th {\n",
       "        text-align: right;\n",
       "    }\n",
       "</style>\n",
       "<table border=\"1\" class=\"dataframe\">\n",
       "  <thead>\n",
       "    <tr style=\"text-align: right;\">\n",
       "      <th></th>\n",
       "      <th>Day</th>\n",
       "      <th>num_positive</th>\n",
       "      <th>num_tested</th>\n",
       "      <th>num_hospitalised</th>\n",
       "      <th>num_cumulative_hospitalizations</th>\n",
       "      <th>num_critical</th>\n",
       "      <th>num_fatalities</th>\n",
       "    </tr>\n",
       "  </thead>\n",
       "  <tbody>\n",
       "    <tr>\n",
       "      <th>51</th>\n",
       "      <td>52</td>\n",
       "      <td>542</td>\n",
       "      <td>676</td>\n",
       "      <td>204</td>\n",
       "      <td>372</td>\n",
       "      <td>18</td>\n",
       "      <td>15</td>\n",
       "    </tr>\n",
       "    <tr>\n",
       "      <th>52</th>\n",
       "      <td>53</td>\n",
       "      <td>575</td>\n",
       "      <td>714</td>\n",
       "      <td>225</td>\n",
       "      <td>407</td>\n",
       "      <td>20</td>\n",
       "      <td>15</td>\n",
       "    </tr>\n",
       "    <tr>\n",
       "      <th>53</th>\n",
       "      <td>54</td>\n",
       "      <td>596</td>\n",
       "      <td>744</td>\n",
       "      <td>231</td>\n",
       "      <td>435</td>\n",
       "      <td>22</td>\n",
       "      <td>15</td>\n",
       "    </tr>\n",
       "    <tr>\n",
       "      <th>54</th>\n",
       "      <td>55</td>\n",
       "      <td>591</td>\n",
       "      <td>745</td>\n",
       "      <td>254</td>\n",
       "      <td>476</td>\n",
       "      <td>19</td>\n",
       "      <td>16</td>\n",
       "    </tr>\n",
       "    <tr>\n",
       "      <th>55</th>\n",
       "      <td>56</td>\n",
       "      <td>710</td>\n",
       "      <td>871</td>\n",
       "      <td>262</td>\n",
       "      <td>509</td>\n",
       "      <td>23</td>\n",
       "      <td>17</td>\n",
       "    </tr>\n",
       "    <tr>\n",
       "      <th>56</th>\n",
       "      <td>57</td>\n",
       "      <td>733</td>\n",
       "      <td>919</td>\n",
       "      <td>265</td>\n",
       "      <td>541</td>\n",
       "      <td>30</td>\n",
       "      <td>18</td>\n",
       "    </tr>\n",
       "    <tr>\n",
       "      <th>57</th>\n",
       "      <td>58</td>\n",
       "      <td>827</td>\n",
       "      <td>1019</td>\n",
       "      <td>282</td>\n",
       "      <td>588</td>\n",
       "      <td>33</td>\n",
       "      <td>20</td>\n",
       "    </tr>\n",
       "    <tr>\n",
       "      <th>58</th>\n",
       "      <td>59</td>\n",
       "      <td>870</td>\n",
       "      <td>1106</td>\n",
       "      <td>298</td>\n",
       "      <td>639</td>\n",
       "      <td>40</td>\n",
       "      <td>20</td>\n",
       "    </tr>\n",
       "    <tr>\n",
       "      <th>59</th>\n",
       "      <td>60</td>\n",
       "      <td>959</td>\n",
       "      <td>1172</td>\n",
       "      <td>317</td>\n",
       "      <td>689</td>\n",
       "      <td>45</td>\n",
       "      <td>20</td>\n",
       "    </tr>\n",
       "    <tr>\n",
       "      <th>60</th>\n",
       "      <td>61</td>\n",
       "      <td>991</td>\n",
       "      <td>1213</td>\n",
       "      <td>333</td>\n",
       "      <td>740</td>\n",
       "      <td>44</td>\n",
       "      <td>22</td>\n",
       "    </tr>\n",
       "    <tr>\n",
       "      <th>61</th>\n",
       "      <td>62</td>\n",
       "      <td>1077</td>\n",
       "      <td>1346</td>\n",
       "      <td>364</td>\n",
       "      <td>799</td>\n",
       "      <td>43</td>\n",
       "      <td>24</td>\n",
       "    </tr>\n",
       "    <tr>\n",
       "      <th>62</th>\n",
       "      <td>63</td>\n",
       "      <td>1210</td>\n",
       "      <td>1492</td>\n",
       "      <td>404</td>\n",
       "      <td>880</td>\n",
       "      <td>45</td>\n",
       "      <td>25</td>\n",
       "    </tr>\n",
       "    <tr>\n",
       "      <th>63</th>\n",
       "      <td>64</td>\n",
       "      <td>1279</td>\n",
       "      <td>1570</td>\n",
       "      <td>439</td>\n",
       "      <td>949</td>\n",
       "      <td>45</td>\n",
       "      <td>30</td>\n",
       "    </tr>\n",
       "    <tr>\n",
       "      <th>64</th>\n",
       "      <td>65</td>\n",
       "      <td>1303</td>\n",
       "      <td>1628</td>\n",
       "      <td>485</td>\n",
       "      <td>1028</td>\n",
       "      <td>45</td>\n",
       "      <td>34</td>\n",
       "    </tr>\n",
       "    <tr>\n",
       "      <th>65</th>\n",
       "      <td>66</td>\n",
       "      <td>1473</td>\n",
       "      <td>1802</td>\n",
       "      <td>518</td>\n",
       "      <td>1106</td>\n",
       "      <td>46</td>\n",
       "      <td>37</td>\n",
       "    </tr>\n",
       "    <tr>\n",
       "      <th>66</th>\n",
       "      <td>67</td>\n",
       "      <td>1550</td>\n",
       "      <td>1942</td>\n",
       "      <td>555</td>\n",
       "      <td>1197</td>\n",
       "      <td>55</td>\n",
       "      <td>38</td>\n",
       "    </tr>\n",
       "    <tr>\n",
       "      <th>67</th>\n",
       "      <td>68</td>\n",
       "      <td>1699</td>\n",
       "      <td>2131</td>\n",
       "      <td>608</td>\n",
       "      <td>1297</td>\n",
       "      <td>57</td>\n",
       "      <td>39</td>\n",
       "    </tr>\n",
       "    <tr>\n",
       "      <th>68</th>\n",
       "      <td>69</td>\n",
       "      <td>1799</td>\n",
       "      <td>2249</td>\n",
       "      <td>671</td>\n",
       "      <td>1412</td>\n",
       "      <td>62</td>\n",
       "      <td>41</td>\n",
       "    </tr>\n",
       "    <tr>\n",
       "      <th>69</th>\n",
       "      <td>70</td>\n",
       "      <td>1884</td>\n",
       "      <td>2372</td>\n",
       "      <td>738</td>\n",
       "      <td>1539</td>\n",
       "      <td>67</td>\n",
       "      <td>41</td>\n",
       "    </tr>\n",
       "    <tr>\n",
       "      <th>70</th>\n",
       "      <td>71</td>\n",
       "      <td>2035</td>\n",
       "      <td>2539</td>\n",
       "      <td>774</td>\n",
       "      <td>1654</td>\n",
       "      <td>76</td>\n",
       "      <td>43</td>\n",
       "    </tr>\n",
       "  </tbody>\n",
       "</table>\n",
       "</div>"
      ],
      "text/plain": [
       "    Day  num_positive  num_tested  num_hospitalised  \\\n",
       "51   52           542         676               204   \n",
       "52   53           575         714               225   \n",
       "53   54           596         744               231   \n",
       "54   55           591         745               254   \n",
       "55   56           710         871               262   \n",
       "56   57           733         919               265   \n",
       "57   58           827        1019               282   \n",
       "58   59           870        1106               298   \n",
       "59   60           959        1172               317   \n",
       "60   61           991        1213               333   \n",
       "61   62          1077        1346               364   \n",
       "62   63          1210        1492               404   \n",
       "63   64          1279        1570               439   \n",
       "64   65          1303        1628               485   \n",
       "65   66          1473        1802               518   \n",
       "66   67          1550        1942               555   \n",
       "67   68          1699        2131               608   \n",
       "68   69          1799        2249               671   \n",
       "69   70          1884        2372               738   \n",
       "70   71          2035        2539               774   \n",
       "\n",
       "    num_cumulative_hospitalizations  num_critical  num_fatalities  \n",
       "51                              372            18              15  \n",
       "52                              407            20              15  \n",
       "53                              435            22              15  \n",
       "54                              476            19              16  \n",
       "55                              509            23              17  \n",
       "56                              541            30              18  \n",
       "57                              588            33              20  \n",
       "58                              639            40              20  \n",
       "59                              689            45              20  \n",
       "60                              740            44              22  \n",
       "61                              799            43              24  \n",
       "62                              880            45              25  \n",
       "63                              949            45              30  \n",
       "64                             1028            45              34  \n",
       "65                             1106            46              37  \n",
       "66                             1197            55              38  \n",
       "67                             1297            57              39  \n",
       "68                             1412            62              41  \n",
       "69                             1539            67              41  \n",
       "70                             1654            76              43  "
      ]
     },
     "execution_count": 10,
     "metadata": {},
     "output_type": "execute_result"
    }
   ],
   "source": [
    "data.tail(20)"
   ]
  },
  {
   "cell_type": "code",
   "execution_count": null,
   "metadata": {},
   "outputs": [],
   "source": []
  },
  {
   "cell_type": "markdown",
   "metadata": {},
   "source": [
    "# step 1: setting up the model #"
   ]
  },
  {
   "cell_type": "markdown",
   "metadata": {},
   "source": [
    "## step 1.1: writing the ode system ##"
   ]
  },
  {
   "cell_type": "raw",
   "metadata": {},
   "source": [
    "here I write the relation between y' and y\n",
    "remember: y=[S,I,R]"
   ]
  },
  {
   "cell_type": "code",
   "execution_count": null,
   "metadata": {},
   "outputs": [],
   "source": []
  },
  {
   "cell_type": "code",
   "execution_count": 4,
   "metadata": {},
   "outputs": [],
   "source": [
    "# z is an array with compartiments\n",
    "# t \n",
    "#params\n",
    "def ode_model(z,t,params):\n",
    "    N=sum(z)\n",
    "    S,I,R = z\n",
    "    beta_SI = params['beta_SI'].value\n",
    "    gamma_IR = params['gamma_IR'].value\n",
    "        \n",
    "    #beta = beta_i*(1.1-tau*t) beta peut être une variable du temps\n",
    "    dSdt = -beta_SI*(S*I)/(N)\n",
    "    dIdt = +beta_SI*(S*I)/(N) - gamma_IR*I\n",
    "    dRdt= +gamma_IR*I\n",
    "    \n",
    "    return [dSdt, dIdt, dRdt]"
   ]
  },
  {
   "cell_type": "code",
   "execution_count": null,
   "metadata": {},
   "outputs": [],
   "source": []
  },
  {
   "cell_type": "markdown",
   "metadata": {},
   "source": [
    "## step 1.2: writing the parameters, initial values and guesses ##\n"
   ]
  },
  {
   "cell_type": "code",
   "execution_count": 5,
   "metadata": {},
   "outputs": [],
   "source": [
    "# the lmfit module uises an orderd dict structure\n",
    "# to store the parameters to be optimized\n",
    "# https://lmfit.github.io/lmfit-py/parameters.html\n",
    "\n",
    "params = Parameters()\n",
    "params.add('beta_SI', value=0.15, min=0.1, max=10)\n",
    "params.add('gamma_IR', value= 0.05, min=0.1, max=10)\n",
    "\n",
    "params.add('I0',value=15,min=1,max=500)\n",
    "\n",
    "params.add('OBS_Tr_SI_to_nbTest',value=0.25,min=0.05,max=1)\n",
    "params.add('OBS_nbTest_to_nbpos',value=0.75,min=0.5,max=0.9)\n",
    "\n",
    "\n",
    "\n"
   ]
  },
  {
   "cell_type": "code",
   "execution_count": 6,
   "metadata": {},
   "outputs": [
    {
     "data": {
      "text/html": [
       "<table><tr><th> name </th><th> value </th><th> initial value </th><th> min </th><th> max </th><th> vary </th></tr><tr><td> beta_SI </td><td>  0.15000000 </td><td> 0.15 </td><td>  0.10000000 </td><td>  10.0000000 </td><td> True </td></tr><tr><td> gamma_IR </td><td>  0.10000000 </td><td> 0.05 </td><td>  0.10000000 </td><td>  10.0000000 </td><td> True </td></tr><tr><td> I0 </td><td>  15.0000000 </td><td> 15 </td><td>  1.00000000 </td><td>  500.000000 </td><td> True </td></tr><tr><td> OBS_Tr_SI_to_nbTest </td><td>  0.25000000 </td><td> 0.25 </td><td>  0.05000000 </td><td>  1.00000000 </td><td> True </td></tr><tr><td> OBS_nbTest_to_nbpos </td><td>  0.75000000 </td><td> 0.75 </td><td>  0.50000000 </td><td>  0.90000000 </td><td> True </td></tr></table>"
      ],
      "text/plain": [
       "Parameters([('beta_SI', <Parameter 'beta_SI', value=0.15, bounds=[0.1:10]>),\n",
       "            ('gamma_IR', <Parameter 'gamma_IR', value=0.1, bounds=[0.1:10]>),\n",
       "            ('I0', <Parameter 'I0', value=15, bounds=[1:500]>),\n",
       "            ('OBS_Tr_SI_to_nbTest',\n",
       "             <Parameter 'OBS_Tr_SI_to_nbTest', value=0.25, bounds=[0.05:1]>),\n",
       "            ('OBS_nbTest_to_nbpos',\n",
       "             <Parameter 'OBS_nbTest_to_nbpos', value=0.75, bounds=[0.5:0.9]>)])"
      ]
     },
     "execution_count": 6,
     "metadata": {},
     "output_type": "execute_result"
    }
   ],
   "source": [
    "params"
   ]
  },
  {
   "cell_type": "markdown",
   "metadata": {},
   "source": [
    "## step 1.3 writing the solver ##"
   ]
  },
  {
   "cell_type": "code",
   "execution_count": 66,
   "metadata": {},
   "outputs": [],
   "source": [
    "#this function solves the ode\n",
    "#input: function deriv, initial compartiments y0, t, and N,ps as arguments??\n",
    "#output: the ode solution\n",
    "def odesol(y,t,ps):\n",
    "    \n",
    "    ts = np.linspace(0, t, t+1)\n",
    "    result = odeint(ode_model, y, ts, args=(ps,))\n",
    "    \n",
    "    return result\n",
    "\n",
    "\n",
    "def ode_solver(tspan, initial_conditions, params):\n",
    "    #parvals = params.valuesdict()\n",
    "        \n",
    "    \n",
    "    beta, gamma = params['beta_SI'].value, params['gamma_IR'].value\n",
    "    \n",
    "    \n",
    "    res = odeint(ode_model, initial_conditions, tspan, args=(params,))\n",
    "    return res"
   ]
  },
  {
   "cell_type": "code",
   "execution_count": 67,
   "metadata": {},
   "outputs": [
    {
     "data": {
      "text/plain": [
       "array([ 0., 70.])"
      ]
     },
     "execution_count": 67,
     "metadata": {},
     "output_type": "execute_result"
    }
   ],
   "source": [
    "ts = np.linspace(0, 70,2)\n",
    "ts"
   ]
  },
  {
   "cell_type": "code",
   "execution_count": 68,
   "metadata": {},
   "outputs": [
    {
     "data": {
      "text/plain": [
       "array([[9.99950000e+05, 5.00000000e+01, 0.00000000e+00],\n",
       "       [9.95175171e+05, 1.63382576e+03, 3.19100320e+03]])"
      ]
     },
     "execution_count": 68,
     "metadata": {},
     "output_type": "execute_result"
    }
   ],
   "source": [
    "test=ode_solver(ts, [1e6-50,50,0], params)\n",
    "test"
   ]
  },
  {
   "cell_type": "code",
   "execution_count": 69,
   "metadata": {},
   "outputs": [],
   "source": [
    "# this function generate the observation dataframe\n",
    "def create_obsdf(model,ps,data):\n",
    "    \n",
    "    result=pd.DataFrame(columns=data.columns)\n",
    "    result['Day']=data['Day']\n",
    "    nb_trans_SI=ps['beta_SI']*(model['S']*(model['I']))/(model['S']+model['I']+model['R'])\n",
    "    \n",
    "\n",
    "    result['num_tested']=ps['OBS_Tr_SI_to_nbTest'].value*nb_trans_SI\n",
    "    \n",
    "    #result['num_hospitalised']=model['H']\n",
    "    #result['num_cumulative_hospitalizations']=result['num_hospitalised'].diff().fillna(0).cumsum()\n",
    "    #result['num_critical']=model['ICU']\n",
    "    #result['num_fatalities']=model['D']\n",
    "    return result\n",
    "    \n",
    "\n",
    "#test['num_tested']=params['OBS_Tr_EI_to_nbTest'].value*"
   ]
  },
  {
   "cell_type": "markdown",
   "metadata": {},
   "source": [
    "# step 2: fitting the model #"
   ]
  },
  {
   "cell_type": "markdown",
   "metadata": {},
   "source": [
    "## step 2.1: write objective function ##"
   ]
  },
  {
   "cell_type": "code",
   "execution_count": 70,
   "metadata": {},
   "outputs": [],
   "source": [
    "#NOT USED, SEE RESIDUAL2\n",
    "#this function compute residuals,\n",
    "#ie objective function to be minimized in the optimization function\n",
    "def residual(ps, ts, data, N):\n",
    "    \n",
    "    \n",
    "    I0 = ps['I0'].value\n",
    "    S0=N-I0\n",
    "    R0=0\n",
    "\n",
    "    \n",
    "    y0 = S0,I0,R0\n",
    "    \n",
    "    model = pd.DataFrame(odesol(y0,ts,N,ps), columns=['S','I','R'])\n",
    "    obs_df=create_obsdf(model,ps,data)\n",
    "    component1=(obs_df['num_tested']-data['num_tested']).ravel()\n",
    "    \n",
    "    # penalty function to think more about !!!\n",
    "    print(ps)\n",
    "    return component1"
   ]
  },
  {
   "cell_type": "code",
   "execution_count": 74,
   "metadata": {},
   "outputs": [],
   "source": [
    "#residual function from lmfit website\n",
    "#ts is the x\n",
    "def error(params, data):\n",
    "    # unpack parameters: extract .value attribute for each parameter\n",
    "    parvals = params.valuesdict()\n",
    "    beta=parvals['beta_SI']\n",
    "    gamma=parvals['gamma_IR']\n",
    "    I0=parvals['I0']\n",
    "    OBS_Tr_SI_to_nbTest=parvals['OBS_Tr_SI_to_nbTest']\n",
    "    OBS_nbTest_to_nbpos=parvals['OBS_nbTest_to_nbpos']\n",
    "    \n",
    "    # useful scalars, arrays\n",
    "    \n",
    "    nb_days=data.shape[0]\n",
    "    array_data=data['num_tested'].to_numpy()\n",
    "    ## A CORRIGER !ode_solver(t, initial_conditions, params):\n",
    "    array_model=odesol(np.array([1e6-I0,I0,0]),nb_days,params)\n",
    "    \n",
    "    #array initialisation\n",
    "    \n",
    "    ratio_model=np.empty(array_data.shape[0]-1)\n",
    "    ratio_data=np.empty(array_data.shape[0]-1)\n",
    "    \n",
    "\n",
    "    for i in range(ratio_model.shape[0]-1):\n",
    "        if array_data[i] == 0: # handle divide by zero\n",
    "            ratio_data[i]=(array_data[i+1]-array_data[i])/(array_data[i+1]/2)\n",
    "        else:\n",
    "            ratio_data[i]=(array_data[i+1]-array_data[i])/array_data[i]\n",
    "        ratio_model[i]=(array_model[i+1][1]-array_model[i][1])/array_model[i][1]\n",
    "    \n",
    "    return ratio_model-ratio_data"
   ]
  },
  {
   "cell_type": "code",
   "execution_count": 75,
   "metadata": {},
   "outputs": [],
   "source": [
    "def find_timespane(data):\n",
    "    return np.linspace(0,data.shape[0]-1,data.shape[0])\n",
    "def find_timespane2(data):\n",
    "    return np.array(data.index.tolist())"
   ]
  },
  {
   "cell_type": "code",
   "execution_count": null,
   "metadata": {},
   "outputs": [],
   "source": []
  },
  {
   "cell_type": "code",
   "execution_count": 76,
   "metadata": {},
   "outputs": [],
   "source": [
    "error_array=error(params,data)"
   ]
  },
  {
   "cell_type": "code",
   "execution_count": 77,
   "metadata": {},
   "outputs": [
    {
     "data": {
      "text/plain": [
       "array([-1.94873145e+00, -4.48731822e-01, -2.82065548e-01,  3.01267374e-01,\n",
       "        2.17933607e-01,  1.51266484e-01, -1.39317844e+00,  5.81095575e-03,\n",
       "        1.38221494e-01, -7.10640346e-01,  1.59371939e-01,  5.12632156e-02,\n",
       "       -1.00252582e-01, -1.32948637e-01, -1.26516603e-01,  1.45600048e-01,\n",
       "       -1.36240364e-01, -3.64604946e-02, -7.77743274e-02,  1.94114156e-01,\n",
       "       -1.15410618e-01,  1.36969320e-01, -2.14371030e-01,  1.74709640e-01,\n",
       "       -2.58607483e-01,  8.23968068e-03,  7.18676885e-02,  4.07214475e-02,\n",
       "       -7.37536750e-02, -1.70977409e-01, -1.78707982e-03,  1.95126444e-01,\n",
       "       -3.68928272e-01,  1.45912505e-01,  3.16281645e-02, -1.98766033e-01,\n",
       "        3.58472075e-02, -1.91194675e-01,  7.15523997e-02,  2.63284396e-02,\n",
       "       -1.06672651e-01, -1.30598851e-01,  1.51808153e-01, -1.88918185e-01,\n",
       "       -2.04078419e-02, -7.73364393e-04, -9.46790536e-02,  7.17334642e-02,\n",
       "       -1.10229898e-01, -8.37521342e-03, -1.00431141e-01, -5.03029554e-03,\n",
       "        9.16114787e-03,  4.98288561e-02, -1.17959842e-01, -3.94693259e-03,\n",
       "       -5.76576118e-02, -3.42276227e-02, -8.53073416e-03,  1.61540738e-02,\n",
       "       -5.85156023e-02, -5.73471016e-02, -1.16423140e-03,  1.41636645e-02,\n",
       "       -5.57819371e-02, -2.66028970e-02, -4.62433690e-02, -4.30415097e-03,\n",
       "       -3.63263986e-03,  0.00000000e+00])"
      ]
     },
     "execution_count": 77,
     "metadata": {},
     "output_type": "execute_result"
    }
   ],
   "source": [
    "error_array"
   ]
  },
  {
   "cell_type": "markdown",
   "metadata": {},
   "source": [
    "## step 2.2: write optimization command ##"
   ]
  },
  {
   "cell_type": "code",
   "execution_count": 88,
   "metadata": {},
   "outputs": [],
   "source": [
    "result = minimize(error, params, args=(data,), method ='leastsq')"
   ]
  },
  {
   "cell_type": "code",
   "execution_count": 89,
   "metadata": {},
   "outputs": [
    {
     "data": {
      "text/html": [
       "<h2>Fit Statistics</h2><table><tr><td>fitting method</td><td>leastsq</td><td></td></tr><tr><td># function evals</td><td>13</td><td></td></tr><tr><td># data points</td><td>70</td><td></td></tr><tr><td># variables</td><td>5</td><td></td></tr><tr><td>chi-square</td><td> 558.226187</td><td></td></tr><tr><td>reduced chi-square</td><td> 8.58809518</td><td></td></tr><tr><td>Akaike info crit.</td><td> 155.338829</td><td></td></tr><tr><td>Bayesian info crit.</td><td> 166.581306</td><td></td></tr></table><h2>Variables</h2><table><tr><th> name </th><th> value </th><th> initial value </th><th> min </th><th> max </th><th> vary </th></tr><tr><td> beta_SI </td><td>  0.15000000 </td><td> 0.15 </td><td>  0.10000000 </td><td>  10.0000000 </td><td> True </td></tr><tr><td> gamma_IR </td><td>  0.10000000 </td><td> 0.1 </td><td>  0.10000000 </td><td>  10.0000000 </td><td> True </td></tr><tr><td> I0 </td><td>  15.0000000 </td><td> 15 </td><td>  1.00000000 </td><td>  500.000000 </td><td> True </td></tr><tr><td> OBS_Tr_SI_to_nbTest </td><td>  0.25000000 </td><td> 0.25 </td><td>  0.05000000 </td><td>  1.00000000 </td><td> True </td></tr><tr><td> OBS_nbTest_to_nbpos </td><td>  0.75000000 </td><td> 0.75 </td><td>  0.50000000 </td><td>  0.90000000 </td><td> True </td></tr></table>"
      ],
      "text/plain": [
       "<lmfit.minimizer.MinimizerResult at 0x1d8b3bbb9d0>"
      ]
     },
     "execution_count": 89,
     "metadata": {},
     "output_type": "execute_result"
    }
   ],
   "source": [
    "result"
   ]
  },
  {
   "cell_type": "code",
   "execution_count": 92,
   "metadata": {},
   "outputs": [
    {
     "data": {
      "text/html": [
       "<div>\n",
       "<style scoped>\n",
       "    .dataframe tbody tr th:only-of-type {\n",
       "        vertical-align: middle;\n",
       "    }\n",
       "\n",
       "    .dataframe tbody tr th {\n",
       "        vertical-align: top;\n",
       "    }\n",
       "\n",
       "    .dataframe thead th {\n",
       "        text-align: right;\n",
       "    }\n",
       "</style>\n",
       "<table border=\"1\" class=\"dataframe\">\n",
       "  <thead>\n",
       "    <tr style=\"text-align: right;\">\n",
       "      <th></th>\n",
       "      <th>Day</th>\n",
       "      <th>num_positive</th>\n",
       "      <th>num_tested</th>\n",
       "      <th>num_hospitalised</th>\n",
       "      <th>num_cumulative_hospitalizations</th>\n",
       "      <th>num_critical</th>\n",
       "      <th>num_fatalities</th>\n",
       "    </tr>\n",
       "  </thead>\n",
       "  <tbody>\n",
       "    <tr>\n",
       "      <th>0</th>\n",
       "      <td>1</td>\n",
       "      <td>NaN</td>\n",
       "      <td>0.562492</td>\n",
       "      <td>NaN</td>\n",
       "      <td>NaN</td>\n",
       "      <td>NaN</td>\n",
       "      <td>NaN</td>\n",
       "    </tr>\n",
       "    <tr>\n",
       "      <th>1</th>\n",
       "      <td>2</td>\n",
       "      <td>NaN</td>\n",
       "      <td>0.591328</td>\n",
       "      <td>NaN</td>\n",
       "      <td>NaN</td>\n",
       "      <td>NaN</td>\n",
       "      <td>NaN</td>\n",
       "    </tr>\n",
       "    <tr>\n",
       "      <th>2</th>\n",
       "      <td>3</td>\n",
       "      <td>NaN</td>\n",
       "      <td>0.621643</td>\n",
       "      <td>NaN</td>\n",
       "      <td>NaN</td>\n",
       "      <td>NaN</td>\n",
       "      <td>NaN</td>\n",
       "    </tr>\n",
       "    <tr>\n",
       "      <th>3</th>\n",
       "      <td>4</td>\n",
       "      <td>NaN</td>\n",
       "      <td>0.653512</td>\n",
       "      <td>NaN</td>\n",
       "      <td>NaN</td>\n",
       "      <td>NaN</td>\n",
       "      <td>NaN</td>\n",
       "    </tr>\n",
       "    <tr>\n",
       "      <th>4</th>\n",
       "      <td>5</td>\n",
       "      <td>NaN</td>\n",
       "      <td>0.687014</td>\n",
       "      <td>NaN</td>\n",
       "      <td>NaN</td>\n",
       "      <td>NaN</td>\n",
       "      <td>NaN</td>\n",
       "    </tr>\n",
       "    <tr>\n",
       "      <th>...</th>\n",
       "      <td>...</td>\n",
       "      <td>...</td>\n",
       "      <td>...</td>\n",
       "      <td>...</td>\n",
       "      <td>...</td>\n",
       "      <td>...</td>\n",
       "      <td>...</td>\n",
       "    </tr>\n",
       "    <tr>\n",
       "      <th>66</th>\n",
       "      <td>67</td>\n",
       "      <td>NaN</td>\n",
       "      <td>15.183705</td>\n",
       "      <td>NaN</td>\n",
       "      <td>NaN</td>\n",
       "      <td>NaN</td>\n",
       "      <td>NaN</td>\n",
       "    </tr>\n",
       "    <tr>\n",
       "      <th>67</th>\n",
       "      <td>68</td>\n",
       "      <td>NaN</td>\n",
       "      <td>15.958278</td>\n",
       "      <td>NaN</td>\n",
       "      <td>NaN</td>\n",
       "      <td>NaN</td>\n",
       "      <td>NaN</td>\n",
       "    </tr>\n",
       "    <tr>\n",
       "      <th>68</th>\n",
       "      <td>69</td>\n",
       "      <td>NaN</td>\n",
       "      <td>16.772151</td>\n",
       "      <td>NaN</td>\n",
       "      <td>NaN</td>\n",
       "      <td>NaN</td>\n",
       "      <td>NaN</td>\n",
       "    </tr>\n",
       "    <tr>\n",
       "      <th>69</th>\n",
       "      <td>70</td>\n",
       "      <td>NaN</td>\n",
       "      <td>17.627295</td>\n",
       "      <td>NaN</td>\n",
       "      <td>NaN</td>\n",
       "      <td>NaN</td>\n",
       "      <td>NaN</td>\n",
       "    </tr>\n",
       "    <tr>\n",
       "      <th>70</th>\n",
       "      <td>71</td>\n",
       "      <td>NaN</td>\n",
       "      <td>18.525778</td>\n",
       "      <td>NaN</td>\n",
       "      <td>NaN</td>\n",
       "      <td>NaN</td>\n",
       "      <td>NaN</td>\n",
       "    </tr>\n",
       "  </tbody>\n",
       "</table>\n",
       "<p>71 rows × 7 columns</p>\n",
       "</div>"
      ],
      "text/plain": [
       "    Day num_positive  num_tested num_hospitalised  \\\n",
       "0     1          NaN    0.562492              NaN   \n",
       "1     2          NaN    0.591328              NaN   \n",
       "2     3          NaN    0.621643              NaN   \n",
       "3     4          NaN    0.653512              NaN   \n",
       "4     5          NaN    0.687014              NaN   \n",
       "..  ...          ...         ...              ...   \n",
       "66   67          NaN   15.183705              NaN   \n",
       "67   68          NaN   15.958278              NaN   \n",
       "68   69          NaN   16.772151              NaN   \n",
       "69   70          NaN   17.627295              NaN   \n",
       "70   71          NaN   18.525778              NaN   \n",
       "\n",
       "   num_cumulative_hospitalizations num_critical num_fatalities  \n",
       "0                              NaN          NaN            NaN  \n",
       "1                              NaN          NaN            NaN  \n",
       "2                              NaN          NaN            NaN  \n",
       "3                              NaN          NaN            NaN  \n",
       "4                              NaN          NaN            NaN  \n",
       "..                             ...          ...            ...  \n",
       "66                             NaN          NaN            NaN  \n",
       "67                             NaN          NaN            NaN  \n",
       "68                             NaN          NaN            NaN  \n",
       "69                             NaN          NaN            NaN  \n",
       "70                             NaN          NaN            NaN  \n",
       "\n",
       "[71 rows x 7 columns]"
      ]
     },
     "execution_count": 92,
     "metadata": {},
     "output_type": "execute_result"
    }
   ],
   "source": [
    "I0 = result.params['I0'].value\n",
    "\n",
    "y0 = 1e6-I0,I0,0\n",
    "\n",
    "model = pd.DataFrame(odesol(y0,70,result.params), columns=['S','I','R'])\n",
    "obs_df=create_obsdf(model,result.params,data)\n",
    "obs_df"
   ]
  },
  {
   "cell_type": "code",
   "execution_count": 94,
   "metadata": {},
   "outputs": [
    {
     "data": {
      "text/plain": [
       "<matplotlib.legend.Legend at 0x1d8b458d280>"
      ]
     },
     "execution_count": 94,
     "metadata": {},
     "output_type": "execute_result"
    },
    {
     "data": {
      "image/png": "[encoded data removed]",
      "text/plain": [
       "<Figure size 432x288 with 1 Axes>"
      ]
     },
     "metadata": {
      "needs_background": "light"
     },
     "output_type": "display_data"
    }
   ],
   "source": [
    "plt.plot(result.residual,label='residual')\n",
    "\n",
    "plt.plot((data['num_tested'].values[1:] - data['num_tested'].values[:-1])/data['num_tested'].values[:-1],label='data')\n",
    "\n",
    "plt.plot((obs_df['num_tested'].values[1:] - obs_df['num_tested'].values[:-1])/obs_df['num_tested'].values[:-1],label='simulated')\n",
    "\n",
    "\n",
    "plt.legend()"
   ]
  },
  {
   "cell_type": "code",
   "execution_count": 20,
   "metadata": {},
   "outputs": [
    {
     "ename": "NameError",
     "evalue": "name 'initial_condition' is not defined",
     "output_type": "error",
     "traceback": [
      "\u001b[1;31m---------------------------------------------------------------------------\u001b[0m",
      "\u001b[1;31mNameError\u001b[0m                                 Traceback (most recent call last)",
      "\u001b[1;32m<ipython-input-20-9e76f90df3c9>\u001b[0m in \u001b[0;36m<module>\u001b[1;34m\u001b[0m\n\u001b[0;32m      1\u001b[0m \u001b[0mtspan\u001b[0m\u001b[1;33m=\u001b[0m\u001b[0mfind_timespane\u001b[0m\u001b[1;33m(\u001b[0m\u001b[0mdata\u001b[0m\u001b[1;33m)\u001b[0m\u001b[1;33m\u001b[0m\u001b[1;33m\u001b[0m\u001b[0m\n\u001b[0;32m      2\u001b[0m \u001b[1;33m\u001b[0m\u001b[0m\n\u001b[1;32m----> 3\u001b[1;33m \u001b[0mmini\u001b[0m \u001b[1;33m=\u001b[0m \u001b[0mMinimizer\u001b[0m\u001b[1;33m(\u001b[0m\u001b[0merror\u001b[0m\u001b[1;33m,\u001b[0m \u001b[0mparams\u001b[0m\u001b[1;33m,\u001b[0m \u001b[0margs\u001b[0m\u001b[1;33m=\u001b[0m\u001b[1;33m(\u001b[0m\u001b[0minitial_condition\u001b[0m\u001b[1;33m,\u001b[0m \u001b[0mtspan\u001b[0m\u001b[1;33m,\u001b[0m \u001b[0mdata\u001b[0m\u001b[1;33m)\u001b[0m\u001b[1;33m,\u001b[0m \u001b[0mmethod\u001b[0m \u001b[1;33m=\u001b[0m\u001b[1;34m'leastsq'\u001b[0m\u001b[1;33m)\u001b[0m\u001b[1;33m\u001b[0m\u001b[1;33m\u001b[0m\u001b[0m\n\u001b[0m\u001b[0;32m      4\u001b[0m \u001b[0mresult\u001b[0m \u001b[1;33m=\u001b[0m \u001b[0mmini\u001b[0m\u001b[1;33m.\u001b[0m\u001b[0mminimize\u001b[0m\u001b[1;33m(\u001b[0m\u001b[1;33m)\u001b[0m\u001b[1;33m\u001b[0m\u001b[1;33m\u001b[0m\u001b[0m\n\u001b[0;32m      5\u001b[0m \u001b[1;31m#result\u001b[0m\u001b[1;33m\u001b[0m\u001b[1;33m\u001b[0m\u001b[1;33m\u001b[0m\u001b[0m\n",
      "\u001b[1;31mNameError\u001b[0m: name 'initial_condition' is not defined"
     ]
    }
   ],
   "source": [
    "tspan=find_timespane(data)\n",
    "\n",
    "mini = Minimizer(error, params, args=(initial_condition, tspan, data), method ='leastsq')\n",
    "result = mini.minimize()\n",
    "#result"
   ]
  },
  {
   "cell_type": "code",
   "execution_count": null,
   "metadata": {},
   "outputs": [],
   "source": []
  },
  {
   "cell_type": "code",
   "execution_count": null,
   "metadata": {},
   "outputs": [],
   "source": []
  },
  {
   "cell_type": "code",
   "execution_count": null,
   "metadata": {},
   "outputs": [],
   "source": []
  },
  {
   "cell_type": "code",
   "execution_count": null,
   "metadata": {},
   "outputs": [],
   "source": []
  },
  {
   "cell_type": "code",
   "execution_count": null,
   "metadata": {},
   "outputs": [],
   "source": []
  },
  {
   "cell_type": "code",
   "execution_count": null,
   "metadata": {},
   "outputs": [],
   "source": []
  },
  {
   "cell_type": "code",
   "execution_count": null,
   "metadata": {},
   "outputs": [],
   "source": []
  },
  {
   "cell_type": "code",
   "execution_count": null,
   "metadata": {},
   "outputs": [],
   "source": []
  },
  {
   "cell_type": "code",
   "execution_count": null,
   "metadata": {},
   "outputs": [],
   "source": []
  },
  {
   "cell_type": "code",
   "execution_count": null,
   "metadata": {},
   "outputs": [],
   "source": []
  },
  {
   "cell_type": "code",
   "execution_count": null,
   "metadata": {},
   "outputs": [],
   "source": []
  },
  {
   "cell_type": "code",
   "execution_count": null,
   "metadata": {},
   "outputs": [],
   "source": []
  }
 ],
 "metadata": {
  "kernelspec": {
   "display_name": "Python 3",
   "language": "python",
   "name": "python3"
  },
  "language_info": {
   "codemirror_mode": {
    "name": "ipython",
    "version": 3
   },
   "file_extension": ".py",
   "mimetype": "text/x-python",
   "name": "python",
   "nbconvert_exporter": "python",
   "pygments_lexer": "ipython3",
   "version": "3.8.5"
  }
 },
 "nbformat": 4,
 "nbformat_minor": 4
}
