{
 "cells": [
  {
   "cell_type": "code",
   "execution_count": 280,
   "metadata": {},
   "outputs": [],
   "source": [
    "import numpy as np\n",
    "import random\n",
    "import pandas as pd\n",
    "from scipy.integrate import odeint\n",
    "import matplotlib.pyplot as plt\n",
    "import seaborn as sns\n",
    "import matplotlib.dates as mdates\n",
    "from matplotlib import dates\n",
    "from sklearn.metrics import mean_squared_error, r2_score\n",
    "from datetime import datetime\n",
    "from lmfit import Minimizer,minimize, Parameters, Parameter, report_fit\n",
    "from statsmodels.tsa.arima_model import ARIMA"
   ]
  },
  {
   "cell_type": "markdown",
   "metadata": {},
   "source": [
    "# step 0: data importation #"
   ]
  },
  {
   "cell_type": "code",
   "execution_count": 281,
   "metadata": {},
   "outputs": [],
   "source": [
    "csv_url=\"https://raw.githubusercontent.com/ADelau/proj0016-epidemic-data/main/data.csv\"\n",
    "data = pd.read_csv(csv_url)"
   ]
  },
  {
   "cell_type": "code",
   "execution_count": 282,
   "metadata": {},
   "outputs": [
    {
     "data": {
      "text/html": [
       "<div>\n",
       "<style scoped>\n",
       "    .dataframe tbody tr th:only-of-type {\n",
       "        vertical-align: middle;\n",
       "    }\n",
       "\n",
       "    .dataframe tbody tr th {\n",
       "        vertical-align: top;\n",
       "    }\n",
       "\n",
       "    .dataframe thead th {\n",
       "        text-align: right;\n",
       "    }\n",
       "</style>\n",
       "<table border=\"1\" class=\"dataframe\">\n",
       "  <thead>\n",
       "    <tr style=\"text-align: right;\">\n",
       "      <th></th>\n",
       "      <th>Day</th>\n",
       "      <th>num_positive</th>\n",
       "      <th>num_tested</th>\n",
       "      <th>num_hospitalised</th>\n",
       "      <th>num_cumulative_hospitalizations</th>\n",
       "      <th>num_critical</th>\n",
       "      <th>num_fatalities</th>\n",
       "    </tr>\n",
       "  </thead>\n",
       "  <tbody>\n",
       "    <tr>\n",
       "      <th>0</th>\n",
       "      <td>1</td>\n",
       "      <td>0</td>\n",
       "      <td>0</td>\n",
       "      <td>1</td>\n",
       "      <td>1</td>\n",
       "      <td>0</td>\n",
       "      <td>0</td>\n",
       "    </tr>\n",
       "    <tr>\n",
       "      <th>1</th>\n",
       "      <td>2</td>\n",
       "      <td>5</td>\n",
       "      <td>8</td>\n",
       "      <td>1</td>\n",
       "      <td>1</td>\n",
       "      <td>0</td>\n",
       "      <td>0</td>\n",
       "    </tr>\n",
       "    <tr>\n",
       "      <th>2</th>\n",
       "      <td>3</td>\n",
       "      <td>10</td>\n",
       "      <td>12</td>\n",
       "      <td>2</td>\n",
       "      <td>2</td>\n",
       "      <td>0</td>\n",
       "      <td>0</td>\n",
       "    </tr>\n",
       "    <tr>\n",
       "      <th>3</th>\n",
       "      <td>4</td>\n",
       "      <td>11</td>\n",
       "      <td>16</td>\n",
       "      <td>2</td>\n",
       "      <td>2</td>\n",
       "      <td>0</td>\n",
       "      <td>0</td>\n",
       "    </tr>\n",
       "    <tr>\n",
       "      <th>4</th>\n",
       "      <td>5</td>\n",
       "      <td>9</td>\n",
       "      <td>12</td>\n",
       "      <td>2</td>\n",
       "      <td>2</td>\n",
       "      <td>0</td>\n",
       "      <td>0</td>\n",
       "    </tr>\n",
       "  </tbody>\n",
       "</table>\n",
       "</div>"
      ],
      "text/plain": [
       "   Day  num_positive  num_tested  num_hospitalised  \\\n",
       "0    1             0           0                 1   \n",
       "1    2             5           8                 1   \n",
       "2    3            10          12                 2   \n",
       "3    4            11          16                 2   \n",
       "4    5             9          12                 2   \n",
       "\n",
       "   num_cumulative_hospitalizations  num_critical  num_fatalities  \n",
       "0                                1             0               0  \n",
       "1                                1             0               0  \n",
       "2                                2             0               0  \n",
       "3                                2             0               0  \n",
       "4                                2             0               0  "
      ]
     },
     "execution_count": 282,
     "metadata": {},
     "output_type": "execute_result"
    }
   ],
   "source": [
    "data.head()"
   ]
  },
  {
   "cell_type": "markdown",
   "metadata": {},
   "source": [
    "# step 1: setting up the model #"
   ]
  },
  {
   "cell_type": "markdown",
   "metadata": {},
   "source": [
    "## step 1.1: writing the ode system ##"
   ]
  },
  {
   "cell_type": "raw",
   "metadata": {},
   "source": [
    "here I write the relation between y' and y\n",
    "remember: y=[S,I,R]"
   ]
  },
  {
   "cell_type": "code",
   "execution_count": 283,
   "metadata": {},
   "outputs": [],
   "source": [
    "def deriv(y, t, N,ps):\n",
    "    N=sum(y)\n",
    "    S,I,R = y\n",
    "    try:\n",
    "        beta_SI = ps['beta_SI'].value\n",
    "        gamma_IR = ps['gamma_IR'].value\n",
    "        \n",
    "    except:\n",
    "        beta_SI, gamma_IR\n",
    "        \n",
    "    #beta = beta_i*(1.1-tau*t) idée de faire régresser beta\n",
    "    dSdt = -beta_SI*(S*I)/(N)\n",
    "    dIdt = +beta_SI*(S*I)/(N) - gamma_IR*I\n",
    "    dRdt= +gamma_IR*I\n",
    "    \n",
    "    return dSdt, dIdt, dRdt"
   ]
  },
  {
   "cell_type": "markdown",
   "metadata": {},
   "source": [
    "## step 1.2: writing the parameters values and guesses ##\n"
   ]
  },
  {
   "cell_type": "code",
   "execution_count": 284,
   "metadata": {},
   "outputs": [],
   "source": [
    "# the lmfit module uises an orderd dict structure\n",
    "# to store the parameters to be optimized\n",
    "# https://lmfit.github.io/lmfit-py/parameters.html\n",
    "\n",
    "params = Parameters()\n",
    "params.add('beta_SI', value=0.15, min=0.001, max=10)\n",
    "params.add('gamma_IR', value= 0.05, min=0.1, max=2)\n",
    "\n",
    "params.add('I0',value=15,min=1,max=500)\n",
    "\n",
    "params.add('OBS_Tr_SI_to_nbTest',value=0.25,min=0.05,max=1)\n",
    "params.add('OBS_nbTest_to_nbpos',value=0.75,min=0.5,max=0.9)\n",
    "# params.add('OBS_H_to_ICU',value=0.1,min=0.01,max=0.5) mistake??\n",
    "\n"
   ]
  },
  {
   "cell_type": "code",
   "execution_count": 285,
   "metadata": {},
   "outputs": [],
   "source": [
    "mydict=params.valuesdict()"
   ]
  },
  {
   "cell_type": "code",
   "execution_count": 286,
   "metadata": {},
   "outputs": [
    {
     "data": {
      "text/plain": [
       "OrderedDict([('beta_SI', 0.15),\n",
       "             ('gamma_IR', 0.1),\n",
       "             ('I0', 15),\n",
       "             ('OBS_Tr_SI_to_nbTest', 0.25),\n",
       "             ('OBS_nbTest_to_nbpos', 0.75)])"
      ]
     },
     "execution_count": 286,
     "metadata": {},
     "output_type": "execute_result"
    }
   ],
   "source": [
    "mydict"
   ]
  },
  {
   "cell_type": "markdown",
   "metadata": {},
   "source": [
    "## step 1.3 writing the solver ##"
   ]
  },
  {
   "cell_type": "code",
   "execution_count": 306,
   "metadata": {},
   "outputs": [],
   "source": [
    "#this function solves the ode\n",
    "#input: function deriv, initial compartiments y0, t, and N,ps as arguments??\n",
    "#output: the ode solution\n",
    "def odesol(y,t,N,ps):\n",
    "    \n",
    "    ts = np.linspace(0, t, t+1)\n",
    "    result = odeint(deriv, y, ts, args=(N, ps))\n",
    "    \n",
    "    return result\n",
    "\n"
   ]
  },
  {
   "cell_type": "code",
   "execution_count": 307,
   "metadata": {},
   "outputs": [],
   "source": [
    "test=odesol(np.array([1e6-15,15,0]),3,1e6,params)"
   ]
  },
  {
   "cell_type": "code",
   "execution_count": 308,
   "metadata": {},
   "outputs": [
    {
     "data": {
      "text/plain": [
       "array([ 0.,  1.,  2.,  3.,  4.,  5.,  6.,  7.,  8.,  9., 10., 11., 12.,\n",
       "       13., 14., 15., 16., 17., 18., 19., 20., 21., 22., 23., 24., 25.,\n",
       "       26., 27., 28., 29., 30., 31., 32., 33., 34., 35., 36., 37., 38.,\n",
       "       39., 40., 41., 42., 43., 44., 45., 46., 47., 48., 49., 50., 51.,\n",
       "       52., 53., 54., 55., 56., 57., 58., 59., 60., 61., 62., 63., 64.,\n",
       "       65., 66., 67., 68., 69., 70.])"
      ]
     },
     "execution_count": 308,
     "metadata": {},
     "output_type": "execute_result"
    }
   ],
   "source": [
    "np.linspace(0, 70,70+1)\n"
   ]
  },
  {
   "cell_type": "code",
   "execution_count": 309,
   "metadata": {},
   "outputs": [
    {
     "data": {
      "text/plain": [
       "array([[9.99985000e+05, 1.50000000e+01, 0.00000000e+00],\n",
       "       [9.99982693e+05, 1.57690283e+01, 1.53813107e+00],\n",
       "       [9.99980267e+05, 1.65774776e+01, 3.15511960e+00],\n",
       "       [9.99977718e+05, 1.74273682e+01, 4.85500786e+00]])"
      ]
     },
     "execution_count": 309,
     "metadata": {},
     "output_type": "execute_result"
    }
   ],
   "source": [
    "test"
   ]
  },
  {
   "cell_type": "code",
   "execution_count": 310,
   "metadata": {},
   "outputs": [
    {
     "data": {
      "text/html": [
       "<table><tr><th> name </th><th> value </th><th> initial value </th><th> min </th><th> max </th><th> vary </th></tr><tr><td> beta_SI </td><td>  0.15000000 </td><td> 0.15 </td><td>  1.0000e-03 </td><td>  10.0000000 </td><td> True </td></tr><tr><td> gamma_IR </td><td>  0.10000000 </td><td> 0.05 </td><td>  0.10000000 </td><td>  2.00000000 </td><td> True </td></tr><tr><td> I0 </td><td>  15.0000000 </td><td> 15 </td><td>  1.00000000 </td><td>  500.000000 </td><td> True </td></tr><tr><td> OBS_Tr_SI_to_nbTest </td><td>  0.25000000 </td><td> 0.25 </td><td>  0.05000000 </td><td>  1.00000000 </td><td> True </td></tr><tr><td> OBS_nbTest_to_nbpos </td><td>  0.75000000 </td><td> 0.75 </td><td>  0.50000000 </td><td>  0.90000000 </td><td> True </td></tr></table>"
      ],
      "text/plain": [
       "Parameters([('beta_SI', <Parameter 'beta_SI', value=0.15, bounds=[0.001:10]>),\n",
       "            ('gamma_IR', <Parameter 'gamma_IR', value=0.1, bounds=[0.1:2]>),\n",
       "            ('I0', <Parameter 'I0', value=15, bounds=[1:500]>),\n",
       "            ('OBS_Tr_SI_to_nbTest',\n",
       "             <Parameter 'OBS_Tr_SI_to_nbTest', value=0.25, bounds=[0.05:1]>),\n",
       "            ('OBS_nbTest_to_nbpos',\n",
       "             <Parameter 'OBS_nbTest_to_nbpos', value=0.75, bounds=[0.5:0.9]>)])"
      ]
     },
     "execution_count": 310,
     "metadata": {},
     "output_type": "execute_result"
    }
   ],
   "source": [
    "params"
   ]
  },
  {
   "cell_type": "code",
   "execution_count": 311,
   "metadata": {},
   "outputs": [],
   "source": [
    "# this function generate the observation dataframe\n",
    "def create_obsdf(model,ps,data):\n",
    "    \n",
    "    result=pd.DataFrame(columns=data.columns)\n",
    "    result['Day']=data['Day']\n",
    "    nb_trans_SI=ps['beta_SI']*(model['S']*(model['I']))/(model['S']+model['I']+model['R'])\n",
    "    \n",
    "\n",
    "    result['num_tested']=ps['OBS_Tr_SI_to_nbTest'].value*nb_trans_SI\n",
    "    \n",
    "    #result['num_hospitalised']=model['H']\n",
    "    #result['num_cumulative_hospitalizations']=result['num_hospitalised'].diff().fillna(0).cumsum()\n",
    "    #result['num_critical']=model['ICU']\n",
    "    #result['num_fatalities']=model['D']\n",
    "    return result\n",
    "    \n",
    "\n",
    "#test['num_tested']=params['OBS_Tr_EI_to_nbTest'].value*"
   ]
  },
  {
   "cell_type": "markdown",
   "metadata": {},
   "source": [
    "# step 2: fitting the model #"
   ]
  },
  {
   "cell_type": "markdown",
   "metadata": {},
   "source": [
    "## step 2.1: write objective function ##"
   ]
  },
  {
   "cell_type": "code",
   "execution_count": 312,
   "metadata": {},
   "outputs": [],
   "source": [
    "#this function compute residuals,\n",
    "#ie objective function to be minimized in the optimization function\n",
    "def residual(ps, ts, data, N):\n",
    "    \n",
    "    \n",
    "    I0 = ps['I0'].value\n",
    "    S0=N-I0\n",
    "    R0=0\n",
    "\n",
    "    \n",
    "    y0 = S0,I0,R0\n",
    "    \n",
    "    model = pd.DataFrame(odesol(y0,ts,N,ps), columns=['S','I','R'])\n",
    "    obs_df=create_obsdf(model,ps,data)\n",
    "    component1=(obs_df['num_tested']-data['num_tested']).ravel()\n",
    "    \n",
    "    # penalty function to think more about !!!\n",
    "    print(ps)\n",
    "    return component1"
   ]
  },
  {
   "cell_type": "raw",
   "metadata": {},
   "source": [
    "ratio_model=np.empty(model_from_ode.shape[0])\n",
    "ratio_model.shape[0]-68)"
   ]
  },
  {
   "cell_type": "code",
   "execution_count": 313,
   "metadata": {},
   "outputs": [],
   "source": [
    "#residual function from lmfit website\n",
    "#ts is the x\n",
    "def residual2(pars, data):\n",
    "    # unpack parameters: extract .value attribute for each parameter\n",
    "    parvals = pars.valuesdict()\n",
    "    beta=parvals['beta_SI']\n",
    "    gamma=parvals['gamma_IR']\n",
    "    I0=parvals['I0']\n",
    "    OBS_Tr_SI_to_nbTest=parvals['OBS_Tr_SI_to_nbTest']\n",
    "    OBS_nbTest_to_nbpos=parvals['OBS_nbTest_to_nbpos']\n",
    "    \n",
    "    # useful scalars, arrays\n",
    "    \n",
    "    nb_days=data.shape[0]\n",
    "    array_data=data['num_tested'].to_numpy()\n",
    "    array_model=odesol(np.array([1e6-I0,I0,0]),nb_days,1e6,params)\n",
    "    \n",
    "    #array initialisation\n",
    "    \n",
    "    ratio_model=np.empty(model_from_ode.shape[0])\n",
    "    ratio_data=np.empty(model_from_ode.shape[0])\n",
    "    \n",
    "    for i in range(ratio_model.shape[0]-1):\n",
    "        ratio_model[i]=(array_model[i+1][1]-array_model[i][1])/array_model[i][1]\n",
    "        ratio_data[i]=(array_data[i+1]-array_data[i])/array_model[i][1]\n",
    "    \n",
    "\n",
    "    return ratio_model-ratio_data"
   ]
  },
  {
   "cell_type": "markdown",
   "metadata": {},
   "source": [
    "## step 2.2: write optimization command ##"
   ]
  },
  {
   "cell_type": "code",
   "execution_count": 314,
   "metadata": {},
   "outputs": [
    {
     "data": {
      "text/plain": [
       "array([-0.48206478, -0.20239362, -0.19002345,  0.28079142,  0.16043234,\n",
       "        0.10318736, -0.59078944,  0.00428512,  0.1406437 , -0.62889691,\n",
       "        0.21301223,  0.05126322, -0.13168507, -0.19237533, -0.21360388,\n",
       "        0.20872906, -0.21836294, -0.09122771, -0.16560438,  0.30911751,\n",
       "       -0.19403173,  0.19125201, -0.32606465,  0.26238368, -0.39059049,\n",
       "       -0.02516794,  0.08759555,  0.03396051, -0.14608776, -0.32418401,\n",
       "       -0.05291907,  0.33434117, -0.62201085,  0.25617711,  0.01468282,\n",
       "       -0.40079714,  0.01815486, -0.45220968,  0.10111315, -0.00572126,\n",
       "       -0.30088984, -0.39538712,  0.32900043, -0.51614701, -0.1484121 ,\n",
       "       -0.0964913 , -0.36361626,  0.11484701, -0.41501946, -0.13888387,\n",
       "       -0.4364762 , -0.14689412, -0.09758444,  0.04645562, -0.51427949,\n",
       "       -0.15376087, -0.35498744, -0.28499873, -0.1914567 , -0.09223667,\n",
       "       -0.39133404, -0.41096346, -0.18374655, -0.11504142, -0.42311055,\n",
       "       -0.31190991, -0.41514999, -0.22587008, -0.2235894 , -0.30373395,\n",
       "        0.05103553])"
      ]
     },
     "execution_count": 314,
     "metadata": {},
     "output_type": "execute_result"
    }
   ],
   "source": [
    "residual2(params,data)"
   ]
  },
  {
   "cell_type": "code",
   "execution_count": 315,
   "metadata": {},
   "outputs": [
    {
     "ename": "TypeError",
     "evalue": "residual2() takes 2 positional arguments but 8 were given",
     "output_type": "error",
     "traceback": [
      "\u001b[1;31m---------------------------------------------------------------------------\u001b[0m",
      "\u001b[1;31mTypeError\u001b[0m                                 Traceback (most recent call last)",
      "\u001b[1;32m<ipython-input-315-eeec606db9ee>\u001b[0m in \u001b[0;36m<module>\u001b[1;34m\u001b[0m\n\u001b[0;32m      1\u001b[0m \u001b[0mmini\u001b[0m \u001b[1;33m=\u001b[0m \u001b[0mMinimizer\u001b[0m\u001b[1;33m(\u001b[0m\u001b[0mresidual2\u001b[0m\u001b[1;33m,\u001b[0m \u001b[0mparams\u001b[0m\u001b[1;33m,\u001b[0m \u001b[0mdata\u001b[0m\u001b[1;33m)\u001b[0m\u001b[1;33m\u001b[0m\u001b[1;33m\u001b[0m\u001b[0m\n\u001b[1;32m----> 2\u001b[1;33m \u001b[0mresult\u001b[0m \u001b[1;33m=\u001b[0m \u001b[0mmini\u001b[0m\u001b[1;33m.\u001b[0m\u001b[0mminimize\u001b[0m\u001b[1;33m(\u001b[0m\u001b[1;33m)\u001b[0m\u001b[1;33m\u001b[0m\u001b[1;33m\u001b[0m\u001b[0m\n\u001b[0m\u001b[0;32m      3\u001b[0m \u001b[0mresult\u001b[0m\u001b[1;33m\u001b[0m\u001b[1;33m\u001b[0m\u001b[0m\n",
      "\u001b[1;32m~\\anaconda3\\lib\\site-packages\\lmfit\\minimizer.py\u001b[0m in \u001b[0;36mminimize\u001b[1;34m(self, method, params, **kws)\u001b[0m\n\u001b[0;32m   2283\u001b[0m                         val.lower().startswith(user_method)):\n\u001b[0;32m   2284\u001b[0m                     \u001b[0mkwargs\u001b[0m\u001b[1;33m[\u001b[0m\u001b[1;34m'method'\u001b[0m\u001b[1;33m]\u001b[0m \u001b[1;33m=\u001b[0m \u001b[0mval\u001b[0m\u001b[1;33m\u001b[0m\u001b[1;33m\u001b[0m\u001b[0m\n\u001b[1;32m-> 2285\u001b[1;33m         \u001b[1;32mreturn\u001b[0m \u001b[0mfunction\u001b[0m\u001b[1;33m(\u001b[0m\u001b[1;33m**\u001b[0m\u001b[0mkwargs\u001b[0m\u001b[1;33m)\u001b[0m\u001b[1;33m\u001b[0m\u001b[1;33m\u001b[0m\u001b[0m\n\u001b[0m\u001b[0;32m   2286\u001b[0m \u001b[1;33m\u001b[0m\u001b[0m\n\u001b[0;32m   2287\u001b[0m \u001b[1;33m\u001b[0m\u001b[0m\n",
      "\u001b[1;32m~\\anaconda3\\lib\\site-packages\\lmfit\\minimizer.py\u001b[0m in \u001b[0;36mleastsq\u001b[1;34m(self, params, max_nfev, **kws)\u001b[0m\n\u001b[0;32m   1644\u001b[0m         \u001b[0mresult\u001b[0m\u001b[1;33m.\u001b[0m\u001b[0mcall_kws\u001b[0m \u001b[1;33m=\u001b[0m \u001b[0mlskws\u001b[0m\u001b[1;33m\u001b[0m\u001b[1;33m\u001b[0m\u001b[0m\n\u001b[0;32m   1645\u001b[0m         \u001b[1;32mtry\u001b[0m\u001b[1;33m:\u001b[0m\u001b[1;33m\u001b[0m\u001b[1;33m\u001b[0m\u001b[0m\n\u001b[1;32m-> 1646\u001b[1;33m             \u001b[0mlsout\u001b[0m \u001b[1;33m=\u001b[0m \u001b[0mscipy_leastsq\u001b[0m\u001b[1;33m(\u001b[0m\u001b[0mself\u001b[0m\u001b[1;33m.\u001b[0m\u001b[0m__residual\u001b[0m\u001b[1;33m,\u001b[0m \u001b[0mvariables\u001b[0m\u001b[1;33m,\u001b[0m \u001b[1;33m**\u001b[0m\u001b[0mlskws\u001b[0m\u001b[1;33m)\u001b[0m\u001b[1;33m\u001b[0m\u001b[1;33m\u001b[0m\u001b[0m\n\u001b[0m\u001b[0;32m   1647\u001b[0m         \u001b[1;32mexcept\u001b[0m \u001b[0mAbortFitException\u001b[0m\u001b[1;33m:\u001b[0m\u001b[1;33m\u001b[0m\u001b[1;33m\u001b[0m\u001b[0m\n\u001b[0;32m   1648\u001b[0m             \u001b[1;32mpass\u001b[0m\u001b[1;33m\u001b[0m\u001b[1;33m\u001b[0m\u001b[0m\n",
      "\u001b[1;32m~\\anaconda3\\lib\\site-packages\\scipy\\optimize\\minpack.py\u001b[0m in \u001b[0;36mleastsq\u001b[1;34m(func, x0, args, Dfun, full_output, col_deriv, ftol, xtol, gtol, maxfev, epsfcn, factor, diag)\u001b[0m\n\u001b[0;32m    408\u001b[0m     \u001b[1;32mif\u001b[0m \u001b[1;32mnot\u001b[0m \u001b[0misinstance\u001b[0m\u001b[1;33m(\u001b[0m\u001b[0margs\u001b[0m\u001b[1;33m,\u001b[0m \u001b[0mtuple\u001b[0m\u001b[1;33m)\u001b[0m\u001b[1;33m:\u001b[0m\u001b[1;33m\u001b[0m\u001b[1;33m\u001b[0m\u001b[0m\n\u001b[0;32m    409\u001b[0m         \u001b[0margs\u001b[0m \u001b[1;33m=\u001b[0m \u001b[1;33m(\u001b[0m\u001b[0margs\u001b[0m\u001b[1;33m,\u001b[0m\u001b[1;33m)\u001b[0m\u001b[1;33m\u001b[0m\u001b[1;33m\u001b[0m\u001b[0m\n\u001b[1;32m--> 410\u001b[1;33m     \u001b[0mshape\u001b[0m\u001b[1;33m,\u001b[0m \u001b[0mdtype\u001b[0m \u001b[1;33m=\u001b[0m \u001b[0m_check_func\u001b[0m\u001b[1;33m(\u001b[0m\u001b[1;34m'leastsq'\u001b[0m\u001b[1;33m,\u001b[0m \u001b[1;34m'func'\u001b[0m\u001b[1;33m,\u001b[0m \u001b[0mfunc\u001b[0m\u001b[1;33m,\u001b[0m \u001b[0mx0\u001b[0m\u001b[1;33m,\u001b[0m \u001b[0margs\u001b[0m\u001b[1;33m,\u001b[0m \u001b[0mn\u001b[0m\u001b[1;33m)\u001b[0m\u001b[1;33m\u001b[0m\u001b[1;33m\u001b[0m\u001b[0m\n\u001b[0m\u001b[0;32m    411\u001b[0m     \u001b[0mm\u001b[0m \u001b[1;33m=\u001b[0m \u001b[0mshape\u001b[0m\u001b[1;33m[\u001b[0m\u001b[1;36m0\u001b[0m\u001b[1;33m]\u001b[0m\u001b[1;33m\u001b[0m\u001b[1;33m\u001b[0m\u001b[0m\n\u001b[0;32m    412\u001b[0m \u001b[1;33m\u001b[0m\u001b[0m\n",
      "\u001b[1;32m~\\anaconda3\\lib\\site-packages\\scipy\\optimize\\minpack.py\u001b[0m in \u001b[0;36m_check_func\u001b[1;34m(checker, argname, thefunc, x0, args, numinputs, output_shape)\u001b[0m\n\u001b[0;32m     22\u001b[0m def _check_func(checker, argname, thefunc, x0, args, numinputs,\n\u001b[0;32m     23\u001b[0m                 output_shape=None):\n\u001b[1;32m---> 24\u001b[1;33m     \u001b[0mres\u001b[0m \u001b[1;33m=\u001b[0m \u001b[0matleast_1d\u001b[0m\u001b[1;33m(\u001b[0m\u001b[0mthefunc\u001b[0m\u001b[1;33m(\u001b[0m\u001b[1;33m*\u001b[0m\u001b[1;33m(\u001b[0m\u001b[1;33m(\u001b[0m\u001b[0mx0\u001b[0m\u001b[1;33m[\u001b[0m\u001b[1;33m:\u001b[0m\u001b[0mnuminputs\u001b[0m\u001b[1;33m]\u001b[0m\u001b[1;33m,\u001b[0m\u001b[1;33m)\u001b[0m \u001b[1;33m+\u001b[0m \u001b[0margs\u001b[0m\u001b[1;33m)\u001b[0m\u001b[1;33m)\u001b[0m\u001b[1;33m)\u001b[0m\u001b[1;33m\u001b[0m\u001b[1;33m\u001b[0m\u001b[0m\n\u001b[0m\u001b[0;32m     25\u001b[0m     \u001b[1;32mif\u001b[0m \u001b[1;33m(\u001b[0m\u001b[0moutput_shape\u001b[0m \u001b[1;32mis\u001b[0m \u001b[1;32mnot\u001b[0m \u001b[1;32mNone\u001b[0m\u001b[1;33m)\u001b[0m \u001b[1;32mand\u001b[0m \u001b[1;33m(\u001b[0m\u001b[0mshape\u001b[0m\u001b[1;33m(\u001b[0m\u001b[0mres\u001b[0m\u001b[1;33m)\u001b[0m \u001b[1;33m!=\u001b[0m \u001b[0moutput_shape\u001b[0m\u001b[1;33m)\u001b[0m\u001b[1;33m:\u001b[0m\u001b[1;33m\u001b[0m\u001b[1;33m\u001b[0m\u001b[0m\n\u001b[0;32m     26\u001b[0m         \u001b[1;32mif\u001b[0m \u001b[1;33m(\u001b[0m\u001b[0moutput_shape\u001b[0m\u001b[1;33m[\u001b[0m\u001b[1;36m0\u001b[0m\u001b[1;33m]\u001b[0m \u001b[1;33m!=\u001b[0m \u001b[1;36m1\u001b[0m\u001b[1;33m)\u001b[0m\u001b[1;33m:\u001b[0m\u001b[1;33m\u001b[0m\u001b[1;33m\u001b[0m\u001b[0m\n",
      "\u001b[1;32m~\\anaconda3\\lib\\site-packages\\lmfit\\minimizer.py\u001b[0m in \u001b[0;36m__residual\u001b[1;34m(self, fvars, apply_bounds_transformation)\u001b[0m\n\u001b[0;32m    574\u001b[0m             \u001b[1;32mraise\u001b[0m \u001b[0mAbortFitException\u001b[0m\u001b[1;33m(\u001b[0m\u001b[1;34m\"fit aborted: too many function evaluations (%d).\"\u001b[0m \u001b[1;33m%\u001b[0m \u001b[0mself\u001b[0m\u001b[1;33m.\u001b[0m\u001b[0mmax_nfev\u001b[0m\u001b[1;33m)\u001b[0m\u001b[1;33m\u001b[0m\u001b[1;33m\u001b[0m\u001b[0m\n\u001b[0;32m    575\u001b[0m \u001b[1;33m\u001b[0m\u001b[0m\n\u001b[1;32m--> 576\u001b[1;33m         \u001b[0mout\u001b[0m \u001b[1;33m=\u001b[0m \u001b[0mself\u001b[0m\u001b[1;33m.\u001b[0m\u001b[0muserfcn\u001b[0m\u001b[1;33m(\u001b[0m\u001b[0mparams\u001b[0m\u001b[1;33m,\u001b[0m \u001b[1;33m*\u001b[0m\u001b[0mself\u001b[0m\u001b[1;33m.\u001b[0m\u001b[0muserargs\u001b[0m\u001b[1;33m,\u001b[0m \u001b[1;33m**\u001b[0m\u001b[0mself\u001b[0m\u001b[1;33m.\u001b[0m\u001b[0muserkws\u001b[0m\u001b[1;33m)\u001b[0m\u001b[1;33m\u001b[0m\u001b[1;33m\u001b[0m\u001b[0m\n\u001b[0m\u001b[0;32m    577\u001b[0m \u001b[1;33m\u001b[0m\u001b[0m\n\u001b[0;32m    578\u001b[0m         \u001b[1;32mif\u001b[0m \u001b[0mcallable\u001b[0m\u001b[1;33m(\u001b[0m\u001b[0mself\u001b[0m\u001b[1;33m.\u001b[0m\u001b[0miter_cb\u001b[0m\u001b[1;33m)\u001b[0m\u001b[1;33m:\u001b[0m\u001b[1;33m\u001b[0m\u001b[1;33m\u001b[0m\u001b[0m\n",
      "\u001b[1;31mTypeError\u001b[0m: residual2() takes 2 positional arguments but 8 were given"
     ]
    }
   ],
   "source": [
    "\n",
    "\n",
    "mini = Minimizer(residual2, params, data)\n",
    "result = mini.minimize()\n",
    "result"
   ]
  },
  {
   "cell_type": "code",
   "execution_count": null,
   "metadata": {},
   "outputs": [],
   "source": []
  },
  {
   "cell_type": "code",
   "execution_count": 35,
   "metadata": {},
   "outputs": [
    {
     "data": {
      "text/html": [
       "<table><tr><th> name </th><th> value </th><th> initial value </th><th> min </th><th> max </th><th> vary </th></tr><tr><td> beta_SI </td><td>  0.15000000 </td><td> 0.15 </td><td>  1.0000e-03 </td><td>  10.0000000 </td><td> True </td></tr><tr><td> gamma_IR </td><td>  0.10000000 </td><td> 0.05 </td><td>  0.10000000 </td><td>  2.00000000 </td><td> True </td></tr><tr><td> I0 </td><td>  15.0000000 </td><td> 15 </td><td>  1.00000000 </td><td>  500.000000 </td><td> True </td></tr><tr><td> OBS_Tr_SI_to_nbTest </td><td>  0.25000000 </td><td> 0.25 </td><td>  0.05000000 </td><td>  1.00000000 </td><td> True </td></tr><tr><td> OBS_nbTest_to_nbpos </td><td>  0.75000000 </td><td> 0.75 </td><td>  0.50000000 </td><td>  0.90000000 </td><td> True </td></tr></table>"
      ],
      "text/plain": [
       "Parameters([('beta_SI', <Parameter 'beta_SI', value=0.15, bounds=[0.001:10]>),\n",
       "            ('gamma_IR', <Parameter 'gamma_IR', value=0.1, bounds=[0.1:2]>),\n",
       "            ('I0', <Parameter 'I0', value=15, bounds=[1:500]>),\n",
       "            ('OBS_Tr_SI_to_nbTest',\n",
       "             <Parameter 'OBS_Tr_SI_to_nbTest', value=0.25, bounds=[0.05:1]>),\n",
       "            ('OBS_nbTest_to_nbpos',\n",
       "             <Parameter 'OBS_nbTest_to_nbpos', value=0.75, bounds=[0.5:0.9]>)])"
      ]
     },
     "execution_count": 35,
     "metadata": {},
     "output_type": "execute_result"
    }
   ],
   "source": [
    "params"
   ]
  },
  {
   "cell_type": "code",
   "execution_count": 246,
   "metadata": {},
   "outputs": [
    {
     "data": {
      "text/html": [
       "<h2>Fit Statistics</h2><table><tr><td>fitting method</td><td>leastsq</td><td></td></tr><tr><td># function evals</td><td>49</td><td></td></tr><tr><td># data points</td><td>71</td><td></td></tr><tr><td># variables</td><td>5</td><td></td></tr><tr><td>chi-square</td><td> 0.10853398</td><td></td></tr><tr><td>reduced chi-square</td><td> 0.00164445</td><td></td></tr><tr><td>Akaike info crit.</td><td>-450.319403</td><td></td></tr><tr><td>Bayesian info crit.</td><td>-439.006003</td><td></td></tr></table><h2>Variables</h2><table><tr><th> name </th><th> value </th><th> initial value </th><th> min </th><th> max </th><th> vary </th></tr><tr><td> beta_SI </td><td>  0.15000000 </td><td> 0.15 </td><td>  1.0000e-03 </td><td>  10.0000000 </td><td> True </td></tr><tr><td> gamma_IR </td><td>  0.10000000 </td><td> 0.1 </td><td>  0.10000000 </td><td>  2.00000000 </td><td> True </td></tr><tr><td> I0 </td><td>  153.281393 </td><td> 15 </td><td>  1.00000000 </td><td>  500.000000 </td><td> True </td></tr><tr><td> OBS_Tr_SI_to_nbTest </td><td>  0.25000000 </td><td> 0.25 </td><td>  0.05000000 </td><td>  1.00000000 </td><td> True </td></tr><tr><td> OBS_nbTest_to_nbpos </td><td>  0.75000000 </td><td> 0.75 </td><td>  0.50000000 </td><td>  0.90000000 </td><td> True </td></tr></table>"
      ],
      "text/plain": [
       "<lmfit.minimizer.MinimizerResult at 0x1734fa15ac0>"
      ]
     },
     "execution_count": 246,
     "metadata": {},
     "output_type": "execute_result"
    }
   ],
   "source": [
    "mini = Minimizer(residual2, params, (data.shape[0] - 1, data, 1e6))\n",
    "result = mini.minimize()\n",
    "result"
   ]
  },
  {
   "cell_type": "code",
   "execution_count": 245,
   "metadata": {},
   "outputs": [
    {
     "name": "stdout",
     "output_type": "stream",
     "text": [
      "Parameters([('beta_SI', <Parameter 'beta_SI', value=0.14999999999999972, bounds=[0.001:10]>), ('gamma_IR', <Parameter 'gamma_IR', value=0.1, bounds=[0.1:2]>), ('I0', <Parameter 'I0', value=15.000000000000014, bounds=[1:500]>), ('OBS_Tr_SI_to_nbTest', <Parameter 'OBS_Tr_SI_to_nbTest', value=0.25, bounds=[0.05:1]>), ('OBS_nbTest_to_nbpos', <Parameter 'OBS_nbTest_to_nbpos', value=0.75, bounds=[0.5:0.9]>)])\n",
      "Parameters([('beta_SI', <Parameter 'beta_SI', value=0.14999999999999972, bounds=[0.001:10]>), ('gamma_IR', <Parameter 'gamma_IR', value=0.1, bounds=[0.1:2]>), ('I0', <Parameter 'I0', value=15.000000000000014, bounds=[1:500]>), ('OBS_Tr_SI_to_nbTest', <Parameter 'OBS_Tr_SI_to_nbTest', value=0.25, bounds=[0.05:1]>), ('OBS_nbTest_to_nbpos', <Parameter 'OBS_nbTest_to_nbpos', value=0.75, bounds=[0.5:0.9]>)])\n",
      "Parameters([('beta_SI', <Parameter 'beta_SI', value=0.14999999999999972, bounds=[0.001:10]>), ('gamma_IR', <Parameter 'gamma_IR', value=0.1, bounds=[0.1:2]>), ('I0', <Parameter 'I0', value=15.000000000000014, bounds=[1:500]>), ('OBS_Tr_SI_to_nbTest', <Parameter 'OBS_Tr_SI_to_nbTest', value=0.25, bounds=[0.05:1]>), ('OBS_nbTest_to_nbpos', <Parameter 'OBS_nbTest_to_nbpos', value=0.75, bounds=[0.5:0.9]>)])\n",
      "Parameters([('beta_SI', <Parameter 'beta_SI', value=0.15000002393805364, bounds=[0.001:10]>), ('gamma_IR', <Parameter 'gamma_IR', value=0.1, bounds=[0.1:2]>), ('I0', <Parameter 'I0', value=15.000000000000014, bounds=[1:500]>), ('OBS_Tr_SI_to_nbTest', <Parameter 'OBS_Tr_SI_to_nbTest', value=0.25, bounds=[0.05:1]>), ('OBS_nbTest_to_nbpos', <Parameter 'OBS_nbTest_to_nbpos', value=0.75, bounds=[0.5:0.9]>)])\n",
      "Parameters([('beta_SI', <Parameter 'beta_SI', value=0.14999999999999972, bounds=[0.001:10]>), ('gamma_IR', <Parameter 'gamma_IR', value=0.10000000000000021, bounds=[0.1:2]>), ('I0', <Parameter 'I0', value=15.000000000000014, bounds=[1:500]>), ('OBS_Tr_SI_to_nbTest', <Parameter 'OBS_Tr_SI_to_nbTest', value=0.25, bounds=[0.05:1]>), ('OBS_nbTest_to_nbpos', <Parameter 'OBS_nbTest_to_nbpos', value=0.75, bounds=[0.5:0.9]>)])\n",
      "Parameters([('beta_SI', <Parameter 'beta_SI', value=0.14999999999999972, bounds=[0.001:10]>), ('gamma_IR', <Parameter 'gamma_IR', value=0.1, bounds=[0.1:2]>), ('I0', <Parameter 'I0', value=15.000001515459322, bounds=[1:500]>), ('OBS_Tr_SI_to_nbTest', <Parameter 'OBS_Tr_SI_to_nbTest', value=0.25, bounds=[0.05:1]>), ('OBS_nbTest_to_nbpos', <Parameter 'OBS_nbTest_to_nbpos', value=0.75, bounds=[0.5:0.9]>)])\n",
      "Parameters([('beta_SI', <Parameter 'beta_SI', value=0.14999999999999972, bounds=[0.001:10]>), ('gamma_IR', <Parameter 'gamma_IR', value=0.1, bounds=[0.1:2]>), ('I0', <Parameter 'I0', value=15.000000000000014, bounds=[1:500]>), ('OBS_Tr_SI_to_nbTest', <Parameter 'OBS_Tr_SI_to_nbTest', value=0.25000000356334984, bounds=[0.05:1]>), ('OBS_nbTest_to_nbpos', <Parameter 'OBS_nbTest_to_nbpos', value=0.75, bounds=[0.5:0.9]>)])\n",
      "Parameters([('beta_SI', <Parameter 'beta_SI', value=0.14999999999999972, bounds=[0.001:10]>), ('gamma_IR', <Parameter 'gamma_IR', value=0.1, bounds=[0.1:2]>), ('I0', <Parameter 'I0', value=15.000000000000014, bounds=[1:500]>), ('OBS_Tr_SI_to_nbTest', <Parameter 'OBS_Tr_SI_to_nbTest', value=0.25, bounds=[0.05:1]>), ('OBS_nbTest_to_nbpos', <Parameter 'OBS_nbTest_to_nbpos', value=0.7500000007291335, bounds=[0.5:0.9]>)])\n",
      "Parameters([('beta_SI', <Parameter 'beta_SI', value=4.421451163019936, bounds=[0.001:10]>), ('gamma_IR', <Parameter 'gamma_IR', value=0.12341585952181515, bounds=[0.1:2]>), ('I0', <Parameter 'I0', value=377.623417612125, bounds=[1:500]>), ('OBS_Tr_SI_to_nbTest', <Parameter 'OBS_Tr_SI_to_nbTest', value=0.19648355712496485, bounds=[0.05:1]>), ('OBS_nbTest_to_nbpos', <Parameter 'OBS_nbTest_to_nbpos', value=0.75, bounds=[0.5:0.9]>)])\n",
      "Parameters([('beta_SI', <Parameter 'beta_SI', value=7.492532432802999, bounds=[0.001:10]>), ('gamma_IR', <Parameter 'gamma_IR', value=0.10871068935235592, bounds=[0.1:2]>), ('I0', <Parameter 'I0', value=45.91189740605658, bounds=[1:500]>), ('OBS_Tr_SI_to_nbTest', <Parameter 'OBS_Tr_SI_to_nbTest', value=0.06354523265721461, bounds=[0.05:1]>), ('OBS_nbTest_to_nbpos', <Parameter 'OBS_nbTest_to_nbpos', value=0.75, bounds=[0.5:0.9]>)])\n",
      "Parameters([('beta_SI', <Parameter 'beta_SI', value=4.270446215359957, bounds=[0.001:10]>), ('gamma_IR', <Parameter 'gamma_IR', value=1.272462912405503, bounds=[0.1:2]>), ('I0', <Parameter 'I0', value=208.41535712572292, bounds=[1:500]>), ('OBS_Tr_SI_to_nbTest', <Parameter 'OBS_Tr_SI_to_nbTest', value=0.25883364285578087, bounds=[0.05:1]>), ('OBS_nbTest_to_nbpos', <Parameter 'OBS_nbTest_to_nbpos', value=0.75, bounds=[0.5:0.9]>)])\n",
      "Parameters([('beta_SI', <Parameter 'beta_SI', value=0.22640930228629444, bounds=[0.001:10]>), ('gamma_IR', <Parameter 'gamma_IR', value=1.4909714925384188, bounds=[0.1:2]>), ('I0', <Parameter 'I0', value=152.49798895338893, bounds=[1:500]>), ('OBS_Tr_SI_to_nbTest', <Parameter 'OBS_Tr_SI_to_nbTest', value=0.8735011280944122, bounds=[0.05:1]>), ('OBS_nbTest_to_nbpos', <Parameter 'OBS_nbTest_to_nbpos', value=0.75, bounds=[0.5:0.9]>)])\n",
      "Parameters([('beta_SI', <Parameter 'beta_SI', value=0.18743904798161257, bounds=[0.001:10]>), ('gamma_IR', <Parameter 'gamma_IR', value=0.3016326623175931, bounds=[0.1:2]>), ('I0', <Parameter 'I0', value=70.58943890193746, bounds=[1:500]>), ('OBS_Tr_SI_to_nbTest', <Parameter 'OBS_Tr_SI_to_nbTest', value=0.8965333432128675, bounds=[0.05:1]>), ('OBS_nbTest_to_nbpos', <Parameter 'OBS_nbTest_to_nbpos', value=0.75, bounds=[0.5:0.9]>)])\n",
      "Parameters([('beta_SI', <Parameter 'beta_SI', value=0.16498873047202686, bounds=[0.001:10]>), ('gamma_IR', <Parameter 'gamma_IR', value=0.10003775127795322, bounds=[0.1:2]>), ('I0', <Parameter 'I0', value=33.26426423356476, bounds=[1:500]>), ('OBS_Tr_SI_to_nbTest', <Parameter 'OBS_Tr_SI_to_nbTest', value=0.5298835034337919, bounds=[0.05:1]>), ('OBS_nbTest_to_nbpos', <Parameter 'OBS_nbTest_to_nbpos', value=0.75, bounds=[0.5:0.9]>)])\n",
      "Parameters([('beta_SI', <Parameter 'beta_SI', value=0.16498875533753718, bounds=[0.001:10]>), ('gamma_IR', <Parameter 'gamma_IR', value=0.10003775127795322, bounds=[0.1:2]>), ('I0', <Parameter 'I0', value=33.26426423356476, bounds=[1:500]>), ('OBS_Tr_SI_to_nbTest', <Parameter 'OBS_Tr_SI_to_nbTest', value=0.5298835034337919, bounds=[0.05:1]>), ('OBS_nbTest_to_nbpos', <Parameter 'OBS_nbTest_to_nbpos', value=0.75, bounds=[0.5:0.9]>)])\n",
      "Parameters([('beta_SI', <Parameter 'beta_SI', value=0.16498873047202686, bounds=[0.001:10]>), ('gamma_IR', <Parameter 'gamma_IR', value=0.10003602057888196, bounds=[0.1:2]>), ('I0', <Parameter 'I0', value=33.26426423356476, bounds=[1:500]>), ('OBS_Tr_SI_to_nbTest', <Parameter 'OBS_Tr_SI_to_nbTest', value=0.5298835034337919, bounds=[0.05:1]>), ('OBS_nbTest_to_nbpos', <Parameter 'OBS_nbTest_to_nbpos', value=0.75, bounds=[0.5:0.9]>)])\n",
      "Parameters([('beta_SI', <Parameter 'beta_SI', value=0.16498873047202686, bounds=[0.001:10]>), ('gamma_IR', <Parameter 'gamma_IR', value=0.10003775127795322, bounds=[0.1:2]>), ('I0', <Parameter 'I0', value=33.26426616563902, bounds=[1:500]>), ('OBS_Tr_SI_to_nbTest', <Parameter 'OBS_Tr_SI_to_nbTest', value=0.5298835034337919, bounds=[0.05:1]>), ('OBS_nbTest_to_nbpos', <Parameter 'OBS_nbTest_to_nbpos', value=0.75, bounds=[0.5:0.9]>)])\n",
      "Parameters([('beta_SI', <Parameter 'beta_SI', value=0.16498873047202686, bounds=[0.001:10]>), ('gamma_IR', <Parameter 'gamma_IR', value=0.10003775127795322, bounds=[0.1:2]>), ('I0', <Parameter 'I0', value=33.26426423356476, bounds=[1:500]>), ('OBS_Tr_SI_to_nbTest', <Parameter 'OBS_Tr_SI_to_nbTest', value=0.5298835035065592, bounds=[0.05:1]>), ('OBS_nbTest_to_nbpos', <Parameter 'OBS_nbTest_to_nbpos', value=0.75, bounds=[0.5:0.9]>)])\n",
      "Parameters([('beta_SI', <Parameter 'beta_SI', value=0.16498873047202686, bounds=[0.001:10]>), ('gamma_IR', <Parameter 'gamma_IR', value=0.10003775127795322, bounds=[0.1:2]>), ('I0', <Parameter 'I0', value=33.26426423356476, bounds=[1:500]>), ('OBS_Tr_SI_to_nbTest', <Parameter 'OBS_Tr_SI_to_nbTest', value=0.5298835034337919, bounds=[0.05:1]>), ('OBS_nbTest_to_nbpos', <Parameter 'OBS_nbTest_to_nbpos', value=0.7500000007291335, bounds=[0.5:0.9]>)])\n",
      "Parameters([('beta_SI', <Parameter 'beta_SI', value=0.1670558710092176, bounds=[0.001:10]>), ('gamma_IR', <Parameter 'gamma_IR', value=0.1319710005268314, bounds=[0.1:2]>), ('I0', <Parameter 'I0', value=38.16951604201263, bounds=[1:500]>), ('OBS_Tr_SI_to_nbTest', <Parameter 'OBS_Tr_SI_to_nbTest', value=0.603753200063843, bounds=[0.05:1]>), ('OBS_nbTest_to_nbpos', <Parameter 'OBS_nbTest_to_nbpos', value=0.75, bounds=[0.5:0.9]>)])\n",
      "Parameters([('beta_SI', <Parameter 'beta_SI', value=0.16542876330080197, bounds=[0.001:10]>), ('gamma_IR', <Parameter 'gamma_IR', value=0.10111724709387106, bounds=[0.1:2]>), ('I0', <Parameter 'I0', value=34.28417133201006, bounds=[1:500]>), ('OBS_Tr_SI_to_nbTest', <Parameter 'OBS_Tr_SI_to_nbTest', value=0.5457206204085103, bounds=[0.05:1]>), ('OBS_nbTest_to_nbpos', <Parameter 'OBS_nbTest_to_nbpos', value=0.75, bounds=[0.5:0.9]>)])\n",
      "Parameters([('beta_SI', <Parameter 'beta_SI', value=0.16542878819253257, bounds=[0.001:10]>), ('gamma_IR', <Parameter 'gamma_IR', value=0.10111724709387106, bounds=[0.1:2]>), ('I0', <Parameter 'I0', value=34.28417133201006, bounds=[1:500]>), ('OBS_Tr_SI_to_nbTest', <Parameter 'OBS_Tr_SI_to_nbTest', value=0.5457206204085103, bounds=[0.05:1]>), ('OBS_nbTest_to_nbpos', <Parameter 'OBS_nbTest_to_nbpos', value=0.75, bounds=[0.5:0.9]>)])\n",
      "Parameters([('beta_SI', <Parameter 'beta_SI', value=0.16542876330080197, bounds=[0.001:10]>), ('gamma_IR', <Parameter 'gamma_IR', value=0.10112679029980318, bounds=[0.1:2]>), ('I0', <Parameter 'I0', value=34.28417133201006, bounds=[1:500]>), ('OBS_Tr_SI_to_nbTest', <Parameter 'OBS_Tr_SI_to_nbTest', value=0.5457206204085103, bounds=[0.05:1]>), ('OBS_nbTest_to_nbpos', <Parameter 'OBS_nbTest_to_nbpos', value=0.75, bounds=[0.5:0.9]>)])\n",
      "Parameters([('beta_SI', <Parameter 'beta_SI', value=0.16542876330080197, bounds=[0.001:10]>), ('gamma_IR', <Parameter 'gamma_IR', value=0.10111724709387106, bounds=[0.1:2]>), ('I0', <Parameter 'I0', value=34.28417327693128, bounds=[1:500]>), ('OBS_Tr_SI_to_nbTest', <Parameter 'OBS_Tr_SI_to_nbTest', value=0.5457206204085103, bounds=[0.05:1]>), ('OBS_nbTest_to_nbpos', <Parameter 'OBS_nbTest_to_nbpos', value=0.75, bounds=[0.5:0.9]>)])\n",
      "Parameters([('beta_SI', <Parameter 'beta_SI', value=0.16542876330080197, bounds=[0.001:10]>), ('gamma_IR', <Parameter 'gamma_IR', value=0.10111724709387106, bounds=[0.1:2]>), ('I0', <Parameter 'I0', value=34.28417133201006, bounds=[1:500]>), ('OBS_Tr_SI_to_nbTest', <Parameter 'OBS_Tr_SI_to_nbTest', value=0.5457206207170757, bounds=[0.05:1]>), ('OBS_nbTest_to_nbpos', <Parameter 'OBS_nbTest_to_nbpos', value=0.75, bounds=[0.5:0.9]>)])\n",
      "Parameters([('beta_SI', <Parameter 'beta_SI', value=0.16542876330080197, bounds=[0.001:10]>), ('gamma_IR', <Parameter 'gamma_IR', value=0.10111724709387106, bounds=[0.1:2]>), ('I0', <Parameter 'I0', value=34.28417133201006, bounds=[1:500]>), ('OBS_Tr_SI_to_nbTest', <Parameter 'OBS_Tr_SI_to_nbTest', value=0.5457206204085103, bounds=[0.05:1]>), ('OBS_nbTest_to_nbpos', <Parameter 'OBS_nbTest_to_nbpos', value=0.7500000007291335, bounds=[0.5:0.9]>)])\n",
      "Parameters([('beta_SI', <Parameter 'beta_SI', value=0.16564628098651218, bounds=[0.001:10]>), ('gamma_IR', <Parameter 'gamma_IR', value=0.10089260981239051, bounds=[0.1:2]>), ('I0', <Parameter 'I0', value=34.8011076876928, bounds=[1:500]>), ('OBS_Tr_SI_to_nbTest', <Parameter 'OBS_Tr_SI_to_nbTest', value=0.5536389014756083, bounds=[0.05:1]>), ('OBS_nbTest_to_nbpos', <Parameter 'OBS_nbTest_to_nbpos', value=0.75, bounds=[0.5:0.9]>)])\n",
      "Parameters([('beta_SI', <Parameter 'beta_SI', value=0.16564630589118337, bounds=[0.001:10]>), ('gamma_IR', <Parameter 'gamma_IR', value=0.10089260981239051, bounds=[0.1:2]>), ('I0', <Parameter 'I0', value=34.8011076876928, bounds=[1:500]>), ('OBS_Tr_SI_to_nbTest', <Parameter 'OBS_Tr_SI_to_nbTest', value=0.5536389014756083, bounds=[0.05:1]>), ('OBS_nbTest_to_nbpos', <Parameter 'OBS_nbTest_to_nbpos', value=0.75, bounds=[0.5:0.9]>)])\n",
      "Parameters([('beta_SI', <Parameter 'beta_SI', value=0.16564628098651218, bounds=[0.001:10]>), ('gamma_IR', <Parameter 'gamma_IR', value=0.10090114250599193, bounds=[0.1:2]>), ('I0', <Parameter 'I0', value=34.8011076876928, bounds=[1:500]>), ('OBS_Tr_SI_to_nbTest', <Parameter 'OBS_Tr_SI_to_nbTest', value=0.5536389014756083, bounds=[0.05:1]>), ('OBS_nbTest_to_nbpos', <Parameter 'OBS_nbTest_to_nbpos', value=0.75, bounds=[0.5:0.9]>)])\n",
      "Parameters([('beta_SI', <Parameter 'beta_SI', value=0.16564628098651218, bounds=[0.001:10]>), ('gamma_IR', <Parameter 'gamma_IR', value=0.10089260981239051, bounds=[0.1:2]>), ('I0', <Parameter 'I0', value=34.8011096388406, bounds=[1:500]>), ('OBS_Tr_SI_to_nbTest', <Parameter 'OBS_Tr_SI_to_nbTest', value=0.5536389014756083, bounds=[0.05:1]>), ('OBS_nbTest_to_nbpos', <Parameter 'OBS_nbTest_to_nbpos', value=0.75, bounds=[0.5:0.9]>)])\n",
      "Parameters([('beta_SI', <Parameter 'beta_SI', value=0.16564628098651218, bounds=[0.001:10]>), ('gamma_IR', <Parameter 'gamma_IR', value=0.10089260981239051, bounds=[0.1:2]>), ('I0', <Parameter 'I0', value=34.8011076876928, bounds=[1:500]>), ('OBS_Tr_SI_to_nbTest', <Parameter 'OBS_Tr_SI_to_nbTest', value=0.5536389019018433, bounds=[0.05:1]>), ('OBS_nbTest_to_nbpos', <Parameter 'OBS_nbTest_to_nbpos', value=0.75, bounds=[0.5:0.9]>)])\n",
      "Parameters([('beta_SI', <Parameter 'beta_SI', value=0.16564628098651218, bounds=[0.001:10]>), ('gamma_IR', <Parameter 'gamma_IR', value=0.10089260981239051, bounds=[0.1:2]>), ('I0', <Parameter 'I0', value=34.8011076876928, bounds=[1:500]>), ('OBS_Tr_SI_to_nbTest', <Parameter 'OBS_Tr_SI_to_nbTest', value=0.5536389014756083, bounds=[0.05:1]>), ('OBS_nbTest_to_nbpos', <Parameter 'OBS_nbTest_to_nbpos', value=0.7500000007291335, bounds=[0.5:0.9]>)])\n",
      "Parameters([('beta_SI', <Parameter 'beta_SI', value=0.1660554439666648, bounds=[0.001:10]>), ('gamma_IR', <Parameter 'gamma_IR', value=0.10053724008772233, bounds=[0.1:2]>), ('I0', <Parameter 'I0', value=35.79197692846035, bounds=[1:500]>), ('OBS_Tr_SI_to_nbTest', <Parameter 'OBS_Tr_SI_to_nbTest', value=0.5689888103554371, bounds=[0.05:1]>), ('OBS_nbTest_to_nbpos', <Parameter 'OBS_nbTest_to_nbpos', value=0.75, bounds=[0.5:0.9]>)])\n",
      "Parameters([('beta_SI', <Parameter 'beta_SI', value=0.166055468895643, bounds=[0.001:10]>), ('gamma_IR', <Parameter 'gamma_IR', value=0.10053724008772233, bounds=[0.1:2]>), ('I0', <Parameter 'I0', value=35.79197692846035, bounds=[1:500]>), ('OBS_Tr_SI_to_nbTest', <Parameter 'OBS_Tr_SI_to_nbTest', value=0.5689888103554371, bounds=[0.05:1]>), ('OBS_nbTest_to_nbpos', <Parameter 'OBS_nbTest_to_nbpos', value=0.75, bounds=[0.5:0.9]>)])\n",
      "Parameters([('beta_SI', <Parameter 'beta_SI', value=0.1660554439666648, bounds=[0.001:10]>), ('gamma_IR', <Parameter 'gamma_IR', value=0.10054386498420026, bounds=[0.1:2]>), ('I0', <Parameter 'I0', value=35.79197692846035, bounds=[1:500]>), ('OBS_Tr_SI_to_nbTest', <Parameter 'OBS_Tr_SI_to_nbTest', value=0.5689888103554371, bounds=[0.05:1]>), ('OBS_nbTest_to_nbpos', <Parameter 'OBS_nbTest_to_nbpos', value=0.75, bounds=[0.5:0.9]>)])\n",
      "Parameters([('beta_SI', <Parameter 'beta_SI', value=0.1660554439666648, bounds=[0.001:10]>), ('gamma_IR', <Parameter 'gamma_IR', value=0.10053724008772233, bounds=[0.1:2]>), ('I0', <Parameter 'I0', value=35.79197889102709, bounds=[1:500]>), ('OBS_Tr_SI_to_nbTest', <Parameter 'OBS_Tr_SI_to_nbTest', value=0.5689888103554371, bounds=[0.05:1]>), ('OBS_nbTest_to_nbpos', <Parameter 'OBS_nbTest_to_nbpos', value=0.75, bounds=[0.5:0.9]>)])\n",
      "Parameters([('beta_SI', <Parameter 'beta_SI', value=0.1660554439666648, bounds=[0.001:10]>), ('gamma_IR', <Parameter 'gamma_IR', value=0.10053724008772233, bounds=[0.1:2]>), ('I0', <Parameter 'I0', value=35.79197692846035, bounds=[1:500]>), ('OBS_Tr_SI_to_nbTest', <Parameter 'OBS_Tr_SI_to_nbTest', value=0.5689888110090411, bounds=[0.05:1]>), ('OBS_nbTest_to_nbpos', <Parameter 'OBS_nbTest_to_nbpos', value=0.75, bounds=[0.5:0.9]>)])\n",
      "Parameters([('beta_SI', <Parameter 'beta_SI', value=0.1660554439666648, bounds=[0.001:10]>), ('gamma_IR', <Parameter 'gamma_IR', value=0.10053724008772233, bounds=[0.1:2]>), ('I0', <Parameter 'I0', value=35.79197692846035, bounds=[1:500]>), ('OBS_Tr_SI_to_nbTest', <Parameter 'OBS_Tr_SI_to_nbTest', value=0.5689888103554371, bounds=[0.05:1]>), ('OBS_nbTest_to_nbpos', <Parameter 'OBS_nbTest_to_nbpos', value=0.7500000007291335, bounds=[0.5:0.9]>)])\n",
      "Parameters([('beta_SI', <Parameter 'beta_SI', value=0.16679442742404124, bounds=[0.001:10]>), ('gamma_IR', <Parameter 'gamma_IR', value=0.10013469689157231, bounds=[0.1:2]>), ('I0', <Parameter 'I0', value=37.64427627309939, bounds=[1:500]>), ('OBS_Tr_SI_to_nbTest', <Parameter 'OBS_Tr_SI_to_nbTest', value=0.5974083775641903, bounds=[0.05:1]>), ('OBS_nbTest_to_nbpos', <Parameter 'OBS_nbTest_to_nbpos', value=0.75, bounds=[0.5:0.9]>)])\n",
      "Parameters([('beta_SI', <Parameter 'beta_SI', value=0.16679445239680057, bounds=[0.001:10]>), ('gamma_IR', <Parameter 'gamma_IR', value=0.10013469689157231, bounds=[0.1:2]>), ('I0', <Parameter 'I0', value=37.64427627309939, bounds=[1:500]>), ('OBS_Tr_SI_to_nbTest', <Parameter 'OBS_Tr_SI_to_nbTest', value=0.5974083775641903, bounds=[0.05:1]>), ('OBS_nbTest_to_nbpos', <Parameter 'OBS_nbTest_to_nbpos', value=0.75, bounds=[0.5:0.9]>)])\n",
      "Parameters([('beta_SI', <Parameter 'beta_SI', value=0.16679442742404124, bounds=[0.001:10]>), ('gamma_IR', <Parameter 'gamma_IR', value=0.10013802460188423, bounds=[0.1:2]>), ('I0', <Parameter 'I0', value=37.64427627309939, bounds=[1:500]>), ('OBS_Tr_SI_to_nbTest', <Parameter 'OBS_Tr_SI_to_nbTest', value=0.5974083775641903, bounds=[0.05:1]>), ('OBS_nbTest_to_nbpos', <Parameter 'OBS_nbTest_to_nbpos', value=0.75, bounds=[0.5:0.9]>)])\n",
      "Parameters([('beta_SI', <Parameter 'beta_SI', value=0.16679442742404124, bounds=[0.001:10]>), ('gamma_IR', <Parameter 'gamma_IR', value=0.10013469689157231, bounds=[0.1:2]>), ('I0', <Parameter 'I0', value=37.64427825527781, bounds=[1:500]>), ('OBS_Tr_SI_to_nbTest', <Parameter 'OBS_Tr_SI_to_nbTest', value=0.5974083775641903, bounds=[0.05:1]>), ('OBS_nbTest_to_nbpos', <Parameter 'OBS_nbTest_to_nbpos', value=0.75, bounds=[0.5:0.9]>)])\n"
     ]
    },
    {
     "name": "stdout",
     "output_type": "stream",
     "text": [
      "Parameters([('beta_SI', <Parameter 'beta_SI', value=0.16679442742404124, bounds=[0.001:10]>), ('gamma_IR', <Parameter 'gamma_IR', value=0.10013469689157231, bounds=[0.1:2]>), ('I0', <Parameter 'I0', value=37.64427627309939, bounds=[1:500]>), ('OBS_Tr_SI_to_nbTest', <Parameter 'OBS_Tr_SI_to_nbTest', value=0.597408378634723, bounds=[0.05:1]>), ('OBS_nbTest_to_nbpos', <Parameter 'OBS_nbTest_to_nbpos', value=0.75, bounds=[0.5:0.9]>)])\n",
      "Parameters([('beta_SI', <Parameter 'beta_SI', value=0.16679442742404124, bounds=[0.001:10]>), ('gamma_IR', <Parameter 'gamma_IR', value=0.10013469689157231, bounds=[0.1:2]>), ('I0', <Parameter 'I0', value=37.64427627309939, bounds=[1:500]>), ('OBS_Tr_SI_to_nbTest', <Parameter 'OBS_Tr_SI_to_nbTest', value=0.5974083775641903, bounds=[0.05:1]>), ('OBS_nbTest_to_nbpos', <Parameter 'OBS_nbTest_to_nbpos', value=0.7500000007291335, bounds=[0.5:0.9]>)])\n",
      "Parameters([('beta_SI', <Parameter 'beta_SI', value=0.16805100374061244, bounds=[0.001:10]>), ('gamma_IR', <Parameter 'gamma_IR', value=0.10000549717629281, bounds=[0.1:2]>), ('I0', <Parameter 'I0', value=40.98883538942724, bounds=[1:500]>), ('OBS_Tr_SI_to_nbTest', <Parameter 'OBS_Tr_SI_to_nbTest', value=0.6477447883298465, bounds=[0.05:1]>), ('OBS_nbTest_to_nbpos', <Parameter 'OBS_nbTest_to_nbpos', value=0.75, bounds=[0.5:0.9]>)])\n",
      "Parameters([('beta_SI', <Parameter 'beta_SI', value=0.16805102878746786, bounds=[0.001:10]>), ('gamma_IR', <Parameter 'gamma_IR', value=0.10000549717629281, bounds=[0.1:2]>), ('I0', <Parameter 'I0', value=40.98883538942724, bounds=[1:500]>), ('OBS_Tr_SI_to_nbTest', <Parameter 'OBS_Tr_SI_to_nbTest', value=0.6477447883298465, bounds=[0.05:1]>), ('OBS_nbTest_to_nbpos', <Parameter 'OBS_nbTest_to_nbpos', value=0.75, bounds=[0.5:0.9]>)])\n",
      "Parameters([('beta_SI', <Parameter 'beta_SI', value=0.16805100374061244, bounds=[0.001:10]>), ('gamma_IR', <Parameter 'gamma_IR', value=0.1000048492992604, bounds=[0.1:2]>), ('I0', <Parameter 'I0', value=40.98883538942724, bounds=[1:500]>), ('OBS_Tr_SI_to_nbTest', <Parameter 'OBS_Tr_SI_to_nbTest', value=0.6477447883298465, bounds=[0.05:1]>), ('OBS_nbTest_to_nbpos', <Parameter 'OBS_nbTest_to_nbpos', value=0.75, bounds=[0.5:0.9]>)])\n",
      "Parameters([('beta_SI', <Parameter 'beta_SI', value=0.16805100374061244, bounds=[0.001:10]>), ('gamma_IR', <Parameter 'gamma_IR', value=0.10000549717629281, bounds=[0.1:2]>), ('I0', <Parameter 'I0', value=40.98883740175277, bounds=[1:500]>), ('OBS_Tr_SI_to_nbTest', <Parameter 'OBS_Tr_SI_to_nbTest', value=0.6477447883298465, bounds=[0.05:1]>), ('OBS_nbTest_to_nbpos', <Parameter 'OBS_nbTest_to_nbpos', value=0.75, bounds=[0.5:0.9]>)])\n",
      "Parameters([('beta_SI', <Parameter 'beta_SI', value=0.16805100374061244, bounds=[0.001:10]>), ('gamma_IR', <Parameter 'gamma_IR', value=0.10000549717629281, bounds=[0.1:2]>), ('I0', <Parameter 'I0', value=40.98883538942724, bounds=[1:500]>), ('OBS_Tr_SI_to_nbTest', <Parameter 'OBS_Tr_SI_to_nbTest', value=0.6477447901170437, bounds=[0.05:1]>), ('OBS_nbTest_to_nbpos', <Parameter 'OBS_nbTest_to_nbpos', value=0.75, bounds=[0.5:0.9]>)])\n",
      "Parameters([('beta_SI', <Parameter 'beta_SI', value=0.16805100374061244, bounds=[0.001:10]>), ('gamma_IR', <Parameter 'gamma_IR', value=0.10000549717629281, bounds=[0.1:2]>), ('I0', <Parameter 'I0', value=40.98883538942724, bounds=[1:500]>), ('OBS_Tr_SI_to_nbTest', <Parameter 'OBS_Tr_SI_to_nbTest', value=0.6477447883298465, bounds=[0.05:1]>), ('OBS_nbTest_to_nbpos', <Parameter 'OBS_nbTest_to_nbpos', value=0.7500000007291335, bounds=[0.5:0.9]>)])\n",
      "Parameters([('beta_SI', <Parameter 'beta_SI', value=0.16987879553622084, bounds=[0.001:10]>), ('gamma_IR', <Parameter 'gamma_IR', value=0.10001791671455507, bounds=[0.1:2]>), ('I0', <Parameter 'I0', value=46.339897036285926, bounds=[1:500]>), ('OBS_Tr_SI_to_nbTest', <Parameter 'OBS_Tr_SI_to_nbTest', value=0.7254862521103884, bounds=[0.05:1]>), ('OBS_nbTest_to_nbpos', <Parameter 'OBS_nbTest_to_nbpos', value=0.75, bounds=[0.5:0.9]>)])\n",
      "Parameters([('beta_SI', <Parameter 'beta_SI', value=0.16987882069007829, bounds=[0.001:10]>), ('gamma_IR', <Parameter 'gamma_IR', value=0.10001791671455507, bounds=[0.1:2]>), ('I0', <Parameter 'I0', value=46.339897036285926, bounds=[1:500]>), ('OBS_Tr_SI_to_nbTest', <Parameter 'OBS_Tr_SI_to_nbTest', value=0.7254862521103884, bounds=[0.05:1]>), ('OBS_nbTest_to_nbpos', <Parameter 'OBS_nbTest_to_nbpos', value=0.75, bounds=[0.5:0.9]>)])\n",
      "Parameters([('beta_SI', <Parameter 'beta_SI', value=0.16987879553622084, bounds=[0.001:10]>), ('gamma_IR', <Parameter 'gamma_IR', value=0.10001914330920438, bounds=[0.1:2]>), ('I0', <Parameter 'I0', value=46.339897036285926, bounds=[1:500]>), ('OBS_Tr_SI_to_nbTest', <Parameter 'OBS_Tr_SI_to_nbTest', value=0.7254862521103884, bounds=[0.05:1]>), ('OBS_nbTest_to_nbpos', <Parameter 'OBS_nbTest_to_nbpos', value=0.75, bounds=[0.5:0.9]>)])\n",
      "Parameters([('beta_SI', <Parameter 'beta_SI', value=0.16987879553622084, bounds=[0.001:10]>), ('gamma_IR', <Parameter 'gamma_IR', value=0.10001791671455507, bounds=[0.1:2]>), ('I0', <Parameter 'I0', value=46.33989908450165, bounds=[1:500]>), ('OBS_Tr_SI_to_nbTest', <Parameter 'OBS_Tr_SI_to_nbTest', value=0.7254862521103884, bounds=[0.05:1]>), ('OBS_nbTest_to_nbpos', <Parameter 'OBS_nbTest_to_nbpos', value=0.75, bounds=[0.5:0.9]>)])\n",
      "Parameters([('beta_SI', <Parameter 'beta_SI', value=0.16987879553622084, bounds=[0.001:10]>), ('gamma_IR', <Parameter 'gamma_IR', value=0.10001791671455507, bounds=[0.1:2]>), ('I0', <Parameter 'I0', value=46.339897036285926, bounds=[1:500]>), ('OBS_Tr_SI_to_nbTest', <Parameter 'OBS_Tr_SI_to_nbTest', value=0.7254862549063572, bounds=[0.05:1]>), ('OBS_nbTest_to_nbpos', <Parameter 'OBS_nbTest_to_nbpos', value=0.75, bounds=[0.5:0.9]>)])\n",
      "Parameters([('beta_SI', <Parameter 'beta_SI', value=0.16987879553622084, bounds=[0.001:10]>), ('gamma_IR', <Parameter 'gamma_IR', value=0.10001791671455507, bounds=[0.1:2]>), ('I0', <Parameter 'I0', value=46.339897036285926, bounds=[1:500]>), ('OBS_Tr_SI_to_nbTest', <Parameter 'OBS_Tr_SI_to_nbTest', value=0.7254862521103884, bounds=[0.05:1]>), ('OBS_nbTest_to_nbpos', <Parameter 'OBS_nbTest_to_nbpos', value=0.7500000007291335, bounds=[0.5:0.9]>)])\n",
      "Parameters([('beta_SI', <Parameter 'beta_SI', value=0.17241668635585794, bounds=[0.001:10]>), ('gamma_IR', <Parameter 'gamma_IR', value=0.10093852415918728, bounds=[0.1:2]>), ('I0', <Parameter 'I0', value=54.838627792488566, bounds=[1:500]>), ('OBS_Tr_SI_to_nbTest', <Parameter 'OBS_Tr_SI_to_nbTest', value=0.8393409941891631, bounds=[0.05:1]>), ('OBS_nbTest_to_nbpos', <Parameter 'OBS_nbTest_to_nbpos', value=0.75, bounds=[0.5:0.9]>)])\n",
      "Parameters([('beta_SI', <Parameter 'beta_SI', value=0.17241671165678804, bounds=[0.001:10]>), ('gamma_IR', <Parameter 'gamma_IR', value=0.10093852415918728, bounds=[0.1:2]>), ('I0', <Parameter 'I0', value=54.838627792488566, bounds=[1:500]>), ('OBS_Tr_SI_to_nbTest', <Parameter 'OBS_Tr_SI_to_nbTest', value=0.8393409941891631, bounds=[0.05:1]>), ('OBS_nbTest_to_nbpos', <Parameter 'OBS_nbTest_to_nbpos', value=0.75, bounds=[0.5:0.9]>)])\n",
      "Parameters([('beta_SI', <Parameter 'beta_SI', value=0.17241668635585794, bounds=[0.001:10]>), ('gamma_IR', <Parameter 'gamma_IR', value=0.1009298158987717, bounds=[0.1:2]>), ('I0', <Parameter 'I0', value=54.838627792488566, bounds=[1:500]>), ('OBS_Tr_SI_to_nbTest', <Parameter 'OBS_Tr_SI_to_nbTest', value=0.8393409941891631, bounds=[0.05:1]>), ('OBS_nbTest_to_nbpos', <Parameter 'OBS_nbTest_to_nbpos', value=0.75, bounds=[0.5:0.9]>)])\n",
      "Parameters([('beta_SI', <Parameter 'beta_SI', value=0.17241668635585794, bounds=[0.001:10]>), ('gamma_IR', <Parameter 'gamma_IR', value=0.10093852415918728, bounds=[0.1:2]>), ('I0', <Parameter 'I0', value=54.83862987197936, bounds=[1:500]>), ('OBS_Tr_SI_to_nbTest', <Parameter 'OBS_Tr_SI_to_nbTest', value=0.8393409941891631, bounds=[0.05:1]>), ('OBS_nbTest_to_nbpos', <Parameter 'OBS_nbTest_to_nbpos', value=0.75, bounds=[0.5:0.9]>)])\n",
      "Parameters([('beta_SI', <Parameter 'beta_SI', value=0.17241668635585794, bounds=[0.001:10]>), ('gamma_IR', <Parameter 'gamma_IR', value=0.10093852415918728, bounds=[0.1:2]>), ('I0', <Parameter 'I0', value=54.838627792488566, bounds=[1:500]>), ('OBS_Tr_SI_to_nbTest', <Parameter 'OBS_Tr_SI_to_nbTest', value=0.8393409980266785, bounds=[0.05:1]>), ('OBS_nbTest_to_nbpos', <Parameter 'OBS_nbTest_to_nbpos', value=0.75, bounds=[0.5:0.9]>)])\n",
      "Parameters([('beta_SI', <Parameter 'beta_SI', value=0.17241668635585794, bounds=[0.001:10]>), ('gamma_IR', <Parameter 'gamma_IR', value=0.10093852415918728, bounds=[0.1:2]>), ('I0', <Parameter 'I0', value=54.838627792488566, bounds=[1:500]>), ('OBS_Tr_SI_to_nbTest', <Parameter 'OBS_Tr_SI_to_nbTest', value=0.8393409941891631, bounds=[0.05:1]>), ('OBS_nbTest_to_nbpos', <Parameter 'OBS_nbTest_to_nbpos', value=0.7500000007291335, bounds=[0.5:0.9]>)])\n",
      "Parameters([('beta_SI', <Parameter 'beta_SI', value=0.17538173528715428, bounds=[0.001:10]>), ('gamma_IR', <Parameter 'gamma_IR', value=0.10047655824686805, bounds=[0.1:2]>), ('I0', <Parameter 'I0', value=66.64685577600399, bounds=[1:500]>), ('OBS_Tr_SI_to_nbTest', <Parameter 'OBS_Tr_SI_to_nbTest', value=0.9656099479505398, bounds=[0.05:1]>), ('OBS_nbTest_to_nbpos', <Parameter 'OBS_nbTest_to_nbpos', value=0.75, bounds=[0.5:0.9]>)])\n",
      "Parameters([('beta_SI', <Parameter 'beta_SI', value=0.17538176075774667, bounds=[0.001:10]>), ('gamma_IR', <Parameter 'gamma_IR', value=0.10047655824686805, bounds=[0.1:2]>), ('I0', <Parameter 'I0', value=66.64685577600399, bounds=[1:500]>), ('OBS_Tr_SI_to_nbTest', <Parameter 'OBS_Tr_SI_to_nbTest', value=0.9656099479505398, bounds=[0.05:1]>), ('OBS_nbTest_to_nbpos', <Parameter 'OBS_nbTest_to_nbpos', value=0.75, bounds=[0.5:0.9]>)])\n",
      "Parameters([('beta_SI', <Parameter 'beta_SI', value=0.17538173528715428, bounds=[0.001:10]>), ('gamma_IR', <Parameter 'gamma_IR', value=0.10048279907326854, bounds=[0.1:2]>), ('I0', <Parameter 'I0', value=66.64685577600399, bounds=[1:500]>), ('OBS_Tr_SI_to_nbTest', <Parameter 'OBS_Tr_SI_to_nbTest', value=0.9656099479505398, bounds=[0.05:1]>), ('OBS_nbTest_to_nbpos', <Parameter 'OBS_nbTest_to_nbpos', value=0.75, bounds=[0.5:0.9]>)])\n",
      "Parameters([('beta_SI', <Parameter 'beta_SI', value=0.17538173528715428, bounds=[0.001:10]>), ('gamma_IR', <Parameter 'gamma_IR', value=0.10047655824686805, bounds=[0.1:2]>), ('I0', <Parameter 'I0', value=66.64685785817235, bounds=[1:500]>), ('OBS_Tr_SI_to_nbTest', <Parameter 'OBS_Tr_SI_to_nbTest', value=0.9656099479505398, bounds=[0.05:1]>), ('OBS_nbTest_to_nbpos', <Parameter 'OBS_nbTest_to_nbpos', value=0.75, bounds=[0.5:0.9]>)])\n",
      "Parameters([('beta_SI', <Parameter 'beta_SI', value=0.17538173528715428, bounds=[0.001:10]>), ('gamma_IR', <Parameter 'gamma_IR', value=0.10047655824686805, bounds=[0.1:2]>), ('I0', <Parameter 'I0', value=66.64685577600399, bounds=[1:500]>), ('OBS_Tr_SI_to_nbTest', <Parameter 'OBS_Tr_SI_to_nbTest', value=0.9656099510916619, bounds=[0.05:1]>), ('OBS_nbTest_to_nbpos', <Parameter 'OBS_nbTest_to_nbpos', value=0.75, bounds=[0.5:0.9]>)])\n",
      "Parameters([('beta_SI', <Parameter 'beta_SI', value=0.17538173528715428, bounds=[0.001:10]>), ('gamma_IR', <Parameter 'gamma_IR', value=0.10047655824686805, bounds=[0.1:2]>), ('I0', <Parameter 'I0', value=66.64685577600399, bounds=[1:500]>), ('OBS_Tr_SI_to_nbTest', <Parameter 'OBS_Tr_SI_to_nbTest', value=0.9656099479505398, bounds=[0.05:1]>), ('OBS_nbTest_to_nbpos', <Parameter 'OBS_nbTest_to_nbpos', value=0.7500000007291335, bounds=[0.5:0.9]>)])\n",
      "Parameters([('beta_SI', <Parameter 'beta_SI', value=0.17821727414772767, bounds=[0.001:10]>), ('gamma_IR', <Parameter 'gamma_IR', value=0.1007843595793885, bounds=[0.1:2]>), ('I0', <Parameter 'I0', value=85.21849118517716, bounds=[1:500]>), ('OBS_Tr_SI_to_nbTest', <Parameter 'OBS_Tr_SI_to_nbTest', value=0.41218503360184977, bounds=[0.05:1]>), ('OBS_nbTest_to_nbpos', <Parameter 'OBS_nbTest_to_nbpos', value=0.75, bounds=[0.5:0.9]>)])\n",
      "Parameters([('beta_SI', <Parameter 'beta_SI', value=0.17600760144191685, bounds=[0.001:10]>), ('gamma_IR', <Parameter 'gamma_IR', value=0.10004050755530393, bounds=[0.1:2]>), ('I0', <Parameter 'I0', value=69.58783160687457, bounds=[1:500]>), ('OBS_Tr_SI_to_nbTest', <Parameter 'OBS_Tr_SI_to_nbTest', value=0.9844048031360371, bounds=[0.05:1]>), ('OBS_nbTest_to_nbpos', <Parameter 'OBS_nbTest_to_nbpos', value=0.75, bounds=[0.5:0.9]>)])\n",
      "Parameters([('beta_SI', <Parameter 'beta_SI', value=0.1760076269480284, bounds=[0.001:10]>), ('gamma_IR', <Parameter 'gamma_IR', value=0.10004050755530393, bounds=[0.1:2]>), ('I0', <Parameter 'I0', value=69.58783160687457, bounds=[1:500]>), ('OBS_Tr_SI_to_nbTest', <Parameter 'OBS_Tr_SI_to_nbTest', value=0.9844048031360371, bounds=[0.05:1]>), ('OBS_nbTest_to_nbpos', <Parameter 'OBS_nbTest_to_nbpos', value=0.75, bounds=[0.5:0.9]>)])\n",
      "Parameters([('beta_SI', <Parameter 'beta_SI', value=0.17600760144191685, bounds=[0.001:10]>), ('gamma_IR', <Parameter 'gamma_IR', value=0.10004234165345206, bounds=[0.1:2]>), ('I0', <Parameter 'I0', value=69.58783160687457, bounds=[1:500]>), ('OBS_Tr_SI_to_nbTest', <Parameter 'OBS_Tr_SI_to_nbTest', value=0.9844048031360371, bounds=[0.05:1]>), ('OBS_nbTest_to_nbpos', <Parameter 'OBS_nbTest_to_nbpos', value=0.75, bounds=[0.5:0.9]>)])\n",
      "Parameters([('beta_SI', <Parameter 'beta_SI', value=0.17600760144191685, bounds=[0.001:10]>), ('gamma_IR', <Parameter 'gamma_IR', value=0.10004050755530393, bounds=[0.1:2]>), ('I0', <Parameter 'I0', value=69.5878336837099, bounds=[1:500]>), ('OBS_Tr_SI_to_nbTest', <Parameter 'OBS_Tr_SI_to_nbTest', value=0.9844048031360371, bounds=[0.05:1]>), ('OBS_nbTest_to_nbpos', <Parameter 'OBS_nbTest_to_nbpos', value=0.75, bounds=[0.5:0.9]>)])\n",
      "Parameters([('beta_SI', <Parameter 'beta_SI', value=0.17600760144191685, bounds=[0.001:10]>), ('gamma_IR', <Parameter 'gamma_IR', value=0.10004050755530393, bounds=[0.1:2]>), ('I0', <Parameter 'I0', value=69.58783160687457, bounds=[1:500]>), ('OBS_Tr_SI_to_nbTest', <Parameter 'OBS_Tr_SI_to_nbTest', value=0.9844048054993736, bounds=[0.05:1]>), ('OBS_nbTest_to_nbpos', <Parameter 'OBS_nbTest_to_nbpos', value=0.75, bounds=[0.5:0.9]>)])\n",
      "Parameters([('beta_SI', <Parameter 'beta_SI', value=0.17600760144191685, bounds=[0.001:10]>), ('gamma_IR', <Parameter 'gamma_IR', value=0.10004050755530393, bounds=[0.1:2]>), ('I0', <Parameter 'I0', value=69.58783160687457, bounds=[1:500]>), ('OBS_Tr_SI_to_nbTest', <Parameter 'OBS_Tr_SI_to_nbTest', value=0.9844048031360371, bounds=[0.05:1]>), ('OBS_nbTest_to_nbpos', <Parameter 'OBS_nbTest_to_nbpos', value=0.7500000007291335, bounds=[0.5:0.9]>)])\n",
      "Parameters([('beta_SI', <Parameter 'beta_SI', value=0.17800333754315142, bounds=[0.001:10]>), ('gamma_IR', <Parameter 'gamma_IR', value=0.10018735868890409, bounds=[0.1:2]>), ('I0', <Parameter 'I0', value=69.58852835569061, bounds=[1:500]>), ('OBS_Tr_SI_to_nbTest', <Parameter 'OBS_Tr_SI_to_nbTest', value=0.98630541390523, bounds=[0.05:1]>), ('OBS_nbTest_to_nbpos', <Parameter 'OBS_nbTest_to_nbpos', value=0.75, bounds=[0.5:0.9]>)])\n",
      "Parameters([('beta_SI', <Parameter 'beta_SI', value=0.17800336316185608, bounds=[0.001:10]>), ('gamma_IR', <Parameter 'gamma_IR', value=0.10018735868890409, bounds=[0.1:2]>), ('I0', <Parameter 'I0', value=69.58852835569061, bounds=[1:500]>), ('OBS_Tr_SI_to_nbTest', <Parameter 'OBS_Tr_SI_to_nbTest', value=0.98630541390523, bounds=[0.05:1]>), ('OBS_nbTest_to_nbpos', <Parameter 'OBS_nbTest_to_nbpos', value=0.75, bounds=[0.5:0.9]>)])\n",
      "Parameters([('beta_SI', <Parameter 'beta_SI', value=0.17800333754315142, bounds=[0.001:10]>), ('gamma_IR', <Parameter 'gamma_IR', value=0.10018347830199051, bounds=[0.1:2]>), ('I0', <Parameter 'I0', value=69.58852835569061, bounds=[1:500]>), ('OBS_Tr_SI_to_nbTest', <Parameter 'OBS_Tr_SI_to_nbTest', value=0.98630541390523, bounds=[0.05:1]>), ('OBS_nbTest_to_nbpos', <Parameter 'OBS_nbTest_to_nbpos', value=0.75, bounds=[0.5:0.9]>)])\n",
      "Parameters([('beta_SI', <Parameter 'beta_SI', value=0.17800333754315142, bounds=[0.001:10]>), ('gamma_IR', <Parameter 'gamma_IR', value=0.10018735868890409, bounds=[0.1:2]>), ('I0', <Parameter 'I0', value=69.58853043252442, bounds=[1:500]>), ('OBS_Tr_SI_to_nbTest', <Parameter 'OBS_Tr_SI_to_nbTest', value=0.98630541390523, bounds=[0.05:1]>), ('OBS_nbTest_to_nbpos', <Parameter 'OBS_nbTest_to_nbpos', value=0.75, bounds=[0.5:0.9]>)])\n",
      "Parameters([('beta_SI', <Parameter 'beta_SI', value=0.17800333754315142, bounds=[0.001:10]>), ('gamma_IR', <Parameter 'gamma_IR', value=0.10018735868890409, bounds=[0.1:2]>), ('I0', <Parameter 'I0', value=69.58852835569061, bounds=[1:500]>), ('OBS_Tr_SI_to_nbTest', <Parameter 'OBS_Tr_SI_to_nbTest', value=0.986305416149544, bounds=[0.05:1]>), ('OBS_nbTest_to_nbpos', <Parameter 'OBS_nbTest_to_nbpos', value=0.75, bounds=[0.5:0.9]>)])\n",
      "Parameters([('beta_SI', <Parameter 'beta_SI', value=0.17800333754315142, bounds=[0.001:10]>), ('gamma_IR', <Parameter 'gamma_IR', value=0.10018735868890409, bounds=[0.1:2]>), ('I0', <Parameter 'I0', value=69.58852835569061, bounds=[1:500]>), ('OBS_Tr_SI_to_nbTest', <Parameter 'OBS_Tr_SI_to_nbTest', value=0.98630541390523, bounds=[0.05:1]>), ('OBS_nbTest_to_nbpos', <Parameter 'OBS_nbTest_to_nbpos', value=0.7500000007291335, bounds=[0.5:0.9]>)])\n",
      "Parameters([('beta_SI', <Parameter 'beta_SI', value=0.17879541105251026, bounds=[0.001:10]>), ('gamma_IR', <Parameter 'gamma_IR', value=0.10002859177429729, bounds=[0.1:2]>), ('I0', <Parameter 'I0', value=76.1010404256603, bounds=[1:500]>), ('OBS_Tr_SI_to_nbTest', <Parameter 'OBS_Tr_SI_to_nbTest', value=0.5971867871842327, bounds=[0.05:1]>), ('OBS_nbTest_to_nbpos', <Parameter 'OBS_nbTest_to_nbpos', value=0.75, bounds=[0.5:0.9]>)])\n",
      "Parameters([('beta_SI', <Parameter 'beta_SI', value=0.17825452274451148, bounds=[0.001:10]>), ('gamma_IR', <Parameter 'gamma_IR', value=0.10005119370908079, bounds=[0.1:2]>), ('I0', <Parameter 'I0', value=69.23471993513422, bounds=[1:500]>), ('OBS_Tr_SI_to_nbTest', <Parameter 'OBS_Tr_SI_to_nbTest', value=0.9778516819292791, bounds=[0.05:1]>), ('OBS_nbTest_to_nbpos', <Parameter 'OBS_nbTest_to_nbpos', value=0.75, bounds=[0.5:0.9]>)])\n"
     ]
    },
    {
     "name": "stdout",
     "output_type": "stream",
     "text": [
      "Parameters([('beta_SI', <Parameter 'beta_SI', value=0.17825454837731566, bounds=[0.001:10]>), ('gamma_IR', <Parameter 'gamma_IR', value=0.10005119370908079, bounds=[0.1:2]>), ('I0', <Parameter 'I0', value=69.23471993513422, bounds=[1:500]>), ('OBS_Tr_SI_to_nbTest', <Parameter 'OBS_Tr_SI_to_nbTest', value=0.9778516819292791, bounds=[0.05:1]>), ('OBS_nbTest_to_nbpos', <Parameter 'OBS_nbTest_to_nbpos', value=0.75, bounds=[0.5:0.9]>)])\n",
      "Parameters([('beta_SI', <Parameter 'beta_SI', value=0.17825452274451148, bounds=[0.001:10]>), ('gamma_IR', <Parameter 'gamma_IR', value=0.10004917496280902, bounds=[0.1:2]>), ('I0', <Parameter 'I0', value=69.23471993513422, bounds=[1:500]>), ('OBS_Tr_SI_to_nbTest', <Parameter 'OBS_Tr_SI_to_nbTest', value=0.9778516819292791, bounds=[0.05:1]>), ('OBS_nbTest_to_nbpos', <Parameter 'OBS_nbTest_to_nbpos', value=0.75, bounds=[0.5:0.9]>)])\n",
      "Parameters([('beta_SI', <Parameter 'beta_SI', value=0.17825452274451148, bounds=[0.001:10]>), ('gamma_IR', <Parameter 'gamma_IR', value=0.10005119370908079, bounds=[0.1:2]>), ('I0', <Parameter 'I0', value=69.23472201272216, bounds=[1:500]>), ('OBS_Tr_SI_to_nbTest', <Parameter 'OBS_Tr_SI_to_nbTest', value=0.9778516819292791, bounds=[0.05:1]>), ('OBS_nbTest_to_nbpos', <Parameter 'OBS_nbTest_to_nbpos', value=0.75, bounds=[0.5:0.9]>)])\n",
      "Parameters([('beta_SI', <Parameter 'beta_SI', value=0.17825452274451148, bounds=[0.001:10]>), ('gamma_IR', <Parameter 'gamma_IR', value=0.10005119370908079, bounds=[0.1:2]>), ('I0', <Parameter 'I0', value=69.23471993513422, bounds=[1:500]>), ('OBS_Tr_SI_to_nbTest', <Parameter 'OBS_Tr_SI_to_nbTest', value=0.9778516846298271, bounds=[0.05:1]>), ('OBS_nbTest_to_nbpos', <Parameter 'OBS_nbTest_to_nbpos', value=0.75, bounds=[0.5:0.9]>)])\n",
      "Parameters([('beta_SI', <Parameter 'beta_SI', value=0.17825452274451148, bounds=[0.001:10]>), ('gamma_IR', <Parameter 'gamma_IR', value=0.10005119370908079, bounds=[0.1:2]>), ('I0', <Parameter 'I0', value=69.23471993513422, bounds=[1:500]>), ('OBS_Tr_SI_to_nbTest', <Parameter 'OBS_Tr_SI_to_nbTest', value=0.9778516819292791, bounds=[0.05:1]>), ('OBS_nbTest_to_nbpos', <Parameter 'OBS_nbTest_to_nbpos', value=0.7500000007291335, bounds=[0.5:0.9]>)])\n",
      "Parameters([('beta_SI', <Parameter 'beta_SI', value=0.178476651239312, bounds=[0.001:10]>), ('gamma_IR', <Parameter 'gamma_IR', value=0.10002839142573924, bounds=[0.1:2]>), ('I0', <Parameter 'I0', value=70.84630341673817, bounds=[1:500]>), ('OBS_Tr_SI_to_nbTest', <Parameter 'OBS_Tr_SI_to_nbTest', value=0.932941511051818, bounds=[0.05:1]>), ('OBS_nbTest_to_nbpos', <Parameter 'OBS_nbTest_to_nbpos', value=0.75, bounds=[0.5:0.9]>)])\n",
      "Parameters([('beta_SI', <Parameter 'beta_SI', value=0.17831567599389098, bounds=[0.001:10]>), ('gamma_IR', <Parameter 'gamma_IR', value=0.10004033634434403, bounds=[0.1:2]>), ('I0', <Parameter 'I0', value=69.29973182044354, bounds=[1:500]>), ('OBS_Tr_SI_to_nbTest', <Parameter 'OBS_Tr_SI_to_nbTest', value=0.975778557858321, bounds=[0.05:1]>), ('OBS_nbTest_to_nbpos', <Parameter 'OBS_nbTest_to_nbpos', value=0.75, bounds=[0.5:0.9]>)])\n",
      "Parameters([('beta_SI', <Parameter 'beta_SI', value=0.17831570163012483, bounds=[0.001:10]>), ('gamma_IR', <Parameter 'gamma_IR', value=0.10004033634434403, bounds=[0.1:2]>), ('I0', <Parameter 'I0', value=69.29973182044354, bounds=[1:500]>), ('OBS_Tr_SI_to_nbTest', <Parameter 'OBS_Tr_SI_to_nbTest', value=0.975778557858321, bounds=[0.05:1]>), ('OBS_nbTest_to_nbpos', <Parameter 'OBS_nbTest_to_nbpos', value=0.75, bounds=[0.5:0.9]>)])\n",
      "Parameters([('beta_SI', <Parameter 'beta_SI', value=0.17831567599389098, bounds=[0.001:10]>), ('gamma_IR', <Parameter 'gamma_IR', value=0.10003854668796108, bounds=[0.1:2]>), ('I0', <Parameter 'I0', value=69.29973182044354, bounds=[1:500]>), ('OBS_Tr_SI_to_nbTest', <Parameter 'OBS_Tr_SI_to_nbTest', value=0.975778557858321, bounds=[0.05:1]>), ('OBS_nbTest_to_nbpos', <Parameter 'OBS_nbTest_to_nbpos', value=0.75, bounds=[0.5:0.9]>)])\n",
      "Parameters([('beta_SI', <Parameter 'beta_SI', value=0.17831567599389098, bounds=[0.001:10]>), ('gamma_IR', <Parameter 'gamma_IR', value=0.10004033634434403, bounds=[0.1:2]>), ('I0', <Parameter 'I0', value=69.29973389789517, bounds=[1:500]>), ('OBS_Tr_SI_to_nbTest', <Parameter 'OBS_Tr_SI_to_nbTest', value=0.975778557858321, bounds=[0.05:1]>), ('OBS_nbTest_to_nbpos', <Parameter 'OBS_nbTest_to_nbpos', value=0.75, bounds=[0.5:0.9]>)])\n",
      "Parameters([('beta_SI', <Parameter 'beta_SI', value=0.17831567599389098, bounds=[0.001:10]>), ('gamma_IR', <Parameter 'gamma_IR', value=0.10004033634434403, bounds=[0.1:2]>), ('I0', <Parameter 'I0', value=69.29973182044354, bounds=[1:500]>), ('OBS_Tr_SI_to_nbTest', <Parameter 'OBS_Tr_SI_to_nbTest', value=0.9757785606477087, bounds=[0.05:1]>), ('OBS_nbTest_to_nbpos', <Parameter 'OBS_nbTest_to_nbpos', value=0.75, bounds=[0.5:0.9]>)])\n",
      "Parameters([('beta_SI', <Parameter 'beta_SI', value=0.17831567599389098, bounds=[0.001:10]>), ('gamma_IR', <Parameter 'gamma_IR', value=0.10004033634434403, bounds=[0.1:2]>), ('I0', <Parameter 'I0', value=69.29973182044354, bounds=[1:500]>), ('OBS_Tr_SI_to_nbTest', <Parameter 'OBS_Tr_SI_to_nbTest', value=0.975778557858321, bounds=[0.05:1]>), ('OBS_nbTest_to_nbpos', <Parameter 'OBS_nbTest_to_nbpos', value=0.7500000007291335, bounds=[0.5:0.9]>)])\n",
      "Parameters([('beta_SI', <Parameter 'beta_SI', value=0.17837430346793146, bounds=[0.001:10]>), ('gamma_IR', <Parameter 'gamma_IR', value=0.10003384982301292, bounds=[0.1:2]>), ('I0', <Parameter 'I0', value=69.54115073963408, bounds=[1:500]>), ('OBS_Tr_SI_to_nbTest', <Parameter 'OBS_Tr_SI_to_nbTest', value=0.9681000911660052, bounds=[0.05:1]>), ('OBS_nbTest_to_nbpos', <Parameter 'OBS_nbTest_to_nbpos', value=0.75, bounds=[0.5:0.9]>)])\n",
      "Parameters([('beta_SI', <Parameter 'beta_SI', value=0.1783743291074529, bounds=[0.001:10]>), ('gamma_IR', <Parameter 'gamma_IR', value=0.10003384982301292, bounds=[0.1:2]>), ('I0', <Parameter 'I0', value=69.54115073963408, bounds=[1:500]>), ('OBS_Tr_SI_to_nbTest', <Parameter 'OBS_Tr_SI_to_nbTest', value=0.9681000911660052, bounds=[0.05:1]>), ('OBS_nbTest_to_nbpos', <Parameter 'OBS_nbTest_to_nbpos', value=0.75, bounds=[0.5:0.9]>)])\n",
      "Parameters([('beta_SI', <Parameter 'beta_SI', value=0.17837430346793146, bounds=[0.001:10]>), ('gamma_IR', <Parameter 'gamma_IR', value=0.10003221206910395, bounds=[0.1:2]>), ('I0', <Parameter 'I0', value=69.54115073963408, bounds=[1:500]>), ('OBS_Tr_SI_to_nbTest', <Parameter 'OBS_Tr_SI_to_nbTest', value=0.9681000911660052, bounds=[0.05:1]>), ('OBS_nbTest_to_nbpos', <Parameter 'OBS_nbTest_to_nbpos', value=0.75, bounds=[0.5:0.9]>)])\n",
      "Parameters([('beta_SI', <Parameter 'beta_SI', value=0.17837430346793146, bounds=[0.001:10]>), ('gamma_IR', <Parameter 'gamma_IR', value=0.10003384982301292, bounds=[0.1:2]>), ('I0', <Parameter 'I0', value=69.54115281657062, bounds=[1:500]>), ('OBS_Tr_SI_to_nbTest', <Parameter 'OBS_Tr_SI_to_nbTest', value=0.9681000911660052, bounds=[0.05:1]>), ('OBS_nbTest_to_nbpos', <Parameter 'OBS_nbTest_to_nbpos', value=0.75, bounds=[0.5:0.9]>)])\n",
      "Parameters([('beta_SI', <Parameter 'beta_SI', value=0.17837430346793146, bounds=[0.001:10]>), ('gamma_IR', <Parameter 'gamma_IR', value=0.10003384982301292, bounds=[0.1:2]>), ('I0', <Parameter 'I0', value=69.54115073963408, bounds=[1:500]>), ('OBS_Tr_SI_to_nbTest', <Parameter 'OBS_Tr_SI_to_nbTest', value=0.9681000942318126, bounds=[0.05:1]>), ('OBS_nbTest_to_nbpos', <Parameter 'OBS_nbTest_to_nbpos', value=0.75, bounds=[0.5:0.9]>)])\n",
      "Parameters([('beta_SI', <Parameter 'beta_SI', value=0.17837430346793146, bounds=[0.001:10]>), ('gamma_IR', <Parameter 'gamma_IR', value=0.10003384982301292, bounds=[0.1:2]>), ('I0', <Parameter 'I0', value=69.54115073963408, bounds=[1:500]>), ('OBS_Tr_SI_to_nbTest', <Parameter 'OBS_Tr_SI_to_nbTest', value=0.9681000911660052, bounds=[0.05:1]>), ('OBS_nbTest_to_nbpos', <Parameter 'OBS_nbTest_to_nbpos', value=0.7500000007291335, bounds=[0.5:0.9]>)])\n",
      "Parameters([('beta_SI', <Parameter 'beta_SI', value=0.17842130486085633, bounds=[0.001:10]>), ('gamma_IR', <Parameter 'gamma_IR', value=0.10003031626793507, bounds=[0.1:2]>), ('I0', <Parameter 'I0', value=69.95321458064058, bounds=[1:500]>), ('OBS_Tr_SI_to_nbTest', <Parameter 'OBS_Tr_SI_to_nbTest', value=0.9597444914399392, bounds=[0.05:1]>), ('OBS_nbTest_to_nbpos', <Parameter 'OBS_nbTest_to_nbpos', value=0.75, bounds=[0.5:0.9]>)])\n",
      "Parameters([('beta_SI', <Parameter 'beta_SI', value=0.17842133050301268, bounds=[0.001:10]>), ('gamma_IR', <Parameter 'gamma_IR', value=0.10003031626793507, bounds=[0.1:2]>), ('I0', <Parameter 'I0', value=69.95321458064058, bounds=[1:500]>), ('OBS_Tr_SI_to_nbTest', <Parameter 'OBS_Tr_SI_to_nbTest', value=0.9597444914399392, bounds=[0.05:1]>), ('OBS_nbTest_to_nbpos', <Parameter 'OBS_nbTest_to_nbpos', value=0.75, bounds=[0.5:0.9]>)])\n",
      "Parameters([('beta_SI', <Parameter 'beta_SI', value=0.17842130486085633, bounds=[0.001:10]>), ('gamma_IR', <Parameter 'gamma_IR', value=0.10002876743901339, bounds=[0.1:2]>), ('I0', <Parameter 'I0', value=69.95321458064058, bounds=[1:500]>), ('OBS_Tr_SI_to_nbTest', <Parameter 'OBS_Tr_SI_to_nbTest', value=0.9597444914399392, bounds=[0.05:1]>), ('OBS_nbTest_to_nbpos', <Parameter 'OBS_nbTest_to_nbpos', value=0.75, bounds=[0.5:0.9]>)])\n",
      "Parameters([('beta_SI', <Parameter 'beta_SI', value=0.17842130486085633, bounds=[0.001:10]>), ('gamma_IR', <Parameter 'gamma_IR', value=0.10003031626793507, bounds=[0.1:2]>), ('I0', <Parameter 'I0', value=69.95321665666567, bounds=[1:500]>), ('OBS_Tr_SI_to_nbTest', <Parameter 'OBS_Tr_SI_to_nbTest', value=0.9597444914399392, bounds=[0.05:1]>), ('OBS_nbTest_to_nbpos', <Parameter 'OBS_nbTest_to_nbpos', value=0.75, bounds=[0.5:0.9]>)])\n",
      "Parameters([('beta_SI', <Parameter 'beta_SI', value=0.17842130486085633, bounds=[0.001:10]>), ('gamma_IR', <Parameter 'gamma_IR', value=0.10003031626793507, bounds=[0.1:2]>), ('I0', <Parameter 'I0', value=69.95321458064058, bounds=[1:500]>), ('OBS_Tr_SI_to_nbTest', <Parameter 'OBS_Tr_SI_to_nbTest', value=0.9597444947367942, bounds=[0.05:1]>), ('OBS_nbTest_to_nbpos', <Parameter 'OBS_nbTest_to_nbpos', value=0.75, bounds=[0.5:0.9]>)])\n",
      "Parameters([('beta_SI', <Parameter 'beta_SI', value=0.17842130486085633, bounds=[0.001:10]>), ('gamma_IR', <Parameter 'gamma_IR', value=0.10003031626793507, bounds=[0.1:2]>), ('I0', <Parameter 'I0', value=69.95321458064058, bounds=[1:500]>), ('OBS_Tr_SI_to_nbTest', <Parameter 'OBS_Tr_SI_to_nbTest', value=0.9597444914399392, bounds=[0.05:1]>), ('OBS_nbTest_to_nbpos', <Parameter 'OBS_nbTest_to_nbpos', value=0.7500000007291335, bounds=[0.5:0.9]>)])\n",
      "Parameters([('beta_SI', <Parameter 'beta_SI', value=0.17849749175170315, bounds=[0.001:10]>), ('gamma_IR', <Parameter 'gamma_IR', value=0.10002625164497853, bounds=[0.1:2]>), ('I0', <Parameter 'I0', value=70.88883577415838, bounds=[1:500]>), ('OBS_Tr_SI_to_nbTest', <Parameter 'OBS_Tr_SI_to_nbTest', value=0.9419410133963139, bounds=[0.05:1]>), ('OBS_nbTest_to_nbpos', <Parameter 'OBS_nbTest_to_nbpos', value=0.75, bounds=[0.5:0.9]>)])\n",
      "Parameters([('beta_SI', <Parameter 'beta_SI', value=0.1784460671290951, bounds=[0.001:10]>), ('gamma_IR', <Parameter 'gamma_IR', value=0.10002874487603047, bounds=[0.1:2]>), ('I0', <Parameter 'I0', value=70.2184646513545, bounds=[1:500]>), ('OBS_Tr_SI_to_nbTest', <Parameter 'OBS_Tr_SI_to_nbTest', value=0.9551559212502388, bounds=[0.05:1]>), ('OBS_nbTest_to_nbpos', <Parameter 'OBS_nbTest_to_nbpos', value=0.75, bounds=[0.5:0.9]>)])\n",
      "Parameters([('beta_SI', <Parameter 'beta_SI', value=0.1784460927726402, bounds=[0.001:10]>), ('gamma_IR', <Parameter 'gamma_IR', value=0.10002874487603047, bounds=[0.1:2]>), ('I0', <Parameter 'I0', value=70.2184646513545, bounds=[1:500]>), ('OBS_Tr_SI_to_nbTest', <Parameter 'OBS_Tr_SI_to_nbTest', value=0.9551559212502388, bounds=[0.05:1]>), ('OBS_nbTest_to_nbpos', <Parameter 'OBS_nbTest_to_nbpos', value=0.75, bounds=[0.5:0.9]>)])\n",
      "Parameters([('beta_SI', <Parameter 'beta_SI', value=0.1784460671290951, bounds=[0.001:10]>), ('gamma_IR', <Parameter 'gamma_IR', value=0.10002723725427969, bounds=[0.1:2]>), ('I0', <Parameter 'I0', value=70.2184646513545, bounds=[1:500]>), ('OBS_Tr_SI_to_nbTest', <Parameter 'OBS_Tr_SI_to_nbTest', value=0.9551559212502388, bounds=[0.05:1]>), ('OBS_nbTest_to_nbpos', <Parameter 'OBS_nbTest_to_nbpos', value=0.75, bounds=[0.5:0.9]>)])\n",
      "Parameters([('beta_SI', <Parameter 'beta_SI', value=0.1784460671290951, bounds=[0.001:10]>), ('gamma_IR', <Parameter 'gamma_IR', value=0.10002874487603047, bounds=[0.1:2]>), ('I0', <Parameter 'I0', value=70.21846672677152, bounds=[1:500]>), ('OBS_Tr_SI_to_nbTest', <Parameter 'OBS_Tr_SI_to_nbTest', value=0.9551559212502388, bounds=[0.05:1]>), ('OBS_nbTest_to_nbpos', <Parameter 'OBS_nbTest_to_nbpos', value=0.75, bounds=[0.5:0.9]>)])\n",
      "Parameters([('beta_SI', <Parameter 'beta_SI', value=0.1784460671290951, bounds=[0.001:10]>), ('gamma_IR', <Parameter 'gamma_IR', value=0.10002874487603047, bounds=[0.1:2]>), ('I0', <Parameter 'I0', value=70.2184646513545, bounds=[1:500]>), ('OBS_Tr_SI_to_nbTest', <Parameter 'OBS_Tr_SI_to_nbTest', value=0.9551559246510057, bounds=[0.05:1]>), ('OBS_nbTest_to_nbpos', <Parameter 'OBS_nbTest_to_nbpos', value=0.75, bounds=[0.5:0.9]>)])\n",
      "Parameters([('beta_SI', <Parameter 'beta_SI', value=0.1784460671290951, bounds=[0.001:10]>), ('gamma_IR', <Parameter 'gamma_IR', value=0.10002874487603047, bounds=[0.1:2]>), ('I0', <Parameter 'I0', value=70.2184646513545, bounds=[1:500]>), ('OBS_Tr_SI_to_nbTest', <Parameter 'OBS_Tr_SI_to_nbTest', value=0.9551559212502388, bounds=[0.05:1]>), ('OBS_nbTest_to_nbpos', <Parameter 'OBS_nbTest_to_nbpos', value=0.7500000007291335, bounds=[0.5:0.9]>)])\n",
      "Parameters([('beta_SI', <Parameter 'beta_SI', value=0.17848657883414912, bounds=[0.001:10]>), ('gamma_IR', <Parameter 'gamma_IR', value=0.10002672599747083, bounds=[0.1:2]>), ('I0', <Parameter 'I0', value=70.7419902045441, bounds=[1:500]>), ('OBS_Tr_SI_to_nbTest', <Parameter 'OBS_Tr_SI_to_nbTest', value=0.9456857292752555, bounds=[0.05:1]>), ('OBS_nbTest_to_nbpos', <Parameter 'OBS_nbTest_to_nbpos', value=0.75, bounds=[0.5:0.9]>)])\n",
      "Parameters([('beta_SI', <Parameter 'beta_SI', value=0.17848660447996437, bounds=[0.001:10]>), ('gamma_IR', <Parameter 'gamma_IR', value=0.10002672599747083, bounds=[0.1:2]>), ('I0', <Parameter 'I0', value=70.7419902045441, bounds=[1:500]>), ('OBS_Tr_SI_to_nbTest', <Parameter 'OBS_Tr_SI_to_nbTest', value=0.9456857292752555, bounds=[0.05:1]>), ('OBS_nbTest_to_nbpos', <Parameter 'OBS_nbTest_to_nbpos', value=0.75, bounds=[0.5:0.9]>)])\n",
      "Parameters([('beta_SI', <Parameter 'beta_SI', value=0.17848657883414912, bounds=[0.001:10]>), ('gamma_IR', <Parameter 'gamma_IR', value=0.10002527300820269, bounds=[0.1:2]>), ('I0', <Parameter 'I0', value=70.7419902045441, bounds=[1:500]>), ('OBS_Tr_SI_to_nbTest', <Parameter 'OBS_Tr_SI_to_nbTest', value=0.9456857292752555, bounds=[0.05:1]>), ('OBS_nbTest_to_nbpos', <Parameter 'OBS_nbTest_to_nbpos', value=0.75, bounds=[0.5:0.9]>)])\n",
      "Parameters([('beta_SI', <Parameter 'beta_SI', value=0.17848657883414912, bounds=[0.001:10]>), ('gamma_IR', <Parameter 'gamma_IR', value=0.10002672599747083, bounds=[0.1:2]>), ('I0', <Parameter 'I0', value=70.74199227871226, bounds=[1:500]>), ('OBS_Tr_SI_to_nbTest', <Parameter 'OBS_Tr_SI_to_nbTest', value=0.9456857292752555, bounds=[0.05:1]>), ('OBS_nbTest_to_nbpos', <Parameter 'OBS_nbTest_to_nbpos', value=0.75, bounds=[0.5:0.9]>)])\n",
      "Parameters([('beta_SI', <Parameter 'beta_SI', value=0.17848657883414912, bounds=[0.001:10]>), ('gamma_IR', <Parameter 'gamma_IR', value=0.10002672599747083, bounds=[0.1:2]>), ('I0', <Parameter 'I0', value=70.7419902045441, bounds=[1:500]>), ('OBS_Tr_SI_to_nbTest', <Parameter 'OBS_Tr_SI_to_nbTest', value=0.9456857328508171, bounds=[0.05:1]>), ('OBS_nbTest_to_nbpos', <Parameter 'OBS_nbTest_to_nbpos', value=0.75, bounds=[0.5:0.9]>)])\n",
      "Parameters([('beta_SI', <Parameter 'beta_SI', value=0.17848657883414912, bounds=[0.001:10]>), ('gamma_IR', <Parameter 'gamma_IR', value=0.10002672599747083, bounds=[0.1:2]>), ('I0', <Parameter 'I0', value=70.7419902045441, bounds=[1:500]>), ('OBS_Tr_SI_to_nbTest', <Parameter 'OBS_Tr_SI_to_nbTest', value=0.9456857292752555, bounds=[0.05:1]>), ('OBS_nbTest_to_nbpos', <Parameter 'OBS_nbTest_to_nbpos', value=0.7500000007291335, bounds=[0.5:0.9]>)])\n",
      "Parameters([('beta_SI', <Parameter 'beta_SI', value=0.17852762131019875, bounds=[0.001:10]>), ('gamma_IR', <Parameter 'gamma_IR', value=0.10002480330230651, bounds=[0.1:2]>), ('I0', <Parameter 'I0', value=71.27043765846499, bounds=[1:500]>), ('OBS_Tr_SI_to_nbTest', <Parameter 'OBS_Tr_SI_to_nbTest', value=0.9367462969060621, bounds=[0.05:1]>), ('OBS_nbTest_to_nbpos', <Parameter 'OBS_nbTest_to_nbpos', value=0.75, bounds=[0.5:0.9]>)])\n",
      "Parameters([('beta_SI', <Parameter 'beta_SI', value=0.17852764695831358, bounds=[0.001:10]>), ('gamma_IR', <Parameter 'gamma_IR', value=0.10002480330230651, bounds=[0.1:2]>), ('I0', <Parameter 'I0', value=71.27043765846499, bounds=[1:500]>), ('OBS_Tr_SI_to_nbTest', <Parameter 'OBS_Tr_SI_to_nbTest', value=0.9367462969060621, bounds=[0.05:1]>), ('OBS_nbTest_to_nbpos', <Parameter 'OBS_nbTest_to_nbpos', value=0.75, bounds=[0.5:0.9]>)])\n",
      "Parameters([('beta_SI', <Parameter 'beta_SI', value=0.17852762131019875, bounds=[0.001:10]>), ('gamma_IR', <Parameter 'gamma_IR', value=0.10002340429651871, bounds=[0.1:2]>), ('I0', <Parameter 'I0', value=71.27043765846499, bounds=[1:500]>), ('OBS_Tr_SI_to_nbTest', <Parameter 'OBS_Tr_SI_to_nbTest', value=0.9367462969060621, bounds=[0.05:1]>), ('OBS_nbTest_to_nbpos', <Parameter 'OBS_nbTest_to_nbpos', value=0.75, bounds=[0.5:0.9]>)])\n",
      "Parameters([('beta_SI', <Parameter 'beta_SI', value=0.17852762131019875, bounds=[0.001:10]>), ('gamma_IR', <Parameter 'gamma_IR', value=0.10002480330230651, bounds=[0.1:2]>), ('I0', <Parameter 'I0', value=71.27043973130762, bounds=[1:500]>), ('OBS_Tr_SI_to_nbTest', <Parameter 'OBS_Tr_SI_to_nbTest', value=0.9367462969060621, bounds=[0.05:1]>), ('OBS_nbTest_to_nbpos', <Parameter 'OBS_nbTest_to_nbpos', value=0.75, bounds=[0.5:0.9]>)])\n",
      "Parameters([('beta_SI', <Parameter 'beta_SI', value=0.17852762131019875, bounds=[0.001:10]>), ('gamma_IR', <Parameter 'gamma_IR', value=0.10002480330230651, bounds=[0.1:2]>), ('I0', <Parameter 'I0', value=71.27043765846499, bounds=[1:500]>), ('OBS_Tr_SI_to_nbTest', <Parameter 'OBS_Tr_SI_to_nbTest', value=0.9367463006074345, bounds=[0.05:1]>), ('OBS_nbTest_to_nbpos', <Parameter 'OBS_nbTest_to_nbpos', value=0.75, bounds=[0.5:0.9]>)])\n",
      "Parameters([('beta_SI', <Parameter 'beta_SI', value=0.17852762131019875, bounds=[0.001:10]>), ('gamma_IR', <Parameter 'gamma_IR', value=0.10002480330230651, bounds=[0.1:2]>), ('I0', <Parameter 'I0', value=71.27043765846499, bounds=[1:500]>), ('OBS_Tr_SI_to_nbTest', <Parameter 'OBS_Tr_SI_to_nbTest', value=0.9367462969060621, bounds=[0.05:1]>), ('OBS_nbTest_to_nbpos', <Parameter 'OBS_nbTest_to_nbpos', value=0.7500000007291335, bounds=[0.5:0.9]>)])\n",
      "Parameters([('beta_SI', <Parameter 'beta_SI', value=0.17860404066522834, bounds=[0.001:10]>), ('gamma_IR', <Parameter 'gamma_IR', value=0.10002164705342367, bounds=[0.1:2]>), ('I0', <Parameter 'I0', value=72.27028614039972, bounds=[1:500]>), ('OBS_Tr_SI_to_nbTest', <Parameter 'OBS_Tr_SI_to_nbTest', value=0.9192862144768955, bounds=[0.05:1]>), ('OBS_nbTest_to_nbpos', <Parameter 'OBS_nbTest_to_nbpos', value=0.75, bounds=[0.5:0.9]>)])\n",
      "Parameters([('beta_SI', <Parameter 'beta_SI', value=0.17856635277599422, bounds=[0.001:10]>), ('gamma_IR', <Parameter 'gamma_IR', value=0.10002313913825908, bounds=[0.1:2]>), ('I0', <Parameter 'I0', value=71.77103465524839, bounds=[1:500]>), ('OBS_Tr_SI_to_nbTest', <Parameter 'OBS_Tr_SI_to_nbTest', value=0.9284050673439296, bounds=[0.05:1]>), ('OBS_nbTest_to_nbpos', <Parameter 'OBS_nbTest_to_nbpos', value=0.75, bounds=[0.5:0.9]>)])\n",
      "Parameters([('beta_SI', <Parameter 'beta_SI', value=0.17856637842627934, bounds=[0.001:10]>), ('gamma_IR', <Parameter 'gamma_IR', value=0.10002313913825908, bounds=[0.1:2]>), ('I0', <Parameter 'I0', value=71.77103465524839, bounds=[1:500]>), ('OBS_Tr_SI_to_nbTest', <Parameter 'OBS_Tr_SI_to_nbTest', value=0.9284050673439296, bounds=[0.05:1]>), ('OBS_nbTest_to_nbpos', <Parameter 'OBS_nbTest_to_nbpos', value=0.75, bounds=[0.5:0.9]>)])\n"
     ]
    },
    {
     "name": "stdout",
     "output_type": "stream",
     "text": [
      "Parameters([('beta_SI', <Parameter 'beta_SI', value=0.17856635277599422, bounds=[0.001:10]>), ('gamma_IR', <Parameter 'gamma_IR', value=0.10002178857246345, bounds=[0.1:2]>), ('I0', <Parameter 'I0', value=71.77103465524839, bounds=[1:500]>), ('OBS_Tr_SI_to_nbTest', <Parameter 'OBS_Tr_SI_to_nbTest', value=0.9284050673439296, bounds=[0.05:1]>), ('OBS_nbTest_to_nbpos', <Parameter 'OBS_nbTest_to_nbpos', value=0.75, bounds=[0.5:0.9]>)])\n",
      "Parameters([('beta_SI', <Parameter 'beta_SI', value=0.17856635277599422, bounds=[0.001:10]>), ('gamma_IR', <Parameter 'gamma_IR', value=0.10002313913825908, bounds=[0.1:2]>), ('I0', <Parameter 'I0', value=71.77103672677592, bounds=[1:500]>), ('OBS_Tr_SI_to_nbTest', <Parameter 'OBS_Tr_SI_to_nbTest', value=0.9284050673439296, bounds=[0.05:1]>), ('OBS_nbTest_to_nbpos', <Parameter 'OBS_nbTest_to_nbpos', value=0.75, bounds=[0.5:0.9]>)])\n",
      "Parameters([('beta_SI', <Parameter 'beta_SI', value=0.17856635277599422, bounds=[0.001:10]>), ('gamma_IR', <Parameter 'gamma_IR', value=0.10002313913825908, bounds=[0.1:2]>), ('I0', <Parameter 'I0', value=71.77103465524839, bounds=[1:500]>), ('OBS_Tr_SI_to_nbTest', <Parameter 'OBS_Tr_SI_to_nbTest', value=0.9284050711353949, bounds=[0.05:1]>), ('OBS_nbTest_to_nbpos', <Parameter 'OBS_nbTest_to_nbpos', value=0.75, bounds=[0.5:0.9]>)])\n",
      "Parameters([('beta_SI', <Parameter 'beta_SI', value=0.17856635277599422, bounds=[0.001:10]>), ('gamma_IR', <Parameter 'gamma_IR', value=0.10002313913825908, bounds=[0.1:2]>), ('I0', <Parameter 'I0', value=71.77103465524839, bounds=[1:500]>), ('OBS_Tr_SI_to_nbTest', <Parameter 'OBS_Tr_SI_to_nbTest', value=0.9284050673439296, bounds=[0.05:1]>), ('OBS_nbTest_to_nbpos', <Parameter 'OBS_nbTest_to_nbpos', value=0.7500000007291335, bounds=[0.5:0.9]>)])\n",
      "Parameters([('beta_SI', <Parameter 'beta_SI', value=0.17863940287491079, bounds=[0.001:10]>), ('gamma_IR', <Parameter 'gamma_IR', value=0.10002030353217868, bounds=[0.1:2]>), ('I0', <Parameter 'I0', value=72.72794199278724, bounds=[1:500]>), ('OBS_Tr_SI_to_nbTest', <Parameter 'OBS_Tr_SI_to_nbTest', value=0.9120306569645128, bounds=[0.05:1]>), ('OBS_nbTest_to_nbpos', <Parameter 'OBS_nbTest_to_nbpos', value=0.75, bounds=[0.5:0.9]>)])\n",
      "Parameters([('beta_SI', <Parameter 'beta_SI', value=0.17863942852928721, bounds=[0.001:10]>), ('gamma_IR', <Parameter 'gamma_IR', value=0.10002030353217868, bounds=[0.1:2]>), ('I0', <Parameter 'I0', value=72.72794199278724, bounds=[1:500]>), ('OBS_Tr_SI_to_nbTest', <Parameter 'OBS_Tr_SI_to_nbTest', value=0.9120306569645128, bounds=[0.05:1]>), ('OBS_nbTest_to_nbpos', <Parameter 'OBS_nbTest_to_nbpos', value=0.75, bounds=[0.5:0.9]>)])\n",
      "Parameters([('beta_SI', <Parameter 'beta_SI', value=0.17863940287491079, bounds=[0.001:10]>), ('gamma_IR', <Parameter 'gamma_IR', value=0.10001903970702249, bounds=[0.1:2]>), ('I0', <Parameter 'I0', value=72.72794199278724, bounds=[1:500]>), ('OBS_Tr_SI_to_nbTest', <Parameter 'OBS_Tr_SI_to_nbTest', value=0.9120306569645128, bounds=[0.05:1]>), ('OBS_nbTest_to_nbpos', <Parameter 'OBS_nbTest_to_nbpos', value=0.75, bounds=[0.5:0.9]>)])\n",
      "Parameters([('beta_SI', <Parameter 'beta_SI', value=0.17863940287491079, bounds=[0.001:10]>), ('gamma_IR', <Parameter 'gamma_IR', value=0.10002030353217868, bounds=[0.1:2]>), ('I0', <Parameter 'I0', value=72.7279440616422, bounds=[1:500]>), ('OBS_Tr_SI_to_nbTest', <Parameter 'OBS_Tr_SI_to_nbTest', value=0.9120306569645128, bounds=[0.05:1]>), ('OBS_nbTest_to_nbpos', <Parameter 'OBS_nbTest_to_nbpos', value=0.75, bounds=[0.5:0.9]>)])\n",
      "Parameters([('beta_SI', <Parameter 'beta_SI', value=0.17863940287491079, bounds=[0.001:10]>), ('gamma_IR', <Parameter 'gamma_IR', value=0.10002030353217868, bounds=[0.1:2]>), ('I0', <Parameter 'I0', value=72.72794199278724, bounds=[1:500]>), ('OBS_Tr_SI_to_nbTest', <Parameter 'OBS_Tr_SI_to_nbTest', value=0.9120306608725652, bounds=[0.05:1]>), ('OBS_nbTest_to_nbpos', <Parameter 'OBS_nbTest_to_nbpos', value=0.75, bounds=[0.5:0.9]>)])\n",
      "Parameters([('beta_SI', <Parameter 'beta_SI', value=0.17863940287491079, bounds=[0.001:10]>), ('gamma_IR', <Parameter 'gamma_IR', value=0.10002030353217868, bounds=[0.1:2]>), ('I0', <Parameter 'I0', value=72.72794199278724, bounds=[1:500]>), ('OBS_Tr_SI_to_nbTest', <Parameter 'OBS_Tr_SI_to_nbTest', value=0.9120306569645128, bounds=[0.05:1]>), ('OBS_nbTest_to_nbpos', <Parameter 'OBS_nbTest_to_nbpos', value=0.7500000007291335, bounds=[0.5:0.9]>)])\n",
      "Parameters([('beta_SI', <Parameter 'beta_SI', value=0.17867986738526867, bounds=[0.001:10]>), ('gamma_IR', <Parameter 'gamma_IR', value=0.10001875757431086, bounds=[0.1:2]>), ('I0', <Parameter 'I0', value=73.22815282378114, bounds=[1:500]>), ('OBS_Tr_SI_to_nbTest', <Parameter 'OBS_Tr_SI_to_nbTest', value=0.9046487266221855, bounds=[0.05:1]>), ('OBS_nbTest_to_nbpos', <Parameter 'OBS_nbTest_to_nbpos', value=0.75, bounds=[0.5:0.9]>)])\n",
      "Parameters([('beta_SI', <Parameter 'beta_SI', value=0.1786798930419114, bounds=[0.001:10]>), ('gamma_IR', <Parameter 'gamma_IR', value=0.10001875757431086, bounds=[0.1:2]>), ('I0', <Parameter 'I0', value=73.22815282378114, bounds=[1:500]>), ('OBS_Tr_SI_to_nbTest', <Parameter 'OBS_Tr_SI_to_nbTest', value=0.9046487266221855, bounds=[0.05:1]>), ('OBS_nbTest_to_nbpos', <Parameter 'OBS_nbTest_to_nbpos', value=0.75, bounds=[0.5:0.9]>)])\n",
      "Parameters([('beta_SI', <Parameter 'beta_SI', value=0.17867986738526867, bounds=[0.001:10]>), ('gamma_IR', <Parameter 'gamma_IR', value=0.10001754360481453, bounds=[0.1:2]>), ('I0', <Parameter 'I0', value=73.22815282378114, bounds=[1:500]>), ('OBS_Tr_SI_to_nbTest', <Parameter 'OBS_Tr_SI_to_nbTest', value=0.9046487266221855, bounds=[0.05:1]>), ('OBS_nbTest_to_nbpos', <Parameter 'OBS_nbTest_to_nbpos', value=0.75, bounds=[0.5:0.9]>)])\n",
      "Parameters([('beta_SI', <Parameter 'beta_SI', value=0.17867986738526867, bounds=[0.001:10]>), ('gamma_IR', <Parameter 'gamma_IR', value=0.10001875757431086, bounds=[0.1:2]>), ('I0', <Parameter 'I0', value=73.22815489115732, bounds=[1:500]>), ('OBS_Tr_SI_to_nbTest', <Parameter 'OBS_Tr_SI_to_nbTest', value=0.9046487266221855, bounds=[0.05:1]>), ('OBS_nbTest_to_nbpos', <Parameter 'OBS_nbTest_to_nbpos', value=0.75, bounds=[0.5:0.9]>)])\n",
      "Parameters([('beta_SI', <Parameter 'beta_SI', value=0.17867986738526867, bounds=[0.001:10]>), ('gamma_IR', <Parameter 'gamma_IR', value=0.10001875757431086, bounds=[0.1:2]>), ('I0', <Parameter 'I0', value=73.22815282378114, bounds=[1:500]>), ('OBS_Tr_SI_to_nbTest', <Parameter 'OBS_Tr_SI_to_nbTest', value=0.9046487305614762, bounds=[0.05:1]>), ('OBS_nbTest_to_nbpos', <Parameter 'OBS_nbTest_to_nbpos', value=0.75, bounds=[0.5:0.9]>)])\n",
      "Parameters([('beta_SI', <Parameter 'beta_SI', value=0.17867986738526867, bounds=[0.001:10]>), ('gamma_IR', <Parameter 'gamma_IR', value=0.10001875757431086, bounds=[0.1:2]>), ('I0', <Parameter 'I0', value=73.22815282378114, bounds=[1:500]>), ('OBS_Tr_SI_to_nbTest', <Parameter 'OBS_Tr_SI_to_nbTest', value=0.9046487266221855, bounds=[0.05:1]>), ('OBS_nbTest_to_nbpos', <Parameter 'OBS_nbTest_to_nbpos', value=0.7500000007291335, bounds=[0.5:0.9]>)])\n",
      "Parameters([('beta_SI', <Parameter 'beta_SI', value=0.17875054310032612, bounds=[0.001:10]>), ('gamma_IR', <Parameter 'gamma_IR', value=0.10001649613916999, bounds=[0.1:2]>), ('I0', <Parameter 'I0', value=74.13696560238323, bounds=[1:500]>), ('OBS_Tr_SI_to_nbTest', <Parameter 'OBS_Tr_SI_to_nbTest', value=0.8898390142396562, bounds=[0.05:1]>), ('OBS_nbTest_to_nbpos', <Parameter 'OBS_nbTest_to_nbpos', value=0.75, bounds=[0.5:0.9]>)])\n",
      "Parameters([('beta_SI', <Parameter 'beta_SI', value=0.1787505687609253, bounds=[0.001:10]>), ('gamma_IR', <Parameter 'gamma_IR', value=0.10001649613916999, bounds=[0.1:2]>), ('I0', <Parameter 'I0', value=74.13696560238323, bounds=[1:500]>), ('OBS_Tr_SI_to_nbTest', <Parameter 'OBS_Tr_SI_to_nbTest', value=0.8898390142396562, bounds=[0.05:1]>), ('OBS_nbTest_to_nbpos', <Parameter 'OBS_nbTest_to_nbpos', value=0.75, bounds=[0.5:0.9]>)])\n",
      "Parameters([('beta_SI', <Parameter 'beta_SI', value=0.17875054310032612, bounds=[0.001:10]>), ('gamma_IR', <Parameter 'gamma_IR', value=0.10001535896062484, bounds=[0.1:2]>), ('I0', <Parameter 'I0', value=74.13696560238323, bounds=[1:500]>), ('OBS_Tr_SI_to_nbTest', <Parameter 'OBS_Tr_SI_to_nbTest', value=0.8898390142396562, bounds=[0.05:1]>), ('OBS_nbTest_to_nbpos', <Parameter 'OBS_nbTest_to_nbpos', value=0.75, bounds=[0.5:0.9]>)])\n",
      "Parameters([('beta_SI', <Parameter 'beta_SI', value=0.17875054310032612, bounds=[0.001:10]>), ('gamma_IR', <Parameter 'gamma_IR', value=0.10001649613916999, bounds=[0.1:2]>), ('I0', <Parameter 'I0', value=74.13696766693147, bounds=[1:500]>), ('OBS_Tr_SI_to_nbTest', <Parameter 'OBS_Tr_SI_to_nbTest', value=0.8898390142396562, bounds=[0.05:1]>), ('OBS_nbTest_to_nbpos', <Parameter 'OBS_nbTest_to_nbpos', value=0.75, bounds=[0.5:0.9]>)])\n",
      "Parameters([('beta_SI', <Parameter 'beta_SI', value=0.17875054310032612, bounds=[0.001:10]>), ('gamma_IR', <Parameter 'gamma_IR', value=0.10001649613916999, bounds=[0.1:2]>), ('I0', <Parameter 'I0', value=74.13696560238323, bounds=[1:500]>), ('OBS_Tr_SI_to_nbTest', <Parameter 'OBS_Tr_SI_to_nbTest', value=0.8898390182093516, bounds=[0.05:1]>), ('OBS_nbTest_to_nbpos', <Parameter 'OBS_nbTest_to_nbpos', value=0.75, bounds=[0.5:0.9]>)])\n",
      "Parameters([('beta_SI', <Parameter 'beta_SI', value=0.17875054310032612, bounds=[0.001:10]>), ('gamma_IR', <Parameter 'gamma_IR', value=0.10001649613916999, bounds=[0.1:2]>), ('I0', <Parameter 'I0', value=74.13696560238323, bounds=[1:500]>), ('OBS_Tr_SI_to_nbTest', <Parameter 'OBS_Tr_SI_to_nbTest', value=0.8898390142396562, bounds=[0.05:1]>), ('OBS_nbTest_to_nbpos', <Parameter 'OBS_nbTest_to_nbpos', value=0.7500000007291335, bounds=[0.5:0.9]>)])\n",
      "Parameters([('beta_SI', <Parameter 'beta_SI', value=0.17882190266485024, bounds=[0.001:10]>), ('gamma_IR', <Parameter 'gamma_IR', value=0.10001441451910448, bounds=[0.1:2]>), ('I0', <Parameter 'I0', value=75.01996263356259, bounds=[1:500]>), ('OBS_Tr_SI_to_nbTest', <Parameter 'OBS_Tr_SI_to_nbTest', value=0.876240569451208, bounds=[0.05:1]>), ('OBS_nbTest_to_nbpos', <Parameter 'OBS_nbTest_to_nbpos', value=0.75, bounds=[0.5:0.9]>)])\n",
      "Parameters([('beta_SI', <Parameter 'beta_SI', value=0.17882192832944302, bounds=[0.001:10]>), ('gamma_IR', <Parameter 'gamma_IR', value=0.10001441451910448, bounds=[0.1:2]>), ('I0', <Parameter 'I0', value=75.01996263356259, bounds=[1:500]>), ('OBS_Tr_SI_to_nbTest', <Parameter 'OBS_Tr_SI_to_nbTest', value=0.876240569451208, bounds=[0.05:1]>), ('OBS_nbTest_to_nbpos', <Parameter 'OBS_nbTest_to_nbpos', value=0.75, bounds=[0.5:0.9]>)])\n",
      "Parameters([('beta_SI', <Parameter 'beta_SI', value=0.17882190266485024, bounds=[0.001:10]>), ('gamma_IR', <Parameter 'gamma_IR', value=0.100013352832272, bounds=[0.1:2]>), ('I0', <Parameter 'I0', value=75.01996263356259, bounds=[1:500]>), ('OBS_Tr_SI_to_nbTest', <Parameter 'OBS_Tr_SI_to_nbTest', value=0.876240569451208, bounds=[0.05:1]>), ('OBS_nbTest_to_nbpos', <Parameter 'OBS_nbTest_to_nbpos', value=0.75, bounds=[0.5:0.9]>)])\n",
      "Parameters([('beta_SI', <Parameter 'beta_SI', value=0.17882190266485024, bounds=[0.001:10]>), ('gamma_IR', <Parameter 'gamma_IR', value=0.10001441451910448, bounds=[0.1:2]>), ('I0', <Parameter 'I0', value=75.01996469519166, bounds=[1:500]>), ('OBS_Tr_SI_to_nbTest', <Parameter 'OBS_Tr_SI_to_nbTest', value=0.876240569451208, bounds=[0.05:1]>), ('OBS_nbTest_to_nbpos', <Parameter 'OBS_nbTest_to_nbpos', value=0.75, bounds=[0.5:0.9]>)])\n",
      "Parameters([('beta_SI', <Parameter 'beta_SI', value=0.17882190266485024, bounds=[0.001:10]>), ('gamma_IR', <Parameter 'gamma_IR', value=0.10001441451910448, bounds=[0.1:2]>), ('I0', <Parameter 'I0', value=75.01996263356259, bounds=[1:500]>), ('OBS_Tr_SI_to_nbTest', <Parameter 'OBS_Tr_SI_to_nbTest', value=0.8762405734169173, bounds=[0.05:1]>), ('OBS_nbTest_to_nbpos', <Parameter 'OBS_nbTest_to_nbpos', value=0.75, bounds=[0.5:0.9]>)])\n",
      "Parameters([('beta_SI', <Parameter 'beta_SI', value=0.17882190266485024, bounds=[0.001:10]>), ('gamma_IR', <Parameter 'gamma_IR', value=0.10001441451910448, bounds=[0.1:2]>), ('I0', <Parameter 'I0', value=75.01996263356259, bounds=[1:500]>), ('OBS_Tr_SI_to_nbTest', <Parameter 'OBS_Tr_SI_to_nbTest', value=0.876240569451208, bounds=[0.05:1]>), ('OBS_nbTest_to_nbpos', <Parameter 'OBS_nbTest_to_nbpos', value=0.7500000007291335, bounds=[0.5:0.9]>)])\n",
      "Parameters([('beta_SI', <Parameter 'beta_SI', value=0.17895464007392048, bounds=[0.001:10]>), ('gamma_IR', <Parameter 'gamma_IR', value=0.10001094365011699, bounds=[0.1:2]>), ('I0', <Parameter 'I0', value=76.73585788970964, bounds=[1:500]>), ('OBS_Tr_SI_to_nbTest', <Parameter 'OBS_Tr_SI_to_nbTest', value=0.8497223773659749, bounds=[0.05:1]>), ('OBS_nbTest_to_nbpos', <Parameter 'OBS_nbTest_to_nbpos', value=0.75, bounds=[0.5:0.9]>)])\n",
      "Parameters([('beta_SI', <Parameter 'beta_SI', value=0.17887033160962154, bounds=[0.001:10]>), ('gamma_IR', <Parameter 'gamma_IR', value=0.10001311164087956, bounds=[0.1:2]>), ('I0', <Parameter 'I0', value=75.65830545201851, bounds=[1:500]>), ('OBS_Tr_SI_to_nbTest', <Parameter 'OBS_Tr_SI_to_nbTest', value=0.8669820980241618, bounds=[0.05:1]>), ('OBS_nbTest_to_nbpos', <Parameter 'OBS_nbTest_to_nbpos', value=0.75, bounds=[0.5:0.9]>)])\n",
      "Parameters([('beta_SI', <Parameter 'beta_SI', value=0.1788703572769241, bounds=[0.001:10]>), ('gamma_IR', <Parameter 'gamma_IR', value=0.10001311164087956, bounds=[0.1:2]>), ('I0', <Parameter 'I0', value=75.65830545201851, bounds=[1:500]>), ('OBS_Tr_SI_to_nbTest', <Parameter 'OBS_Tr_SI_to_nbTest', value=0.8669820980241618, bounds=[0.05:1]>), ('OBS_nbTest_to_nbpos', <Parameter 'OBS_nbTest_to_nbpos', value=0.75, bounds=[0.5:0.9]>)])\n",
      "Parameters([('beta_SI', <Parameter 'beta_SI', value=0.17887033160962154, bounds=[0.001:10]>), ('gamma_IR', <Parameter 'gamma_IR', value=0.10001210001033077, bounds=[0.1:2]>), ('I0', <Parameter 'I0', value=75.65830545201851, bounds=[1:500]>), ('OBS_Tr_SI_to_nbTest', <Parameter 'OBS_Tr_SI_to_nbTest', value=0.8669820980241618, bounds=[0.05:1]>), ('OBS_nbTest_to_nbpos', <Parameter 'OBS_nbTest_to_nbpos', value=0.75, bounds=[0.5:0.9]>)])\n",
      "Parameters([('beta_SI', <Parameter 'beta_SI', value=0.17887033160962154, bounds=[0.001:10]>), ('gamma_IR', <Parameter 'gamma_IR', value=0.10001311164087956, bounds=[0.1:2]>), ('I0', <Parameter 'I0', value=75.65830751143368, bounds=[1:500]>), ('OBS_Tr_SI_to_nbTest', <Parameter 'OBS_Tr_SI_to_nbTest', value=0.8669820980241618, bounds=[0.05:1]>), ('OBS_nbTest_to_nbpos', <Parameter 'OBS_nbTest_to_nbpos', value=0.75, bounds=[0.5:0.9]>)])\n",
      "Parameters([('beta_SI', <Parameter 'beta_SI', value=0.17887033160962154, bounds=[0.001:10]>), ('gamma_IR', <Parameter 'gamma_IR', value=0.10001311164087956, bounds=[0.1:2]>), ('I0', <Parameter 'I0', value=75.65830545201851, bounds=[1:500]>), ('OBS_Tr_SI_to_nbTest', <Parameter 'OBS_Tr_SI_to_nbTest', value=0.8669821019723818, bounds=[0.05:1]>), ('OBS_nbTest_to_nbpos', <Parameter 'OBS_nbTest_to_nbpos', value=0.75, bounds=[0.5:0.9]>)])\n",
      "Parameters([('beta_SI', <Parameter 'beta_SI', value=0.17887033160962154, bounds=[0.001:10]>), ('gamma_IR', <Parameter 'gamma_IR', value=0.10001311164087956, bounds=[0.1:2]>), ('I0', <Parameter 'I0', value=75.65830545201851, bounds=[1:500]>), ('OBS_Tr_SI_to_nbTest', <Parameter 'OBS_Tr_SI_to_nbTest', value=0.8669820980241618, bounds=[0.05:1]>), ('OBS_nbTest_to_nbpos', <Parameter 'OBS_nbTest_to_nbpos', value=0.7500000007291335, bounds=[0.5:0.9]>)])\n",
      "Parameters([('beta_SI', <Parameter 'beta_SI', value=0.178961680517792, bounds=[0.001:10]>), ('gamma_IR', <Parameter 'gamma_IR', value=0.10001086267252607, bounds=[0.1:2]>), ('I0', <Parameter 'I0', value=76.77842440027743, bounds=[1:500]>), ('OBS_Tr_SI_to_nbTest', <Parameter 'OBS_Tr_SI_to_nbTest', value=0.8498617247636217, bounds=[0.05:1]>), ('OBS_nbTest_to_nbpos', <Parameter 'OBS_nbTest_to_nbpos', value=0.75, bounds=[0.5:0.9]>)])\n",
      "Parameters([('beta_SI', <Parameter 'beta_SI', value=0.17896170619020332, bounds=[0.001:10]>), ('gamma_IR', <Parameter 'gamma_IR', value=0.10001086267252607, bounds=[0.1:2]>), ('I0', <Parameter 'I0', value=76.77842440027743, bounds=[1:500]>), ('OBS_Tr_SI_to_nbTest', <Parameter 'OBS_Tr_SI_to_nbTest', value=0.8498617247636217, bounds=[0.05:1]>), ('OBS_nbTest_to_nbpos', <Parameter 'OBS_nbTest_to_nbpos', value=0.75, bounds=[0.5:0.9]>)])\n",
      "Parameters([('beta_SI', <Parameter 'beta_SI', value=0.178961680517792, bounds=[0.001:10]>), ('gamma_IR', <Parameter 'gamma_IR', value=0.10000994370276953, bounds=[0.1:2]>), ('I0', <Parameter 'I0', value=76.77842440027743, bounds=[1:500]>), ('OBS_Tr_SI_to_nbTest', <Parameter 'OBS_Tr_SI_to_nbTest', value=0.8498617247636217, bounds=[0.05:1]>), ('OBS_nbTest_to_nbpos', <Parameter 'OBS_nbTest_to_nbpos', value=0.75, bounds=[0.5:0.9]>)])\n",
      "Parameters([('beta_SI', <Parameter 'beta_SI', value=0.178961680517792, bounds=[0.001:10]>), ('gamma_IR', <Parameter 'gamma_IR', value=0.10001086267252607, bounds=[0.1:2]>), ('I0', <Parameter 'I0', value=76.77842645560172, bounds=[1:500]>), ('OBS_Tr_SI_to_nbTest', <Parameter 'OBS_Tr_SI_to_nbTest', value=0.8498617247636217, bounds=[0.05:1]>), ('OBS_nbTest_to_nbpos', <Parameter 'OBS_nbTest_to_nbpos', value=0.75, bounds=[0.5:0.9]>)])\n",
      "Parameters([('beta_SI', <Parameter 'beta_SI', value=0.178961680517792, bounds=[0.001:10]>), ('gamma_IR', <Parameter 'gamma_IR', value=0.10001086267252607, bounds=[0.1:2]>), ('I0', <Parameter 'I0', value=76.77842440027743, bounds=[1:500]>), ('OBS_Tr_SI_to_nbTest', <Parameter 'OBS_Tr_SI_to_nbTest', value=0.8498617286526252, bounds=[0.05:1]>), ('OBS_nbTest_to_nbpos', <Parameter 'OBS_nbTest_to_nbpos', value=0.75, bounds=[0.5:0.9]>)])\n",
      "Parameters([('beta_SI', <Parameter 'beta_SI', value=0.178961680517792, bounds=[0.001:10]>), ('gamma_IR', <Parameter 'gamma_IR', value=0.10001086267252607, bounds=[0.1:2]>), ('I0', <Parameter 'I0', value=76.77842440027743, bounds=[1:500]>), ('OBS_Tr_SI_to_nbTest', <Parameter 'OBS_Tr_SI_to_nbTest', value=0.8498617247636217, bounds=[0.05:1]>), ('OBS_nbTest_to_nbpos', <Parameter 'OBS_nbTest_to_nbpos', value=0.7500000007291335, bounds=[0.5:0.9]>)])\n",
      "Parameters([('beta_SI', <Parameter 'beta_SI', value=0.17906543225573143, bounds=[0.001:10]>), ('gamma_IR', <Parameter 'gamma_IR', value=0.10000870761767648, bounds=[0.1:2]>), ('I0', <Parameter 'I0', value=78.04035615000664, bounds=[1:500]>), ('OBS_Tr_SI_to_nbTest', <Parameter 'OBS_Tr_SI_to_nbTest', value=0.8316242276073855, bounds=[0.05:1]>), ('OBS_nbTest_to_nbpos', <Parameter 'OBS_nbTest_to_nbpos', value=0.75, bounds=[0.5:0.9]>)])\n",
      "Parameters([('beta_SI', <Parameter 'beta_SI', value=0.17906545793394366, bounds=[0.001:10]>), ('gamma_IR', <Parameter 'gamma_IR', value=0.10000870761767648, bounds=[0.1:2]>), ('I0', <Parameter 'I0', value=78.04035615000664, bounds=[1:500]>), ('OBS_Tr_SI_to_nbTest', <Parameter 'OBS_Tr_SI_to_nbTest', value=0.8316242276073855, bounds=[0.05:1]>), ('OBS_nbTest_to_nbpos', <Parameter 'OBS_nbTest_to_nbpos', value=0.75, bounds=[0.5:0.9]>)])\n",
      "Parameters([('beta_SI', <Parameter 'beta_SI', value=0.17906543225573143, bounds=[0.001:10]>), ('gamma_IR', <Parameter 'gamma_IR', value=0.10000788696481333, bounds=[0.1:2]>), ('I0', <Parameter 'I0', value=78.04035615000664, bounds=[1:500]>), ('OBS_Tr_SI_to_nbTest', <Parameter 'OBS_Tr_SI_to_nbTest', value=0.8316242276073855, bounds=[0.05:1]>), ('OBS_nbTest_to_nbpos', <Parameter 'OBS_nbTest_to_nbpos', value=0.75, bounds=[0.5:0.9]>)])\n"
     ]
    },
    {
     "name": "stdout",
     "output_type": "stream",
     "text": [
      "Parameters([('beta_SI', <Parameter 'beta_SI', value=0.17906543225573143, bounds=[0.001:10]>), ('gamma_IR', <Parameter 'gamma_IR', value=0.10000870761767648, bounds=[0.1:2]>), ('I0', <Parameter 'I0', value=78.04035820041415, bounds=[1:500]>), ('OBS_Tr_SI_to_nbTest', <Parameter 'OBS_Tr_SI_to_nbTest', value=0.8316242276073855, bounds=[0.05:1]>), ('OBS_nbTest_to_nbpos', <Parameter 'OBS_nbTest_to_nbpos', value=0.75, bounds=[0.5:0.9]>)])\n",
      "Parameters([('beta_SI', <Parameter 'beta_SI', value=0.17906543225573143, bounds=[0.001:10]>), ('gamma_IR', <Parameter 'gamma_IR', value=0.10000870761767648, bounds=[0.1:2]>), ('I0', <Parameter 'I0', value=78.04035615000664, bounds=[1:500]>), ('OBS_Tr_SI_to_nbTest', <Parameter 'OBS_Tr_SI_to_nbTest', value=0.8316242314006806, bounds=[0.05:1]>), ('OBS_nbTest_to_nbpos', <Parameter 'OBS_nbTest_to_nbpos', value=0.75, bounds=[0.5:0.9]>)])\n",
      "Parameters([('beta_SI', <Parameter 'beta_SI', value=0.17906543225573143, bounds=[0.001:10]>), ('gamma_IR', <Parameter 'gamma_IR', value=0.10000870761767648, bounds=[0.1:2]>), ('I0', <Parameter 'I0', value=78.04035615000664, bounds=[1:500]>), ('OBS_Tr_SI_to_nbTest', <Parameter 'OBS_Tr_SI_to_nbTest', value=0.8316242276073855, bounds=[0.05:1]>), ('OBS_nbTest_to_nbpos', <Parameter 'OBS_nbTest_to_nbpos', value=0.7500000007291335, bounds=[0.5:0.9]>)])\n",
      "Parameters([('beta_SI', <Parameter 'beta_SI', value=0.17917529646145647, bounds=[0.001:10]>), ('gamma_IR', <Parameter 'gamma_IR', value=0.10000690567743675, bounds=[0.1:2]>), ('I0', <Parameter 'I0', value=79.2997555842553, bounds=[1:500]>), ('OBS_Tr_SI_to_nbTest', <Parameter 'OBS_Tr_SI_to_nbTest', value=0.8138630489181136, bounds=[0.05:1]>), ('OBS_nbTest_to_nbpos', <Parameter 'OBS_nbTest_to_nbpos', value=0.75, bounds=[0.5:0.9]>)])\n",
      "Parameters([('beta_SI', <Parameter 'beta_SI', value=0.17917532214580814, bounds=[0.001:10]>), ('gamma_IR', <Parameter 'gamma_IR', value=0.10000690567743675, bounds=[0.1:2]>), ('I0', <Parameter 'I0', value=79.2997555842553, bounds=[1:500]>), ('OBS_Tr_SI_to_nbTest', <Parameter 'OBS_Tr_SI_to_nbTest', value=0.8138630489181136, bounds=[0.05:1]>), ('OBS_nbTest_to_nbpos', <Parameter 'OBS_nbTest_to_nbpos', value=0.75, bounds=[0.5:0.9]>)])\n",
      "Parameters([('beta_SI', <Parameter 'beta_SI', value=0.17917529646145647, bounds=[0.001:10]>), ('gamma_IR', <Parameter 'gamma_IR', value=0.10000617707538073, bounds=[0.1:2]>), ('I0', <Parameter 'I0', value=79.2997555842553, bounds=[1:500]>), ('OBS_Tr_SI_to_nbTest', <Parameter 'OBS_Tr_SI_to_nbTest', value=0.8138630489181136, bounds=[0.05:1]>), ('OBS_nbTest_to_nbpos', <Parameter 'OBS_nbTest_to_nbpos', value=0.75, bounds=[0.5:0.9]>)])\n",
      "Parameters([('beta_SI', <Parameter 'beta_SI', value=0.17917529646145647, bounds=[0.001:10]>), ('gamma_IR', <Parameter 'gamma_IR', value=0.10000690567743675, bounds=[0.1:2]>), ('I0', <Parameter 'I0', value=79.29975762943855, bounds=[1:500]>), ('OBS_Tr_SI_to_nbTest', <Parameter 'OBS_Tr_SI_to_nbTest', value=0.8138630489181136, bounds=[0.05:1]>), ('OBS_nbTest_to_nbpos', <Parameter 'OBS_nbTest_to_nbpos', value=0.75, bounds=[0.5:0.9]>)])\n",
      "Parameters([('beta_SI', <Parameter 'beta_SI', value=0.17917529646145647, bounds=[0.001:10]>), ('gamma_IR', <Parameter 'gamma_IR', value=0.10000690567743675, bounds=[0.1:2]>), ('I0', <Parameter 'I0', value=79.2997555842553, bounds=[1:500]>), ('OBS_Tr_SI_to_nbTest', <Parameter 'OBS_Tr_SI_to_nbTest', value=0.8138630525911633, bounds=[0.05:1]>), ('OBS_nbTest_to_nbpos', <Parameter 'OBS_nbTest_to_nbpos', value=0.75, bounds=[0.5:0.9]>)])\n",
      "Parameters([('beta_SI', <Parameter 'beta_SI', value=0.17917529646145647, bounds=[0.001:10]>), ('gamma_IR', <Parameter 'gamma_IR', value=0.10000690567743675, bounds=[0.1:2]>), ('I0', <Parameter 'I0', value=79.2997555842553, bounds=[1:500]>), ('OBS_Tr_SI_to_nbTest', <Parameter 'OBS_Tr_SI_to_nbTest', value=0.8138630489181136, bounds=[0.05:1]>), ('OBS_nbTest_to_nbpos', <Parameter 'OBS_nbTest_to_nbpos', value=0.7500000007291335, bounds=[0.5:0.9]>)])\n",
      "Parameters([('beta_SI', <Parameter 'beta_SI', value=0.1792779496223293, bounds=[0.001:10]>), ('gamma_IR', <Parameter 'gamma_IR', value=0.10000552617757968, bounds=[0.1:2]>), ('I0', <Parameter 'I0', value=80.52545580333096, bounds=[1:500]>), ('OBS_Tr_SI_to_nbTest', <Parameter 'OBS_Tr_SI_to_nbTest', value=0.7973857562927092, bounds=[0.05:1]>), ('OBS_nbTest_to_nbpos', <Parameter 'OBS_nbTest_to_nbpos', value=0.75, bounds=[0.5:0.9]>)])\n",
      "Parameters([('beta_SI', <Parameter 'beta_SI', value=0.17927797531241468, bounds=[0.001:10]>), ('gamma_IR', <Parameter 'gamma_IR', value=0.10000552617757968, bounds=[0.1:2]>), ('I0', <Parameter 'I0', value=80.52545580333096, bounds=[1:500]>), ('OBS_Tr_SI_to_nbTest', <Parameter 'OBS_Tr_SI_to_nbTest', value=0.7973857562927092, bounds=[0.05:1]>), ('OBS_nbTest_to_nbpos', <Parameter 'OBS_nbTest_to_nbpos', value=0.75, bounds=[0.5:0.9]>)])\n",
      "Parameters([('beta_SI', <Parameter 'beta_SI', value=0.1792779496223293, bounds=[0.001:10]>), ('gamma_IR', <Parameter 'gamma_IR', value=0.10000487654031827, bounds=[0.1:2]>), ('I0', <Parameter 'I0', value=80.52545580333096, bounds=[1:500]>), ('OBS_Tr_SI_to_nbTest', <Parameter 'OBS_Tr_SI_to_nbTest', value=0.7973857562927092, bounds=[0.05:1]>), ('OBS_nbTest_to_nbpos', <Parameter 'OBS_nbTest_to_nbpos', value=0.75, bounds=[0.5:0.9]>)])\n",
      "Parameters([('beta_SI', <Parameter 'beta_SI', value=0.1792779496223293, bounds=[0.001:10]>), ('gamma_IR', <Parameter 'gamma_IR', value=0.10000552617757968, bounds=[0.1:2]>), ('I0', <Parameter 'I0', value=80.5254578431331, bounds=[1:500]>), ('OBS_Tr_SI_to_nbTest', <Parameter 'OBS_Tr_SI_to_nbTest', value=0.7973857562927092, bounds=[0.05:1]>), ('OBS_nbTest_to_nbpos', <Parameter 'OBS_nbTest_to_nbpos', value=0.75, bounds=[0.5:0.9]>)])\n",
      "Parameters([('beta_SI', <Parameter 'beta_SI', value=0.1792779496223293, bounds=[0.001:10]>), ('gamma_IR', <Parameter 'gamma_IR', value=0.10000552617757968, bounds=[0.1:2]>), ('I0', <Parameter 'I0', value=80.52545580333096, bounds=[1:500]>), ('OBS_Tr_SI_to_nbTest', <Parameter 'OBS_Tr_SI_to_nbTest', value=0.7973857598339683, bounds=[0.05:1]>), ('OBS_nbTest_to_nbpos', <Parameter 'OBS_nbTest_to_nbpos', value=0.75, bounds=[0.5:0.9]>)])\n",
      "Parameters([('beta_SI', <Parameter 'beta_SI', value=0.1792779496223293, bounds=[0.001:10]>), ('gamma_IR', <Parameter 'gamma_IR', value=0.10000552617757968, bounds=[0.1:2]>), ('I0', <Parameter 'I0', value=80.52545580333096, bounds=[1:500]>), ('OBS_Tr_SI_to_nbTest', <Parameter 'OBS_Tr_SI_to_nbTest', value=0.7973857562927092, bounds=[0.05:1]>), ('OBS_nbTest_to_nbpos', <Parameter 'OBS_nbTest_to_nbpos', value=0.7500000007291335, bounds=[0.5:0.9]>)])\n",
      "Parameters([('beta_SI', <Parameter 'beta_SI', value=0.17939136517540782, bounds=[0.001:10]>), ('gamma_IR', <Parameter 'gamma_IR', value=0.10000431309253362, bounds=[0.1:2]>), ('I0', <Parameter 'I0', value=81.79465455625989, bounds=[1:500]>), ('OBS_Tr_SI_to_nbTest', <Parameter 'OBS_Tr_SI_to_nbTest', value=0.7804582562901037, bounds=[0.05:1]>), ('OBS_nbTest_to_nbpos', <Parameter 'OBS_nbTest_to_nbpos', value=0.75, bounds=[0.5:0.9]>)])\n",
      "Parameters([('beta_SI', <Parameter 'beta_SI', value=0.17939139087182474, bounds=[0.001:10]>), ('gamma_IR', <Parameter 'gamma_IR', value=0.10000431309253362, bounds=[0.1:2]>), ('I0', <Parameter 'I0', value=81.79465455625989, bounds=[1:500]>), ('OBS_Tr_SI_to_nbTest', <Parameter 'OBS_Tr_SI_to_nbTest', value=0.7804582562901037, bounds=[0.05:1]>), ('OBS_nbTest_to_nbpos', <Parameter 'OBS_nbTest_to_nbpos', value=0.75, bounds=[0.5:0.9]>)])\n",
      "Parameters([('beta_SI', <Parameter 'beta_SI', value=0.17939136517540782, bounds=[0.001:10]>), ('gamma_IR', <Parameter 'gamma_IR', value=0.10000374153682368, bounds=[0.1:2]>), ('I0', <Parameter 'I0', value=81.79465455625989, bounds=[1:500]>), ('OBS_Tr_SI_to_nbTest', <Parameter 'OBS_Tr_SI_to_nbTest', value=0.7804582562901037, bounds=[0.05:1]>), ('OBS_nbTest_to_nbpos', <Parameter 'OBS_nbTest_to_nbpos', value=0.75, bounds=[0.5:0.9]>)])\n",
      "Parameters([('beta_SI', <Parameter 'beta_SI', value=0.17939136517540782, bounds=[0.001:10]>), ('gamma_IR', <Parameter 'gamma_IR', value=0.10000431309253362, bounds=[0.1:2]>), ('I0', <Parameter 'I0', value=81.79465659018905, bounds=[1:500]>), ('OBS_Tr_SI_to_nbTest', <Parameter 'OBS_Tr_SI_to_nbTest', value=0.7804582562901037, bounds=[0.05:1]>), ('OBS_nbTest_to_nbpos', <Parameter 'OBS_nbTest_to_nbpos', value=0.75, bounds=[0.5:0.9]>)])\n",
      "Parameters([('beta_SI', <Parameter 'beta_SI', value=0.17939136517540782, bounds=[0.001:10]>), ('gamma_IR', <Parameter 'gamma_IR', value=0.10000431309253362, bounds=[0.1:2]>), ('I0', <Parameter 'I0', value=81.79465455625989, bounds=[1:500]>), ('OBS_Tr_SI_to_nbTest', <Parameter 'OBS_Tr_SI_to_nbTest', value=0.7804582596785252, bounds=[0.05:1]>), ('OBS_nbTest_to_nbpos', <Parameter 'OBS_nbTest_to_nbpos', value=0.75, bounds=[0.5:0.9]>)])\n",
      "Parameters([('beta_SI', <Parameter 'beta_SI', value=0.17939136517540782, bounds=[0.001:10]>), ('gamma_IR', <Parameter 'gamma_IR', value=0.10000431309253362, bounds=[0.1:2]>), ('I0', <Parameter 'I0', value=81.79465455625989, bounds=[1:500]>), ('OBS_Tr_SI_to_nbTest', <Parameter 'OBS_Tr_SI_to_nbTest', value=0.7804582562901037, bounds=[0.05:1]>), ('OBS_nbTest_to_nbpos', <Parameter 'OBS_nbTest_to_nbpos', value=0.7500000007291335, bounds=[0.5:0.9]>)])\n",
      "Parameters([('beta_SI', <Parameter 'beta_SI', value=0.1794967081755293, bounds=[0.001:10]>), ('gamma_IR', <Parameter 'gamma_IR', value=0.10000337896994528, bounds=[0.1:2]>), ('I0', <Parameter 'I0', value=82.99896480611334, bounds=[1:500]>), ('OBS_Tr_SI_to_nbTest', <Parameter 'OBS_Tr_SI_to_nbTest', value=0.7651379510897504, bounds=[0.05:1]>), ('OBS_nbTest_to_nbpos', <Parameter 'OBS_nbTest_to_nbpos', value=0.75, bounds=[0.5:0.9]>)])\n",
      "Parameters([('beta_SI', <Parameter 'beta_SI', value=0.17949673387782428, bounds=[0.001:10]>), ('gamma_IR', <Parameter 'gamma_IR', value=0.10000337896994528, bounds=[0.1:2]>), ('I0', <Parameter 'I0', value=82.99896480611334, bounds=[1:500]>), ('OBS_Tr_SI_to_nbTest', <Parameter 'OBS_Tr_SI_to_nbTest', value=0.7651379510897504, bounds=[0.05:1]>), ('OBS_nbTest_to_nbpos', <Parameter 'OBS_nbTest_to_nbpos', value=0.75, bounds=[0.5:0.9]>)])\n",
      "Parameters([('beta_SI', <Parameter 'beta_SI', value=0.1794967081755293, bounds=[0.001:10]>), ('gamma_IR', <Parameter 'gamma_IR', value=0.10000287541229452, bounds=[0.1:2]>), ('I0', <Parameter 'I0', value=82.99896480611334, bounds=[1:500]>), ('OBS_Tr_SI_to_nbTest', <Parameter 'OBS_Tr_SI_to_nbTest', value=0.7651379510897504, bounds=[0.05:1]>), ('OBS_nbTest_to_nbpos', <Parameter 'OBS_nbTest_to_nbpos', value=0.75, bounds=[0.5:0.9]>)])\n",
      "Parameters([('beta_SI', <Parameter 'beta_SI', value=0.1794967081755293, bounds=[0.001:10]>), ('gamma_IR', <Parameter 'gamma_IR', value=0.10000337896994528, bounds=[0.1:2]>), ('I0', <Parameter 'I0', value=82.9989668341937, bounds=[1:500]>), ('OBS_Tr_SI_to_nbTest', <Parameter 'OBS_Tr_SI_to_nbTest', value=0.7651379510897504, bounds=[0.05:1]>), ('OBS_nbTest_to_nbpos', <Parameter 'OBS_nbTest_to_nbpos', value=0.75, bounds=[0.5:0.9]>)])\n",
      "Parameters([('beta_SI', <Parameter 'beta_SI', value=0.1794967081755293, bounds=[0.001:10]>), ('gamma_IR', <Parameter 'gamma_IR', value=0.10000337896994528, bounds=[0.1:2]>), ('I0', <Parameter 'I0', value=82.99896480611334, bounds=[1:500]>), ('OBS_Tr_SI_to_nbTest', <Parameter 'OBS_Tr_SI_to_nbTest', value=0.7651379543265553, bounds=[0.05:1]>), ('OBS_nbTest_to_nbpos', <Parameter 'OBS_nbTest_to_nbpos', value=0.75, bounds=[0.5:0.9]>)])\n",
      "Parameters([('beta_SI', <Parameter 'beta_SI', value=0.1794967081755293, bounds=[0.001:10]>), ('gamma_IR', <Parameter 'gamma_IR', value=0.10000337896994528, bounds=[0.1:2]>), ('I0', <Parameter 'I0', value=82.99896480611334, bounds=[1:500]>), ('OBS_Tr_SI_to_nbTest', <Parameter 'OBS_Tr_SI_to_nbTest', value=0.7651379510897504, bounds=[0.05:1]>), ('OBS_nbTest_to_nbpos', <Parameter 'OBS_nbTest_to_nbpos', value=0.7500000007291335, bounds=[0.5:0.9]>)])\n",
      "Parameters([('beta_SI', <Parameter 'beta_SI', value=0.1797163604517666, bounds=[0.001:10]>), ('gamma_IR', <Parameter 'gamma_IR', value=0.10000252013509794, bounds=[0.1:2]>), ('I0', <Parameter 'I0', value=85.36496326769537, bounds=[1:500]>), ('OBS_Tr_SI_to_nbTest', <Parameter 'OBS_Tr_SI_to_nbTest', value=0.7345341220891911, bounds=[0.05:1]>), ('OBS_nbTest_to_nbpos', <Parameter 'OBS_nbTest_to_nbpos', value=0.75, bounds=[0.5:0.9]>)])\n",
      "Parameters([('beta_SI', <Parameter 'beta_SI', value=0.17954899231257648, bounds=[0.001:10]>), ('gamma_IR', <Parameter 'gamma_IR', value=0.10000306258366781, bounds=[0.1:2]>), ('I0', <Parameter 'I0', value=83.49207649058843, bounds=[1:500]>), ('OBS_Tr_SI_to_nbTest', <Parameter 'OBS_Tr_SI_to_nbTest', value=0.7588078036230399, bounds=[0.05:1]>), ('OBS_nbTest_to_nbpos', <Parameter 'OBS_nbTest_to_nbpos', value=0.75, bounds=[0.5:0.9]>)])\n",
      "Parameters([('beta_SI', <Parameter 'beta_SI', value=0.17954901801778772, bounds=[0.001:10]>), ('gamma_IR', <Parameter 'gamma_IR', value=0.10000306258366781, bounds=[0.1:2]>), ('I0', <Parameter 'I0', value=83.49207649058843, bounds=[1:500]>), ('OBS_Tr_SI_to_nbTest', <Parameter 'OBS_Tr_SI_to_nbTest', value=0.7588078036230399, bounds=[0.05:1]>), ('OBS_nbTest_to_nbpos', <Parameter 'OBS_nbTest_to_nbpos', value=0.75, bounds=[0.5:0.9]>)])\n",
      "Parameters([('beta_SI', <Parameter 'beta_SI', value=0.17954899231257648, bounds=[0.001:10]>), ('gamma_IR', <Parameter 'gamma_IR', value=0.10000258415429139, bounds=[0.1:2]>), ('I0', <Parameter 'I0', value=83.49207649058843, bounds=[1:500]>), ('OBS_Tr_SI_to_nbTest', <Parameter 'OBS_Tr_SI_to_nbTest', value=0.7588078036230399, bounds=[0.05:1]>), ('OBS_nbTest_to_nbpos', <Parameter 'OBS_nbTest_to_nbpos', value=0.75, bounds=[0.5:0.9]>)])\n",
      "Parameters([('beta_SI', <Parameter 'beta_SI', value=0.17954899231257648, bounds=[0.001:10]>), ('gamma_IR', <Parameter 'gamma_IR', value=0.10000306258366781, bounds=[0.1:2]>), ('I0', <Parameter 'I0', value=83.49207851619784, bounds=[1:500]>), ('OBS_Tr_SI_to_nbTest', <Parameter 'OBS_Tr_SI_to_nbTest', value=0.7588078036230399, bounds=[0.05:1]>), ('OBS_nbTest_to_nbpos', <Parameter 'OBS_nbTest_to_nbpos', value=0.75, bounds=[0.5:0.9]>)])\n",
      "Parameters([('beta_SI', <Parameter 'beta_SI', value=0.17954899231257648, bounds=[0.001:10]>), ('gamma_IR', <Parameter 'gamma_IR', value=0.10000306258366781, bounds=[0.1:2]>), ('I0', <Parameter 'I0', value=83.49207649058843, bounds=[1:500]>), ('OBS_Tr_SI_to_nbTest', <Parameter 'OBS_Tr_SI_to_nbTest', value=0.7588078067938834, bounds=[0.05:1]>), ('OBS_nbTest_to_nbpos', <Parameter 'OBS_nbTest_to_nbpos', value=0.75, bounds=[0.5:0.9]>)])\n",
      "Parameters([('beta_SI', <Parameter 'beta_SI', value=0.17954899231257648, bounds=[0.001:10]>), ('gamma_IR', <Parameter 'gamma_IR', value=0.10000306258366781, bounds=[0.1:2]>), ('I0', <Parameter 'I0', value=83.49207649058843, bounds=[1:500]>), ('OBS_Tr_SI_to_nbTest', <Parameter 'OBS_Tr_SI_to_nbTest', value=0.7588078036230399, bounds=[0.05:1]>), ('OBS_nbTest_to_nbpos', <Parameter 'OBS_nbTest_to_nbpos', value=0.7500000007291335, bounds=[0.5:0.9]>)])\n",
      "Parameters([('beta_SI', <Parameter 'beta_SI', value=0.17963540148853424, bounds=[0.001:10]>), ('gamma_IR', <Parameter 'gamma_IR', value=0.10000259346580409, bounds=[0.1:2]>), ('I0', <Parameter 'I0', value=84.48592381900801, bounds=[1:500]>), ('OBS_Tr_SI_to_nbTest', <Parameter 'OBS_Tr_SI_to_nbTest', value=0.7464649341790751, bounds=[0.05:1]>), ('OBS_nbTest_to_nbpos', <Parameter 'OBS_nbTest_to_nbpos', value=0.75, bounds=[0.5:0.9]>)])\n",
      "Parameters([('beta_SI', <Parameter 'beta_SI', value=0.17963542719856448, bounds=[0.001:10]>), ('gamma_IR', <Parameter 'gamma_IR', value=0.10000259346580409, bounds=[0.1:2]>), ('I0', <Parameter 'I0', value=84.48592381900801, bounds=[1:500]>), ('OBS_Tr_SI_to_nbTest', <Parameter 'OBS_Tr_SI_to_nbTest', value=0.7464649341790751, bounds=[0.05:1]>), ('OBS_nbTest_to_nbpos', <Parameter 'OBS_nbTest_to_nbpos', value=0.75, bounds=[0.5:0.9]>)])\n",
      "Parameters([('beta_SI', <Parameter 'beta_SI', value=0.17963540148853424, bounds=[0.001:10]>), ('gamma_IR', <Parameter 'gamma_IR', value=0.1000021548204845, bounds=[0.1:2]>), ('I0', <Parameter 'I0', value=84.48592381900801, bounds=[1:500]>), ('OBS_Tr_SI_to_nbTest', <Parameter 'OBS_Tr_SI_to_nbTest', value=0.7464649341790751, bounds=[0.05:1]>), ('OBS_nbTest_to_nbpos', <Parameter 'OBS_nbTest_to_nbpos', value=0.75, bounds=[0.5:0.9]>)])\n",
      "Parameters([('beta_SI', <Parameter 'beta_SI', value=0.17963540148853424, bounds=[0.001:10]>), ('gamma_IR', <Parameter 'gamma_IR', value=0.10000259346580409, bounds=[0.1:2]>), ('I0', <Parameter 'I0', value=84.48592583950536, bounds=[1:500]>), ('OBS_Tr_SI_to_nbTest', <Parameter 'OBS_Tr_SI_to_nbTest', value=0.7464649341790751, bounds=[0.05:1]>), ('OBS_nbTest_to_nbpos', <Parameter 'OBS_nbTest_to_nbpos', value=0.75, bounds=[0.5:0.9]>)])\n",
      "Parameters([('beta_SI', <Parameter 'beta_SI', value=0.17963540148853424, bounds=[0.001:10]>), ('gamma_IR', <Parameter 'gamma_IR', value=0.10000259346580409, bounds=[0.1:2]>), ('I0', <Parameter 'I0', value=84.48592381900801, bounds=[1:500]>), ('OBS_Tr_SI_to_nbTest', <Parameter 'OBS_Tr_SI_to_nbTest', value=0.746464937216213, bounds=[0.05:1]>), ('OBS_nbTest_to_nbpos', <Parameter 'OBS_nbTest_to_nbpos', value=0.75, bounds=[0.5:0.9]>)])\n",
      "Parameters([('beta_SI', <Parameter 'beta_SI', value=0.17963540148853424, bounds=[0.001:10]>), ('gamma_IR', <Parameter 'gamma_IR', value=0.10000259346580409, bounds=[0.1:2]>), ('I0', <Parameter 'I0', value=84.48592381900801, bounds=[1:500]>), ('OBS_Tr_SI_to_nbTest', <Parameter 'OBS_Tr_SI_to_nbTest', value=0.7464649341790751, bounds=[0.05:1]>), ('OBS_nbTest_to_nbpos', <Parameter 'OBS_nbTest_to_nbpos', value=0.7500000007291335, bounds=[0.5:0.9]>)])\n",
      "Parameters([('beta_SI', <Parameter 'beta_SI', value=0.17981746937080373, bounds=[0.001:10]>), ('gamma_IR', <Parameter 'gamma_IR', value=0.10000186273555339, bounds=[0.1:2]>), ('I0', <Parameter 'I0', value=86.46362211249759, bounds=[1:500]>), ('OBS_Tr_SI_to_nbTest', <Parameter 'OBS_Tr_SI_to_nbTest', value=0.7220156376646609, bounds=[0.05:1]>), ('OBS_nbTest_to_nbpos', <Parameter 'OBS_nbTest_to_nbpos', value=0.75, bounds=[0.5:0.9]>)])\n"
     ]
    },
    {
     "name": "stdout",
     "output_type": "stream",
     "text": [
      "Parameters([('beta_SI', <Parameter 'beta_SI', value=0.17969637459103058, bounds=[0.001:10]>), ('gamma_IR', <Parameter 'gamma_IR', value=0.10000230698201226, bounds=[0.1:2]>), ('I0', <Parameter 'I0', value=85.12892277341977, bounds=[1:500]>), ('OBS_Tr_SI_to_nbTest', <Parameter 'OBS_Tr_SI_to_nbTest', value=0.7386502912117784, bounds=[0.05:1]>), ('OBS_nbTest_to_nbpos', <Parameter 'OBS_nbTest_to_nbpos', value=0.75, bounds=[0.5:0.9]>)])\n",
      "Parameters([('beta_SI', <Parameter 'beta_SI', value=0.1796964003044594, bounds=[0.001:10]>), ('gamma_IR', <Parameter 'gamma_IR', value=0.10000230698201226, bounds=[0.1:2]>), ('I0', <Parameter 'I0', value=85.12892277341977, bounds=[1:500]>), ('OBS_Tr_SI_to_nbTest', <Parameter 'OBS_Tr_SI_to_nbTest', value=0.7386502912117784, bounds=[0.05:1]>), ('OBS_nbTest_to_nbpos', <Parameter 'OBS_nbTest_to_nbpos', value=0.75, bounds=[0.5:0.9]>)])\n",
      "Parameters([('beta_SI', <Parameter 'beta_SI', value=0.17969637459103058, bounds=[0.001:10]>), ('gamma_IR', <Parameter 'gamma_IR', value=0.10000189442688955, bounds=[0.1:2]>), ('I0', <Parameter 'I0', value=85.12892277341977, bounds=[1:500]>), ('OBS_Tr_SI_to_nbTest', <Parameter 'OBS_Tr_SI_to_nbTest', value=0.7386502912117784, bounds=[0.05:1]>), ('OBS_nbTest_to_nbpos', <Parameter 'OBS_nbTest_to_nbpos', value=0.75, bounds=[0.5:0.9]>)])\n",
      "Parameters([('beta_SI', <Parameter 'beta_SI', value=0.17969637459103058, bounds=[0.001:10]>), ('gamma_IR', <Parameter 'gamma_IR', value=0.10000230698201226, bounds=[0.1:2]>), ('I0', <Parameter 'I0', value=85.12892479051698, bounds=[1:500]>), ('OBS_Tr_SI_to_nbTest', <Parameter 'OBS_Tr_SI_to_nbTest', value=0.7386502912117784, bounds=[0.05:1]>), ('OBS_nbTest_to_nbpos', <Parameter 'OBS_nbTest_to_nbpos', value=0.75, bounds=[0.5:0.9]>)])\n",
      "Parameters([('beta_SI', <Parameter 'beta_SI', value=0.17969637459103058, bounds=[0.001:10]>), ('gamma_IR', <Parameter 'gamma_IR', value=0.10000230698201226, bounds=[0.1:2]>), ('I0', <Parameter 'I0', value=85.12892277341977, bounds=[1:500]>), ('OBS_Tr_SI_to_nbTest', <Parameter 'OBS_Tr_SI_to_nbTest', value=0.7386502941610199, bounds=[0.05:1]>), ('OBS_nbTest_to_nbpos', <Parameter 'OBS_nbTest_to_nbpos', value=0.75, bounds=[0.5:0.9]>)])\n",
      "Parameters([('beta_SI', <Parameter 'beta_SI', value=0.17969637459103058, bounds=[0.001:10]>), ('gamma_IR', <Parameter 'gamma_IR', value=0.10000230698201226, bounds=[0.1:2]>), ('I0', <Parameter 'I0', value=85.12892277341977, bounds=[1:500]>), ('OBS_Tr_SI_to_nbTest', <Parameter 'OBS_Tr_SI_to_nbTest', value=0.7386502912117784, bounds=[0.05:1]>), ('OBS_nbTest_to_nbpos', <Parameter 'OBS_nbTest_to_nbpos', value=0.7500000007291335, bounds=[0.5:0.9]>)])\n",
      "Parameters([('beta_SI', <Parameter 'beta_SI', value=0.1798130522654925, bounds=[0.001:10]>), ('gamma_IR', <Parameter 'gamma_IR', value=0.10000178289594025, bounds=[0.1:2]>), ('I0', <Parameter 'I0', value=86.42408836546879, bounds=[1:500]>), ('OBS_Tr_SI_to_nbTest', <Parameter 'OBS_Tr_SI_to_nbTest', value=0.723050947341792, bounds=[0.05:1]>), ('OBS_nbTest_to_nbpos', <Parameter 'OBS_nbTest_to_nbpos', value=0.75, bounds=[0.5:0.9]>)])\n",
      "Parameters([('beta_SI', <Parameter 'beta_SI', value=0.17981307798542326, bounds=[0.001:10]>), ('gamma_IR', <Parameter 'gamma_IR', value=0.10000178289594025, bounds=[0.1:2]>), ('I0', <Parameter 'I0', value=86.42408836546879, bounds=[1:500]>), ('OBS_Tr_SI_to_nbTest', <Parameter 'OBS_Tr_SI_to_nbTest', value=0.723050947341792, bounds=[0.05:1]>), ('OBS_nbTest_to_nbpos', <Parameter 'OBS_nbTest_to_nbpos', value=0.75, bounds=[0.5:0.9]>)])\n",
      "Parameters([('beta_SI', <Parameter 'beta_SI', value=0.1798130522654925, bounds=[0.001:10]>), ('gamma_IR', <Parameter 'gamma_IR', value=0.1000014226712025, bounds=[0.1:2]>), ('I0', <Parameter 'I0', value=86.42408836546879, bounds=[1:500]>), ('OBS_Tr_SI_to_nbTest', <Parameter 'OBS_Tr_SI_to_nbTest', value=0.723050947341792, bounds=[0.05:1]>), ('OBS_nbTest_to_nbpos', <Parameter 'OBS_nbTest_to_nbpos', value=0.75, bounds=[0.5:0.9]>)])\n",
      "Parameters([('beta_SI', <Parameter 'beta_SI', value=0.1798130522654925, bounds=[0.001:10]>), ('gamma_IR', <Parameter 'gamma_IR', value=0.10000178289594025, bounds=[0.1:2]>), ('I0', <Parameter 'I0', value=86.42409037550011, bounds=[1:500]>), ('OBS_Tr_SI_to_nbTest', <Parameter 'OBS_Tr_SI_to_nbTest', value=0.723050947341792, bounds=[0.05:1]>), ('OBS_nbTest_to_nbpos', <Parameter 'OBS_nbTest_to_nbpos', value=0.75, bounds=[0.5:0.9]>)])\n",
      "Parameters([('beta_SI', <Parameter 'beta_SI', value=0.1798130522654925, bounds=[0.001:10]>), ('gamma_IR', <Parameter 'gamma_IR', value=0.10000178289594025, bounds=[0.1:2]>), ('I0', <Parameter 'I0', value=86.42408836546879, bounds=[1:500]>), ('OBS_Tr_SI_to_nbTest', <Parameter 'OBS_Tr_SI_to_nbTest', value=0.7230509501087321, bounds=[0.05:1]>), ('OBS_nbTest_to_nbpos', <Parameter 'OBS_nbTest_to_nbpos', value=0.75, bounds=[0.5:0.9]>)])\n",
      "Parameters([('beta_SI', <Parameter 'beta_SI', value=0.1798130522654925, bounds=[0.001:10]>), ('gamma_IR', <Parameter 'gamma_IR', value=0.10000178289594025, bounds=[0.1:2]>), ('I0', <Parameter 'I0', value=86.42408836546879, bounds=[1:500]>), ('OBS_Tr_SI_to_nbTest', <Parameter 'OBS_Tr_SI_to_nbTest', value=0.723050947341792, bounds=[0.05:1]>), ('OBS_nbTest_to_nbpos', <Parameter 'OBS_nbTest_to_nbpos', value=0.7500000007291335, bounds=[0.5:0.9]>)])\n",
      "Parameters([('beta_SI', <Parameter 'beta_SI', value=0.17994344192939526, bounds=[0.001:10]>), ('gamma_IR', <Parameter 'gamma_IR', value=0.10000239997761479, bounds=[0.1:2]>), ('I0', <Parameter 'I0', value=87.69619471751145, bounds=[1:500]>), ('OBS_Tr_SI_to_nbTest', <Parameter 'OBS_Tr_SI_to_nbTest', value=0.707783566341224, bounds=[0.05:1]>), ('OBS_nbTest_to_nbpos', <Parameter 'OBS_nbTest_to_nbpos', value=0.75, bounds=[0.5:0.9]>)])\n",
      "Parameters([('beta_SI', <Parameter 'beta_SI', value=0.17994346765658728, bounds=[0.001:10]>), ('gamma_IR', <Parameter 'gamma_IR', value=0.10000239997761479, bounds=[0.1:2]>), ('I0', <Parameter 'I0', value=87.69619471751145, bounds=[1:500]>), ('OBS_Tr_SI_to_nbTest', <Parameter 'OBS_Tr_SI_to_nbTest', value=0.707783566341224, bounds=[0.05:1]>), ('OBS_nbTest_to_nbpos', <Parameter 'OBS_nbTest_to_nbpos', value=0.75, bounds=[0.5:0.9]>)])\n",
      "Parameters([('beta_SI', <Parameter 'beta_SI', value=0.17994344192939526, bounds=[0.001:10]>), ('gamma_IR', <Parameter 'gamma_IR', value=0.10000197878430205, bounds=[0.1:2]>), ('I0', <Parameter 'I0', value=87.69619471751145, bounds=[1:500]>), ('OBS_Tr_SI_to_nbTest', <Parameter 'OBS_Tr_SI_to_nbTest', value=0.707783566341224, bounds=[0.05:1]>), ('OBS_nbTest_to_nbpos', <Parameter 'OBS_nbTest_to_nbpos', value=0.75, bounds=[0.5:0.9]>)])\n",
      "Parameters([('beta_SI', <Parameter 'beta_SI', value=0.17994344192939526, bounds=[0.001:10]>), ('gamma_IR', <Parameter 'gamma_IR', value=0.10000239997761479, bounds=[0.1:2]>), ('I0', <Parameter 'I0', value=87.69619672032597, bounds=[1:500]>), ('OBS_Tr_SI_to_nbTest', <Parameter 'OBS_Tr_SI_to_nbTest', value=0.707783566341224, bounds=[0.05:1]>), ('OBS_nbTest_to_nbpos', <Parameter 'OBS_nbTest_to_nbpos', value=0.75, bounds=[0.5:0.9]>)])\n",
      "Parameters([('beta_SI', <Parameter 'beta_SI', value=0.17994344192939526, bounds=[0.001:10]>), ('gamma_IR', <Parameter 'gamma_IR', value=0.10000239997761479, bounds=[0.1:2]>), ('I0', <Parameter 'I0', value=87.69619471751145, bounds=[1:500]>), ('OBS_Tr_SI_to_nbTest', <Parameter 'OBS_Tr_SI_to_nbTest', value=0.7077835689217618, bounds=[0.05:1]>), ('OBS_nbTest_to_nbpos', <Parameter 'OBS_nbTest_to_nbpos', value=0.75, bounds=[0.5:0.9]>)])\n",
      "Parameters([('beta_SI', <Parameter 'beta_SI', value=0.17994344192939526, bounds=[0.001:10]>), ('gamma_IR', <Parameter 'gamma_IR', value=0.10000239997761479, bounds=[0.1:2]>), ('I0', <Parameter 'I0', value=87.69619471751145, bounds=[1:500]>), ('OBS_Tr_SI_to_nbTest', <Parameter 'OBS_Tr_SI_to_nbTest', value=0.707783566341224, bounds=[0.05:1]>), ('OBS_nbTest_to_nbpos', <Parameter 'OBS_nbTest_to_nbpos', value=0.7500000007291335, bounds=[0.5:0.9]>)])\n",
      "Parameters([('beta_SI', <Parameter 'beta_SI', value=0.18004932957905714, bounds=[0.001:10]>), ('gamma_IR', <Parameter 'gamma_IR', value=0.10015632555685143, bounds=[0.1:2]>), ('I0', <Parameter 'I0', value=88.40781371294085, bounds=[1:500]>), ('OBS_Tr_SI_to_nbTest', <Parameter 'OBS_Tr_SI_to_nbTest', value=0.6995783896827847, bounds=[0.05:1]>), ('OBS_nbTest_to_nbpos', <Parameter 'OBS_nbTest_to_nbpos', value=0.75, bounds=[0.5:0.9]>)])\n",
      "Parameters([('beta_SI', <Parameter 'beta_SI', value=0.1799609449663672, bounds=[0.001:10]>), ('gamma_IR', <Parameter 'gamma_IR', value=0.10000247470150492, bounds=[0.1:2]>), ('I0', <Parameter 'I0', value=87.84459939713501, bounds=[1:500]>), ('OBS_Tr_SI_to_nbTest', <Parameter 'OBS_Tr_SI_to_nbTest', value=0.7062963821095584, bounds=[0.05:1]>), ('OBS_nbTest_to_nbpos', <Parameter 'OBS_nbTest_to_nbpos', value=0.75, bounds=[0.5:0.9]>)])\n",
      "Parameters([('beta_SI', <Parameter 'beta_SI', value=0.17996097069453387, bounds=[0.001:10]>), ('gamma_IR', <Parameter 'gamma_IR', value=0.10000247470150492, bounds=[0.1:2]>), ('I0', <Parameter 'I0', value=87.84459939713501, bounds=[1:500]>), ('OBS_Tr_SI_to_nbTest', <Parameter 'OBS_Tr_SI_to_nbTest', value=0.7062963821095584, bounds=[0.05:1]>), ('OBS_nbTest_to_nbpos', <Parameter 'OBS_nbTest_to_nbpos', value=0.75, bounds=[0.5:0.9]>)])\n",
      "Parameters([('beta_SI', <Parameter 'beta_SI', value=0.1799609449663672, bounds=[0.001:10]>), ('gamma_IR', <Parameter 'gamma_IR', value=0.10000204668781221, bounds=[0.1:2]>), ('I0', <Parameter 'I0', value=87.84459939713501, bounds=[1:500]>), ('OBS_Tr_SI_to_nbTest', <Parameter 'OBS_Tr_SI_to_nbTest', value=0.7062963821095584, bounds=[0.05:1]>), ('OBS_nbTest_to_nbpos', <Parameter 'OBS_nbTest_to_nbpos', value=0.75, bounds=[0.5:0.9]>)])\n",
      "Parameters([('beta_SI', <Parameter 'beta_SI', value=0.1799609449663672, bounds=[0.001:10]>), ('gamma_IR', <Parameter 'gamma_IR', value=0.10000247470150492, bounds=[0.1:2]>), ('I0', <Parameter 'I0', value=87.84460139909002, bounds=[1:500]>), ('OBS_Tr_SI_to_nbTest', <Parameter 'OBS_Tr_SI_to_nbTest', value=0.7062963821095584, bounds=[0.05:1]>), ('OBS_nbTest_to_nbpos', <Parameter 'OBS_nbTest_to_nbpos', value=0.75, bounds=[0.5:0.9]>)])\n",
      "Parameters([('beta_SI', <Parameter 'beta_SI', value=0.1799609449663672, bounds=[0.001:10]>), ('gamma_IR', <Parameter 'gamma_IR', value=0.10000247470150492, bounds=[0.1:2]>), ('I0', <Parameter 'I0', value=87.84459939713501, bounds=[1:500]>), ('OBS_Tr_SI_to_nbTest', <Parameter 'OBS_Tr_SI_to_nbTest', value=0.7062963846715518, bounds=[0.05:1]>), ('OBS_nbTest_to_nbpos', <Parameter 'OBS_nbTest_to_nbpos', value=0.75, bounds=[0.5:0.9]>)])\n",
      "Parameters([('beta_SI', <Parameter 'beta_SI', value=0.1799609449663672, bounds=[0.001:10]>), ('gamma_IR', <Parameter 'gamma_IR', value=0.10000247470150492, bounds=[0.1:2]>), ('I0', <Parameter 'I0', value=87.84459939713501, bounds=[1:500]>), ('OBS_Tr_SI_to_nbTest', <Parameter 'OBS_Tr_SI_to_nbTest', value=0.7062963821095584, bounds=[0.05:1]>), ('OBS_nbTest_to_nbpos', <Parameter 'OBS_nbTest_to_nbpos', value=0.7500000007291335, bounds=[0.5:0.9]>)])\n",
      "Parameters([('beta_SI', <Parameter 'beta_SI', value=0.179981745123147, bounds=[0.001:10]>), ('gamma_IR', <Parameter 'gamma_IR', value=0.10000238853547389, bounds=[0.1:2]>), ('I0', <Parameter 'I0', value=88.15495703669262, bounds=[1:500]>), ('OBS_Tr_SI_to_nbTest', <Parameter 'OBS_Tr_SI_to_nbTest', value=0.7031391230797467, bounds=[0.05:1]>), ('OBS_nbTest_to_nbpos', <Parameter 'OBS_nbTest_to_nbpos', value=0.75, bounds=[0.5:0.9]>)])\n",
      "Parameters([('beta_SI', <Parameter 'beta_SI', value=0.17998177085247152, bounds=[0.001:10]>), ('gamma_IR', <Parameter 'gamma_IR', value=0.10000238853547389, bounds=[0.1:2]>), ('I0', <Parameter 'I0', value=88.15495703669262, bounds=[1:500]>), ('OBS_Tr_SI_to_nbTest', <Parameter 'OBS_Tr_SI_to_nbTest', value=0.7031391230797467, bounds=[0.05:1]>), ('OBS_nbTest_to_nbpos', <Parameter 'OBS_nbTest_to_nbpos', value=0.75, bounds=[0.5:0.9]>)])\n",
      "Parameters([('beta_SI', <Parameter 'beta_SI', value=0.179981745123147, bounds=[0.001:10]>), ('gamma_IR', <Parameter 'gamma_IR', value=0.10000196839586029, bounds=[0.1:2]>), ('I0', <Parameter 'I0', value=88.15495703669262, bounds=[1:500]>), ('OBS_Tr_SI_to_nbTest', <Parameter 'OBS_Tr_SI_to_nbTest', value=0.7031391230797467, bounds=[0.05:1]>), ('OBS_nbTest_to_nbpos', <Parameter 'OBS_nbTest_to_nbpos', value=0.75, bounds=[0.5:0.9]>)])\n",
      "Parameters([('beta_SI', <Parameter 'beta_SI', value=0.179981745123147, bounds=[0.001:10]>), ('gamma_IR', <Parameter 'gamma_IR', value=0.10000238853547389, bounds=[0.1:2]>), ('I0', <Parameter 'I0', value=88.15495903683846, bounds=[1:500]>), ('OBS_Tr_SI_to_nbTest', <Parameter 'OBS_Tr_SI_to_nbTest', value=0.7031391230797467, bounds=[0.05:1]>), ('OBS_nbTest_to_nbpos', <Parameter 'OBS_nbTest_to_nbpos', value=0.75, bounds=[0.5:0.9]>)])\n",
      "Parameters([('beta_SI', <Parameter 'beta_SI', value=0.179981745123147, bounds=[0.001:10]>), ('gamma_IR', <Parameter 'gamma_IR', value=0.10000238853547389, bounds=[0.1:2]>), ('I0', <Parameter 'I0', value=88.15495703669262, bounds=[1:500]>), ('OBS_Tr_SI_to_nbTest', <Parameter 'OBS_Tr_SI_to_nbTest', value=0.7031391256021551, bounds=[0.05:1]>), ('OBS_nbTest_to_nbpos', <Parameter 'OBS_nbTest_to_nbpos', value=0.75, bounds=[0.5:0.9]>)])\n",
      "Parameters([('beta_SI', <Parameter 'beta_SI', value=0.179981745123147, bounds=[0.001:10]>), ('gamma_IR', <Parameter 'gamma_IR', value=0.10000238853547389, bounds=[0.1:2]>), ('I0', <Parameter 'I0', value=88.15495703669262, bounds=[1:500]>), ('OBS_Tr_SI_to_nbTest', <Parameter 'OBS_Tr_SI_to_nbTest', value=0.7031391230797467, bounds=[0.05:1]>), ('OBS_nbTest_to_nbpos', <Parameter 'OBS_nbTest_to_nbpos', value=0.7500000007291335, bounds=[0.5:0.9]>)])\n",
      "Parameters([('beta_SI', <Parameter 'beta_SI', value=0.17995575860451016, bounds=[0.001:10]>), ('gamma_IR', <Parameter 'gamma_IR', value=0.10000278099418818, bounds=[0.1:2]>), ('I0', <Parameter 'I0', value=87.34730206252577, bounds=[1:500]>), ('OBS_Tr_SI_to_nbTest', <Parameter 'OBS_Tr_SI_to_nbTest', value=0.7085925764624333, bounds=[0.05:1]>), ('OBS_nbTest_to_nbpos', <Parameter 'OBS_nbTest_to_nbpos', value=0.75, bounds=[0.5:0.9]>)])\n",
      "Parameters([('beta_SI', <Parameter 'beta_SI', value=0.179981745123147, bounds=[0.001:10]>), ('gamma_IR', <Parameter 'gamma_IR', value=0.10000238853547389, bounds=[0.1:2]>), ('I0', <Parameter 'I0', value=88.15495703669262, bounds=[1:500]>), ('OBS_Tr_SI_to_nbTest', <Parameter 'OBS_Tr_SI_to_nbTest', value=0.7031391230797467, bounds=[0.05:1]>), ('OBS_nbTest_to_nbpos', <Parameter 'OBS_nbTest_to_nbpos', value=0.75, bounds=[0.5:0.9]>)])\n"
     ]
    }
   ],
   "source": [
    "mini = Minimizer(residual, params, (data.shape[0] - 1, data, 1e6))\n",
    "result = mini.minimize()"
   ]
  },
  {
   "cell_type": "code",
   "execution_count": null,
   "metadata": {},
   "outputs": [],
   "source": [
    "result"
   ]
  },
  {
   "cell_type": "code",
   "execution_count": 42,
   "metadata": {},
   "outputs": [
    {
     "data": {
      "text/html": [
       "<div>\n",
       "<style scoped>\n",
       "    .dataframe tbody tr th:only-of-type {\n",
       "        vertical-align: middle;\n",
       "    }\n",
       "\n",
       "    .dataframe tbody tr th {\n",
       "        vertical-align: top;\n",
       "    }\n",
       "\n",
       "    .dataframe thead th {\n",
       "        text-align: right;\n",
       "    }\n",
       "</style>\n",
       "<table border=\"1\" class=\"dataframe\">\n",
       "  <thead>\n",
       "    <tr style=\"text-align: right;\">\n",
       "      <th></th>\n",
       "      <th>Day</th>\n",
       "      <th>num_positive</th>\n",
       "      <th>num_tested</th>\n",
       "      <th>num_hospitalised</th>\n",
       "      <th>num_cumulative_hospitalizations</th>\n",
       "      <th>num_critical</th>\n",
       "      <th>num_fatalities</th>\n",
       "    </tr>\n",
       "  </thead>\n",
       "  <tbody>\n",
       "    <tr>\n",
       "      <th>0</th>\n",
       "      <td>1</td>\n",
       "      <td>NaN</td>\n",
       "      <td>0.562492</td>\n",
       "      <td>NaN</td>\n",
       "      <td>NaN</td>\n",
       "      <td>NaN</td>\n",
       "      <td>NaN</td>\n",
       "    </tr>\n",
       "    <tr>\n",
       "      <th>1</th>\n",
       "      <td>2</td>\n",
       "      <td>NaN</td>\n",
       "      <td>0.591328</td>\n",
       "      <td>NaN</td>\n",
       "      <td>NaN</td>\n",
       "      <td>NaN</td>\n",
       "      <td>NaN</td>\n",
       "    </tr>\n",
       "    <tr>\n",
       "      <th>2</th>\n",
       "      <td>3</td>\n",
       "      <td>NaN</td>\n",
       "      <td>0.621643</td>\n",
       "      <td>NaN</td>\n",
       "      <td>NaN</td>\n",
       "      <td>NaN</td>\n",
       "      <td>NaN</td>\n",
       "    </tr>\n",
       "    <tr>\n",
       "      <th>3</th>\n",
       "      <td>4</td>\n",
       "      <td>NaN</td>\n",
       "      <td>0.653512</td>\n",
       "      <td>NaN</td>\n",
       "      <td>NaN</td>\n",
       "      <td>NaN</td>\n",
       "      <td>NaN</td>\n",
       "    </tr>\n",
       "    <tr>\n",
       "      <th>4</th>\n",
       "      <td>5</td>\n",
       "      <td>NaN</td>\n",
       "      <td>0.687014</td>\n",
       "      <td>NaN</td>\n",
       "      <td>NaN</td>\n",
       "      <td>NaN</td>\n",
       "      <td>NaN</td>\n",
       "    </tr>\n",
       "    <tr>\n",
       "      <th>...</th>\n",
       "      <td>...</td>\n",
       "      <td>...</td>\n",
       "      <td>...</td>\n",
       "      <td>...</td>\n",
       "      <td>...</td>\n",
       "      <td>...</td>\n",
       "      <td>...</td>\n",
       "    </tr>\n",
       "    <tr>\n",
       "      <th>66</th>\n",
       "      <td>67</td>\n",
       "      <td>NaN</td>\n",
       "      <td>15.183705</td>\n",
       "      <td>NaN</td>\n",
       "      <td>NaN</td>\n",
       "      <td>NaN</td>\n",
       "      <td>NaN</td>\n",
       "    </tr>\n",
       "    <tr>\n",
       "      <th>67</th>\n",
       "      <td>68</td>\n",
       "      <td>NaN</td>\n",
       "      <td>15.958278</td>\n",
       "      <td>NaN</td>\n",
       "      <td>NaN</td>\n",
       "      <td>NaN</td>\n",
       "      <td>NaN</td>\n",
       "    </tr>\n",
       "    <tr>\n",
       "      <th>68</th>\n",
       "      <td>69</td>\n",
       "      <td>NaN</td>\n",
       "      <td>16.772151</td>\n",
       "      <td>NaN</td>\n",
       "      <td>NaN</td>\n",
       "      <td>NaN</td>\n",
       "      <td>NaN</td>\n",
       "    </tr>\n",
       "    <tr>\n",
       "      <th>69</th>\n",
       "      <td>70</td>\n",
       "      <td>NaN</td>\n",
       "      <td>17.627295</td>\n",
       "      <td>NaN</td>\n",
       "      <td>NaN</td>\n",
       "      <td>NaN</td>\n",
       "      <td>NaN</td>\n",
       "    </tr>\n",
       "    <tr>\n",
       "      <th>70</th>\n",
       "      <td>71</td>\n",
       "      <td>NaN</td>\n",
       "      <td>18.525778</td>\n",
       "      <td>NaN</td>\n",
       "      <td>NaN</td>\n",
       "      <td>NaN</td>\n",
       "      <td>NaN</td>\n",
       "    </tr>\n",
       "  </tbody>\n",
       "</table>\n",
       "<p>71 rows × 7 columns</p>\n",
       "</div>"
      ],
      "text/plain": [
       "    Day num_positive  num_tested num_hospitalised  \\\n",
       "0     1          NaN    0.562492              NaN   \n",
       "1     2          NaN    0.591328              NaN   \n",
       "2     3          NaN    0.621643              NaN   \n",
       "3     4          NaN    0.653512              NaN   \n",
       "4     5          NaN    0.687014              NaN   \n",
       "..  ...          ...         ...              ...   \n",
       "66   67          NaN   15.183705              NaN   \n",
       "67   68          NaN   15.958278              NaN   \n",
       "68   69          NaN   16.772151              NaN   \n",
       "69   70          NaN   17.627295              NaN   \n",
       "70   71          NaN   18.525778              NaN   \n",
       "\n",
       "   num_cumulative_hospitalizations num_critical num_fatalities  \n",
       "0                              NaN          NaN            NaN  \n",
       "1                              NaN          NaN            NaN  \n",
       "2                              NaN          NaN            NaN  \n",
       "3                              NaN          NaN            NaN  \n",
       "4                              NaN          NaN            NaN  \n",
       "..                             ...          ...            ...  \n",
       "66                             NaN          NaN            NaN  \n",
       "67                             NaN          NaN            NaN  \n",
       "68                             NaN          NaN            NaN  \n",
       "69                             NaN          NaN            NaN  \n",
       "70                             NaN          NaN            NaN  \n",
       "\n",
       "[71 rows x 7 columns]"
      ]
     },
     "execution_count": 42,
     "metadata": {},
     "output_type": "execute_result"
    }
   ],
   "source": [
    "\n",
    "\n",
    "I0 = result.params['I0'].value\n",
    "\n",
    "\n",
    "y0 = 1e6-I0,I0,0\n",
    "\n",
    "model = pd.DataFrame(odesol(y0,70,1e6,result.params), columns=['S','I','R'])\n",
    "obs_df=create_obsdf(model,result.params,data)\n",
    "obs_df"
   ]
  },
  {
   "cell_type": "code",
   "execution_count": 44,
   "metadata": {},
   "outputs": [
    {
     "data": {
      "text/plain": [
       "array([ 5.62491562e-01, -7.40867167e+00, -1.13783569e+01, -1.53464883e+01,\n",
       "       -1.13129863e+01, -9.27776721e+00, -8.24074312e+00, -2.12018215e+01,\n",
       "       -2.21609053e+01, -2.01178921e+01, -3.60726747e+01, -3.20251402e+01,\n",
       "       -3.19751699e+01, -3.69226390e+01, -4.38674164e+01, -5.18093644e+01,\n",
       "       -4.67483380e+01, -5.56841850e+01, -6.06167454e+01, -6.85458509e+01,\n",
       "       -5.84713246e+01, -6.83929809e+01, -6.23106242e+01, -7.92240493e+01,\n",
       "       -6.91330403e+01, -9.10373706e+01, -9.49368016e+01, -9.28310828e+01,\n",
       "       -9.37199509e+01, -1.05603129e+02, -1.29480327e+02, -1.36351238e+02,\n",
       "       -1.16215542e+02, -1.66072900e+02, -1.49922958e+02, -1.52765344e+02,\n",
       "       -1.91599665e+02, -1.94425509e+02, -2.42242445e+02, -2.37050016e+02,\n",
       "       -2.42847747e+02, -2.81635134e+02, -3.33411651e+02, -2.99176743e+02,\n",
       "       -3.71929828e+02, -3.98670294e+02, -4.19397499e+02, -4.81110768e+02,\n",
       "       -4.70809392e+02, -5.47492625e+02, -5.80159684e+02, -6.68809749e+02,\n",
       "       -7.06441956e+02, -7.36055397e+02, -7.36649120e+02, -8.62222126e+02,\n",
       "       -9.09773364e+02, -1.00930173e+03, -1.09580607e+03, -1.16128516e+03,\n",
       "       -1.20173773e+03, -1.33416244e+03, -1.47955788e+03, -1.55692257e+03,\n",
       "       -1.61425497e+03, -1.78755345e+03, -1.92681629e+03, -2.11504172e+03,\n",
       "       -2.23222785e+03, -2.35437270e+03, -2.52047422e+03])"
      ]
     },
     "execution_count": 44,
     "metadata": {},
     "output_type": "execute_result"
    }
   ],
   "source": [
    "(obs_df['num_tested']-data['num_tested']).ravel()"
   ]
  },
  {
   "cell_type": "code",
   "execution_count": 41,
   "metadata": {},
   "outputs": [
    {
     "data": {
      "text/plain": [
       "[<matplotlib.lines.Line2D at 0x17350479c40>]"
      ]
     },
     "execution_count": 41,
     "metadata": {},
     "output_type": "execute_result"
    },
    {
     "data": {
      "image/png": "[encoded data removed]",
      "text/plain": [
       "<Figure size 432x288 with 1 Axes>"
      ]
     },
     "metadata": {
      "needs_background": "light"
     },
     "output_type": "display_data"
    }
   ],
   "source": [
    "plt.plot(result.residual); plt.plot(data['num_positive']); plt.plot(obs_df['num_positive'])"
   ]
  },
  {
   "cell_type": "code",
   "execution_count": null,
   "metadata": {},
   "outputs": [],
   "source": [
    "R2 = 1 - sum(result.residual**2) / sum((data['num_positive'] - np.mean(data['num_positive']))**2)\n",
    "R2"
   ]
  },
  {
   "cell_type": "code",
   "execution_count": null,
   "metadata": {},
   "outputs": [],
   "source": []
  }
 ],
 "metadata": {
  "kernelspec": {
   "display_name": "Python 3",
   "language": "python",
   "name": "python3"
  },
  "language_info": {
   "codemirror_mode": {
    "name": "ipython",
    "version": 3
   },
   "file_extension": ".py",
   "mimetype": "text/x-python",
   "name": "python",
   "nbconvert_exporter": "python",
   "pygments_lexer": "ipython3",
   "version": "3.8.5"
  }
 },
 "nbformat": 4,
 "nbformat_minor": 4
}
