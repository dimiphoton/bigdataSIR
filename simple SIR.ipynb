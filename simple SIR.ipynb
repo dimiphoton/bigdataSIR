{
 "cells": [
  {
   "cell_type": "code",
   "execution_count": 740,
   "metadata": {},
   "outputs": [],
   "source": [
    "import numpy as np\n",
    "import random\n",
    "import pandas as pd\n",
    "from scipy.integrate import odeint\n",
    "import matplotlib.pyplot as plt\n",
    "import seaborn as sns\n",
    "import matplotlib.dates as mdates\n",
    "from matplotlib import dates\n",
    "from sklearn.metrics import mean_squared_error, r2_score\n",
    "from datetime import datetime\n",
    "from lmfit import Minimizer,minimize, Parameters, Parameter, report_fit\n",
    "from statsmodels.tsa.arima_model import ARIMA"
   ]
  },
  {
   "cell_type": "markdown",
   "metadata": {},
   "source": [
    "# step 0: data importation #"
   ]
  },
  {
   "cell_type": "code",
   "execution_count": 741,
   "metadata": {},
   "outputs": [],
   "source": [
    "csv_url=\"https://raw.githubusercontent.com/ADelau/proj0016-epidemic-data/main/data.csv\"\n",
    "data = pd.read_csv(csv_url)"
   ]
  },
  {
   "cell_type": "code",
   "execution_count": 742,
   "metadata": {},
   "outputs": [
    {
     "data": {
      "text/html": [
       "<div>\n",
       "<style scoped>\n",
       "    .dataframe tbody tr th:only-of-type {\n",
       "        vertical-align: middle;\n",
       "    }\n",
       "\n",
       "    .dataframe tbody tr th {\n",
       "        vertical-align: top;\n",
       "    }\n",
       "\n",
       "    .dataframe thead th {\n",
       "        text-align: right;\n",
       "    }\n",
       "</style>\n",
       "<table border=\"1\" class=\"dataframe\">\n",
       "  <thead>\n",
       "    <tr style=\"text-align: right;\">\n",
       "      <th></th>\n",
       "      <th>Day</th>\n",
       "      <th>num_positive</th>\n",
       "      <th>num_tested</th>\n",
       "      <th>num_hospitalised</th>\n",
       "      <th>num_cumulative_hospitalizations</th>\n",
       "      <th>num_critical</th>\n",
       "      <th>num_fatalities</th>\n",
       "    </tr>\n",
       "  </thead>\n",
       "  <tbody>\n",
       "    <tr>\n",
       "      <th>0</th>\n",
       "      <td>1</td>\n",
       "      <td>0</td>\n",
       "      <td>0</td>\n",
       "      <td>1</td>\n",
       "      <td>1</td>\n",
       "      <td>0</td>\n",
       "      <td>0</td>\n",
       "    </tr>\n",
       "    <tr>\n",
       "      <th>1</th>\n",
       "      <td>2</td>\n",
       "      <td>5</td>\n",
       "      <td>8</td>\n",
       "      <td>1</td>\n",
       "      <td>1</td>\n",
       "      <td>0</td>\n",
       "      <td>0</td>\n",
       "    </tr>\n",
       "    <tr>\n",
       "      <th>2</th>\n",
       "      <td>3</td>\n",
       "      <td>10</td>\n",
       "      <td>12</td>\n",
       "      <td>2</td>\n",
       "      <td>2</td>\n",
       "      <td>0</td>\n",
       "      <td>0</td>\n",
       "    </tr>\n",
       "    <tr>\n",
       "      <th>3</th>\n",
       "      <td>4</td>\n",
       "      <td>11</td>\n",
       "      <td>16</td>\n",
       "      <td>2</td>\n",
       "      <td>2</td>\n",
       "      <td>0</td>\n",
       "      <td>0</td>\n",
       "    </tr>\n",
       "    <tr>\n",
       "      <th>4</th>\n",
       "      <td>5</td>\n",
       "      <td>9</td>\n",
       "      <td>12</td>\n",
       "      <td>2</td>\n",
       "      <td>2</td>\n",
       "      <td>0</td>\n",
       "      <td>0</td>\n",
       "    </tr>\n",
       "  </tbody>\n",
       "</table>\n",
       "</div>"
      ],
      "text/plain": [
       "   Day  num_positive  num_tested  num_hospitalised  \\\n",
       "0    1             0           0                 1   \n",
       "1    2             5           8                 1   \n",
       "2    3            10          12                 2   \n",
       "3    4            11          16                 2   \n",
       "4    5             9          12                 2   \n",
       "\n",
       "   num_cumulative_hospitalizations  num_critical  num_fatalities  \n",
       "0                                1             0               0  \n",
       "1                                1             0               0  \n",
       "2                                2             0               0  \n",
       "3                                2             0               0  \n",
       "4                                2             0               0  "
      ]
     },
     "execution_count": 742,
     "metadata": {},
     "output_type": "execute_result"
    }
   ],
   "source": [
    "data.head()"
   ]
  },
  {
   "cell_type": "code",
   "execution_count": null,
   "metadata": {},
   "outputs": [],
   "source": []
  },
  {
   "cell_type": "markdown",
   "metadata": {},
   "source": [
    "# step 1: setting up the model #"
   ]
  },
  {
   "cell_type": "markdown",
   "metadata": {},
   "source": [
    "## step 1.1: writing the ode system ##"
   ]
  },
  {
   "cell_type": "raw",
   "metadata": {},
   "source": [
    "here I write the relation between y' and y\n",
    "remember: y=[S,I,R]"
   ]
  },
  {
   "cell_type": "code",
   "execution_count": null,
   "metadata": {},
   "outputs": [],
   "source": []
  },
  {
   "cell_type": "code",
   "execution_count": 743,
   "metadata": {},
   "outputs": [],
   "source": [
    "def ode_model(z,t,params):\n",
    "    N=sum(z)\n",
    "    S,I,R = z\n",
    "    beta_SI = params['beta_SI'].value\n",
    "    gamma_IR = params['gamma_IR'].value\n",
    "        \n",
    "    #beta = beta_i*(1.1-tau*t) beta peut être une variable du temps\n",
    "    dSdt = -beta_SI*(S*I)/(N)\n",
    "    dIdt = +beta_SI*(S*I)/(N) - gamma_IR*I\n",
    "    dRdt= +gamma_IR*I\n",
    "    \n",
    "    return [dSdt, dIdt, dRdt]"
   ]
  },
  {
   "cell_type": "code",
   "execution_count": null,
   "metadata": {},
   "outputs": [],
   "source": []
  },
  {
   "cell_type": "markdown",
   "metadata": {},
   "source": [
    "## step 1.2: writing the parameters, initial values and guesses ##\n"
   ]
  },
  {
   "cell_type": "code",
   "execution_count": 744,
   "metadata": {},
   "outputs": [],
   "source": [
    "# the lmfit module uises an orderd dict structure\n",
    "# to store the parameters to be optimized\n",
    "# https://lmfit.github.io/lmfit-py/parameters.html\n",
    "\n",
    "params = Parameters()\n",
    "params.add('beta_SI', value=0.15, min=0.1, max=10)\n",
    "params.add('gamma_IR', value= 0.05, min=0.1, max=10)\n",
    "\n",
    "params.add('I0',value=15,min=1,max=500)\n",
    "\n",
    "params.add('OBS_Tr_SI_to_nbTest',value=0.25,min=0.05,max=1)\n",
    "params.add('OBS_nbTest_to_nbpos',value=0.75,min=0.5,max=0.9)\n",
    "\n",
    "\n",
    "\n"
   ]
  },
  {
   "cell_type": "code",
   "execution_count": 745,
   "metadata": {},
   "outputs": [
    {
     "data": {
      "text/html": [
       "<table><tr><th> name </th><th> value </th><th> initial value </th><th> min </th><th> max </th><th> vary </th></tr><tr><td> beta_SI </td><td>  0.15000000 </td><td> 0.15 </td><td>  0.10000000 </td><td>  10.0000000 </td><td> True </td></tr><tr><td> gamma_IR </td><td>  0.10000000 </td><td> 0.05 </td><td>  0.10000000 </td><td>  10.0000000 </td><td> True </td></tr><tr><td> I0 </td><td>  15.0000000 </td><td> 15 </td><td>  1.00000000 </td><td>  500.000000 </td><td> True </td></tr><tr><td> OBS_Tr_SI_to_nbTest </td><td>  0.25000000 </td><td> 0.25 </td><td>  0.05000000 </td><td>  1.00000000 </td><td> True </td></tr><tr><td> OBS_nbTest_to_nbpos </td><td>  0.75000000 </td><td> 0.75 </td><td>  0.50000000 </td><td>  0.90000000 </td><td> True </td></tr></table>"
      ],
      "text/plain": [
       "Parameters([('beta_SI', <Parameter 'beta_SI', value=0.15, bounds=[0.1:10]>),\n",
       "            ('gamma_IR', <Parameter 'gamma_IR', value=0.1, bounds=[0.1:10]>),\n",
       "            ('I0', <Parameter 'I0', value=15, bounds=[1:500]>),\n",
       "            ('OBS_Tr_SI_to_nbTest',\n",
       "             <Parameter 'OBS_Tr_SI_to_nbTest', value=0.25, bounds=[0.05:1]>),\n",
       "            ('OBS_nbTest_to_nbpos',\n",
       "             <Parameter 'OBS_nbTest_to_nbpos', value=0.75, bounds=[0.5:0.9]>)])"
      ]
     },
     "execution_count": 745,
     "metadata": {},
     "output_type": "execute_result"
    }
   ],
   "source": [
    "params"
   ]
  },
  {
   "cell_type": "markdown",
   "metadata": {},
   "source": [
    "## step 1.3 writing the solver ##"
   ]
  },
  {
   "cell_type": "code",
   "execution_count": 746,
   "metadata": {},
   "outputs": [],
   "source": [
    "#this function solves the ode\n",
    "#input: function deriv, initial compartiments y0, t, and N,ps as arguments??\n",
    "#output: the ode solution\n",
    "def odesol(y,t,N,ps):\n",
    "    \n",
    "    ts = np.linspace(0, t, t+1)\n",
    "    result = odeint(ode_model, y, ts, args=(N, ps))\n",
    "    \n",
    "    return result\n",
    "\n",
    "\n",
    "def ode_solver(tspan, initial_conditions, params):\n",
    "    #parvals = params.valuesdict()\n",
    "        \n",
    "    \n",
    "    beta, gamma = params['beta_SI'].value, params['gamma_IR'].value\n",
    "    \n",
    "    \n",
    "    res = odeint(ode_model, initial_conditions, tspan, args=(params,))\n",
    "    return res"
   ]
  },
  {
   "cell_type": "code",
   "execution_count": 747,
   "metadata": {},
   "outputs": [
    {
     "data": {
      "text/plain": [
       "array([ 0., 70.])"
      ]
     },
     "execution_count": 747,
     "metadata": {},
     "output_type": "execute_result"
    }
   ],
   "source": [
    "ts = np.linspace(0, 70,2)\n",
    "ts"
   ]
  },
  {
   "cell_type": "code",
   "execution_count": 748,
   "metadata": {},
   "outputs": [
    {
     "data": {
      "text/plain": [
       "array([[9.99950000e+05, 5.00000000e+01, 0.00000000e+00],\n",
       "       [9.95175171e+05, 1.63382576e+03, 3.19100320e+03]])"
      ]
     },
     "execution_count": 748,
     "metadata": {},
     "output_type": "execute_result"
    }
   ],
   "source": [
    "test=ode_solver(ts, [1e6-50,50,0], params)\n",
    "test"
   ]
  },
  {
   "cell_type": "code",
   "execution_count": 749,
   "metadata": {},
   "outputs": [],
   "source": [
    "# this function generate the observation dataframe\n",
    "def create_obsdf(model,ps,data):\n",
    "    \n",
    "    result=pd.DataFrame(columns=data.columns)\n",
    "    result['Day']=data['Day']\n",
    "    nb_trans_SI=ps['beta_SI']*(model['S']*(model['I']))/(model['S']+model['I']+model['R'])\n",
    "    \n",
    "\n",
    "    result['num_tested']=ps['OBS_Tr_SI_to_nbTest'].value*nb_trans_SI\n",
    "    \n",
    "    #result['num_hospitalised']=model['H']\n",
    "    #result['num_cumulative_hospitalizations']=result['num_hospitalised'].diff().fillna(0).cumsum()\n",
    "    #result['num_critical']=model['ICU']\n",
    "    #result['num_fatalities']=model['D']\n",
    "    return result\n",
    "    \n",
    "\n",
    "#test['num_tested']=params['OBS_Tr_EI_to_nbTest'].value*"
   ]
  },
  {
   "cell_type": "markdown",
   "metadata": {},
   "source": [
    "# step 2: fitting the model #"
   ]
  },
  {
   "cell_type": "markdown",
   "metadata": {},
   "source": [
    "## step 2.1: write objective function ##"
   ]
  },
  {
   "cell_type": "code",
   "execution_count": 750,
   "metadata": {},
   "outputs": [],
   "source": [
    "#NOT USED, SEE RESIDUAL2\n",
    "#this function compute residuals,\n",
    "#ie objective function to be minimized in the optimization function\n",
    "def residual(ps, ts, data, N):\n",
    "    \n",
    "    \n",
    "    I0 = ps['I0'].value\n",
    "    S0=N-I0\n",
    "    R0=0\n",
    "\n",
    "    \n",
    "    y0 = S0,I0,R0\n",
    "    \n",
    "    model = pd.DataFrame(odesol(y0,ts,N,ps), columns=['S','I','R'])\n",
    "    obs_df=create_obsdf(model,ps,data)\n",
    "    component1=(obs_df['num_tested']-data['num_tested']).ravel()\n",
    "    \n",
    "    # penalty function to think more about !!!\n",
    "    print(ps)\n",
    "    return component1"
   ]
  },
  {
   "cell_type": "code",
   "execution_count": 759,
   "metadata": {},
   "outputs": [],
   "source": [
    "#residual function from lmfit website\n",
    "#ts is the x\n",
    "def error(params, tspan, data):\n",
    "    # unpack parameters: extract .value attribute for each parameter\n",
    "    parvals = params.valuesdict()\n",
    "    beta=parvals['beta_SI']\n",
    "    gamma=parvals['gamma_IR']\n",
    "    I0=parvals['I0']\n",
    "    OBS_Tr_SI_to_nbTest=parvals['OBS_Tr_SI_to_nbTest']\n",
    "    OBS_nbTest_to_nbpos=parvals['OBS_nbTest_to_nbpos']\n",
    "    \n",
    "    # useful scalars, arrays\n",
    "    \n",
    "    \n",
    "    array_data=data['num_tested'].to_numpy()\n",
    "    ## A CORRIGER !ode_solver(t, initial_conditions, params):\n",
    "    array_model=ode_solver(tspan, [1e6-I0,I0,0],params)\n",
    "    \n",
    "    #array initialisation\n",
    "    \n",
    "    ratio_model=np.empty(array_data.shape[0]-1)\n",
    "    ratio_data=np.empty(array_data.shape[0]-1)\n",
    "    \n",
    "    for i in range(array_model.shape[0]-1):\n",
    "        ratio_model[i]=(array_model[i+1][1]-array_model[i][1])/array_model[i][1]\n",
    "        ratio_data[i]=(array_data[i+1]-array_data[i])/array_model[i][1]\n",
    "    \n",
    "    return ratio_model-ratio_data"
   ]
  },
  {
   "cell_type": "code",
   "execution_count": 760,
   "metadata": {},
   "outputs": [],
   "source": [
    "def find_timespane(data):\n",
    "    return np.linspace(0,data.shape[0]-1,data.shape[0])\n",
    "def find_timespane2(data):\n",
    "    return np.array(data.index.tolist())"
   ]
  },
  {
   "cell_type": "code",
   "execution_count": 753,
   "metadata": {},
   "outputs": [],
   "source": []
  },
  {
   "cell_type": "code",
   "execution_count": 761,
   "metadata": {},
   "outputs": [],
   "source": [
    "error_array=error(params,find_timespane(data),data)"
   ]
  },
  {
   "cell_type": "code",
   "execution_count": 762,
   "metadata": {},
   "outputs": [
    {
     "data": {
      "text/plain": [
       "array([-0.48206478, -0.20239362, -0.19002345,  0.28079142,  0.16043234,\n",
       "        0.10318736, -0.59078944,  0.00428512,  0.1406437 , -0.62889691,\n",
       "        0.21301223,  0.05126322, -0.13168507, -0.19237533, -0.21360388,\n",
       "        0.20872906, -0.21836294, -0.09122771, -0.16560438,  0.30911751,\n",
       "       -0.19403173,  0.19125201, -0.32606465,  0.26238368, -0.39059049,\n",
       "       -0.02516794,  0.08759555,  0.03396051, -0.14608776, -0.32418401,\n",
       "       -0.05291907,  0.33434117, -0.62201085,  0.25617711,  0.01468282,\n",
       "       -0.40079714,  0.01815486, -0.45220968,  0.10111315, -0.00572126,\n",
       "       -0.30088984, -0.39538712,  0.32900043, -0.51614701, -0.1484121 ,\n",
       "       -0.0964913 , -0.36361626,  0.11484701, -0.41501946, -0.13888387,\n",
       "       -0.4364762 , -0.14689412, -0.09758444,  0.04645562, -0.51427949,\n",
       "       -0.15376087, -0.35498744, -0.28499873, -0.1914567 , -0.09223667,\n",
       "       -0.39133404, -0.41096346, -0.18374655, -0.11504142, -0.42311055,\n",
       "       -0.31190991, -0.41514999, -0.22587008, -0.2235894 , -0.30373395])"
      ]
     },
     "execution_count": 762,
     "metadata": {},
     "output_type": "execute_result"
    }
   ],
   "source": [
    "error_array"
   ]
  },
  {
   "cell_type": "markdown",
   "metadata": {},
   "source": [
    "## step 2.2: write optimization command ##"
   ]
  },
  {
   "cell_type": "code",
   "execution_count": 763,
   "metadata": {},
   "outputs": [],
   "source": [
    "test = minimize(error, params, args=(tspan, data), method ='leastsq')"
   ]
  },
  {
   "cell_type": "code",
   "execution_count": 765,
   "metadata": {},
   "outputs": [
    {
     "data": {
      "text/html": [
       "<h2>Fit Statistics</h2><table><tr><td>fitting method</td><td>leastsq</td><td></td></tr><tr><td># function evals</td><td>12</td><td></td></tr><tr><td># data points</td><td>70</td><td></td></tr><tr><td># variables</td><td>5</td><td></td></tr><tr><td>chi-square</td><td> 5.80549090</td><td></td></tr><tr><td>reduced chi-square</td><td> 0.08931524</td><td></td></tr><tr><td>Akaike info crit.</td><td>-164.278375</td><td></td></tr><tr><td>Bayesian info crit.</td><td>-153.035898</td><td></td></tr></table><h2>Variables</h2><table><tr><th> name </th><th> value </th><th> initial value </th><th> min </th><th> max </th><th> vary </th></tr><tr><td> beta_SI </td><td>  0.15000000 </td><td> 0.15 </td><td>  0.10000000 </td><td>  10.0000000 </td><td> True </td></tr><tr><td> gamma_IR </td><td>  0.10000000 </td><td> 0.1 </td><td>  0.10000000 </td><td>  10.0000000 </td><td> True </td></tr><tr><td> I0 </td><td>  15.0000000 </td><td> 15 </td><td>  1.00000000 </td><td>  500.000000 </td><td> True </td></tr><tr><td> OBS_Tr_SI_to_nbTest </td><td>  0.25000000 </td><td> 0.25 </td><td>  0.05000000 </td><td>  1.00000000 </td><td> True </td></tr><tr><td> OBS_nbTest_to_nbpos </td><td>  0.75000000 </td><td> 0.75 </td><td>  0.50000000 </td><td>  0.90000000 </td><td> True </td></tr></table>"
      ],
      "text/plain": [
       "<lmfit.minimizer.MinimizerResult at 0x17350744fd0>"
      ]
     },
     "execution_count": 765,
     "metadata": {},
     "output_type": "execute_result"
    }
   ],
   "source": [
    "test"
   ]
  },
  {
   "cell_type": "code",
   "execution_count": 758,
   "metadata": {},
   "outputs": [
    {
     "ename": "TypeError",
     "evalue": "leastsq() got an unexpected keyword argument 'method'",
     "output_type": "error",
     "traceback": [
      "\u001b[1;31m---------------------------------------------------------------------------\u001b[0m",
      "\u001b[1;31mTypeError\u001b[0m                                 Traceback (most recent call last)",
      "\u001b[1;32m<ipython-input-758-9e76f90df3c9>\u001b[0m in \u001b[0;36m<module>\u001b[1;34m\u001b[0m\n\u001b[0;32m      2\u001b[0m \u001b[1;33m\u001b[0m\u001b[0m\n\u001b[0;32m      3\u001b[0m \u001b[0mmini\u001b[0m \u001b[1;33m=\u001b[0m \u001b[0mMinimizer\u001b[0m\u001b[1;33m(\u001b[0m\u001b[0merror\u001b[0m\u001b[1;33m,\u001b[0m \u001b[0mparams\u001b[0m\u001b[1;33m,\u001b[0m \u001b[0margs\u001b[0m\u001b[1;33m=\u001b[0m\u001b[1;33m(\u001b[0m\u001b[0minitial_condition\u001b[0m\u001b[1;33m,\u001b[0m \u001b[0mtspan\u001b[0m\u001b[1;33m,\u001b[0m \u001b[0mdata\u001b[0m\u001b[1;33m)\u001b[0m\u001b[1;33m,\u001b[0m \u001b[0mmethod\u001b[0m \u001b[1;33m=\u001b[0m\u001b[1;34m'leastsq'\u001b[0m\u001b[1;33m)\u001b[0m\u001b[1;33m\u001b[0m\u001b[1;33m\u001b[0m\u001b[0m\n\u001b[1;32m----> 4\u001b[1;33m \u001b[0mresult\u001b[0m \u001b[1;33m=\u001b[0m \u001b[0mmini\u001b[0m\u001b[1;33m.\u001b[0m\u001b[0mminimize\u001b[0m\u001b[1;33m(\u001b[0m\u001b[1;33m)\u001b[0m\u001b[1;33m\u001b[0m\u001b[1;33m\u001b[0m\u001b[0m\n\u001b[0m\u001b[0;32m      5\u001b[0m \u001b[1;31m#result\u001b[0m\u001b[1;33m\u001b[0m\u001b[1;33m\u001b[0m\u001b[1;33m\u001b[0m\u001b[0m\n",
      "\u001b[1;32m~\\anaconda3\\lib\\site-packages\\lmfit\\minimizer.py\u001b[0m in \u001b[0;36mminimize\u001b[1;34m(self, method, params, **kws)\u001b[0m\n\u001b[0;32m   2283\u001b[0m                         val.lower().startswith(user_method)):\n\u001b[0;32m   2284\u001b[0m                     \u001b[0mkwargs\u001b[0m\u001b[1;33m[\u001b[0m\u001b[1;34m'method'\u001b[0m\u001b[1;33m]\u001b[0m \u001b[1;33m=\u001b[0m \u001b[0mval\u001b[0m\u001b[1;33m\u001b[0m\u001b[1;33m\u001b[0m\u001b[0m\n\u001b[1;32m-> 2285\u001b[1;33m         \u001b[1;32mreturn\u001b[0m \u001b[0mfunction\u001b[0m\u001b[1;33m(\u001b[0m\u001b[1;33m**\u001b[0m\u001b[0mkwargs\u001b[0m\u001b[1;33m)\u001b[0m\u001b[1;33m\u001b[0m\u001b[1;33m\u001b[0m\u001b[0m\n\u001b[0m\u001b[0;32m   2286\u001b[0m \u001b[1;33m\u001b[0m\u001b[0m\n\u001b[0;32m   2287\u001b[0m \u001b[1;33m\u001b[0m\u001b[0m\n",
      "\u001b[1;32m~\\anaconda3\\lib\\site-packages\\lmfit\\minimizer.py\u001b[0m in \u001b[0;36mleastsq\u001b[1;34m(self, params, max_nfev, **kws)\u001b[0m\n\u001b[0;32m   1644\u001b[0m         \u001b[0mresult\u001b[0m\u001b[1;33m.\u001b[0m\u001b[0mcall_kws\u001b[0m \u001b[1;33m=\u001b[0m \u001b[0mlskws\u001b[0m\u001b[1;33m\u001b[0m\u001b[1;33m\u001b[0m\u001b[0m\n\u001b[0;32m   1645\u001b[0m         \u001b[1;32mtry\u001b[0m\u001b[1;33m:\u001b[0m\u001b[1;33m\u001b[0m\u001b[1;33m\u001b[0m\u001b[0m\n\u001b[1;32m-> 1646\u001b[1;33m             \u001b[0mlsout\u001b[0m \u001b[1;33m=\u001b[0m \u001b[0mscipy_leastsq\u001b[0m\u001b[1;33m(\u001b[0m\u001b[0mself\u001b[0m\u001b[1;33m.\u001b[0m\u001b[0m__residual\u001b[0m\u001b[1;33m,\u001b[0m \u001b[0mvariables\u001b[0m\u001b[1;33m,\u001b[0m \u001b[1;33m**\u001b[0m\u001b[0mlskws\u001b[0m\u001b[1;33m)\u001b[0m\u001b[1;33m\u001b[0m\u001b[1;33m\u001b[0m\u001b[0m\n\u001b[0m\u001b[0;32m   1647\u001b[0m         \u001b[1;32mexcept\u001b[0m \u001b[0mAbortFitException\u001b[0m\u001b[1;33m:\u001b[0m\u001b[1;33m\u001b[0m\u001b[1;33m\u001b[0m\u001b[0m\n\u001b[0;32m   1648\u001b[0m             \u001b[1;32mpass\u001b[0m\u001b[1;33m\u001b[0m\u001b[1;33m\u001b[0m\u001b[0m\n",
      "\u001b[1;31mTypeError\u001b[0m: leastsq() got an unexpected keyword argument 'method'"
     ]
    }
   ],
   "source": [
    "tspan=find_timespane(data)\n",
    "\n",
    "mini = Minimizer(error, params, args=(initial_condition, tspan, data), method ='leastsq')\n",
    "result = mini.minimize()\n",
    "#result"
   ]
  },
  {
   "cell_type": "code",
   "execution_count": null,
   "metadata": {},
   "outputs": [],
   "source": []
  },
  {
   "cell_type": "code",
   "execution_count": null,
   "metadata": {},
   "outputs": [],
   "source": []
  },
  {
   "cell_type": "code",
   "execution_count": null,
   "metadata": {},
   "outputs": [],
   "source": []
  },
  {
   "cell_type": "code",
   "execution_count": null,
   "metadata": {},
   "outputs": [],
   "source": []
  },
  {
   "cell_type": "code",
   "execution_count": null,
   "metadata": {},
   "outputs": [],
   "source": []
  },
  {
   "cell_type": "code",
   "execution_count": null,
   "metadata": {},
   "outputs": [],
   "source": []
  },
  {
   "cell_type": "code",
   "execution_count": null,
   "metadata": {},
   "outputs": [],
   "source": []
  },
  {
   "cell_type": "code",
   "execution_count": null,
   "metadata": {},
   "outputs": [],
   "source": []
  },
  {
   "cell_type": "code",
   "execution_count": null,
   "metadata": {},
   "outputs": [],
   "source": []
  },
  {
   "cell_type": "code",
   "execution_count": null,
   "metadata": {},
   "outputs": [],
   "source": []
  },
  {
   "cell_type": "code",
   "execution_count": null,
   "metadata": {},
   "outputs": [],
   "source": []
  },
  {
   "cell_type": "code",
   "execution_count": null,
   "metadata": {},
   "outputs": [],
   "source": []
  }
 ],
 "metadata": {
  "kernelspec": {
   "display_name": "Python 3",
   "language": "python",
   "name": "python3"
  },
  "language_info": {
   "codemirror_mode": {
    "name": "ipython",
    "version": 3
   },
   "file_extension": ".py",
   "mimetype": "text/x-python",
   "name": "python",
   "nbconvert_exporter": "python",
   "pygments_lexer": "ipython3",
   "version": "3.8.5"
  }
 },
 "nbformat": 4,
 "nbformat_minor": 4
}
