{
 "cells": [
  {
   "cell_type": "code",
   "execution_count": 1,
   "metadata": {},
   "outputs": [
    {
     "name": "stdout",
     "output_type": "stream",
     "text": [
      "Collecting pymc\n",
      "  Using cached pymc-2.3.8.tar.gz (385 kB)\n",
      "Building wheels for collected packages: pymc\n",
      "  Building wheel for pymc (setup.py): started\n",
      "  Building wheel for pymc (setup.py): finished with status 'done'\n",
      "  Created wheel for pymc: filename=pymc-2.3.8-cp38-cp38-win_amd64.whl size=1971913 sha256=d2ebcaa6fcda15b47d3b10ce385ce469ee0443bf0fdf4d77284d44ba9d6b87f2\n",
      "  Stored in directory: c:\\users\\dimip\\appdata\\local\\pip\\cache\\wheels\\b3\\ce\\42\\184615e76f166b582e83b8f04ac92d1c0f30e26cdbfd76cba9\n",
      "Successfully built pymc\n",
      "Installing collected packages: pymc\n",
      "Successfully installed pymc-2.3.8\n"
     ]
    },
    {
     "name": "stderr",
     "output_type": "stream",
     "text": [
      "Le chemin d'accŠs sp‚cifi‚ est introuvable.\n"
     ]
    }
   ],
   "source": [
    "!pip install pymc"
   ]
  },
  {
   "cell_type": "code",
   "execution_count": 3,
   "metadata": {},
   "outputs": [],
   "source": [
    "#from pymc import *\n",
    "from numpy import *"
   ]
  },
  {
   "cell_type": "code",
   "execution_count": 4,
   "metadata": {},
   "outputs": [
    {
     "ename": "NameError",
     "evalue": "name 'Uniform' is not defined",
     "output_type": "error",
     "traceback": [
      "\u001b[1;31m---------------------------------------------------------------------------\u001b[0m",
      "\u001b[1;31mNameError\u001b[0m                                 Traceback (most recent call last)",
      "\u001b[1;32m<ipython-input-4-54b100814511>\u001b[0m in \u001b[0;36m<module>\u001b[1;34m\u001b[0m\n\u001b[0;32m      5\u001b[0m \u001b[1;33m\u001b[0m\u001b[0m\n\u001b[0;32m      6\u001b[0m \u001b[1;31m# stochastic priors\u001b[0m\u001b[1;33m\u001b[0m\u001b[1;33m\u001b[0m\u001b[1;33m\u001b[0m\u001b[0m\n\u001b[1;32m----> 7\u001b[1;33m \u001b[0mbeta\u001b[0m \u001b[1;33m=\u001b[0m \u001b[0mUniform\u001b[0m\u001b[1;33m(\u001b[0m\u001b[1;34m'beta'\u001b[0m\u001b[1;33m,\u001b[0m \u001b[1;36m0.\u001b[0m\u001b[1;33m,\u001b[0m \u001b[1;36m40.\u001b[0m\u001b[1;33m,\u001b[0m \u001b[0mvalue\u001b[0m\u001b[1;33m=\u001b[0m\u001b[1;36m1.\u001b[0m\u001b[1;33m)\u001b[0m\u001b[1;33m\u001b[0m\u001b[1;33m\u001b[0m\u001b[0m\n\u001b[0m\u001b[0;32m      8\u001b[0m \u001b[0mgamma\u001b[0m \u001b[1;33m=\u001b[0m \u001b[0mUniform\u001b[0m\u001b[1;33m(\u001b[0m\u001b[1;34m'gamma'\u001b[0m\u001b[1;33m,\u001b[0m \u001b[1;36m0.\u001b[0m\u001b[1;33m,\u001b[0m \u001b[1;36m1.\u001b[0m\u001b[1;33m,\u001b[0m \u001b[0mvalue\u001b[0m\u001b[1;33m=\u001b[0m\u001b[1;36m.001\u001b[0m\u001b[1;33m)\u001b[0m\u001b[1;33m\u001b[0m\u001b[1;33m\u001b[0m\u001b[0m\n\u001b[0;32m      9\u001b[0m \u001b[0mSI_0\u001b[0m \u001b[1;33m=\u001b[0m \u001b[0mUninformative\u001b[0m\u001b[1;33m(\u001b[0m\u001b[1;34m'SI_0'\u001b[0m\u001b[1;33m,\u001b[0m \u001b[0mvalue\u001b[0m\u001b[1;33m=\u001b[0m\u001b[1;33m[\u001b[0m\u001b[1;36m999.\u001b[0m\u001b[1;33m,\u001b[0m \u001b[1;36m1.\u001b[0m\u001b[1;33m]\u001b[0m\u001b[1;33m)\u001b[0m\u001b[1;33m\u001b[0m\u001b[1;33m\u001b[0m\u001b[0m\n",
      "\u001b[1;31mNameError\u001b[0m: name 'Uniform' is not defined"
     ]
    }
   ],
   "source": [
    "#observed data\n",
    "T = 10\n",
    "susceptible_data = array([999,997,996,994,993,992,990,989,986,984])\n",
    "infected_data = array([1,2,5,6,7,8,9,11,13,15])\n",
    " \n",
    "# stochastic priors\n",
    "beta = Uniform('beta', 0., 40., value=1.)\n",
    "gamma = Uniform('gamma', 0., 1., value=.001)\n",
    "SI_0 = Uninformative('SI_0', value=[999., 1.])\n",
    " \n",
    "# deterministic compartmental model\n",
    "@deterministic\n",
    "def SI(SI_0=SI_0, beta=beta, gamma=gamma):\n",
    "    S = zeros(T)\n",
    "    I = zeros(T)\n",
    "    S[0] = SI_0[0]\n",
    "    I[0] = SI_0[1]\n",
    "    for i in range(1,T):\n",
    "        S[i] = S[i-1] - 0.05*beta*S[i-1]*I[i-1]/(S[i-1]+I[i-1])\n",
    "        I[i] = max(0., I[i-1] + 0.05*beta*S[i-1]*I[i-1]/(S[i-1]+I[i-1]) - gamma*I[i-1])\n",
    "    return S, I\n",
    "S = Lambda('S', lambda SI=SI: SI[0])\n",
    "I = Lambda('I', lambda SI=SI: SI[1])\n",
    " \n",
    "# data likelihood\n",
    "A = Poisson('A', mu=S, value=susceptible_data, observed=True)\n",
    "B = Poisson('B', mu=I, value=infected_data, observed=True)"
   ]
  },
  {
   "cell_type": "code",
   "execution_count": null,
   "metadata": {},
   "outputs": [],
   "source": []
  }
 ],
 "metadata": {
  "kernelspec": {
   "display_name": "Python 3",
   "language": "python",
   "name": "python3"
  },
  "language_info": {
   "codemirror_mode": {
    "name": "ipython",
    "version": 3
   },
   "file_extension": ".py",
   "mimetype": "text/x-python",
   "name": "python",
   "nbconvert_exporter": "python",
   "pygments_lexer": "ipython3",
   "version": "3.8.5"
  }
 },
 "nbformat": 4,
 "nbformat_minor": 4
}
