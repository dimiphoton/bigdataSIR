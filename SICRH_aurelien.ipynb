{
 "cells": [
  {
   "cell_type": "code",
   "execution_count": 1,
   "metadata": {},
   "outputs": [],
   "source": [
    "import numpy as np\n",
    "import random\n",
    "import pandas as pd\n",
    "from scipy.integrate import odeint\n",
    "import matplotlib.pyplot as plt\n",
    "import seaborn as sns\n",
    "import matplotlib.dates as mdates\n",
    "from matplotlib import dates\n",
    "from sklearn.metrics import mean_squared_error, r2_score\n",
    "from datetime import datetime\n",
    "from lmfit import Minimizer, Parameters, Parameter, report_fit, printfuncs, conf_interval\n",
    "from statsmodels.tsa.arima_model import ARIMA"
   ]
  },
  {
   "cell_type": "markdown",
   "metadata": {},
   "source": [
    "# step 0: data importation #"
   ]
  },
  {
   "cell_type": "code",
   "execution_count": 2,
   "metadata": {},
   "outputs": [],
   "source": [
    "csv_url=\"https://raw.githubusercontent.com/ADelau/proj0016-epidemic-data/main/data.csv\"\n",
    "data = pd.read_csv(csv_url)"
   ]
  },
  {
   "cell_type": "code",
   "execution_count": null,
   "metadata": {},
   "outputs": [],
   "source": []
  },
  {
   "cell_type": "code",
   "execution_count": 3,
   "metadata": {},
   "outputs": [],
   "source": [
    "test2=data['num_tested']\n",
    "data2=data.rolling(7, min_periods=1, center=True).mean()"
   ]
  },
  {
   "cell_type": "code",
   "execution_count": null,
   "metadata": {},
   "outputs": [],
   "source": []
  },
  {
   "cell_type": "markdown",
   "metadata": {},
   "source": [
    "# step 1: setting up the model #"
   ]
  },
  {
   "cell_type": "markdown",
   "metadata": {},
   "source": [
    "## step 1.1: writing the ode system ##"
   ]
  },
  {
   "cell_type": "raw",
   "metadata": {},
   "source": [
    "here I write the relation between y' and y\n",
    "remember: y=[S,E,I,C,R,H,ICU,D]"
   ]
  },
  {
   "cell_type": "code",
   "execution_count": 4,
   "metadata": {},
   "outputs": [],
   "source": [
    "def deriv(y, t, N, ps):\n",
    "    S,E,I,C,R,H,ICU,D = y\n",
    "    try:\n",
    "        beta_SE = ps['beta_SE'].value\n",
    "        gamma_ER = ps['gamma_ER'].value\n",
    "        fraction_symptomatic = ps['fraction_symptomatic'].value\n",
    "        days_EtoI=ps['days_EtoI'].value\n",
    "        days_ItoH=ps['days_ItoH'].value\n",
    "        days_ItoR=ps['days_ItoR'].value\n",
    "        days_HtoR=ps['days_HtoR'].value\n",
    "        days_HtoICU=ps['days_HtoICU'].value\n",
    "        days_ICUtoD=ps['days_ICUtoD'].value\n",
    "        days_ICUtoH=ps['days_ICUtoH'].value\n",
    "        \n",
    "    except:\n",
    "        beta_SE, gamma_ER, fraction_symptomatic, days_EtoI, days_ItoH, days_ItoR, days_HtoR, days_HtoICU, days_ICUtoD, days_ICUtoH= ps\n",
    "    \n",
    "    #beta = beta_i*(1.1-tau*t) idée de faire régresser beta\n",
    "    dSdt = -beta_SE*(S*(I+C))/(N-D)\n",
    "    dEdt = beta_SE*(S*(I+C))/(N-D)-gamma_ER*E\n",
    "    dIdt = (fraction_symptomatic)*E/days_EtoI-I*(1/days_ItoH+1/days_ItoR)\n",
    "    dCdt = (1-fraction_symptomatic)*E/days_EtoI-C/days_ItoR\n",
    "    dRdt = (C+I)/days_ItoR+H/days_HtoR\n",
    "    dHdt = I/days_ItoH*I+ICU/days_ICUtoH-H*(1/days_HtoICU+1/days_HtoR)\n",
    "    dICUdt = H/days_HtoICU-ICU*(1/days_ICUtoD+1/days_ICUtoH)\n",
    "    dDdt = ICU/days_ICUtoD\n",
    "    \n",
    "    return dSdt, dEdt, dIdt, dCdt, dRdt, dHdt, dICUdt, dDdt"
   ]
  },
  {
   "cell_type": "markdown",
   "metadata": {},
   "source": [
    "## step 1.2: writing the parameters values and guesses ##\n"
   ]
  },
  {
   "cell_type": "code",
   "execution_count": 5,
   "metadata": {},
   "outputs": [],
   "source": [
    "# the lmfit module uises an orderd dict structure\n",
    "# to store the parameters to be optimized\n",
    "# https://lmfit.github.io/lmfit-py/parameters.html\n",
    "\n",
    "params = Parameters()\n",
    "params.add('beta_SE', value=0.15, min=1, max=10)\n",
    "params.add('gamma_ER', value= 0.05, min=0.1, max=2)\n",
    "params.add('fraction_symptomatic', value= 0.6, min=0.5, max=0.7)\n",
    "params.add('days_EtoI', value= 3, min=1, max=5)\n",
    "params.add('days_ItoH',value=5, min=1,max=20)\n",
    "params.add('days_ItoR',value=10,min=1,max=50)\n",
    "params.add('days_HtoR',value=12,min=1,max=100)\n",
    "params.add('days_HtoICU',value=5,min=1,max=50)\n",
    "params.add('days_ICUtoD',value=2,min=1,max=50)\n",
    "params.add('days_ICUtoH',value=6,min=1,max=50)\n",
    "params.add('E0',value=10,min=1,max=40)\n",
    "params.add('I0',value=5,min=1,max=20)\n",
    "params.add('C0',value=5,min=0,max=20)\n",
    "params.add('OBS_Tr_EI_to_nbTest',value=0.25,min=0.05,max=1)\n",
    "params.add('OBS_nbTest_to_nbpos',value=0.75,min=0.5,max=0.9)\n",
    "# params.add('OBS_H_to_ICU',value=0.1,min=0.01,max=0.5) mistake??\n",
    "\n"
   ]
  },
  {
   "cell_type": "code",
   "execution_count": null,
   "metadata": {},
   "outputs": [],
   "source": []
  },
  {
   "cell_type": "markdown",
   "metadata": {},
   "source": [
    "## step 1.3 writing the solver ##"
   ]
  },
  {
   "cell_type": "code",
   "execution_count": null,
   "metadata": {},
   "outputs": [],
   "source": [
    "\n",
    "\n"
   ]
  },
  {
   "cell_type": "code",
   "execution_count": 6,
   "metadata": {},
   "outputs": [
    {
     "data": {
      "text/html": [
       "<table><tr><th> name </th><th> value </th><th> initial value </th><th> min </th><th> max </th><th> vary </th></tr><tr><td> beta_SE </td><td>  1.00000000 </td><td> 0.15 </td><td>  1.00000000 </td><td>  10.0000000 </td><td> True </td></tr><tr><td> gamma_ER </td><td>  0.10000000 </td><td> 0.05 </td><td>  0.10000000 </td><td>  2.00000000 </td><td> True </td></tr><tr><td> fraction_symptomatic </td><td>  0.60000000 </td><td> 0.6 </td><td>  0.50000000 </td><td>  0.70000000 </td><td> True </td></tr><tr><td> days_EtoI </td><td>  3.00000000 </td><td> 3 </td><td>  1.00000000 </td><td>  5.00000000 </td><td> True </td></tr><tr><td> days_ItoH </td><td>  5.00000000 </td><td> 5 </td><td>  1.00000000 </td><td>  20.0000000 </td><td> True </td></tr><tr><td> days_ItoR </td><td>  10.0000000 </td><td> 10 </td><td>  1.00000000 </td><td>  50.0000000 </td><td> True </td></tr><tr><td> days_HtoR </td><td>  12.0000000 </td><td> 12 </td><td>  1.00000000 </td><td>  100.000000 </td><td> True </td></tr><tr><td> days_HtoICU </td><td>  5.00000000 </td><td> 5 </td><td>  1.00000000 </td><td>  50.0000000 </td><td> True </td></tr><tr><td> days_ICUtoD </td><td>  2.00000000 </td><td> 2 </td><td>  1.00000000 </td><td>  50.0000000 </td><td> True </td></tr><tr><td> days_ICUtoH </td><td>  6.00000000 </td><td> 6 </td><td>  1.00000000 </td><td>  50.0000000 </td><td> True </td></tr><tr><td> E0 </td><td>  10.0000000 </td><td> 10 </td><td>  1.00000000 </td><td>  40.0000000 </td><td> True </td></tr><tr><td> I0 </td><td>  5.00000000 </td><td> 5 </td><td>  1.00000000 </td><td>  20.0000000 </td><td> True </td></tr><tr><td> C0 </td><td>  5.00000000 </td><td> 5 </td><td>  0.00000000 </td><td>  20.0000000 </td><td> True </td></tr><tr><td> OBS_Tr_EI_to_nbTest </td><td>  0.25000000 </td><td> 0.25 </td><td>  0.05000000 </td><td>  1.00000000 </td><td> True </td></tr><tr><td> OBS_nbTest_to_nbpos </td><td>  0.75000000 </td><td> 0.75 </td><td>  0.50000000 </td><td>  0.90000000 </td><td> True </td></tr></table>"
      ],
      "text/plain": [
       "Parameters([('beta_SE', <Parameter 'beta_SE', value=1, bounds=[1:10]>),\n",
       "            ('gamma_ER', <Parameter 'gamma_ER', value=0.1, bounds=[0.1:2]>),\n",
       "            ('fraction_symptomatic',\n",
       "             <Parameter 'fraction_symptomatic', value=0.6, bounds=[0.5:0.7]>),\n",
       "            ('days_EtoI', <Parameter 'days_EtoI', value=3, bounds=[1:5]>),\n",
       "            ('days_ItoH', <Parameter 'days_ItoH', value=5, bounds=[1:20]>),\n",
       "            ('days_ItoR', <Parameter 'days_ItoR', value=10, bounds=[1:50]>),\n",
       "            ('days_HtoR', <Parameter 'days_HtoR', value=12, bounds=[1:100]>),\n",
       "            ('days_HtoICU', <Parameter 'days_HtoICU', value=5, bounds=[1:50]>),\n",
       "            ('days_ICUtoD', <Parameter 'days_ICUtoD', value=2, bounds=[1:50]>),\n",
       "            ('days_ICUtoH', <Parameter 'days_ICUtoH', value=6, bounds=[1:50]>),\n",
       "            ('E0', <Parameter 'E0', value=10, bounds=[1:40]>),\n",
       "            ('I0', <Parameter 'I0', value=5, bounds=[1:20]>),\n",
       "            ('C0', <Parameter 'C0', value=5, bounds=[0:20]>),\n",
       "            ('OBS_Tr_EI_to_nbTest',\n",
       "             <Parameter 'OBS_Tr_EI_to_nbTest', value=0.25, bounds=[0.05:1]>),\n",
       "            ('OBS_nbTest_to_nbpos',\n",
       "             <Parameter 'OBS_nbTest_to_nbpos', value=0.75, bounds=[0.5:0.9]>)])"
      ]
     },
     "execution_count": 6,
     "metadata": {},
     "output_type": "execute_result"
    }
   ],
   "source": [
    "params"
   ]
  },
  {
   "cell_type": "code",
   "execution_count": 7,
   "metadata": {},
   "outputs": [],
   "source": [
    "# this function generate the observation dataframe\n",
    "def create_obsdf(model,ps,data):\n",
    "    result=pd.DataFrame(columns=data.columns)\n",
    "    result['Day']=data['Day']\n",
    "    nb_trans_EI=ps['beta_SE']*(model['S']*(model['I']+model['C']))/(10**6-model['D'])\n",
    "    result['num_tested']=ps['OBS_Tr_EI_to_nbTest'].value*nb_trans_EI\n",
    "    result['num_positive']=ps['OBS_nbTest_to_nbpos'].value*result['num_tested']\n",
    "    result['num_hospitalised']=model['H']\n",
    "    result['num_cumulative_hospitalizations']=result['num_hospitalised'].diff().fillna(0).cumsum()\n",
    "    result['num_critical']=model['ICU']\n",
    "    result['num_fatalities']=model['D']\n",
    "    return result\n",
    "    \n",
    "\n",
    "#test['num_tested']=params['OBS_Tr_EI_to_nbTest'].value*"
   ]
  },
  {
   "cell_type": "markdown",
   "metadata": {},
   "source": [
    "# step 2: fitting the model #"
   ]
  },
  {
   "cell_type": "markdown",
   "metadata": {},
   "source": [
    "## step 2.1: write objective function ##"
   ]
  },
  {
   "cell_type": "code",
   "execution_count": 8,
   "metadata": {},
   "outputs": [],
   "source": [
    "#this function compute residuals,\n",
    "#ie objective function to be minimized in the optimization function\n",
    "def residual(ps, ts, data, N):\n",
    "    E0=ps['E0'].value\n",
    "    I0 = ps['I0'].value\n",
    "    C0=ps['C0'].value\n",
    "    S0=N-I0-E0-C0-1\n",
    "    R0=0\n",
    "    H0=1\n",
    "    ICU0=0\n",
    "    D0=0\n",
    "    \n",
    "    y0 = S0,E0,I0,C0,R0,H0,ICU0,D0\n",
    "    \n",
    "    model = pd.DataFrame(odesol(y0,ts,N,ps), columns=['S','E','I','C','R','H','ICU','D'])\n",
    "    obs_df=create_obsdf(model,ps,data)\n",
    "    component1=(obs_df['num_positive']-data['num_positive']).ravel()\n",
    "    component2=(obs_df['num_hospitalised']-data['num_hospitalised']).ravel()\n",
    "    component3=(obs_df['num_critical']-data['num_critical']).ravel()\n",
    "    component4=(obs_df['num_fatalities']-data['num_fatalities']).ravel()\n",
    "    # penalty function to think more about !!!\n",
    "    return component1"
   ]
  },
  {
   "cell_type": "code",
   "execution_count": 9,
   "metadata": {},
   "outputs": [
    {
     "data": {
      "text/plain": [
       "0.6931471805599453"
      ]
     },
     "execution_count": 9,
     "metadata": {},
     "output_type": "execute_result"
    }
   ],
   "source": [
    "np.log(2)"
   ]
  },
  {
   "cell_type": "raw",
   "metadata": {},
   "source": [
    "little test"
   ]
  },
  {
   "cell_type": "code",
   "execution_count": 10,
   "metadata": {},
   "outputs": [
    {
     "ename": "NameError",
     "evalue": "name 'odesol' is not defined",
     "output_type": "error",
     "traceback": [
      "\u001b[1;31m---------------------------------------------------------------------------\u001b[0m",
      "\u001b[1;31mNameError\u001b[0m                                 Traceback (most recent call last)",
      "\u001b[1;32m<ipython-input-10-8038df0f5c42>\u001b[0m in \u001b[0;36m<module>\u001b[1;34m\u001b[0m\n\u001b[0;32m      1\u001b[0m \u001b[0mt\u001b[0m \u001b[1;33m=\u001b[0m \u001b[0mnp\u001b[0m\u001b[1;33m.\u001b[0m\u001b[0mlinspace\u001b[0m\u001b[1;33m(\u001b[0m\u001b[1;36m0\u001b[0m\u001b[1;33m,\u001b[0m \u001b[0mdata\u001b[0m\u001b[1;33m.\u001b[0m\u001b[0mshape\u001b[0m\u001b[1;33m[\u001b[0m\u001b[1;36m0\u001b[0m\u001b[1;33m]\u001b[0m\u001b[1;33m-\u001b[0m\u001b[1;36m1\u001b[0m\u001b[1;33m,\u001b[0m \u001b[0mdata\u001b[0m\u001b[1;33m.\u001b[0m\u001b[0mshape\u001b[0m\u001b[1;33m[\u001b[0m\u001b[1;36m0\u001b[0m\u001b[1;33m]\u001b[0m\u001b[1;33m)\u001b[0m\u001b[1;33m\u001b[0m\u001b[1;33m\u001b[0m\u001b[0m\n\u001b[1;32m----> 2\u001b[1;33m \u001b[0mresidual\u001b[0m\u001b[1;33m(\u001b[0m\u001b[0mparams\u001b[0m\u001b[1;33m,\u001b[0m\u001b[0mdata\u001b[0m\u001b[1;33m.\u001b[0m\u001b[0mshape\u001b[0m\u001b[1;33m[\u001b[0m\u001b[1;36m0\u001b[0m\u001b[1;33m]\u001b[0m \u001b[1;33m-\u001b[0m \u001b[1;36m1\u001b[0m\u001b[1;33m,\u001b[0m\u001b[0mdata\u001b[0m\u001b[1;33m,\u001b[0m \u001b[1;36m1e6\u001b[0m\u001b[1;33m)\u001b[0m\u001b[1;33m\u001b[0m\u001b[1;33m\u001b[0m\u001b[0m\n\u001b[0m",
      "\u001b[1;32m<ipython-input-8-b051e5932fa9>\u001b[0m in \u001b[0;36mresidual\u001b[1;34m(ps, ts, data, N)\u001b[0m\n\u001b[0;32m     13\u001b[0m     \u001b[0my0\u001b[0m \u001b[1;33m=\u001b[0m \u001b[0mS0\u001b[0m\u001b[1;33m,\u001b[0m\u001b[0mE0\u001b[0m\u001b[1;33m,\u001b[0m\u001b[0mI0\u001b[0m\u001b[1;33m,\u001b[0m\u001b[0mC0\u001b[0m\u001b[1;33m,\u001b[0m\u001b[0mR0\u001b[0m\u001b[1;33m,\u001b[0m\u001b[0mH0\u001b[0m\u001b[1;33m,\u001b[0m\u001b[0mICU0\u001b[0m\u001b[1;33m,\u001b[0m\u001b[0mD0\u001b[0m\u001b[1;33m\u001b[0m\u001b[1;33m\u001b[0m\u001b[0m\n\u001b[0;32m     14\u001b[0m \u001b[1;33m\u001b[0m\u001b[0m\n\u001b[1;32m---> 15\u001b[1;33m     \u001b[0mmodel\u001b[0m \u001b[1;33m=\u001b[0m \u001b[0mpd\u001b[0m\u001b[1;33m.\u001b[0m\u001b[0mDataFrame\u001b[0m\u001b[1;33m(\u001b[0m\u001b[0modesol\u001b[0m\u001b[1;33m(\u001b[0m\u001b[0my0\u001b[0m\u001b[1;33m,\u001b[0m\u001b[0mts\u001b[0m\u001b[1;33m,\u001b[0m\u001b[0mN\u001b[0m\u001b[1;33m,\u001b[0m\u001b[0mps\u001b[0m\u001b[1;33m)\u001b[0m\u001b[1;33m,\u001b[0m \u001b[0mcolumns\u001b[0m\u001b[1;33m=\u001b[0m\u001b[1;33m[\u001b[0m\u001b[1;34m'S'\u001b[0m\u001b[1;33m,\u001b[0m\u001b[1;34m'E'\u001b[0m\u001b[1;33m,\u001b[0m\u001b[1;34m'I'\u001b[0m\u001b[1;33m,\u001b[0m\u001b[1;34m'C'\u001b[0m\u001b[1;33m,\u001b[0m\u001b[1;34m'R'\u001b[0m\u001b[1;33m,\u001b[0m\u001b[1;34m'H'\u001b[0m\u001b[1;33m,\u001b[0m\u001b[1;34m'ICU'\u001b[0m\u001b[1;33m,\u001b[0m\u001b[1;34m'D'\u001b[0m\u001b[1;33m]\u001b[0m\u001b[1;33m)\u001b[0m\u001b[1;33m\u001b[0m\u001b[1;33m\u001b[0m\u001b[0m\n\u001b[0m\u001b[0;32m     16\u001b[0m     \u001b[0mobs_df\u001b[0m\u001b[1;33m=\u001b[0m\u001b[0mcreate_obsdf\u001b[0m\u001b[1;33m(\u001b[0m\u001b[0mmodel\u001b[0m\u001b[1;33m,\u001b[0m\u001b[0mps\u001b[0m\u001b[1;33m,\u001b[0m\u001b[0mdata\u001b[0m\u001b[1;33m)\u001b[0m\u001b[1;33m\u001b[0m\u001b[1;33m\u001b[0m\u001b[0m\n\u001b[0;32m     17\u001b[0m     \u001b[0mcomponent1\u001b[0m\u001b[1;33m=\u001b[0m\u001b[1;33m(\u001b[0m\u001b[0mobs_df\u001b[0m\u001b[1;33m[\u001b[0m\u001b[1;34m'num_positive'\u001b[0m\u001b[1;33m]\u001b[0m\u001b[1;33m-\u001b[0m\u001b[0mdata\u001b[0m\u001b[1;33m[\u001b[0m\u001b[1;34m'num_positive'\u001b[0m\u001b[1;33m]\u001b[0m\u001b[1;33m)\u001b[0m\u001b[1;33m.\u001b[0m\u001b[0mravel\u001b[0m\u001b[1;33m(\u001b[0m\u001b[1;33m)\u001b[0m\u001b[1;33m\u001b[0m\u001b[1;33m\u001b[0m\u001b[0m\n",
      "\u001b[1;31mNameError\u001b[0m: name 'odesol' is not defined"
     ]
    }
   ],
   "source": [
    "t = np.linspace(0, data.shape[0]-1, data.shape[0])\n",
    "residual(params,data.shape[0] - 1,data, 1e6)"
   ]
  },
  {
   "cell_type": "code",
   "execution_count": null,
   "metadata": {},
   "outputs": [],
   "source": [
    "t"
   ]
  },
  {
   "cell_type": "markdown",
   "metadata": {},
   "source": [
    "## step 2.2: write optimization command ##"
   ]
  },
  {
   "cell_type": "code",
   "execution_count": 186,
   "metadata": {},
   "outputs": [
    {
     "name": "stderr",
     "output_type": "stream",
     "text": [
      "C:\\Users\\DimiP\\anaconda3\\lib\\site-packages\\scipy\\integrate\\odepack.py:247: ODEintWarning: Illegal input detected (internal error). Run with full_output = 1 to get quantitative information.\n",
      "  warnings.warn(warning_msg, ODEintWarning)\n"
     ]
    },
    {
     "data": {
      "text/html": [
       "<h2>Fit Statistics</h2><table><tr><td>fitting method</td><td>leastsq</td><td></td></tr><tr><td># function evals</td><td>58</td><td></td></tr><tr><td># data points</td><td>71</td><td></td></tr><tr><td># variables</td><td>15</td><td></td></tr><tr><td>chi-square</td><td> 3.5750e+08</td><td></td></tr><tr><td>reduced chi-square</td><td> 6383941.73</td><td></td></tr><tr><td>Akaike info crit.</td><td> 1125.66974</td><td></td></tr><tr><td>Bayesian info crit.</td><td> 1159.60993</td><td></td></tr></table><h2>Variables</h2><table><tr><th> name </th><th> value </th><th> standard error </th><th> relative error </th><th> initial value </th><th> min </th><th> max </th><th> vary </th></tr><tr><td> beta_SE </td><td>  9.87930401 </td><td>         nan </td><td> (nan%) </td><td> 1 </td><td>  1.00000000 </td><td>  10.0000000 </td><td> True </td></tr><tr><td> gamma_ER </td><td>  1.90327114 </td><td>  414.918257 </td><td> (21800.27%) </td><td> 0.1 </td><td>  0.10000000 </td><td>  2.00000000 </td><td> True </td></tr><tr><td> fraction_symptomatic </td><td>  0.59629127 </td><td>         nan </td><td> (nan%) </td><td> 0.6 </td><td>  0.50000000 </td><td>  0.70000000 </td><td> True </td></tr><tr><td> days_EtoI </td><td>  4.70464013 </td><td>         nan </td><td> (nan%) </td><td> 3 </td><td>  1.00000000 </td><td>  5.00000000 </td><td> True </td></tr><tr><td> days_ItoH </td><td>  17.3349073 </td><td>         nan </td><td> (nan%) </td><td> 5 </td><td>  1.00000000 </td><td>  20.0000000 </td><td> True </td></tr><tr><td> days_ItoR </td><td>  32.3122361 </td><td>         nan </td><td> (nan%) </td><td> 10 </td><td>  1.00000000 </td><td>  50.0000000 </td><td> True </td></tr><tr><td> days_HtoR </td><td>  25.7196107 </td><td>         nan </td><td> (nan%) </td><td> 12 </td><td>  1.00000000 </td><td>  100.000000 </td><td> True </td></tr><tr><td> days_HtoICU </td><td>  49.9495677 </td><td>         nan </td><td> (nan%) </td><td> 5 </td><td>  1.00000000 </td><td>  50.0000000 </td><td> True </td></tr><tr><td> days_ICUtoD </td><td>  49.8940274 </td><td>  3609412.81 </td><td> (7234158.06%) </td><td> 2 </td><td>  1.00000000 </td><td>  50.0000000 </td><td> True </td></tr><tr><td> days_ICUtoH </td><td>  16.7513322 </td><td>         nan </td><td> (nan%) </td><td> 6 </td><td>  1.00000000 </td><td>  50.0000000 </td><td> True </td></tr><tr><td> E0 </td><td>  36.4217888 </td><td>  80437.0227 </td><td> (220848.63%) </td><td> 10 </td><td>  1.00000000 </td><td>  40.0000000 </td><td> True </td></tr><tr><td> I0 </td><td>  1.80252014 </td><td>         nan </td><td> (nan%) </td><td> 5 </td><td>  1.00000000 </td><td>  20.0000000 </td><td> True </td></tr><tr><td> C0 </td><td>  0.16553105 </td><td>  37685.1569 </td><td> (22766215.82%) </td><td> 5 </td><td>  0.00000000 </td><td>  20.0000000 </td><td> True </td></tr><tr><td> OBS_Tr_EI_to_nbTest </td><td>  0.05479816 </td><td>  998838.851 </td><td> (1822759796.36%) </td><td> 0.25 </td><td>  0.05000000 </td><td>  1.00000000 </td><td> True </td></tr><tr><td> OBS_nbTest_to_nbpos </td><td>  0.89482602 </td><td>  13969426.9 </td><td> (1561133284.17%) </td><td> 0.75 </td><td>  0.50000000 </td><td>  0.90000000 </td><td> True </td></tr></table><h2>Correlations (unreported correlations are < 0.100)</h2><table><tr><td>OBS_Tr_EI_to_nbTest</td><td>OBS_nbTest_to_nbpos</td><td>-1.0000</td></tr><tr><td>E0</td><td>C0</td><td>-0.8297</td></tr><tr><td>gamma_ER</td><td>C0</td><td>-0.6822</td></tr><tr><td>days_ICUtoD</td><td>C0</td><td>0.4061</td></tr><tr><td>gamma_ER</td><td>days_ICUtoD</td><td>-0.1988</td></tr></table>"
      ],
      "text/plain": [
       "<lmfit.minimizer.MinimizerResult at 0x1e171a2bac0>"
      ]
     },
     "execution_count": 186,
     "metadata": {},
     "output_type": "execute_result"
    }
   ],
   "source": [
    "#mini = Minimizer(residual, params, (data.shape[0] - 1, data, 1e6))\n",
    "mini = Minimizer(residual, params, (data.shape[0] - 1, data, 1e6))\n",
    "result=mini.minimize(method='leastsq')\n",
    "#result = mini.minimize()\n",
    "result\n"
   ]
  },
  {
   "cell_type": "code",
   "execution_count": 188,
   "metadata": {},
   "outputs": [
    {
     "data": {
      "text/html": [
       "<div>\n",
       "<style scoped>\n",
       "    .dataframe tbody tr th:only-of-type {\n",
       "        vertical-align: middle;\n",
       "    }\n",
       "\n",
       "    .dataframe tbody tr th {\n",
       "        vertical-align: top;\n",
       "    }\n",
       "\n",
       "    .dataframe thead th {\n",
       "        text-align: right;\n",
       "    }\n",
       "</style>\n",
       "<table border=\"1\" class=\"dataframe\">\n",
       "  <thead>\n",
       "    <tr style=\"text-align: right;\">\n",
       "      <th></th>\n",
       "      <th>Day</th>\n",
       "      <th>num_positive</th>\n",
       "      <th>num_tested</th>\n",
       "      <th>num_hospitalised</th>\n",
       "      <th>num_cumulative_hospitalizations</th>\n",
       "      <th>num_critical</th>\n",
       "      <th>num_fatalities</th>\n",
       "    </tr>\n",
       "  </thead>\n",
       "  <tbody>\n",
       "    <tr>\n",
       "      <th>0</th>\n",
       "      <td>1</td>\n",
       "      <td>0.953345</td>\n",
       "      <td>1.065397</td>\n",
       "      <td>1.000000e+00</td>\n",
       "      <td>0.000000e+00</td>\n",
       "      <td>0.000000e+00</td>\n",
       "      <td>0.000000e+00</td>\n",
       "    </tr>\n",
       "    <tr>\n",
       "      <th>1</th>\n",
       "      <td>2</td>\n",
       "      <td>3.713774</td>\n",
       "      <td>4.150275</td>\n",
       "      <td>1.688290e+00</td>\n",
       "      <td>6.882903e-01</td>\n",
       "      <td>2.396264e-02</td>\n",
       "      <td>2.207564e-04</td>\n",
       "    </tr>\n",
       "    <tr>\n",
       "      <th>2</th>\n",
       "      <td>3</td>\n",
       "      <td>7.822348</td>\n",
       "      <td>8.741752</td>\n",
       "      <td>4.675716e+00</td>\n",
       "      <td>3.675716e+00</td>\n",
       "      <td>7.741474e-02</td>\n",
       "      <td>1.146710e-03</td>\n",
       "    </tr>\n",
       "    <tr>\n",
       "      <th>3</th>\n",
       "      <td>4</td>\n",
       "      <td>16.254839</td>\n",
       "      <td>18.165363</td>\n",
       "      <td>1.656576e+01</td>\n",
       "      <td>1.556576e+01</td>\n",
       "      <td>2.514427e-01</td>\n",
       "      <td>4.079903e-03</td>\n",
       "    </tr>\n",
       "    <tr>\n",
       "      <th>4</th>\n",
       "      <td>5</td>\n",
       "      <td>33.767288</td>\n",
       "      <td>37.736149</td>\n",
       "      <td>6.582070e+01</td>\n",
       "      <td>6.482070e+01</td>\n",
       "      <td>9.213935e-01</td>\n",
       "      <td>1.432696e-02</td>\n",
       "    </tr>\n",
       "    <tr>\n",
       "      <th>...</th>\n",
       "      <td>...</td>\n",
       "      <td>...</td>\n",
       "      <td>...</td>\n",
       "      <td>...</td>\n",
       "      <td>...</td>\n",
       "      <td>...</td>\n",
       "      <td>...</td>\n",
       "    </tr>\n",
       "    <tr>\n",
       "      <th>66</th>\n",
       "      <td>67</td>\n",
       "      <td>-0.344164</td>\n",
       "      <td>-0.384616</td>\n",
       "      <td>1.738435e+08</td>\n",
       "      <td>1.738435e+08</td>\n",
       "      <td>6.926759e+07</td>\n",
       "      <td>9.051620e+07</td>\n",
       "    </tr>\n",
       "    <tr>\n",
       "      <th>67</th>\n",
       "      <td>68</td>\n",
       "      <td>-0.327722</td>\n",
       "      <td>-0.366241</td>\n",
       "      <td>1.678769e+08</td>\n",
       "      <td>1.678769e+08</td>\n",
       "      <td>6.724542e+07</td>\n",
       "      <td>9.188416e+07</td>\n",
       "    </tr>\n",
       "    <tr>\n",
       "      <th>68</th>\n",
       "      <td>69</td>\n",
       "      <td>-0.312320</td>\n",
       "      <td>-0.349028</td>\n",
       "      <td>1.621322e+08</td>\n",
       "      <td>1.621322e+08</td>\n",
       "      <td>6.526560e+07</td>\n",
       "      <td>9.321202e+07</td>\n",
       "    </tr>\n",
       "    <tr>\n",
       "      <th>69</th>\n",
       "      <td>70</td>\n",
       "      <td>-0.297871</td>\n",
       "      <td>-0.332882</td>\n",
       "      <td>1.565997e+08</td>\n",
       "      <td>1.565997e+08</td>\n",
       "      <td>6.332906e+07</td>\n",
       "      <td>9.450062e+07</td>\n",
       "    </tr>\n",
       "    <tr>\n",
       "      <th>70</th>\n",
       "      <td>71</td>\n",
       "      <td>-0.284300</td>\n",
       "      <td>-0.317715</td>\n",
       "      <td>1.512703e+08</td>\n",
       "      <td>1.512703e+08</td>\n",
       "      <td>6.143648e+07</td>\n",
       "      <td>9.575085e+07</td>\n",
       "    </tr>\n",
       "  </tbody>\n",
       "</table>\n",
       "<p>71 rows × 7 columns</p>\n",
       "</div>"
      ],
      "text/plain": [
       "    Day  num_positive  num_tested  num_hospitalised  \\\n",
       "0     1      0.953345    1.065397      1.000000e+00   \n",
       "1     2      3.713774    4.150275      1.688290e+00   \n",
       "2     3      7.822348    8.741752      4.675716e+00   \n",
       "3     4     16.254839   18.165363      1.656576e+01   \n",
       "4     5     33.767288   37.736149      6.582070e+01   \n",
       "..  ...           ...         ...               ...   \n",
       "66   67     -0.344164   -0.384616      1.738435e+08   \n",
       "67   68     -0.327722   -0.366241      1.678769e+08   \n",
       "68   69     -0.312320   -0.349028      1.621322e+08   \n",
       "69   70     -0.297871   -0.332882      1.565997e+08   \n",
       "70   71     -0.284300   -0.317715      1.512703e+08   \n",
       "\n",
       "    num_cumulative_hospitalizations  num_critical  num_fatalities  \n",
       "0                      0.000000e+00  0.000000e+00    0.000000e+00  \n",
       "1                      6.882903e-01  2.396264e-02    2.207564e-04  \n",
       "2                      3.675716e+00  7.741474e-02    1.146710e-03  \n",
       "3                      1.556576e+01  2.514427e-01    4.079903e-03  \n",
       "4                      6.482070e+01  9.213935e-01    1.432696e-02  \n",
       "..                              ...           ...             ...  \n",
       "66                     1.738435e+08  6.926759e+07    9.051620e+07  \n",
       "67                     1.678769e+08  6.724542e+07    9.188416e+07  \n",
       "68                     1.621322e+08  6.526560e+07    9.321202e+07  \n",
       "69                     1.565997e+08  6.332906e+07    9.450062e+07  \n",
       "70                     1.512703e+08  6.143648e+07    9.575085e+07  \n",
       "\n",
       "[71 rows x 7 columns]"
      ]
     },
     "execution_count": 188,
     "metadata": {},
     "output_type": "execute_result"
    }
   ],
   "source": [
    "\n",
    "E0=result.params['E0'].value\n",
    "I0 = result.params['I0'].value\n",
    "C0=result.params['C0'].value\n",
    "S0=1e6-I0-E0-C0-1\n",
    "R0=0\n",
    "H0=1\n",
    "ICU0=0\n",
    "D0=0\n",
    "\n",
    "y0 = S0,E0,I0,C0,R0,H0,ICU0,D0\n",
    "\n",
    "model = pd.DataFrame(odesol(y0,70,1e6,result.params), columns=['S','E','I','C','R','H','ICU','D'])\n",
    "obs_df=create_obsdf(model,result.params,data)\n"
   ]
  },
  {
   "cell_type": "code",
   "execution_count": 156,
   "metadata": {},
   "outputs": [
    {
     "data": {
      "text/plain": [
       "<matplotlib.legend.Legend at 0x1e171a2bbe0>"
      ]
     },
     "execution_count": 156,
     "metadata": {},
     "output_type": "execute_result"
    },
    {
     "data": {
      "image/png": "[encoded data removed]",
      "text/plain": [
       "<Figure size 432x288 with 1 Axes>"
      ]
     },
     "metadata": {
      "needs_background": "light"
     },
     "output_type": "display_data"
    }
   ],
   "source": [
    "plt.plot(result.residual,label='residu')\n",
    "plt.plot(data['num_positive'],label='data')\n",
    "plt.plot(obs_df['num_positive'],label='sim')\n",
    "plt.legend()"
   ]
  },
  {
   "cell_type": "code",
   "execution_count": 117,
   "metadata": {},
   "outputs": [
    {
     "data": {
      "text/plain": [
       "-2.534629212709539e+17"
      ]
     },
     "execution_count": 117,
     "metadata": {},
     "output_type": "execute_result"
    }
   ],
   "source": [
    "R2 = 1 - sum(result.residual**2) / sum((data['num_positive'] - np.mean(data['num_positive']))**2)\n",
    "R2"
   ]
  },
  {
   "cell_type": "code",
   "execution_count": 95,
   "metadata": {},
   "outputs": [
    {
     "ename": "KeyboardInterrupt",
     "evalue": "",
     "output_type": "error",
     "traceback": [
      "\u001b[1;31m---------------------------------------------------------------------------\u001b[0m",
      "\u001b[1;31mKeyboardInterrupt\u001b[0m                         Traceback (most recent call last)",
      "\u001b[1;32m<ipython-input-95-59e5cf6bcdc4>\u001b[0m in \u001b[0;36m<module>\u001b[1;34m\u001b[0m\n\u001b[0;32m      1\u001b[0m \u001b[1;31m# confidence intervals\u001b[0m\u001b[1;33m\u001b[0m\u001b[1;33m\u001b[0m\u001b[1;33m\u001b[0m\u001b[0m\n\u001b[1;32m----> 2\u001b[1;33m \u001b[0mci\u001b[0m \u001b[1;33m=\u001b[0m \u001b[0mconf_interval\u001b[0m\u001b[1;33m(\u001b[0m\u001b[0mmini\u001b[0m\u001b[1;33m,\u001b[0m \u001b[0mresult\u001b[0m\u001b[1;33m)\u001b[0m\u001b[1;33m\u001b[0m\u001b[1;33m\u001b[0m\u001b[0m\n\u001b[0m\u001b[0;32m      3\u001b[0m \u001b[0mprintfuncs\u001b[0m\u001b[1;33m.\u001b[0m\u001b[0mreport_ci\u001b[0m\u001b[1;33m(\u001b[0m\u001b[0mci\u001b[0m\u001b[1;33m)\u001b[0m\u001b[1;33m\u001b[0m\u001b[1;33m\u001b[0m\u001b[0m\n",
      "\u001b[1;32m~\\anaconda3\\lib\\site-packages\\lmfit\\confidence.py\u001b[0m in \u001b[0;36mconf_interval\u001b[1;34m(minimizer, result, p_names, sigmas, trace, maxiter, verbose, prob_func)\u001b[0m\n\u001b[0;32m    136\u001b[0m     ci = ConfidenceInterval(minimizer, result, p_names, prob_func, sigmas,\n\u001b[0;32m    137\u001b[0m                             trace, verbose, maxiter)\n\u001b[1;32m--> 138\u001b[1;33m     \u001b[0moutput\u001b[0m \u001b[1;33m=\u001b[0m \u001b[0mci\u001b[0m\u001b[1;33m.\u001b[0m\u001b[0mcalc_all_ci\u001b[0m\u001b[1;33m(\u001b[0m\u001b[1;33m)\u001b[0m\u001b[1;33m\u001b[0m\u001b[1;33m\u001b[0m\u001b[0m\n\u001b[0m\u001b[0;32m    139\u001b[0m     \u001b[1;32mif\u001b[0m \u001b[0mtrace\u001b[0m\u001b[1;33m:\u001b[0m\u001b[1;33m\u001b[0m\u001b[1;33m\u001b[0m\u001b[0m\n\u001b[0;32m    140\u001b[0m         \u001b[1;32mreturn\u001b[0m \u001b[0moutput\u001b[0m\u001b[1;33m,\u001b[0m \u001b[0mci\u001b[0m\u001b[1;33m.\u001b[0m\u001b[0mtrace_dict\u001b[0m\u001b[1;33m\u001b[0m\u001b[1;33m\u001b[0m\u001b[0m\n",
      "\u001b[1;32m~\\anaconda3\\lib\\site-packages\\lmfit\\confidence.py\u001b[0m in \u001b[0;36mcalc_all_ci\u001b[1;34m(self)\u001b[0m\n\u001b[0;32m    210\u001b[0m \u001b[1;33m\u001b[0m\u001b[0m\n\u001b[0;32m    211\u001b[0m         \u001b[1;32mfor\u001b[0m \u001b[0mp\u001b[0m \u001b[1;32min\u001b[0m \u001b[0mself\u001b[0m\u001b[1;33m.\u001b[0m\u001b[0mp_names\u001b[0m\u001b[1;33m:\u001b[0m\u001b[1;33m\u001b[0m\u001b[1;33m\u001b[0m\u001b[0m\n\u001b[1;32m--> 212\u001b[1;33m             out[p] = (self.calc_ci(p, -1)[::-1] +\n\u001b[0m\u001b[0;32m    213\u001b[0m                       \u001b[1;33m[\u001b[0m\u001b[1;33m(\u001b[0m\u001b[1;36m0.\u001b[0m\u001b[1;33m,\u001b[0m \u001b[0mself\u001b[0m\u001b[1;33m.\u001b[0m\u001b[0mparams\u001b[0m\u001b[1;33m[\u001b[0m\u001b[0mp\u001b[0m\u001b[1;33m]\u001b[0m\u001b[1;33m.\u001b[0m\u001b[0mvalue\u001b[0m\u001b[1;33m)\u001b[0m\u001b[1;33m]\u001b[0m \u001b[1;33m+\u001b[0m\u001b[1;33m\u001b[0m\u001b[1;33m\u001b[0m\u001b[0m\n\u001b[0;32m    214\u001b[0m                       self.calc_ci(p, 1))\n",
      "\u001b[1;32m~\\anaconda3\\lib\\site-packages\\lmfit\\confidence.py\u001b[0m in \u001b[0;36mcalc_ci\u001b[1;34m(self, para, direction)\u001b[0m\n\u001b[0;32m    234\u001b[0m \u001b[1;33m\u001b[0m\u001b[0m\n\u001b[0;32m    235\u001b[0m         \u001b[0mpara\u001b[0m\u001b[1;33m.\u001b[0m\u001b[0mvary\u001b[0m \u001b[1;33m=\u001b[0m \u001b[1;32mFalse\u001b[0m\u001b[1;33m\u001b[0m\u001b[1;33m\u001b[0m\u001b[0m\n\u001b[1;32m--> 236\u001b[1;33m         \u001b[0mlimit\u001b[0m\u001b[1;33m,\u001b[0m \u001b[0mmax_prob\u001b[0m \u001b[1;33m=\u001b[0m \u001b[0mself\u001b[0m\u001b[1;33m.\u001b[0m\u001b[0mfind_limit\u001b[0m\u001b[1;33m(\u001b[0m\u001b[0mpara\u001b[0m\u001b[1;33m,\u001b[0m \u001b[0mdirection\u001b[0m\u001b[1;33m)\u001b[0m\u001b[1;33m\u001b[0m\u001b[1;33m\u001b[0m\u001b[0m\n\u001b[0m\u001b[0;32m    237\u001b[0m         \u001b[0mstart_val\u001b[0m \u001b[1;33m=\u001b[0m \u001b[0ma_limit\u001b[0m \u001b[1;33m=\u001b[0m \u001b[0mfloat\u001b[0m\u001b[1;33m(\u001b[0m\u001b[0mpara\u001b[0m\u001b[1;33m.\u001b[0m\u001b[0mvalue\u001b[0m\u001b[1;33m)\u001b[0m\u001b[1;33m\u001b[0m\u001b[1;33m\u001b[0m\u001b[0m\n\u001b[0;32m    238\u001b[0m         \u001b[0mret\u001b[0m \u001b[1;33m=\u001b[0m \u001b[1;33m[\u001b[0m\u001b[1;33m]\u001b[0m\u001b[1;33m\u001b[0m\u001b[1;33m\u001b[0m\u001b[0m\n",
      "\u001b[1;32m~\\anaconda3\\lib\\site-packages\\lmfit\\confidence.py\u001b[0m in \u001b[0;36mfind_limit\u001b[1;34m(self, para, direction)\u001b[0m\n\u001b[0;32m    297\u001b[0m                 \u001b[0mbound_reached\u001b[0m \u001b[1;33m=\u001b[0m \u001b[1;32mTrue\u001b[0m\u001b[1;33m\u001b[0m\u001b[1;33m\u001b[0m\u001b[0m\n\u001b[0;32m    298\u001b[0m \u001b[1;33m\u001b[0m\u001b[0m\n\u001b[1;32m--> 299\u001b[1;33m             \u001b[0mnew_prob\u001b[0m \u001b[1;33m=\u001b[0m \u001b[0mself\u001b[0m\u001b[1;33m.\u001b[0m\u001b[0mcalc_prob\u001b[0m\u001b[1;33m(\u001b[0m\u001b[0mpara\u001b[0m\u001b[1;33m,\u001b[0m \u001b[0mlimit\u001b[0m\u001b[1;33m)\u001b[0m\u001b[1;33m\u001b[0m\u001b[1;33m\u001b[0m\u001b[0m\n\u001b[0m\u001b[0;32m    300\u001b[0m             \u001b[0mrel_change\u001b[0m \u001b[1;33m=\u001b[0m \u001b[1;33m(\u001b[0m\u001b[0mnew_prob\u001b[0m \u001b[1;33m-\u001b[0m \u001b[0mold_prob\u001b[0m\u001b[1;33m)\u001b[0m \u001b[1;33m/\u001b[0m \u001b[0mmax\u001b[0m\u001b[1;33m(\u001b[0m\u001b[0mnew_prob\u001b[0m\u001b[1;33m,\u001b[0m \u001b[0mold_prob\u001b[0m\u001b[1;33m,\u001b[0m \u001b[1;36m1e-12\u001b[0m\u001b[1;33m)\u001b[0m\u001b[1;33m\u001b[0m\u001b[1;33m\u001b[0m\u001b[0m\n\u001b[0;32m    301\u001b[0m             \u001b[0mold_prob\u001b[0m \u001b[1;33m=\u001b[0m \u001b[0mnew_prob\u001b[0m\u001b[1;33m\u001b[0m\u001b[1;33m\u001b[0m\u001b[0m\n",
      "\u001b[1;32m~\\anaconda3\\lib\\site-packages\\lmfit\\confidence.py\u001b[0m in \u001b[0;36mcalc_prob\u001b[1;34m(self, para, val, offset, restore)\u001b[0m\n\u001b[0;32m    340\u001b[0m         \u001b[0mself\u001b[0m\u001b[1;33m.\u001b[0m\u001b[0mparams\u001b[0m\u001b[1;33m[\u001b[0m\u001b[0mpara\u001b[0m\u001b[1;33m.\u001b[0m\u001b[0mname\u001b[0m\u001b[1;33m]\u001b[0m \u001b[1;33m=\u001b[0m \u001b[0mpara\u001b[0m\u001b[1;33m\u001b[0m\u001b[1;33m\u001b[0m\u001b[0m\n\u001b[0;32m    341\u001b[0m         \u001b[0mself\u001b[0m\u001b[1;33m.\u001b[0m\u001b[0mminimizer\u001b[0m\u001b[1;33m.\u001b[0m\u001b[0mprepare_fit\u001b[0m\u001b[1;33m(\u001b[0m\u001b[0mself\u001b[0m\u001b[1;33m.\u001b[0m\u001b[0mparams\u001b[0m\u001b[1;33m)\u001b[0m\u001b[1;33m\u001b[0m\u001b[1;33m\u001b[0m\u001b[0m\n\u001b[1;32m--> 342\u001b[1;33m         \u001b[0mout\u001b[0m \u001b[1;33m=\u001b[0m \u001b[0mself\u001b[0m\u001b[1;33m.\u001b[0m\u001b[0mminimizer\u001b[0m\u001b[1;33m.\u001b[0m\u001b[0mleastsq\u001b[0m\u001b[1;33m(\u001b[0m\u001b[1;33m)\u001b[0m\u001b[1;33m\u001b[0m\u001b[1;33m\u001b[0m\u001b[0m\n\u001b[0m\u001b[0;32m    343\u001b[0m         \u001b[0mprob\u001b[0m \u001b[1;33m=\u001b[0m \u001b[0mself\u001b[0m\u001b[1;33m.\u001b[0m\u001b[0mprob_func\u001b[0m\u001b[1;33m(\u001b[0m\u001b[0mself\u001b[0m\u001b[1;33m.\u001b[0m\u001b[0mresult\u001b[0m\u001b[1;33m,\u001b[0m \u001b[0mout\u001b[0m\u001b[1;33m)\u001b[0m\u001b[1;33m\u001b[0m\u001b[1;33m\u001b[0m\u001b[0m\n\u001b[0;32m    344\u001b[0m \u001b[1;33m\u001b[0m\u001b[0m\n",
      "\u001b[1;32m~\\anaconda3\\lib\\site-packages\\lmfit\\minimizer.py\u001b[0m in \u001b[0;36mleastsq\u001b[1;34m(self, params, max_nfev, **kws)\u001b[0m\n\u001b[0;32m   1644\u001b[0m         \u001b[0mresult\u001b[0m\u001b[1;33m.\u001b[0m\u001b[0mcall_kws\u001b[0m \u001b[1;33m=\u001b[0m \u001b[0mlskws\u001b[0m\u001b[1;33m\u001b[0m\u001b[1;33m\u001b[0m\u001b[0m\n\u001b[0;32m   1645\u001b[0m         \u001b[1;32mtry\u001b[0m\u001b[1;33m:\u001b[0m\u001b[1;33m\u001b[0m\u001b[1;33m\u001b[0m\u001b[0m\n\u001b[1;32m-> 1646\u001b[1;33m             \u001b[0mlsout\u001b[0m \u001b[1;33m=\u001b[0m \u001b[0mscipy_leastsq\u001b[0m\u001b[1;33m(\u001b[0m\u001b[0mself\u001b[0m\u001b[1;33m.\u001b[0m\u001b[0m__residual\u001b[0m\u001b[1;33m,\u001b[0m \u001b[0mvariables\u001b[0m\u001b[1;33m,\u001b[0m \u001b[1;33m**\u001b[0m\u001b[0mlskws\u001b[0m\u001b[1;33m)\u001b[0m\u001b[1;33m\u001b[0m\u001b[1;33m\u001b[0m\u001b[0m\n\u001b[0m\u001b[0;32m   1647\u001b[0m         \u001b[1;32mexcept\u001b[0m \u001b[0mAbortFitException\u001b[0m\u001b[1;33m:\u001b[0m\u001b[1;33m\u001b[0m\u001b[1;33m\u001b[0m\u001b[0m\n\u001b[0;32m   1648\u001b[0m             \u001b[1;32mpass\u001b[0m\u001b[1;33m\u001b[0m\u001b[1;33m\u001b[0m\u001b[0m\n",
      "\u001b[1;32m~\\anaconda3\\lib\\site-packages\\scipy\\optimize\\minpack.py\u001b[0m in \u001b[0;36mleastsq\u001b[1;34m(func, x0, args, Dfun, full_output, col_deriv, ftol, xtol, gtol, maxfev, epsfcn, factor, diag)\u001b[0m\n\u001b[0;32m    420\u001b[0m         \u001b[1;32mif\u001b[0m \u001b[0mmaxfev\u001b[0m \u001b[1;33m==\u001b[0m \u001b[1;36m0\u001b[0m\u001b[1;33m:\u001b[0m\u001b[1;33m\u001b[0m\u001b[1;33m\u001b[0m\u001b[0m\n\u001b[0;32m    421\u001b[0m             \u001b[0mmaxfev\u001b[0m \u001b[1;33m=\u001b[0m \u001b[1;36m200\u001b[0m\u001b[1;33m*\u001b[0m\u001b[1;33m(\u001b[0m\u001b[0mn\u001b[0m \u001b[1;33m+\u001b[0m \u001b[1;36m1\u001b[0m\u001b[1;33m)\u001b[0m\u001b[1;33m\u001b[0m\u001b[1;33m\u001b[0m\u001b[0m\n\u001b[1;32m--> 422\u001b[1;33m         retval = _minpack._lmdif(func, x0, args, full_output, ftol, xtol,\n\u001b[0m\u001b[0;32m    423\u001b[0m                                  gtol, maxfev, epsfcn, factor, diag)\n\u001b[0;32m    424\u001b[0m     \u001b[1;32melse\u001b[0m\u001b[1;33m:\u001b[0m\u001b[1;33m\u001b[0m\u001b[1;33m\u001b[0m\u001b[0m\n",
      "\u001b[1;32m~\\anaconda3\\lib\\site-packages\\lmfit\\minimizer.py\u001b[0m in \u001b[0;36m__residual\u001b[1;34m(self, fvars, apply_bounds_transformation)\u001b[0m\n\u001b[0;32m    574\u001b[0m             \u001b[1;32mraise\u001b[0m \u001b[0mAbortFitException\u001b[0m\u001b[1;33m(\u001b[0m\u001b[1;34m\"fit aborted: too many function evaluations (%d).\"\u001b[0m \u001b[1;33m%\u001b[0m \u001b[0mself\u001b[0m\u001b[1;33m.\u001b[0m\u001b[0mmax_nfev\u001b[0m\u001b[1;33m)\u001b[0m\u001b[1;33m\u001b[0m\u001b[1;33m\u001b[0m\u001b[0m\n\u001b[0;32m    575\u001b[0m \u001b[1;33m\u001b[0m\u001b[0m\n\u001b[1;32m--> 576\u001b[1;33m         \u001b[0mout\u001b[0m \u001b[1;33m=\u001b[0m \u001b[0mself\u001b[0m\u001b[1;33m.\u001b[0m\u001b[0muserfcn\u001b[0m\u001b[1;33m(\u001b[0m\u001b[0mparams\u001b[0m\u001b[1;33m,\u001b[0m \u001b[1;33m*\u001b[0m\u001b[0mself\u001b[0m\u001b[1;33m.\u001b[0m\u001b[0muserargs\u001b[0m\u001b[1;33m,\u001b[0m \u001b[1;33m**\u001b[0m\u001b[0mself\u001b[0m\u001b[1;33m.\u001b[0m\u001b[0muserkws\u001b[0m\u001b[1;33m)\u001b[0m\u001b[1;33m\u001b[0m\u001b[1;33m\u001b[0m\u001b[0m\n\u001b[0m\u001b[0;32m    577\u001b[0m \u001b[1;33m\u001b[0m\u001b[0m\n\u001b[0;32m    578\u001b[0m         \u001b[1;32mif\u001b[0m \u001b[0mcallable\u001b[0m\u001b[1;33m(\u001b[0m\u001b[0mself\u001b[0m\u001b[1;33m.\u001b[0m\u001b[0miter_cb\u001b[0m\u001b[1;33m)\u001b[0m\u001b[1;33m:\u001b[0m\u001b[1;33m\u001b[0m\u001b[1;33m\u001b[0m\u001b[0m\n",
      "\u001b[1;32m<ipython-input-69-6812e3ebaa57>\u001b[0m in \u001b[0;36mresidual\u001b[1;34m(ps, ts, data2, N)\u001b[0m\n\u001b[0;32m     14\u001b[0m \u001b[1;33m\u001b[0m\u001b[0m\n\u001b[0;32m     15\u001b[0m     \u001b[0mmodel\u001b[0m \u001b[1;33m=\u001b[0m \u001b[0mpd\u001b[0m\u001b[1;33m.\u001b[0m\u001b[0mDataFrame\u001b[0m\u001b[1;33m(\u001b[0m\u001b[0modesol\u001b[0m\u001b[1;33m(\u001b[0m\u001b[0my0\u001b[0m\u001b[1;33m,\u001b[0m\u001b[0mts\u001b[0m\u001b[1;33m,\u001b[0m\u001b[0mN\u001b[0m\u001b[1;33m,\u001b[0m\u001b[0mps\u001b[0m\u001b[1;33m)\u001b[0m\u001b[1;33m,\u001b[0m \u001b[0mcolumns\u001b[0m\u001b[1;33m=\u001b[0m\u001b[1;33m[\u001b[0m\u001b[1;34m'S'\u001b[0m\u001b[1;33m,\u001b[0m\u001b[1;34m'E'\u001b[0m\u001b[1;33m,\u001b[0m\u001b[1;34m'I'\u001b[0m\u001b[1;33m,\u001b[0m\u001b[1;34m'C'\u001b[0m\u001b[1;33m,\u001b[0m\u001b[1;34m'R'\u001b[0m\u001b[1;33m,\u001b[0m\u001b[1;34m'H'\u001b[0m\u001b[1;33m,\u001b[0m\u001b[1;34m'ICU'\u001b[0m\u001b[1;33m,\u001b[0m\u001b[1;34m'D'\u001b[0m\u001b[1;33m]\u001b[0m\u001b[1;33m)\u001b[0m\u001b[1;33m\u001b[0m\u001b[1;33m\u001b[0m\u001b[0m\n\u001b[1;32m---> 16\u001b[1;33m     \u001b[0mobs_df\u001b[0m\u001b[1;33m=\u001b[0m\u001b[0mcreate_obsdf\u001b[0m\u001b[1;33m(\u001b[0m\u001b[0mmodel\u001b[0m\u001b[1;33m,\u001b[0m\u001b[0mps\u001b[0m\u001b[1;33m,\u001b[0m\u001b[0mdata\u001b[0m\u001b[1;33m)\u001b[0m\u001b[1;33m\u001b[0m\u001b[1;33m\u001b[0m\u001b[0m\n\u001b[0m\u001b[0;32m     17\u001b[0m     \u001b[0mcomponent1\u001b[0m\u001b[1;33m=\u001b[0m\u001b[1;33m(\u001b[0m\u001b[0mobs_df\u001b[0m\u001b[1;33m[\u001b[0m\u001b[1;34m'num_positive'\u001b[0m\u001b[1;33m]\u001b[0m\u001b[1;33m-\u001b[0m\u001b[0mdata\u001b[0m\u001b[1;33m[\u001b[0m\u001b[1;34m'num_positive'\u001b[0m\u001b[1;33m]\u001b[0m\u001b[1;33m)\u001b[0m\u001b[1;33m.\u001b[0m\u001b[0mravel\u001b[0m\u001b[1;33m(\u001b[0m\u001b[1;33m)\u001b[0m\u001b[1;33m\u001b[0m\u001b[1;33m\u001b[0m\u001b[0m\n\u001b[0;32m     18\u001b[0m     \u001b[0mcomponent2\u001b[0m\u001b[1;33m=\u001b[0m\u001b[1;33m(\u001b[0m\u001b[0mobs_df\u001b[0m\u001b[1;33m[\u001b[0m\u001b[1;34m'num_hospitalised'\u001b[0m\u001b[1;33m]\u001b[0m\u001b[1;33m-\u001b[0m\u001b[0mdata\u001b[0m\u001b[1;33m[\u001b[0m\u001b[1;34m'num_hospitalised'\u001b[0m\u001b[1;33m]\u001b[0m\u001b[1;33m)\u001b[0m\u001b[1;33m.\u001b[0m\u001b[0mravel\u001b[0m\u001b[1;33m(\u001b[0m\u001b[1;33m)\u001b[0m\u001b[1;33m\u001b[0m\u001b[1;33m\u001b[0m\u001b[0m\n",
      "\u001b[1;32m<ipython-input-18-71a00930f2a8>\u001b[0m in \u001b[0;36mcreate_obsdf\u001b[1;34m(model, ps, data)\u001b[0m\n\u001b[0;32m      2\u001b[0m \u001b[1;32mdef\u001b[0m \u001b[0mcreate_obsdf\u001b[0m\u001b[1;33m(\u001b[0m\u001b[0mmodel\u001b[0m\u001b[1;33m,\u001b[0m\u001b[0mps\u001b[0m\u001b[1;33m,\u001b[0m\u001b[0mdata\u001b[0m\u001b[1;33m)\u001b[0m\u001b[1;33m:\u001b[0m\u001b[1;33m\u001b[0m\u001b[1;33m\u001b[0m\u001b[0m\n\u001b[0;32m      3\u001b[0m     \u001b[0mresult\u001b[0m\u001b[1;33m=\u001b[0m\u001b[0mpd\u001b[0m\u001b[1;33m.\u001b[0m\u001b[0mDataFrame\u001b[0m\u001b[1;33m(\u001b[0m\u001b[0mcolumns\u001b[0m\u001b[1;33m=\u001b[0m\u001b[0mdata\u001b[0m\u001b[1;33m.\u001b[0m\u001b[0mcolumns\u001b[0m\u001b[1;33m)\u001b[0m\u001b[1;33m\u001b[0m\u001b[1;33m\u001b[0m\u001b[0m\n\u001b[1;32m----> 4\u001b[1;33m     \u001b[0mresult\u001b[0m\u001b[1;33m[\u001b[0m\u001b[1;34m'Day'\u001b[0m\u001b[1;33m]\u001b[0m\u001b[1;33m=\u001b[0m\u001b[0mdata\u001b[0m\u001b[1;33m[\u001b[0m\u001b[1;34m'Day'\u001b[0m\u001b[1;33m]\u001b[0m\u001b[1;33m\u001b[0m\u001b[1;33m\u001b[0m\u001b[0m\n\u001b[0m\u001b[0;32m      5\u001b[0m     \u001b[0mnb_trans_EI\u001b[0m\u001b[1;33m=\u001b[0m\u001b[0mps\u001b[0m\u001b[1;33m[\u001b[0m\u001b[1;34m'beta_SE'\u001b[0m\u001b[1;33m]\u001b[0m\u001b[1;33m*\u001b[0m\u001b[1;33m(\u001b[0m\u001b[0mmodel\u001b[0m\u001b[1;33m[\u001b[0m\u001b[1;34m'S'\u001b[0m\u001b[1;33m]\u001b[0m\u001b[1;33m*\u001b[0m\u001b[1;33m(\u001b[0m\u001b[0mmodel\u001b[0m\u001b[1;33m[\u001b[0m\u001b[1;34m'I'\u001b[0m\u001b[1;33m]\u001b[0m\u001b[1;33m+\u001b[0m\u001b[0mmodel\u001b[0m\u001b[1;33m[\u001b[0m\u001b[1;34m'C'\u001b[0m\u001b[1;33m]\u001b[0m\u001b[1;33m)\u001b[0m\u001b[1;33m)\u001b[0m\u001b[1;33m/\u001b[0m\u001b[1;33m(\u001b[0m\u001b[1;36m10\u001b[0m\u001b[1;33m**\u001b[0m\u001b[1;36m6\u001b[0m\u001b[1;33m-\u001b[0m\u001b[0mmodel\u001b[0m\u001b[1;33m[\u001b[0m\u001b[1;34m'D'\u001b[0m\u001b[1;33m]\u001b[0m\u001b[1;33m)\u001b[0m\u001b[1;33m\u001b[0m\u001b[1;33m\u001b[0m\u001b[0m\n\u001b[0;32m      6\u001b[0m     \u001b[0mresult\u001b[0m\u001b[1;33m[\u001b[0m\u001b[1;34m'num_tested'\u001b[0m\u001b[1;33m]\u001b[0m\u001b[1;33m=\u001b[0m\u001b[0mps\u001b[0m\u001b[1;33m[\u001b[0m\u001b[1;34m'OBS_Tr_EI_to_nbTest'\u001b[0m\u001b[1;33m]\u001b[0m\u001b[1;33m.\u001b[0m\u001b[0mvalue\u001b[0m\u001b[1;33m*\u001b[0m\u001b[0mnb_trans_EI\u001b[0m\u001b[1;33m\u001b[0m\u001b[1;33m\u001b[0m\u001b[0m\n",
      "\u001b[1;32m~\\anaconda3\\lib\\site-packages\\pandas\\core\\frame.py\u001b[0m in \u001b[0;36m__setitem__\u001b[1;34m(self, key, value)\u001b[0m\n\u001b[0;32m   3042\u001b[0m         \u001b[1;32melse\u001b[0m\u001b[1;33m:\u001b[0m\u001b[1;33m\u001b[0m\u001b[1;33m\u001b[0m\u001b[0m\n\u001b[0;32m   3043\u001b[0m             \u001b[1;31m# set column\u001b[0m\u001b[1;33m\u001b[0m\u001b[1;33m\u001b[0m\u001b[1;33m\u001b[0m\u001b[0m\n\u001b[1;32m-> 3044\u001b[1;33m             \u001b[0mself\u001b[0m\u001b[1;33m.\u001b[0m\u001b[0m_set_item\u001b[0m\u001b[1;33m(\u001b[0m\u001b[0mkey\u001b[0m\u001b[1;33m,\u001b[0m \u001b[0mvalue\u001b[0m\u001b[1;33m)\u001b[0m\u001b[1;33m\u001b[0m\u001b[1;33m\u001b[0m\u001b[0m\n\u001b[0m\u001b[0;32m   3045\u001b[0m \u001b[1;33m\u001b[0m\u001b[0m\n\u001b[0;32m   3046\u001b[0m     \u001b[1;32mdef\u001b[0m \u001b[0m_setitem_slice\u001b[0m\u001b[1;33m(\u001b[0m\u001b[0mself\u001b[0m\u001b[1;33m,\u001b[0m \u001b[0mkey\u001b[0m\u001b[1;33m:\u001b[0m \u001b[0mslice\u001b[0m\u001b[1;33m,\u001b[0m \u001b[0mvalue\u001b[0m\u001b[1;33m)\u001b[0m\u001b[1;33m:\u001b[0m\u001b[1;33m\u001b[0m\u001b[1;33m\u001b[0m\u001b[0m\n",
      "\u001b[1;32m~\\anaconda3\\lib\\site-packages\\pandas\\core\\frame.py\u001b[0m in \u001b[0;36m_set_item\u001b[1;34m(self, key, value)\u001b[0m\n\u001b[0;32m   3119\u001b[0m         \u001b[0mself\u001b[0m\u001b[1;33m.\u001b[0m\u001b[0m_ensure_valid_index\u001b[0m\u001b[1;33m(\u001b[0m\u001b[0mvalue\u001b[0m\u001b[1;33m)\u001b[0m\u001b[1;33m\u001b[0m\u001b[1;33m\u001b[0m\u001b[0m\n\u001b[0;32m   3120\u001b[0m         \u001b[0mvalue\u001b[0m \u001b[1;33m=\u001b[0m \u001b[0mself\u001b[0m\u001b[1;33m.\u001b[0m\u001b[0m_sanitize_column\u001b[0m\u001b[1;33m(\u001b[0m\u001b[0mkey\u001b[0m\u001b[1;33m,\u001b[0m \u001b[0mvalue\u001b[0m\u001b[1;33m)\u001b[0m\u001b[1;33m\u001b[0m\u001b[1;33m\u001b[0m\u001b[0m\n\u001b[1;32m-> 3121\u001b[1;33m         \u001b[0mNDFrame\u001b[0m\u001b[1;33m.\u001b[0m\u001b[0m_set_item\u001b[0m\u001b[1;33m(\u001b[0m\u001b[0mself\u001b[0m\u001b[1;33m,\u001b[0m \u001b[0mkey\u001b[0m\u001b[1;33m,\u001b[0m \u001b[0mvalue\u001b[0m\u001b[1;33m)\u001b[0m\u001b[1;33m\u001b[0m\u001b[1;33m\u001b[0m\u001b[0m\n\u001b[0m\u001b[0;32m   3122\u001b[0m \u001b[1;33m\u001b[0m\u001b[0m\n\u001b[0;32m   3123\u001b[0m         \u001b[1;31m# check if we are modifying a copy\u001b[0m\u001b[1;33m\u001b[0m\u001b[1;33m\u001b[0m\u001b[1;33m\u001b[0m\u001b[0m\n",
      "\u001b[1;32m~\\anaconda3\\lib\\site-packages\\pandas\\core\\generic.py\u001b[0m in \u001b[0;36m_set_item\u001b[1;34m(self, key, value)\u001b[0m\n\u001b[0;32m   3580\u001b[0m             \u001b[1;32mreturn\u001b[0m\u001b[1;33m\u001b[0m\u001b[1;33m\u001b[0m\u001b[0m\n\u001b[0;32m   3581\u001b[0m \u001b[1;33m\u001b[0m\u001b[0m\n\u001b[1;32m-> 3582\u001b[1;33m         \u001b[0mNDFrame\u001b[0m\u001b[1;33m.\u001b[0m\u001b[0m_iset_item\u001b[0m\u001b[1;33m(\u001b[0m\u001b[0mself\u001b[0m\u001b[1;33m,\u001b[0m \u001b[0mloc\u001b[0m\u001b[1;33m,\u001b[0m \u001b[0mvalue\u001b[0m\u001b[1;33m)\u001b[0m\u001b[1;33m\u001b[0m\u001b[1;33m\u001b[0m\u001b[0m\n\u001b[0m\u001b[0;32m   3583\u001b[0m \u001b[1;33m\u001b[0m\u001b[0m\n\u001b[0;32m   3584\u001b[0m     \u001b[1;32mdef\u001b[0m \u001b[0m_set_is_copy\u001b[0m\u001b[1;33m(\u001b[0m\u001b[0mself\u001b[0m\u001b[1;33m,\u001b[0m \u001b[0mref\u001b[0m\u001b[1;33m,\u001b[0m \u001b[0mcopy\u001b[0m\u001b[1;33m:\u001b[0m \u001b[0mbool_t\u001b[0m \u001b[1;33m=\u001b[0m \u001b[1;32mTrue\u001b[0m\u001b[1;33m)\u001b[0m \u001b[1;33m->\u001b[0m \u001b[1;32mNone\u001b[0m\u001b[1;33m:\u001b[0m\u001b[1;33m\u001b[0m\u001b[1;33m\u001b[0m\u001b[0m\n",
      "\u001b[1;32m~\\anaconda3\\lib\\site-packages\\pandas\\core\\generic.py\u001b[0m in \u001b[0;36m_iset_item\u001b[1;34m(self, loc, value)\u001b[0m\n\u001b[0;32m   3569\u001b[0m \u001b[1;33m\u001b[0m\u001b[0m\n\u001b[0;32m   3570\u001b[0m     \u001b[1;32mdef\u001b[0m \u001b[0m_iset_item\u001b[0m\u001b[1;33m(\u001b[0m\u001b[0mself\u001b[0m\u001b[1;33m,\u001b[0m \u001b[0mloc\u001b[0m\u001b[1;33m:\u001b[0m \u001b[0mint\u001b[0m\u001b[1;33m,\u001b[0m \u001b[0mvalue\u001b[0m\u001b[1;33m)\u001b[0m \u001b[1;33m->\u001b[0m \u001b[1;32mNone\u001b[0m\u001b[1;33m:\u001b[0m\u001b[1;33m\u001b[0m\u001b[1;33m\u001b[0m\u001b[0m\n\u001b[1;32m-> 3571\u001b[1;33m         \u001b[0mself\u001b[0m\u001b[1;33m.\u001b[0m\u001b[0m_mgr\u001b[0m\u001b[1;33m.\u001b[0m\u001b[0miset\u001b[0m\u001b[1;33m(\u001b[0m\u001b[0mloc\u001b[0m\u001b[1;33m,\u001b[0m \u001b[0mvalue\u001b[0m\u001b[1;33m)\u001b[0m\u001b[1;33m\u001b[0m\u001b[1;33m\u001b[0m\u001b[0m\n\u001b[0m\u001b[0;32m   3572\u001b[0m         \u001b[0mself\u001b[0m\u001b[1;33m.\u001b[0m\u001b[0m_clear_item_cache\u001b[0m\u001b[1;33m(\u001b[0m\u001b[1;33m)\u001b[0m\u001b[1;33m\u001b[0m\u001b[1;33m\u001b[0m\u001b[0m\n\u001b[0;32m   3573\u001b[0m \u001b[1;33m\u001b[0m\u001b[0m\n",
      "\u001b[1;32m~\\anaconda3\\lib\\site-packages\\pandas\\core\\internals\\managers.py\u001b[0m in \u001b[0;36miset\u001b[1;34m(self, loc, value)\u001b[0m\n\u001b[0;32m   1113\u001b[0m                 \u001b[1;32melse\u001b[0m\u001b[1;33m:\u001b[0m\u001b[1;33m\u001b[0m\u001b[1;33m\u001b[0m\u001b[0m\n\u001b[0;32m   1114\u001b[0m                     \u001b[0mblk\u001b[0m\u001b[1;33m.\u001b[0m\u001b[0mdelete\u001b[0m\u001b[1;33m(\u001b[0m\u001b[0mblk_locs\u001b[0m\u001b[1;33m)\u001b[0m\u001b[1;33m\u001b[0m\u001b[1;33m\u001b[0m\u001b[0m\n\u001b[1;32m-> 1115\u001b[1;33m                     \u001b[0mself\u001b[0m\u001b[1;33m.\u001b[0m\u001b[0m_blklocs\u001b[0m\u001b[1;33m[\u001b[0m\u001b[0mblk\u001b[0m\u001b[1;33m.\u001b[0m\u001b[0mmgr_locs\u001b[0m\u001b[1;33m.\u001b[0m\u001b[0mindexer\u001b[0m\u001b[1;33m]\u001b[0m \u001b[1;33m=\u001b[0m \u001b[0mnp\u001b[0m\u001b[1;33m.\u001b[0m\u001b[0marange\u001b[0m\u001b[1;33m(\u001b[0m\u001b[0mlen\u001b[0m\u001b[1;33m(\u001b[0m\u001b[0mblk\u001b[0m\u001b[1;33m)\u001b[0m\u001b[1;33m)\u001b[0m\u001b[1;33m\u001b[0m\u001b[1;33m\u001b[0m\u001b[0m\n\u001b[0m\u001b[0;32m   1116\u001b[0m \u001b[1;33m\u001b[0m\u001b[0m\n\u001b[0;32m   1117\u001b[0m         \u001b[1;32mif\u001b[0m \u001b[0mlen\u001b[0m\u001b[1;33m(\u001b[0m\u001b[0mremoved_blknos\u001b[0m\u001b[1;33m)\u001b[0m\u001b[1;33m:\u001b[0m\u001b[1;33m\u001b[0m\u001b[1;33m\u001b[0m\u001b[0m\n",
      "\u001b[1;31mKeyboardInterrupt\u001b[0m: "
     ]
    }
   ],
   "source": [
    "# confidence intervals\n",
    "ci = conf_interval(mini, result)\n",
    "printfuncs.report_ci(ci)"
   ]
  },
  {
   "cell_type": "code",
   "execution_count": null,
   "metadata": {},
   "outputs": [],
   "source": []
  },
  {
   "cell_type": "code",
   "execution_count": null,
   "metadata": {},
   "outputs": [],
   "source": []
  }
 ],
 "metadata": {
  "kernelspec": {
   "display_name": "Python 3",
   "language": "python",
   "name": "python3"
  },
  "language_info": {
   "codemirror_mode": {
    "name": "ipython",
    "version": 3
   },
   "file_extension": ".py",
   "mimetype": "text/x-python",
   "name": "python",
   "nbconvert_exporter": "python",
   "pygments_lexer": "ipython3",
   "version": "3.8.5"
  }
 },
 "nbformat": 4,
 "nbformat_minor": 4
}
