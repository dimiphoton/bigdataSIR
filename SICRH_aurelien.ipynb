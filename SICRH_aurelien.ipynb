{
 "cells": [
  {
   "cell_type": "code",
   "execution_count": 1,
   "metadata": {},
   "outputs": [],
   "source": [
    "import numpy as np\n",
    "import random\n",
    "import pandas as pd\n",
    "from scipy.integrate import odeint\n",
    "import matplotlib.pyplot as plt\n",
    "import seaborn as sns\n",
    "import matplotlib.dates as mdates\n",
    "from matplotlib import dates\n",
    "from sklearn.metrics import mean_squared_error, r2_score\n",
    "from datetime import datetime\n",
    "from lmfit import Minimizer, Parameters, Parameter, report_fit, printfuncs, conf_interval\n",
    "from statsmodels.tsa.arima_model import ARIMA"
   ]
  },
  {
   "cell_type": "markdown",
   "metadata": {},
   "source": [
    "# step 0: data importation #"
   ]
  },
  {
   "cell_type": "code",
   "execution_count": 2,
   "metadata": {},
   "outputs": [],
   "source": [
    "csv_url=\"https://raw.githubusercontent.com/ADelau/proj0016-epidemic-data/main/data.csv\"\n",
    "data = pd.read_csv(csv_url)"
   ]
  },
  {
   "cell_type": "code",
   "execution_count": 3,
   "metadata": {},
   "outputs": [
    {
     "data": {
      "text/html": [
       "<div>\n",
       "<style scoped>\n",
       "    .dataframe tbody tr th:only-of-type {\n",
       "        vertical-align: middle;\n",
       "    }\n",
       "\n",
       "    .dataframe tbody tr th {\n",
       "        vertical-align: top;\n",
       "    }\n",
       "\n",
       "    .dataframe thead th {\n",
       "        text-align: right;\n",
       "    }\n",
       "</style>\n",
       "<table border=\"1\" class=\"dataframe\">\n",
       "  <thead>\n",
       "    <tr style=\"text-align: right;\">\n",
       "      <th></th>\n",
       "      <th>Day</th>\n",
       "      <th>num_positive</th>\n",
       "      <th>num_tested</th>\n",
       "      <th>num_hospitalised</th>\n",
       "      <th>num_cumulative_hospitalizations</th>\n",
       "      <th>num_critical</th>\n",
       "      <th>num_fatalities</th>\n",
       "    </tr>\n",
       "  </thead>\n",
       "  <tbody>\n",
       "    <tr>\n",
       "      <th>0</th>\n",
       "      <td>1</td>\n",
       "      <td>0</td>\n",
       "      <td>0</td>\n",
       "      <td>1</td>\n",
       "      <td>1</td>\n",
       "      <td>0</td>\n",
       "      <td>0</td>\n",
       "    </tr>\n",
       "    <tr>\n",
       "      <th>1</th>\n",
       "      <td>2</td>\n",
       "      <td>5</td>\n",
       "      <td>8</td>\n",
       "      <td>1</td>\n",
       "      <td>1</td>\n",
       "      <td>0</td>\n",
       "      <td>0</td>\n",
       "    </tr>\n",
       "    <tr>\n",
       "      <th>2</th>\n",
       "      <td>3</td>\n",
       "      <td>10</td>\n",
       "      <td>12</td>\n",
       "      <td>2</td>\n",
       "      <td>2</td>\n",
       "      <td>0</td>\n",
       "      <td>0</td>\n",
       "    </tr>\n",
       "    <tr>\n",
       "      <th>3</th>\n",
       "      <td>4</td>\n",
       "      <td>11</td>\n",
       "      <td>16</td>\n",
       "      <td>2</td>\n",
       "      <td>2</td>\n",
       "      <td>0</td>\n",
       "      <td>0</td>\n",
       "    </tr>\n",
       "    <tr>\n",
       "      <th>4</th>\n",
       "      <td>5</td>\n",
       "      <td>9</td>\n",
       "      <td>12</td>\n",
       "      <td>2</td>\n",
       "      <td>2</td>\n",
       "      <td>0</td>\n",
       "      <td>0</td>\n",
       "    </tr>\n",
       "    <tr>\n",
       "      <th>...</th>\n",
       "      <td>...</td>\n",
       "      <td>...</td>\n",
       "      <td>...</td>\n",
       "      <td>...</td>\n",
       "      <td>...</td>\n",
       "      <td>...</td>\n",
       "      <td>...</td>\n",
       "    </tr>\n",
       "    <tr>\n",
       "      <th>66</th>\n",
       "      <td>67</td>\n",
       "      <td>1550</td>\n",
       "      <td>1942</td>\n",
       "      <td>555</td>\n",
       "      <td>1197</td>\n",
       "      <td>55</td>\n",
       "      <td>38</td>\n",
       "    </tr>\n",
       "    <tr>\n",
       "      <th>67</th>\n",
       "      <td>68</td>\n",
       "      <td>1699</td>\n",
       "      <td>2131</td>\n",
       "      <td>608</td>\n",
       "      <td>1297</td>\n",
       "      <td>57</td>\n",
       "      <td>39</td>\n",
       "    </tr>\n",
       "    <tr>\n",
       "      <th>68</th>\n",
       "      <td>69</td>\n",
       "      <td>1799</td>\n",
       "      <td>2249</td>\n",
       "      <td>671</td>\n",
       "      <td>1412</td>\n",
       "      <td>62</td>\n",
       "      <td>41</td>\n",
       "    </tr>\n",
       "    <tr>\n",
       "      <th>69</th>\n",
       "      <td>70</td>\n",
       "      <td>1884</td>\n",
       "      <td>2372</td>\n",
       "      <td>738</td>\n",
       "      <td>1539</td>\n",
       "      <td>67</td>\n",
       "      <td>41</td>\n",
       "    </tr>\n",
       "    <tr>\n",
       "      <th>70</th>\n",
       "      <td>71</td>\n",
       "      <td>2035</td>\n",
       "      <td>2539</td>\n",
       "      <td>774</td>\n",
       "      <td>1654</td>\n",
       "      <td>76</td>\n",
       "      <td>43</td>\n",
       "    </tr>\n",
       "  </tbody>\n",
       "</table>\n",
       "<p>71 rows × 7 columns</p>\n",
       "</div>"
      ],
      "text/plain": [
       "    Day  num_positive  num_tested  num_hospitalised  \\\n",
       "0     1             0           0                 1   \n",
       "1     2             5           8                 1   \n",
       "2     3            10          12                 2   \n",
       "3     4            11          16                 2   \n",
       "4     5             9          12                 2   \n",
       "..  ...           ...         ...               ...   \n",
       "66   67          1550        1942               555   \n",
       "67   68          1699        2131               608   \n",
       "68   69          1799        2249               671   \n",
       "69   70          1884        2372               738   \n",
       "70   71          2035        2539               774   \n",
       "\n",
       "    num_cumulative_hospitalizations  num_critical  num_fatalities  \n",
       "0                                 1             0               0  \n",
       "1                                 1             0               0  \n",
       "2                                 2             0               0  \n",
       "3                                 2             0               0  \n",
       "4                                 2             0               0  \n",
       "..                              ...           ...             ...  \n",
       "66                             1197            55              38  \n",
       "67                             1297            57              39  \n",
       "68                             1412            62              41  \n",
       "69                             1539            67              41  \n",
       "70                             1654            76              43  \n",
       "\n",
       "[71 rows x 7 columns]"
      ]
     },
     "execution_count": 3,
     "metadata": {},
     "output_type": "execute_result"
    }
   ],
   "source": [
    "data"
   ]
  },
  {
   "cell_type": "markdown",
   "metadata": {},
   "source": [
    "# step 1: setting up the model #"
   ]
  },
  {
   "cell_type": "markdown",
   "metadata": {},
   "source": [
    "## step 1.1: writing the ode system ##"
   ]
  },
  {
   "cell_type": "raw",
   "metadata": {},
   "source": [
    "here I write the relation between y' and y\n",
    "remember: y=[S,E,I,C,R,H,ICU,D]"
   ]
  },
  {
   "cell_type": "code",
   "execution_count": 4,
   "metadata": {},
   "outputs": [],
   "source": [
    "def deriv(y, t, N, ps):\n",
    "    S,E,I,C,R,H,ICU,D = y\n",
    "    try:\n",
    "        beta_SE = ps['beta_SE'].value\n",
    "        gamma_ER = ps['gamma_ER'].value\n",
    "        fraction_symptomatic = ps['fraction_symptomatic'].value\n",
    "        days_EtoI=ps['days_EtoI'].value\n",
    "        days_ItoH=ps['days_ItoH'].value\n",
    "        days_ItoR=ps['days_ItoR'].value\n",
    "        days_HtoR=ps['days_HtoR'].value\n",
    "        days_HtoICU=ps['days_HtoICU'].value\n",
    "        days_ICUtoD=ps['days_ICUtoD'].value\n",
    "        days_ICUtoH=ps['days_ICUtoH'].value\n",
    "        \n",
    "    except:\n",
    "        beta_SE, gamma_ER, fraction_symptomatic, days_EtoI, days_ItoH, days_ItoR, days_HtoR, days_HtoICU, days_ICUtoD, days_ICUtoH= ps\n",
    "    \n",
    "    #beta = beta_i*(1.1-tau*t) idée de faire régresser beta\n",
    "    dSdt = -beta_SE*(S*(I+C))/(N-D)\n",
    "    dEdt = beta_SE*(S*(I+C))/(N-D)-gamma_ER*E\n",
    "    dIdt = (fraction_symptomatic)*E/days_EtoI-I*(1/days_ItoH+1/days_ItoR)\n",
    "    dCdt = (1-fraction_symptomatic)*E/days_EtoI-C/days_ItoR\n",
    "    dRdt = (C+I)/days_ItoR+H/days_HtoR\n",
    "    dHdt = I/days_ItoH*I+ICU/days_ICUtoH-H*(1/days_HtoICU+1/days_HtoR)\n",
    "    dICUdt = H/days_HtoICU-ICU*(1/days_ICUtoD+1/days_ICUtoH)\n",
    "    dDdt = ICU/days_ICUtoD\n",
    "    \n",
    "    return dSdt, dEdt, dIdt, dCdt, dRdt, dHdt, dICUdt, dDdt"
   ]
  },
  {
   "cell_type": "markdown",
   "metadata": {},
   "source": [
    "## step 1.2: writing the parameters values and guesses ##\n"
   ]
  },
  {
   "cell_type": "code",
   "execution_count": 5,
   "metadata": {},
   "outputs": [],
   "source": [
    "# the lmfit module uises an orderd dict structure\n",
    "# to store the parameters to be optimized\n",
    "# https://lmfit.github.io/lmfit-py/parameters.html\n",
    "\n",
    "params = Parameters()\n",
    "params.add('beta_SE', value=0.15, min=0.001, max=2)\n",
    "params.add('gamma_ER', value= 0.05, min=0.1, max=2)\n",
    "params.add('fraction_symptomatic', value= 0.6, min=0.5, max=0.7)\n",
    "params.add('days_EtoI', value= 3, min=1, max=5)\n",
    "params.add('days_ItoH',value=5, min=1,max=20)\n",
    "params.add('days_ItoR',value=10,min=1,max=50)\n",
    "params.add('days_HtoR',value=12,min=1,max=100)\n",
    "params.add('days_HtoICU',value=5,min=1,max=50)\n",
    "params.add('days_ICUtoD',value=2,min=1,max=50)\n",
    "params.add('days_ICUtoH',value=6,min=1,max=50)\n",
    "params.add('E0',value=10,min=1,max=40)\n",
    "params.add('I0',value=5,min=1,max=20)\n",
    "params.add('C0',value=5,min=0,max=20)\n",
    "params.add('OBS_Tr_EI_to_nbTest',value=0.25,min=0.05,max=1)\n",
    "params.add('OBS_nbTest_to_nbpos',value=0.75,min=0.5,max=0.9)\n",
    "# params.add('OBS_H_to_ICU',value=0.1,min=0.01,max=0.5) mistake??\n",
    "\n"
   ]
  },
  {
   "cell_type": "markdown",
   "metadata": {},
   "source": [
    "## step 1.3 writing the solver ##"
   ]
  },
  {
   "cell_type": "code",
   "execution_count": 6,
   "metadata": {},
   "outputs": [],
   "source": [
    "#this function solves the ode\n",
    "#input: function deriv, initial compartiments y0, t, and N,ps as arguments??\n",
    "#output: the ode solution\n",
    "def odesol(y,t,N,ps):\n",
    "    \n",
    "    ts = np.linspace(0, t, t+1)\n",
    "    x = odeint(deriv, y, ts, args=(N, ps))\n",
    "    \n",
    "    return x\n",
    "\n"
   ]
  },
  {
   "cell_type": "code",
   "execution_count": 7,
   "metadata": {},
   "outputs": [
    {
     "data": {
      "text/html": [
       "<table><tr><th> name </th><th> value </th><th> initial value </th><th> min </th><th> max </th><th> vary </th></tr><tr><td> beta_SE </td><td>  0.15000000 </td><td> 0.15 </td><td>  1.0000e-03 </td><td>  2.00000000 </td><td> True </td></tr><tr><td> gamma_ER </td><td>  0.10000000 </td><td> 0.05 </td><td>  0.10000000 </td><td>  2.00000000 </td><td> True </td></tr><tr><td> fraction_symptomatic </td><td>  0.60000000 </td><td> 0.6 </td><td>  0.50000000 </td><td>  0.70000000 </td><td> True </td></tr><tr><td> days_EtoI </td><td>  3.00000000 </td><td> 3 </td><td>  1.00000000 </td><td>  5.00000000 </td><td> True </td></tr><tr><td> days_ItoH </td><td>  5.00000000 </td><td> 5 </td><td>  1.00000000 </td><td>  20.0000000 </td><td> True </td></tr><tr><td> days_ItoR </td><td>  10.0000000 </td><td> 10 </td><td>  1.00000000 </td><td>  50.0000000 </td><td> True </td></tr><tr><td> days_HtoR </td><td>  12.0000000 </td><td> 12 </td><td>  1.00000000 </td><td>  100.000000 </td><td> True </td></tr><tr><td> days_HtoICU </td><td>  5.00000000 </td><td> 5 </td><td>  1.00000000 </td><td>  50.0000000 </td><td> True </td></tr><tr><td> days_ICUtoD </td><td>  2.00000000 </td><td> 2 </td><td>  1.00000000 </td><td>  50.0000000 </td><td> True </td></tr><tr><td> days_ICUtoH </td><td>  6.00000000 </td><td> 6 </td><td>  1.00000000 </td><td>  50.0000000 </td><td> True </td></tr><tr><td> E0 </td><td>  10.0000000 </td><td> 10 </td><td>  1.00000000 </td><td>  40.0000000 </td><td> True </td></tr><tr><td> I0 </td><td>  5.00000000 </td><td> 5 </td><td>  1.00000000 </td><td>  20.0000000 </td><td> True </td></tr><tr><td> C0 </td><td>  5.00000000 </td><td> 5 </td><td>  0.00000000 </td><td>  20.0000000 </td><td> True </td></tr><tr><td> OBS_Tr_EI_to_nbTest </td><td>  0.25000000 </td><td> 0.25 </td><td>  0.05000000 </td><td>  1.00000000 </td><td> True </td></tr><tr><td> OBS_nbTest_to_nbpos </td><td>  0.75000000 </td><td> 0.75 </td><td>  0.50000000 </td><td>  0.90000000 </td><td> True </td></tr></table>"
      ],
      "text/plain": [
       "Parameters([('beta_SE', <Parameter 'beta_SE', value=0.15, bounds=[0.001:2]>),\n",
       "            ('gamma_ER', <Parameter 'gamma_ER', value=0.1, bounds=[0.1:2]>),\n",
       "            ('fraction_symptomatic',\n",
       "             <Parameter 'fraction_symptomatic', value=0.6, bounds=[0.5:0.7]>),\n",
       "            ('days_EtoI', <Parameter 'days_EtoI', value=3, bounds=[1:5]>),\n",
       "            ('days_ItoH', <Parameter 'days_ItoH', value=5, bounds=[1:20]>),\n",
       "            ('days_ItoR', <Parameter 'days_ItoR', value=10, bounds=[1:50]>),\n",
       "            ('days_HtoR', <Parameter 'days_HtoR', value=12, bounds=[1:100]>),\n",
       "            ('days_HtoICU', <Parameter 'days_HtoICU', value=5, bounds=[1:50]>),\n",
       "            ('days_ICUtoD', <Parameter 'days_ICUtoD', value=2, bounds=[1:50]>),\n",
       "            ('days_ICUtoH', <Parameter 'days_ICUtoH', value=6, bounds=[1:50]>),\n",
       "            ('E0', <Parameter 'E0', value=10, bounds=[1:40]>),\n",
       "            ('I0', <Parameter 'I0', value=5, bounds=[1:20]>),\n",
       "            ('C0', <Parameter 'C0', value=5, bounds=[0:20]>),\n",
       "            ('OBS_Tr_EI_to_nbTest',\n",
       "             <Parameter 'OBS_Tr_EI_to_nbTest', value=0.25, bounds=[0.05:1]>),\n",
       "            ('OBS_nbTest_to_nbpos',\n",
       "             <Parameter 'OBS_nbTest_to_nbpos', value=0.75, bounds=[0.5:0.9]>)])"
      ]
     },
     "execution_count": 7,
     "metadata": {},
     "output_type": "execute_result"
    }
   ],
   "source": [
    "params"
   ]
  },
  {
   "cell_type": "code",
   "execution_count": 8,
   "metadata": {},
   "outputs": [],
   "source": [
    "# this function generate the observation dataframe\n",
    "def create_obsdf(model,ps,data):\n",
    "    result=pd.DataFrame(columns=data.columns)\n",
    "    result['Day']=data['Day']\n",
    "    nb_trans_EI=ps['beta_SE']*(model['S']*(model['I']+model['C']))/(10**6-model['D'])\n",
    "    result['num_tested']=ps['OBS_Tr_EI_to_nbTest'].value*nb_trans_EI\n",
    "    result['num_positive']=ps['OBS_nbTest_to_nbpos'].value*result['num_tested']\n",
    "    result['num_hospitalised']=model['H']\n",
    "    result['num_cumulative_hospitalizations']=result['num_hospitalised'].diff().fillna(0).cumsum()\n",
    "    result['num_critical']=model['ICU']\n",
    "    result['num_fatalities']=model['D']\n",
    "    return result\n",
    "    \n",
    "\n",
    "#test['num_tested']=params['OBS_Tr_EI_to_nbTest'].value*"
   ]
  },
  {
   "cell_type": "markdown",
   "metadata": {},
   "source": [
    "# step 2: fitting the model #"
   ]
  },
  {
   "cell_type": "markdown",
   "metadata": {},
   "source": [
    "## step 2.1: write objective function ##"
   ]
  },
  {
   "cell_type": "code",
   "execution_count": 9,
   "metadata": {},
   "outputs": [],
   "source": [
    "#this function compute residuals,\n",
    "#ie objective function to be minimized in the optimization function\n",
    "def residual(ps, ts, data, N):\n",
    "    E0=ps['E0'].value\n",
    "    I0 = ps['I0'].value\n",
    "    C0=ps['C0'].value\n",
    "    S0=N-I0-E0-C0-1\n",
    "    R0=0\n",
    "    H0=1\n",
    "    ICU0=0\n",
    "    D0=0\n",
    "    \n",
    "    y0 = S0,E0,I0,C0,R0,H0,ICU0,D0\n",
    "    \n",
    "    model = pd.DataFrame(odesol(y0,ts,N,ps), columns=['S','E','I','C','R','H','ICU','D'])\n",
    "    obs_df=create_obsdf(model,ps,data)\n",
    "    component1=(obs_df['num_positive']-data['num_positive']).ravel()\n",
    "    component2=(obs_df['num_hospitalised']-data['num_hospitalised']).ravel()\n",
    "    component3=(obs_df['num_critical']-data['num_critical']).ravel()\n",
    "    component4=(obs_df['num_fatalities']-data['num_fatalities']).ravel()\n",
    "    # penalty function to think more about !!!\n",
    "    return component1"
   ]
  },
  {
   "cell_type": "raw",
   "metadata": {},
   "source": [
    "little test"
   ]
  },
  {
   "cell_type": "code",
   "execution_count": 10,
   "metadata": {},
   "outputs": [
    {
     "name": "stderr",
     "output_type": "stream",
     "text": [
      "C:\\Users\\DimiP\\anaconda3\\lib\\site-packages\\scipy\\integrate\\odepack.py:247: ODEintWarning: Excess work done on this call (perhaps wrong Dfun type). Run with full_output = 1 to get quantitative information.\n",
      "  warnings.warn(warning_msg, ODEintWarning)\n"
     ]
    },
    {
     "data": {
      "text/plain": [
       "array([ 2.81244094e-01, -4.68190817e+00, -9.64539149e+00, -1.06080568e+01,\n",
       "       -8.56904571e+00, -8.52768375e+00, -6.48340876e+00, -1.74357231e+01,\n",
       "       -1.53841611e+01, -1.53282664e+01, -3.02675760e+01, -2.32016085e+01,\n",
       "       -2.61298551e+01, -2.90517719e+01, -3.89667737e+01, -3.78742278e+01,\n",
       "       -3.37734480e+01, -4.36636894e+01, -4.45441414e+01, -5.64139220e+01,\n",
       "       -4.92720701e+01, -5.41175387e+01, -4.89491859e+01, -5.67657666e+01,\n",
       "       -5.15659220e+01, -7.53481687e+01, -7.31108867e+01, -7.28523057e+01,\n",
       "       -7.35704897e+01, -8.02633202e+01, -9.79284768e+01, -1.13563415e+02,\n",
       "       -9.01653427e+01, -1.33731188e+02, -1.11257572e+02, -1.18740761e+02,\n",
       "       -1.56176631e+02, -1.53560608e+02, -1.79887600e+02, -1.83151930e+02,\n",
       "       -1.89347227e+02, -2.16466320e+02, -2.60501087e+02, -2.26442274e+02,\n",
       "       -2.88279263e+02, -3.03999777e+02, -3.27589497e+02, -3.70031559e+02,\n",
       "       -3.68305893e+02, -4.22388333e+02, -4.55249409e+02, -5.15852682e+02,\n",
       "       -5.46152406e+02, -5.64090188e+02, -5.55590112e+02, -6.70551444e+02,\n",
       "       -6.88837406e+02, -7.77257332e+02, -8.13537168e+02, -8.94268453e+02,\n",
       "       -9.15814986e+02, -9.88129970e+02, -1.10236508e+03, -1.14393296e+03,\n",
       "       -1.12387028e+03, -1.21141081e+03, -1.08069042e+03,  1.27944325e+02,\n",
       "        8.50969562e+15, -1.88400000e+03, -2.03500000e+03])"
      ]
     },
     "execution_count": 10,
     "metadata": {},
     "output_type": "execute_result"
    }
   ],
   "source": [
    "t = np.linspace(0, data.shape[0]-1, data.shape[0])\n",
    "residual(params,data.shape[0] - 1,data, 1e6)"
   ]
  },
  {
   "cell_type": "markdown",
   "metadata": {},
   "source": [
    "## step 2.2: write optimization command ##"
   ]
  },
  {
   "cell_type": "code",
   "execution_count": 25,
   "metadata": {},
   "outputs": [
    {
     "name": "stderr",
     "output_type": "stream",
     "text": [
      "C:\\Users\\DimiP\\anaconda3\\lib\\site-packages\\scipy\\integrate\\odepack.py:247: ODEintWarning: Excess work done on this call (perhaps wrong Dfun type). Run with full_output = 1 to get quantitative information.\n",
      "  warnings.warn(warning_msg, ODEintWarning)\n"
     ]
    },
    {
     "data": {
      "text/html": [
       "<h2>Fit Statistics</h2><table><tr><td>fitting method</td><td>leastsq</td><td></td></tr><tr><td># function evals</td><td>110</td><td></td></tr><tr><td># data points</td><td>71</td><td></td></tr><tr><td># variables</td><td>15</td><td></td></tr><tr><td>chi-square</td><td> 20746074.8</td><td></td></tr><tr><td>reduced chi-square</td><td> 370465.621</td><td></td></tr><tr><td>Akaike info crit.</td><td> 923.548330</td><td></td></tr><tr><td>Bayesian info crit.</td><td> 957.488528</td><td></td></tr></table><h2>Variables</h2><table><tr><th> name </th><th> value </th><th> standard error </th><th> relative error </th><th> initial value </th><th> min </th><th> max </th><th> vary </th></tr><tr><td> beta_SE </td><td>  0.16300879 </td><td>  1390300.59 </td><td> (852899148.54%) </td><td> 0.15 </td><td>  1.0000e-03 </td><td>  2.00000000 </td><td> True </td></tr><tr><td> gamma_ER </td><td>  1.19092835 </td><td>  154917.341 </td><td> (13008116.02%) </td><td> 0.1 </td><td>  0.10000000 </td><td>  2.00000000 </td><td> True </td></tr><tr><td> fraction_symptomatic </td><td>  0.61777900 </td><td>  476650.396 </td><td> (77155487.43%) </td><td> 0.6 </td><td>  0.50000000 </td><td>  0.70000000 </td><td> True </td></tr><tr><td> days_EtoI </td><td>  1.00811150 </td><td>  7530756.06 </td><td> (747016183.58%) </td><td> 3 </td><td>  1.00000000 </td><td>  5.00000000 </td><td> True </td></tr><tr><td> days_ItoH </td><td>  13.4615586 </td><td>  83727082.8 </td><td> (621971682.63%) </td><td> 5 </td><td>  1.00000000 </td><td>  20.0000000 </td><td> True </td></tr><tr><td> days_ItoR </td><td>  43.5398850 </td><td>  5.6974e+08 </td><td> (1308552731.48%) </td><td> 10 </td><td>  1.00000000 </td><td>  50.0000000 </td><td> True </td></tr><tr><td> days_HtoR </td><td>  84.0473189 </td><td>  2.5988e+08 </td><td> (309208773.53%) </td><td> 12 </td><td>  1.00000000 </td><td>  100.000000 </td><td> True </td></tr><tr><td> days_HtoICU </td><td>  34.5849127 </td><td>  2.3916e+09 </td><td> (6915229131.26%) </td><td> 5 </td><td>  1.00000000 </td><td>  50.0000000 </td><td> True </td></tr><tr><td> days_ICUtoD </td><td>  39.9587102 </td><td>  2.8472e+09 </td><td> (7125311350.40%) </td><td> 2 </td><td>  1.00000000 </td><td>  50.0000000 </td><td> True </td></tr><tr><td> days_ICUtoH </td><td>  6.46717014 </td><td>  1.0630e+08 </td><td> (1643713854.85%) </td><td> 6 </td><td>  1.00000000 </td><td>  50.0000000 </td><td> True </td></tr><tr><td> E0 </td><td>  39.1729325 </td><td>  82992409.5 </td><td> (211861620.13%) </td><td> 10 </td><td>  1.00000000 </td><td>  40.0000000 </td><td> True </td></tr><tr><td> I0 </td><td>  10.2086404 </td><td>  2245449.88 </td><td> (21995582.12%) </td><td> 5 </td><td>  1.00000000 </td><td>  20.0000000 </td><td> True </td></tr><tr><td> C0 </td><td>  1.96763864 </td><td>  1.1595e+08 </td><td> (5893020508.86%) </td><td> 5 </td><td>  0.00000000 </td><td>  20.0000000 </td><td> True </td></tr><tr><td> OBS_Tr_EI_to_nbTest </td><td>  0.99196888 </td><td>  35926648.8 </td><td> (3621751595.70%) </td><td> 0.25 </td><td>  0.05000000 </td><td>  1.00000000 </td><td> True </td></tr><tr><td> OBS_nbTest_to_nbpos </td><td>  0.50019308 </td><td>  24811455.8 </td><td> (4960375646.86%) </td><td> 0.75 </td><td>  0.50000000 </td><td>  0.90000000 </td><td> True </td></tr></table><h2>Correlations (unreported correlations are < 0.100)</h2><table><tr><td>days_EtoI</td><td>days_ItoH</td><td>0.9995</td></tr><tr><td>days_ItoR</td><td>C0</td><td>0.9994</td></tr><tr><td>beta_SE</td><td>C0</td><td>-0.9993</td></tr><tr><td>beta_SE</td><td>days_EtoI</td><td>0.9979</td></tr><tr><td>beta_SE</td><td>days_ItoR</td><td>-0.9977</td></tr><tr><td>beta_SE</td><td>days_ItoH</td><td>0.9973</td></tr><tr><td>gamma_ER</td><td>E0</td><td>0.9958</td></tr><tr><td>days_ICUtoH</td><td>E0</td><td>0.9956</td></tr><tr><td>days_ItoH</td><td>C0</td><td>-0.9956</td></tr><tr><td>days_EtoI</td><td>C0</td><td>-0.9954</td></tr><tr><td>OBS_Tr_EI_to_nbTest</td><td>OBS_nbTest_to_nbpos</td><td>-0.9949</td></tr><tr><td>days_ItoH</td><td>days_ItoR</td><td>-0.9916</td></tr><tr><td>days_EtoI</td><td>days_ItoR</td><td>-0.9915</td></tr><tr><td>gamma_ER</td><td>days_ICUtoH</td><td>0.9900</td></tr><tr><td>days_ItoR</td><td>days_ICUtoH</td><td>0.9626</td></tr><tr><td>days_ItoR</td><td>E0</td><td>0.9518</td></tr><tr><td>days_ICUtoH</td><td>C0</td><td>0.9503</td></tr><tr><td>beta_SE</td><td>days_ICUtoH</td><td>-0.9433</td></tr><tr><td>E0</td><td>C0</td><td>0.9402</td></tr><tr><td>beta_SE</td><td>E0</td><td>-0.9301</td></tr><tr><td>gamma_ER</td><td>days_ItoR</td><td>0.9210</td></tr><tr><td>days_EtoI</td><td>days_ICUtoH</td><td>-0.9203</td></tr><tr><td>days_HtoICU</td><td>days_ICUtoD</td><td>-0.9200</td></tr><tr><td>days_ItoH</td><td>days_ICUtoH</td><td>-0.9200</td></tr><tr><td>gamma_ER</td><td>C0</td><td>0.9069</td></tr><tr><td>days_EtoI</td><td>E0</td><td>-0.9046</td></tr><tr><td>days_ItoH</td><td>E0</td><td>-0.9039</td></tr><tr><td>beta_SE</td><td>gamma_ER</td><td>-0.8952</td></tr><tr><td>gamma_ER</td><td>days_EtoI</td><td>-0.8637</td></tr><tr><td>gamma_ER</td><td>days_ItoH</td><td>-0.8625</td></tr><tr><td>days_HtoR</td><td>days_HtoICU</td><td>-0.6512</td></tr><tr><td>days_HtoR</td><td>days_ICUtoD</td><td>0.5522</td></tr><tr><td>days_HtoR</td><td>I0</td><td>0.4636</td></tr><tr><td>gamma_ER</td><td>I0</td><td>0.4130</td></tr><tr><td>E0</td><td>I0</td><td>0.4083</td></tr><tr><td>days_ICUtoH</td><td>I0</td><td>0.3909</td></tr><tr><td>beta_SE</td><td>I0</td><td>-0.3615</td></tr><tr><td>days_ItoR</td><td>I0</td><td>0.3557</td></tr><tr><td>days_EtoI</td><td>I0</td><td>-0.3482</td></tr><tr><td>I0</td><td>C0</td><td>0.3452</td></tr><tr><td>days_ItoH</td><td>I0</td><td>-0.3241</td></tr><tr><td>days_ICUtoD</td><td>C0</td><td>0.3180</td></tr><tr><td>days_ItoR</td><td>OBS_Tr_EI_to_nbTest</td><td>-0.3029</td></tr><tr><td>C0</td><td>OBS_Tr_EI_to_nbTest</td><td>-0.3028</td></tr><tr><td>beta_SE</td><td>OBS_Tr_EI_to_nbTest</td><td>0.3023</td></tr><tr><td>days_ItoH</td><td>OBS_Tr_EI_to_nbTest</td><td>0.3010</td></tr><tr><td>days_EtoI</td><td>OBS_Tr_EI_to_nbTest</td><td>0.3007</td></tr><tr><td>days_ICUtoH</td><td>OBS_Tr_EI_to_nbTest</td><td>-0.2887</td></tr><tr><td>E0</td><td>OBS_Tr_EI_to_nbTest</td><td>-0.2870</td></tr><tr><td>days_ItoH</td><td>days_ICUtoD</td><td>-0.2804</td></tr><tr><td>C0</td><td>OBS_nbTest_to_nbpos</td><td>0.2775</td></tr><tr><td>days_ItoR</td><td>OBS_nbTest_to_nbpos</td><td>0.2772</td></tr><tr><td>beta_SE</td><td>OBS_nbTest_to_nbpos</td><td>-0.2771</td></tr><tr><td>gamma_ER</td><td>OBS_Tr_EI_to_nbTest</td><td>-0.2771</td></tr><tr><td>days_EtoI</td><td>days_ICUtoD</td><td>-0.2767</td></tr><tr><td>days_ItoH</td><td>OBS_nbTest_to_nbpos</td><td>-0.2764</td></tr><tr><td>days_EtoI</td><td>OBS_nbTest_to_nbpos</td><td>-0.2761</td></tr><tr><td>beta_SE</td><td>days_ICUtoD</td><td>-0.2673</td></tr><tr><td>gamma_ER</td><td>fraction_symptomatic</td><td>-0.2644</td></tr><tr><td>days_ICUtoH</td><td>OBS_nbTest_to_nbpos</td><td>0.2622</td></tr><tr><td>fraction_symptomatic</td><td>days_ItoH</td><td>-0.2613</td></tr><tr><td>E0</td><td>OBS_nbTest_to_nbpos</td><td>0.2605</td></tr><tr><td>days_ItoR</td><td>days_ICUtoD</td><td>0.2597</td></tr><tr><td>fraction_symptomatic</td><td>days_EtoI</td><td>-0.2587</td></tr><tr><td>gamma_ER</td><td>OBS_nbTest_to_nbpos</td><td>0.2508</td></tr><tr><td>days_ICUtoD</td><td>E0</td><td>0.2506</td></tr><tr><td>days_ICUtoD</td><td>days_ICUtoH</td><td>0.2230</td></tr><tr><td>days_HtoR</td><td>days_ICUtoH</td><td>-0.2205</td></tr><tr><td>days_ItoR</td><td>days_HtoR</td><td>-0.2190</td></tr><tr><td>days_ItoH</td><td>days_HtoR</td><td>0.2185</td></tr><tr><td>gamma_ER</td><td>days_HtoICU</td><td>0.2168</td></tr><tr><td>fraction_symptomatic</td><td>days_ICUtoD</td><td>0.2125</td></tr><tr><td>beta_SE</td><td>days_HtoR</td><td>0.2077</td></tr><tr><td>days_EtoI</td><td>days_HtoR</td><td>0.2052</td></tr><tr><td>gamma_ER</td><td>days_HtoR</td><td>-0.1979</td></tr><tr><td>beta_SE</td><td>fraction_symptomatic</td><td>-0.1934</td></tr><tr><td>days_HtoR</td><td>C0</td><td>-0.1846</td></tr><tr><td>days_HtoICU</td><td>days_ICUtoH</td><td>0.1836</td></tr><tr><td>fraction_symptomatic</td><td>E0</td><td>-0.1773</td></tr><tr><td>gamma_ER</td><td>days_ICUtoD</td><td>0.1706</td></tr><tr><td>fraction_symptomatic</td><td>I0</td><td>-0.1684</td></tr><tr><td>fraction_symptomatic</td><td>C0</td><td>0.1680</td></tr><tr><td>days_HtoR</td><td>E0</td><td>-0.1675</td></tr><tr><td>days_ItoR</td><td>days_HtoICU</td><td>0.1672</td></tr><tr><td>beta_SE</td><td>days_HtoICU</td><td>-0.1599</td></tr><tr><td>days_HtoICU</td><td>E0</td><td>0.1491</td></tr><tr><td>days_EtoI</td><td>days_HtoICU</td><td>-0.1489</td></tr><tr><td>days_ItoH</td><td>days_HtoICU</td><td>-0.1449</td></tr><tr><td>fraction_symptomatic</td><td>days_HtoICU</td><td>-0.1405</td></tr><tr><td>fraction_symptomatic</td><td>days_ICUtoH</td><td>-0.1352</td></tr><tr><td>fraction_symptomatic</td><td>days_ItoR</td><td>0.1334</td></tr><tr><td>days_ICUtoD</td><td>OBS_Tr_EI_to_nbTest</td><td>-0.1250</td></tr><tr><td>days_ICUtoD</td><td>OBS_nbTest_to_nbpos</td><td>0.1181</td></tr><tr><td>days_HtoICU</td><td>C0</td><td>0.1074</td></tr><tr><td>days_HtoICU</td><td>I0</td><td>0.1017</td></tr></table>"
      ],
      "text/plain": [
       "<lmfit.minimizer.MinimizerResult at 0x28bd2ef39a0>"
      ]
     },
     "execution_count": 25,
     "metadata": {},
     "output_type": "execute_result"
    }
   ],
   "source": [
    "mini = Minimizer(residual, params, (data.shape[0] - 1, data, 1e6))\n",
    "result = mini.minimize()\n",
    "result\n"
   ]
  },
  {
   "cell_type": "code",
   "execution_count": 26,
   "metadata": {},
   "outputs": [
    {
     "data": {
      "text/html": [
       "<div>\n",
       "<style scoped>\n",
       "    .dataframe tbody tr th:only-of-type {\n",
       "        vertical-align: middle;\n",
       "    }\n",
       "\n",
       "    .dataframe tbody tr th {\n",
       "        vertical-align: top;\n",
       "    }\n",
       "\n",
       "    .dataframe thead th {\n",
       "        text-align: right;\n",
       "    }\n",
       "</style>\n",
       "<table border=\"1\" class=\"dataframe\">\n",
       "  <thead>\n",
       "    <tr style=\"text-align: right;\">\n",
       "      <th></th>\n",
       "      <th>Day</th>\n",
       "      <th>num_positive</th>\n",
       "      <th>num_tested</th>\n",
       "      <th>num_hospitalised</th>\n",
       "      <th>num_cumulative_hospitalizations</th>\n",
       "      <th>num_critical</th>\n",
       "      <th>num_fatalities</th>\n",
       "    </tr>\n",
       "  </thead>\n",
       "  <tbody>\n",
       "    <tr>\n",
       "      <th>0</th>\n",
       "      <td>1</td>\n",
       "      <td>0.984779</td>\n",
       "      <td>1.968797</td>\n",
       "      <td>1.000000e+00</td>\n",
       "      <td>0.000000e+00</td>\n",
       "      <td>0.000000</td>\n",
       "      <td>0.000000</td>\n",
       "    </tr>\n",
       "    <tr>\n",
       "      <th>1</th>\n",
       "      <td>2</td>\n",
       "      <td>2.768420</td>\n",
       "      <td>5.534702</td>\n",
       "      <td>2.583926e+01</td>\n",
       "      <td>2.483926e+01</td>\n",
       "      <td>0.294335</td>\n",
       "      <td>0.002272</td>\n",
       "    </tr>\n",
       "    <tr>\n",
       "      <th>2</th>\n",
       "      <td>3</td>\n",
       "      <td>3.394798</td>\n",
       "      <td>6.786975</td>\n",
       "      <td>7.285273e+01</td>\n",
       "      <td>7.185273e+01</td>\n",
       "      <td>1.541705</td>\n",
       "      <td>0.022864</td>\n",
       "    </tr>\n",
       "    <tr>\n",
       "      <th>3</th>\n",
       "      <td>4</td>\n",
       "      <td>3.724880</td>\n",
       "      <td>7.446884</td>\n",
       "      <td>1.283328e+02</td>\n",
       "      <td>1.273328e+02</td>\n",
       "      <td>3.961180</td>\n",
       "      <td>0.089279</td>\n",
       "    </tr>\n",
       "    <tr>\n",
       "      <th>4</th>\n",
       "      <td>5</td>\n",
       "      <td>3.989419</td>\n",
       "      <td>7.975757</td>\n",
       "      <td>1.877899e+02</td>\n",
       "      <td>1.867899e+02</td>\n",
       "      <td>7.509372</td>\n",
       "      <td>0.230553</td>\n",
       "    </tr>\n",
       "    <tr>\n",
       "      <th>...</th>\n",
       "      <td>...</td>\n",
       "      <td>...</td>\n",
       "      <td>...</td>\n",
       "      <td>...</td>\n",
       "      <td>...</td>\n",
       "      <td>...</td>\n",
       "      <td>...</td>\n",
       "    </tr>\n",
       "    <tr>\n",
       "      <th>66</th>\n",
       "      <td>67</td>\n",
       "      <td>291.419553</td>\n",
       "      <td>582.614120</td>\n",
       "      <td>1.256649e+06</td>\n",
       "      <td>1.256648e+06</td>\n",
       "      <td>113427.601451</td>\n",
       "      <td>20330.771713</td>\n",
       "    </tr>\n",
       "    <tr>\n",
       "      <th>67</th>\n",
       "      <td>68</td>\n",
       "      <td>313.784954</td>\n",
       "      <td>627.327657</td>\n",
       "      <td>1.447623e+06</td>\n",
       "      <td>1.447622e+06</td>\n",
       "      <td>130576.155893</td>\n",
       "      <td>23378.881403</td>\n",
       "    </tr>\n",
       "    <tr>\n",
       "      <th>68</th>\n",
       "      <td>69</td>\n",
       "      <td>338.107834</td>\n",
       "      <td>675.954639</td>\n",
       "      <td>1.668185e+06</td>\n",
       "      <td>1.668184e+06</td>\n",
       "      <td>150352.640069</td>\n",
       "      <td>26888.232006</td>\n",
       "    </tr>\n",
       "    <tr>\n",
       "      <th>69</th>\n",
       "      <td>70</td>\n",
       "      <td>364.620796</td>\n",
       "      <td>728.960094</td>\n",
       "      <td>1.923114e+06</td>\n",
       "      <td>1.923113e+06</td>\n",
       "      <td>173171.420379</td>\n",
       "      <td>30929.641089</td>\n",
       "    </tr>\n",
       "    <tr>\n",
       "      <th>70</th>\n",
       "      <td>71</td>\n",
       "      <td>393.598655</td>\n",
       "      <td>786.893440</td>\n",
       "      <td>2.218028e+06</td>\n",
       "      <td>2.218027e+06</td>\n",
       "      <td>199516.324699</td>\n",
       "      <td>35585.141891</td>\n",
       "    </tr>\n",
       "  </tbody>\n",
       "</table>\n",
       "<p>71 rows × 7 columns</p>\n",
       "</div>"
      ],
      "text/plain": [
       "    Day  num_positive  num_tested  num_hospitalised  \\\n",
       "0     1      0.984779    1.968797      1.000000e+00   \n",
       "1     2      2.768420    5.534702      2.583926e+01   \n",
       "2     3      3.394798    6.786975      7.285273e+01   \n",
       "3     4      3.724880    7.446884      1.283328e+02   \n",
       "4     5      3.989419    7.975757      1.877899e+02   \n",
       "..  ...           ...         ...               ...   \n",
       "66   67    291.419553  582.614120      1.256649e+06   \n",
       "67   68    313.784954  627.327657      1.447623e+06   \n",
       "68   69    338.107834  675.954639      1.668185e+06   \n",
       "69   70    364.620796  728.960094      1.923114e+06   \n",
       "70   71    393.598655  786.893440      2.218028e+06   \n",
       "\n",
       "    num_cumulative_hospitalizations   num_critical  num_fatalities  \n",
       "0                      0.000000e+00       0.000000        0.000000  \n",
       "1                      2.483926e+01       0.294335        0.002272  \n",
       "2                      7.185273e+01       1.541705        0.022864  \n",
       "3                      1.273328e+02       3.961180        0.089279  \n",
       "4                      1.867899e+02       7.509372        0.230553  \n",
       "..                              ...            ...             ...  \n",
       "66                     1.256648e+06  113427.601451    20330.771713  \n",
       "67                     1.447622e+06  130576.155893    23378.881403  \n",
       "68                     1.668184e+06  150352.640069    26888.232006  \n",
       "69                     1.923113e+06  173171.420379    30929.641089  \n",
       "70                     2.218027e+06  199516.324699    35585.141891  \n",
       "\n",
       "[71 rows x 7 columns]"
      ]
     },
     "execution_count": 26,
     "metadata": {},
     "output_type": "execute_result"
    }
   ],
   "source": [
    "\n",
    "E0=result.params['E0'].value\n",
    "I0 = result.params['I0'].value\n",
    "C0=result.params['C0'].value\n",
    "S0=1e6-I0-E0-C0-1\n",
    "R0=0\n",
    "H0=1\n",
    "ICU0=0\n",
    "D0=0\n",
    "\n",
    "y0 = S0,E0,I0,C0,R0,H0,ICU0,D0\n",
    "\n",
    "model = pd.DataFrame(odesol(y0,70,1e6,result.params), columns=['S','E','I','C','R','H','ICU','D'])\n",
    "obs_df=create_obsdf(model,result.params,data)\n",
    "obs_df"
   ]
  },
  {
   "cell_type": "code",
   "execution_count": 27,
   "metadata": {},
   "outputs": [
    {
     "data": {
      "text/plain": [
       "[<matplotlib.lines.Line2D at 0x28bd2f83130>]"
      ]
     },
     "execution_count": 27,
     "metadata": {},
     "output_type": "execute_result"
    },
    {
     "data": {
      "image/png": "[encoded data removed]",
      "text/plain": [
       "<Figure size 432x288 with 1 Axes>"
      ]
     },
     "metadata": {
      "needs_background": "light"
     },
     "output_type": "display_data"
    }
   ],
   "source": [
    "plt.plot(result.residual); plt.plot(data['num_positive']); plt.plot(obs_df['num_positive'])"
   ]
  },
  {
   "cell_type": "code",
   "execution_count": 20,
   "metadata": {},
   "outputs": [
    {
     "data": {
      "text/plain": [
       "-0.2317985909195459"
      ]
     },
     "execution_count": 20,
     "metadata": {},
     "output_type": "execute_result"
    }
   ],
   "source": [
    "R2 = 1 - sum(result.residual**2) / sum((data['num_positive'] - np.mean(data['num_positive']))**2)\n",
    "R2"
   ]
  },
  {
   "cell_type": "code",
   "execution_count": 14,
   "metadata": {},
   "outputs": [
    {
     "ename": "NameError",
     "evalue": "name 'result' is not defined",
     "output_type": "error",
     "traceback": [
      "\u001b[1;31m---------------------------------------------------------------------------\u001b[0m",
      "\u001b[1;31mNameError\u001b[0m                                 Traceback (most recent call last)",
      "\u001b[1;32m<ipython-input-14-59e5cf6bcdc4>\u001b[0m in \u001b[0;36m<module>\u001b[1;34m\u001b[0m\n\u001b[0;32m      1\u001b[0m \u001b[1;31m# confidence intervals\u001b[0m\u001b[1;33m\u001b[0m\u001b[1;33m\u001b[0m\u001b[1;33m\u001b[0m\u001b[0m\n\u001b[1;32m----> 2\u001b[1;33m \u001b[0mci\u001b[0m \u001b[1;33m=\u001b[0m \u001b[0mconf_interval\u001b[0m\u001b[1;33m(\u001b[0m\u001b[0mmini\u001b[0m\u001b[1;33m,\u001b[0m \u001b[0mresult\u001b[0m\u001b[1;33m)\u001b[0m\u001b[1;33m\u001b[0m\u001b[1;33m\u001b[0m\u001b[0m\n\u001b[0m\u001b[0;32m      3\u001b[0m \u001b[0mprintfuncs\u001b[0m\u001b[1;33m.\u001b[0m\u001b[0mreport_ci\u001b[0m\u001b[1;33m(\u001b[0m\u001b[0mci\u001b[0m\u001b[1;33m)\u001b[0m\u001b[1;33m\u001b[0m\u001b[1;33m\u001b[0m\u001b[0m\n",
      "\u001b[1;31mNameError\u001b[0m: name 'result' is not defined"
     ]
    }
   ],
   "source": [
    "# confidence intervals\n",
    "ci = conf_interval(mini, result)\n",
    "printfuncs.report_ci(ci)"
   ]
  },
  {
   "cell_type": "code",
   "execution_count": null,
   "metadata": {},
   "outputs": [],
   "source": []
  }
 ],
 "metadata": {
  "kernelspec": {
   "display_name": "Python 3",
   "language": "python",
   "name": "python3"
  },
  "language_info": {
   "codemirror_mode": {
    "name": "ipython",
    "version": 3
   },
   "file_extension": ".py",
   "mimetype": "text/x-python",
   "name": "python",
   "nbconvert_exporter": "python",
   "pygments_lexer": "ipython3",
   "version": "3.8.5"
  }
 },
 "nbformat": 4,
 "nbformat_minor": 4
}
